{
  "nbformat": 4,
  "nbformat_minor": 0,
  "metadata": {
    "colab": {
      "name": "CNN3D_GRU.ipynb",
      "provenance": [],
      "authorship_tag": "ABX9TyOYMNyBVOIHAPcJBMurBpI/",
      "include_colab_link": true
    },
    "kernelspec": {
      "name": "python3",
      "display_name": "Python 3"
    },
    "language_info": {
      "name": "python"
    },
    "accelerator": "GPU"
  },
  "cells": [
    {
      "cell_type": "markdown",
      "metadata": {
        "id": "view-in-github",
        "colab_type": "text"
      },
      "source": [
        "<a href=\"https://colab.research.google.com/github/quent1fvr/Infection_pulmonaire/blob/main/CNN3D_GRU.ipynb\" target=\"_parent\"><img src=\"https://colab.research.google.com/assets/colab-badge.svg\" alt=\"Open In Colab\"/></a>"
      ]
    },
    {
      "cell_type": "markdown",
      "source": [
        "# **0 - Importation des données et librairies**\n",
        "\n"
      ],
      "metadata": {
        "id": "R0SKEyPHdLaR"
      }
    },
    {
      "cell_type": "code",
      "execution_count": 1,
      "metadata": {
        "colab": {
          "base_uri": "https://localhost:8080/"
        },
        "id": "F10e-oz4Zha_",
        "outputId": "fe70e84d-5c19-49d7-a257-af3efbaac0a6"
      },
      "outputs": [
        {
          "output_type": "stream",
          "name": "stdout",
          "text": [
            "Mounted at /content/drive\n"
          ]
        }
      ],
      "source": [
        "from google.colab import drive\n",
        "drive.mount('/content/drive')"
      ]
    },
    {
      "cell_type": "code",
      "execution_count": 2,
      "metadata": {
        "id": "Pn70CEYAbrPv"
      },
      "outputs": [],
      "source": [
        "import numpy as np\n",
        "import matplotlib.pyplot as plt\n",
        "import h5py\n",
        "import tensorflow\n",
        "import keras\n",
        "from tensorflow.keras import models\n",
        "from tensorflow.keras.models import Sequential, Model\n",
        "from tensorflow.keras.layers import Dense, Flatten\n",
        "from tensorflow.keras.layers import TimeDistributed\n",
        "from keras.layers import Conv3D, BatchNormalization,MaxPooling3D, GlobalMaxPool3D\n",
        "from keras.layers import TimeDistributed, GRU, Dense, Dropout\n",
        "from sklearn.metrics import classification_report, confusion_matrix\n",
        "\n",
        "\n"
      ]
    },
    {
      "cell_type": "code",
      "execution_count": 3,
      "metadata": {
        "id": "JcGjQZgvaPvB"
      },
      "outputs": [],
      "source": [
        "hf_normal= h5py.File(\"/content/drive/MyDrive/UV PROJET P6/Dataset_normal.hdf5\", \"r\")\n",
        "hf_malade= h5py.File(\"/content/drive/MyDrive/UV PROJET P6/Dataset_malade.hdf5\", \"r\")\n",
        "\n",
        "Data_normal = np.array(hf_normal[\"dataset_1\"][:]) #dataset_name is same as hdf5 object name \n",
        "Data_malade = np.array(hf_malade[\"dataset_2\"][:])"
      ]
    },
    {
      "cell_type": "markdown",
      "source": [
        "# **1 - Etude des données et création des labels**\n",
        "\n"
      ],
      "metadata": {
        "id": "v3imvT8OdXzP"
      }
    },
    {
      "cell_type": "code",
      "execution_count": 4,
      "metadata": {
        "colab": {
          "base_uri": "https://localhost:8080/"
        },
        "id": "6iURefCa8cbi",
        "outputId": "a75e9d5b-3660-4ebb-a769-c0769b5a062b"
      },
      "outputs": [
        {
          "output_type": "execute_result",
          "data": {
            "text/plain": [
              "((55720, 48, 48), (54600, 48, 48))"
            ]
          },
          "metadata": {},
          "execution_count": 4
        }
      ],
      "source": [
        "Data_normal.shape , Data_malade.shape"
      ]
    },
    {
      "cell_type": "code",
      "source": [
        "Data_normal = Data_normal.reshape(Data_normal.shape[0]//70,70,48,48) # work on 1576 samples of 70 scans of size 48*48\n",
        "Data_malade = Data_malade.reshape(Data_malade.shape[0]//70,70,48,48) # work on 1576 samples of 70 scans of size 48*48\n",
        "Data = np.concatenate((Data_normal,Data_malade))\n",
        "Data.shape"
      ],
      "metadata": {
        "colab": {
          "base_uri": "https://localhost:8080/"
        },
        "id": "k79efgCdlAeU",
        "outputId": "4bae0bfb-e520-4a71-8de8-1752858bc8c1"
      },
      "execution_count": 5,
      "outputs": [
        {
          "output_type": "execute_result",
          "data": {
            "text/plain": [
              "(1576, 70, 48, 48)"
            ]
          },
          "metadata": {},
          "execution_count": 5
        }
      ]
    },
    {
      "cell_type": "markdown",
      "source": [
        "Le jeu de données est composé de séquences de 70 images par scan, c'est pourquoi on atteibue un label pour chaque séquence :\n",
        "- 0 : La personne est négative au COVID. \n",
        "- 1 : La personne est positive au COVID"
      ],
      "metadata": {
        "id": "B9aqSe55doPl"
      }
    },
    {
      "cell_type": "code",
      "execution_count": 6,
      "metadata": {
        "id": "2wqEZaJ98vEL",
        "colab": {
          "base_uri": "https://localhost:8080/"
        },
        "outputId": "b1a609c0-aef2-4f72-f335-3ca22cc057b2"
      },
      "outputs": [
        {
          "output_type": "execute_result",
          "data": {
            "text/plain": [
              "(1576,)"
            ]
          },
          "metadata": {},
          "execution_count": 6
        }
      ],
      "source": [
        "Y_normal = np.zeros(Data_normal.shape[0],dtype = np.int8) # 70 images per scan\n",
        "Y_malade = np.ones(Data_malade.shape[0],dtype = np.int8)\n",
        "Y = np.concatenate((Y_normal,Y_malade))\n",
        "Y.shape\n"
      ]
    },
    {
      "cell_type": "markdown",
      "source": [
        "# **2 - Création d'un modèle CNN3D + GRU**\n",
        "\n",
        "\n"
      ],
      "metadata": {
        "id": "vcO2BEhHeztz"
      }
    },
    {
      "cell_type": "code",
      "execution_count": 7,
      "metadata": {
        "id": "76Mz9v0RbzAE"
      },
      "outputs": [],
      "source": [
        "def build_convnet(shape=(70,48, 48)):\n",
        "    momentum = .9\n",
        "    model = keras.Sequential()\n",
        "    model.add(Conv3D(64, (3,3,3), input_shape=shape,\n",
        "        padding='same', activation='relu'))\n",
        "    model.add(Conv3D(64, (3,3,3), padding='same', activation='relu'))\n",
        "    model.add(BatchNormalization(momentum=momentum))\n",
        "    \n",
        "    model.add(MaxPooling3D())\n",
        "    \n",
        "    model.add(Conv3D(128, (3,3,3), padding='same', activation='relu'))\n",
        "    model.add(Conv3D(128, (3,3,3), padding='same', activation='relu'))\n",
        "    model.add(BatchNormalization(momentum=momentum))\n",
        "    \n",
        "    model.add(GlobalMaxPool3D())\n",
        "    return model"
      ]
    },
    {
      "cell_type": "code",
      "execution_count": 8,
      "metadata": {
        "id": "4sLlW2a2b_pO"
      },
      "outputs": [],
      "source": [
        "def action_model(shape=(70,48, 48,1), nbout=1):\n",
        "    convnet = build_convnet(shape)\n",
        "    \n",
        "    model = keras.Sequential()\n",
        "    model.add(convnet)\n",
        "    # and finally, we make a decision network\n",
        "    model.add(Dense(1024, activation='relu'))\n",
        "    model.add(Dropout(.5))\n",
        "    model.add(Dense(512, activation='relu'))\n",
        "    model.add(Dropout(.5))\n",
        "    model.add(Dense(128, activation='relu'))\n",
        "    model.add(Dropout(.5))\n",
        "    model.add(Dense(64, activation='relu'))\n",
        "    model.add(Dense(nbout, activation='sigmoid'))\n",
        "    return model"
      ]
    },
    {
      "cell_type": "code",
      "execution_count": 9,
      "metadata": {
        "id": "AhXYRexwcyC9"
      },
      "outputs": [],
      "source": [
        "# some global params\n",
        "SIZE = (48, 48)\n",
        "NBFRAME = 70\n",
        "BS = 8\n",
        "CHANNEL = 1"
      ]
    },
    {
      "cell_type": "code",
      "execution_count": 10,
      "metadata": {
        "id": "mwhBQ6m0cqes"
      },
      "outputs": [],
      "source": [
        "INSHAPE=(70,48,48,1)\n",
        "model = action_model(INSHAPE, nbout=1)\n",
        "optimizer = tensorflow.keras.optimizers.Adam(0.001)\n",
        "model.compile(\n",
        "    optimizer,\n",
        "    'binary_crossentropy',\n",
        "    metrics=['acc']\n",
        ")"
      ]
    },
    {
      "cell_type": "markdown",
      "source": [
        "On fixe la graine aléatoire afin que l'on puisse avoir des résultats similaires en relançant l'apprentissage : "
      ],
      "metadata": {
        "id": "lQqlZXljfFJg"
      }
    },
    {
      "cell_type": "code",
      "execution_count": 11,
      "metadata": {
        "id": "gxRDqnX5Iw67"
      },
      "outputs": [],
      "source": [
        "def fix_seed(seed):\n",
        "    tensorflow.random.set_seed(seed)\n",
        "\n",
        "SEED = 42\n",
        "fix_seed(SEED)"
      ]
    },
    {
      "cell_type": "markdown",
      "source": [
        "On utilise les callbacks EarlyStop et ModelCheckpoint pour optimiser nos résultats : "
      ],
      "metadata": {
        "id": "koGjSlMJfRy3"
      }
    },
    {
      "cell_type": "code",
      "execution_count": 12,
      "metadata": {
        "id": "SEvNY_2dJ5aM"
      },
      "outputs": [],
      "source": [
        "my_callbacks = [\n",
        "    tensorflow.keras.callbacks.EarlyStopping(monitor = 'val_loss',\n",
        "                          min_delta = 0,\n",
        "                          patience = 20,\n",
        "                          verbose = 1,\n",
        "                          restore_best_weights = True),\n",
        "    tensorflow.keras.callbacks.ModelCheckpoint(filepath='/tmp/myModel.h5')\n",
        "]\n",
        "\n"
      ]
    },
    {
      "cell_type": "markdown",
      "source": [
        "# **3 - Apprentissage et interprétation des résultats**\n"
      ],
      "metadata": {
        "id": "xhdDB0r4ftLN"
      }
    },
    {
      "cell_type": "code",
      "execution_count": 13,
      "metadata": {
        "colab": {
          "base_uri": "https://localhost:8080/"
        },
        "id": "PP6JlqxidbX6",
        "outputId": "d2035296-445e-41b2-ce8f-e829c3fd14a5"
      },
      "outputs": [
        {
          "output_type": "stream",
          "name": "stdout",
          "text": [
            "Epoch 1/50\n",
            "158/158 [==============================] - 104s 552ms/step - loss: 0.9900 - acc: 0.5365 - val_loss: 1.1575 - val_acc: 0.0095\n",
            "Epoch 2/50\n",
            "158/158 [==============================] - 88s 556ms/step - loss: 0.7015 - acc: 0.5857 - val_loss: 0.7884 - val_acc: 0.0095\n",
            "Epoch 3/50\n",
            "158/158 [==============================] - 89s 566ms/step - loss: 0.6818 - acc: 0.6198 - val_loss: 0.8968 - val_acc: 0.0095\n",
            "Epoch 4/50\n",
            "158/158 [==============================] - 90s 567ms/step - loss: 0.6569 - acc: 0.6310 - val_loss: 1.1736 - val_acc: 0.0095\n",
            "Epoch 5/50\n",
            "158/158 [==============================] - 89s 567ms/step - loss: 0.6896 - acc: 0.6198 - val_loss: 0.7153 - val_acc: 0.0000e+00\n",
            "Epoch 6/50\n",
            "158/158 [==============================] - 90s 567ms/step - loss: 0.6811 - acc: 0.6024 - val_loss: 0.8436 - val_acc: 0.0000e+00\n",
            "Epoch 7/50\n",
            "158/158 [==============================] - 89s 564ms/step - loss: 0.6315 - acc: 0.6556 - val_loss: 0.4586 - val_acc: 0.7437\n",
            "Epoch 8/50\n",
            "158/158 [==============================] - 89s 563ms/step - loss: 0.5200 - acc: 0.7667 - val_loss: 0.4729 - val_acc: 0.6994\n",
            "Epoch 9/50\n",
            "158/158 [==============================] - 88s 560ms/step - loss: 0.3776 - acc: 0.8667 - val_loss: 1.0443 - val_acc: 0.3639\n",
            "Epoch 10/50\n",
            "158/158 [==============================] - 88s 560ms/step - loss: 0.3582 - acc: 0.8683 - val_loss: 0.9726 - val_acc: 0.4937\n",
            "Epoch 11/50\n",
            "158/158 [==============================] - 89s 560ms/step - loss: 0.3616 - acc: 0.8675 - val_loss: 0.6626 - val_acc: 0.5633\n",
            "Epoch 12/50\n",
            "158/158 [==============================] - 89s 561ms/step - loss: 0.3266 - acc: 0.8825 - val_loss: 0.3624 - val_acc: 0.7690\n",
            "Epoch 13/50\n",
            "158/158 [==============================] - 89s 561ms/step - loss: 0.2890 - acc: 0.8921 - val_loss: 0.5807 - val_acc: 0.6582\n",
            "Epoch 14/50\n",
            "158/158 [==============================] - 89s 562ms/step - loss: 0.2732 - acc: 0.8976 - val_loss: 0.2960 - val_acc: 0.8101\n",
            "Epoch 15/50\n",
            "158/158 [==============================] - 88s 559ms/step - loss: 0.2866 - acc: 0.8921 - val_loss: 0.4125 - val_acc: 0.7563\n",
            "Epoch 16/50\n",
            "158/158 [==============================] - 88s 560ms/step - loss: 0.2741 - acc: 0.9040 - val_loss: 0.9228 - val_acc: 0.5601\n",
            "Epoch 17/50\n",
            "158/158 [==============================] - 88s 560ms/step - loss: 0.2575 - acc: 0.9087 - val_loss: 0.3384 - val_acc: 0.8386\n",
            "Epoch 18/50\n",
            "158/158 [==============================] - 88s 559ms/step - loss: 0.2401 - acc: 0.9183 - val_loss: 0.3665 - val_acc: 0.8418\n",
            "Epoch 19/50\n",
            "158/158 [==============================] - 88s 559ms/step - loss: 0.2598 - acc: 0.9095 - val_loss: 0.2385 - val_acc: 0.8703\n",
            "Epoch 20/50\n",
            "158/158 [==============================] - 88s 558ms/step - loss: 0.2589 - acc: 0.9111 - val_loss: 0.2197 - val_acc: 0.8861\n",
            "Epoch 21/50\n",
            "158/158 [==============================] - 88s 558ms/step - loss: 0.2279 - acc: 0.9190 - val_loss: 0.1323 - val_acc: 0.9177\n",
            "Epoch 22/50\n",
            "158/158 [==============================] - 88s 557ms/step - loss: 0.1919 - acc: 0.9262 - val_loss: 0.5401 - val_acc: 0.7722\n",
            "Epoch 23/50\n",
            "158/158 [==============================] - 88s 559ms/step - loss: 0.1966 - acc: 0.9278 - val_loss: 0.2233 - val_acc: 0.8797\n",
            "Epoch 24/50\n",
            "158/158 [==============================] - 88s 559ms/step - loss: 0.1723 - acc: 0.9421 - val_loss: 0.2197 - val_acc: 0.8766\n",
            "Epoch 25/50\n",
            "158/158 [==============================] - 88s 558ms/step - loss: 0.1812 - acc: 0.9294 - val_loss: 0.2205 - val_acc: 0.9051\n",
            "Epoch 26/50\n",
            "158/158 [==============================] - 88s 558ms/step - loss: 0.2061 - acc: 0.9341 - val_loss: 0.3182 - val_acc: 0.8544\n",
            "Epoch 27/50\n",
            "158/158 [==============================] - 88s 559ms/step - loss: 0.1542 - acc: 0.9373 - val_loss: 0.3120 - val_acc: 0.8703\n",
            "Epoch 28/50\n",
            "158/158 [==============================] - 88s 558ms/step - loss: 0.1619 - acc: 0.9468 - val_loss: 0.1746 - val_acc: 0.8987\n",
            "Epoch 29/50\n",
            "158/158 [==============================] - 88s 559ms/step - loss: 0.1345 - acc: 0.9548 - val_loss: 0.0750 - val_acc: 0.9747\n",
            "Epoch 30/50\n",
            "158/158 [==============================] - 88s 559ms/step - loss: 0.1348 - acc: 0.9508 - val_loss: 0.3224 - val_acc: 0.8449\n",
            "Epoch 31/50\n",
            "158/158 [==============================] - 88s 559ms/step - loss: 0.1341 - acc: 0.9516 - val_loss: 0.2867 - val_acc: 0.8734\n",
            "Epoch 32/50\n",
            "158/158 [==============================] - 88s 558ms/step - loss: 0.1373 - acc: 0.9516 - val_loss: 0.1939 - val_acc: 0.8861\n",
            "Epoch 33/50\n",
            "158/158 [==============================] - 88s 558ms/step - loss: 0.1204 - acc: 0.9627 - val_loss: 0.1590 - val_acc: 0.9304\n",
            "Epoch 34/50\n",
            "158/158 [==============================] - 88s 558ms/step - loss: 0.1383 - acc: 0.9571 - val_loss: 0.1385 - val_acc: 0.9209\n",
            "Epoch 35/50\n",
            "158/158 [==============================] - 88s 556ms/step - loss: 0.1236 - acc: 0.9619 - val_loss: 0.3121 - val_acc: 0.8987\n",
            "Epoch 36/50\n",
            "158/158 [==============================] - 88s 556ms/step - loss: 0.1108 - acc: 0.9579 - val_loss: 0.1230 - val_acc: 0.9367\n",
            "Epoch 37/50\n",
            "158/158 [==============================] - 88s 557ms/step - loss: 0.0948 - acc: 0.9643 - val_loss: 0.3493 - val_acc: 0.8861\n",
            "Epoch 38/50\n",
            "158/158 [==============================] - 88s 557ms/step - loss: 0.1100 - acc: 0.9667 - val_loss: 0.2153 - val_acc: 0.9051\n",
            "Epoch 39/50\n",
            "158/158 [==============================] - 88s 555ms/step - loss: 0.1248 - acc: 0.9532 - val_loss: 1.0301 - val_acc: 0.5032\n",
            "Epoch 40/50\n",
            "158/158 [==============================] - 88s 555ms/step - loss: 0.1108 - acc: 0.9603 - val_loss: 0.2153 - val_acc: 0.9082\n",
            "Epoch 41/50\n",
            "158/158 [==============================] - 88s 554ms/step - loss: 0.0905 - acc: 0.9730 - val_loss: 0.0715 - val_acc: 0.9715\n",
            "Epoch 42/50\n",
            "158/158 [==============================] - 88s 556ms/step - loss: 0.0728 - acc: 0.9738 - val_loss: 0.0764 - val_acc: 0.9589\n",
            "Epoch 43/50\n",
            "158/158 [==============================] - 88s 554ms/step - loss: 0.0855 - acc: 0.9690 - val_loss: 0.2136 - val_acc: 0.8924\n",
            "Epoch 44/50\n",
            "158/158 [==============================] - 88s 556ms/step - loss: 0.0992 - acc: 0.9619 - val_loss: 0.3124 - val_acc: 0.8291\n",
            "Epoch 45/50\n",
            "158/158 [==============================] - 88s 556ms/step - loss: 0.1175 - acc: 0.9587 - val_loss: 0.1245 - val_acc: 0.9430\n",
            "Epoch 46/50\n",
            "158/158 [==============================] - 88s 555ms/step - loss: 0.0876 - acc: 0.9722 - val_loss: 0.4748 - val_acc: 0.8038\n",
            "Epoch 47/50\n",
            "158/158 [==============================] - 88s 554ms/step - loss: 0.1078 - acc: 0.9659 - val_loss: 0.1803 - val_acc: 0.9051\n",
            "Epoch 48/50\n",
            "158/158 [==============================] - 87s 554ms/step - loss: 0.0929 - acc: 0.9706 - val_loss: 0.2970 - val_acc: 0.8544\n",
            "Epoch 49/50\n",
            "158/158 [==============================] - 87s 554ms/step - loss: 0.0912 - acc: 0.9714 - val_loss: 0.3885 - val_acc: 0.8449\n",
            "Epoch 50/50\n",
            "158/158 [==============================] - 87s 554ms/step - loss: 0.0338 - acc: 0.9857 - val_loss: 0.4769 - val_acc: 0.9082\n"
          ]
        },
        {
          "output_type": "execute_result",
          "data": {
            "text/plain": [
              "<keras.callbacks.History at 0x7f8ea03e6110>"
            ]
          },
          "metadata": {},
          "execution_count": 13
        }
      ],
      "source": [
        "model.fit(Data,Y,epochs=50, validation_split=0.2, batch_size=BS, callbacks=my_callbacks)"
      ]
    },
    {
      "cell_type": "markdown",
      "source": [
        "On récupère le meilleur modèle, c'est à dire celui de l'epoch 29 "
      ],
      "metadata": {
        "id": "kmBwvGneQXdb"
      }
    },
    {
      "cell_type": "code",
      "source": [
        "model.load_weights(\"/tmp/myModel.h5\")\n",
        "\n"
      ],
      "metadata": {
        "id": "s175UYeZQUwL"
      },
      "execution_count": 24,
      "outputs": []
    },
    {
      "cell_type": "code",
      "execution_count": 16,
      "metadata": {
        "colab": {
          "base_uri": "https://localhost:8080/",
          "height": 634
        },
        "id": "-mpw2qmqFMeo",
        "outputId": "2c4695f5-1005-4105-8da8-d4c7f718b5bf"
      },
      "outputs": [
        {
          "output_type": "stream",
          "name": "stdout",
          "text": [
            "[0.5365079641342163, 0.5857142806053162, 0.6198412775993347, 0.6309523582458496, 0.6198412775993347, 0.6023809313774109, 0.6555555462837219, 0.7666666507720947, 0.8666666746139526, 0.8682539463043213, 0.867460310459137, 0.882539689540863, 0.8920634984970093, 0.8976190686225891, 0.8920634984970093, 0.9039682745933533, 0.908730149269104, 0.9182539582252502, 0.9095237851142883, 0.9111111164093018, 0.9190475940704346, 0.9261904954910278, 0.9277777671813965, 0.9420635104179382, 0.9293650984764099, 0.9341269731521606, 0.9373015761375427, 0.946825385093689, 0.9547619223594666, 0.9507936239242554, 0.9515873193740845, 0.9515873193740845, 0.9626984000205994, 0.9571428298950195, 0.961904764175415, 0.9579365253448486, 0.9642857313156128, 0.9666666388511658, 0.9531745910644531, 0.9603174328804016, 0.9730158448219299, 0.973809540271759, 0.9690476059913635, 0.961904764175415, 0.958730161190033, 0.9722222089767456, 0.9658730030059814, 0.970634937286377, 0.9714285731315613, 0.9857142567634583]\n",
            "[0.009493670426309109, 0.009493670426309109, 0.009493670426309109, 0.009493670426309109, 0.0, 0.0, 0.7436708807945251, 0.699367105960846, 0.3639240562915802, 0.49367088079452515, 0.5632911324501038, 0.7689873576164246, 0.6582278609275818, 0.8101266026496887, 0.7563291192054749, 0.5601266026496887, 0.8386076092720032, 0.8417721390724182, 0.8702531456947327, 0.8860759735107422, 0.9177215099334717, 0.7721518874168396, 0.8797468543052673, 0.8765822649002075, 0.905063271522522, 0.8544303774833679, 0.8702531456947327, 0.8987341523170471, 0.9746835231781006, 0.844936728477478, 0.8734177350997925, 0.8860759735107422, 0.9303797483444214, 0.9208860993385315, 0.8987341523170471, 0.9367088675498962, 0.8860759735107422, 0.905063271522522, 0.503164529800415, 0.9082278609275818, 0.9715189933776855, 0.9588607549667358, 0.892405092716217, 0.8291139006614685, 0.9430379867553711, 0.8037974834442139, 0.905063271522522, 0.8544303774833679, 0.844936728477478, 0.9082278609275818]\n",
            "[0.9899849891662598, 0.7015258073806763, 0.681804358959198, 0.6568813323974609, 0.6895553469657898, 0.6810591816902161, 0.6314591765403748, 0.5199539661407471, 0.3776201903820038, 0.35823723673820496, 0.36155977845191956, 0.32656458020210266, 0.2890450954437256, 0.2731776833534241, 0.2866106927394867, 0.2740936577320099, 0.25754451751708984, 0.24012403190135956, 0.25980305671691895, 0.25890228152275085, 0.22789137065410614, 0.1919032633304596, 0.19660788774490356, 0.1723494827747345, 0.18122871220111847, 0.20614837110042572, 0.15416979789733887, 0.16192448139190674, 0.13450710475444794, 0.13481636345386505, 0.13410738110542297, 0.13725678622722626, 0.12042298167943954, 0.1383417397737503, 0.12360180914402008, 0.11083029955625534, 0.09479566663503647, 0.11004260927438736, 0.12481052428483963, 0.11075647920370102, 0.09047942608594894, 0.07280009239912033, 0.08552830666303635, 0.09920677542686462, 0.11747557669878006, 0.08761750906705856, 0.10776645690202713, 0.09292697161436081, 0.09121355414390564, 0.03379862755537033]\n",
            "[1.1575071811676025, 0.7884063124656677, 0.8967705965042114, 1.1735950708389282, 0.7152960896492004, 0.8436368107795715, 0.4586033821105957, 0.47288841009140015, 1.0442907810211182, 0.9726271033287048, 0.6626028418540955, 0.36237189173698425, 0.5806812047958374, 0.2960113286972046, 0.41250354051589966, 0.9228216409683228, 0.33844617009162903, 0.36651915311813354, 0.23847980797290802, 0.21971075236797333, 0.1322585642337799, 0.5401001572608948, 0.2232722043991089, 0.21970325708389282, 0.22053858637809753, 0.3181932270526886, 0.31201279163360596, 0.17463748157024384, 0.07503031194210052, 0.32243067026138306, 0.2867126762866974, 0.19389741122722626, 0.15896670520305634, 0.13847936689853668, 0.3120991289615631, 0.12296564131975174, 0.34932172298431396, 0.21532876789569855, 1.0300623178482056, 0.21534861624240875, 0.07149137556552887, 0.07641596347093582, 0.21362698078155518, 0.3123621642589569, 0.12453620880842209, 0.4747580587863922, 0.180291086435318, 0.2969530522823334, 0.38848116993904114, 0.4769136309623718]\n"
          ]
        },
        {
          "output_type": "display_data",
          "data": {
            "text/plain": [
              "<Figure size 432x288 with 1 Axes>"
            ],
            "image/png": "[encoded data removed]"
          },
          "metadata": {
            "needs_background": "light"
          }
        },
        {
          "output_type": "display_data",
          "data": {
            "text/plain": [
              "<Figure size 432x288 with 1 Axes>"
            ],
            "image/png": "[encoded data removed]"
          },
          "metadata": {
            "needs_background": "light"
          }
        }
      ],
      "source": [
        "acc = model.history.history['acc']\n",
        "val_acc = model.history.history['val_acc']\n",
        "loss = model.history.history['loss']\n",
        "val_loss = model.history.history['val_loss']\n",
        "\n",
        "print(acc)\n",
        "print(val_acc)\n",
        "\n",
        "print(loss)\n",
        "print(val_loss)\n",
        "\n",
        "epochs = range(len(acc))\n",
        "\n",
        "plt.plot(epochs, acc, 'bo', label='Training acc')\n",
        "plt.plot(epochs, val_acc, 'b', label='Validation acc')\n",
        "plt.title('Training and validation accuracy')\n",
        "plt.legend()\n",
        "\n",
        "plt.figure()\n",
        "\n",
        "plt.plot(epochs, loss, 'bo', label='Training loss')\n",
        "plt.plot(epochs, val_loss, 'b', label='Validation loss')\n",
        "plt.title('Training and validation loss')\n",
        "plt.legend()\n",
        "\n",
        "plt.show()"
      ]
    },
    {
      "cell_type": "markdown",
      "source": [
        "# **4 - Test sur un jeu de données aléatoire**\n"
      ],
      "metadata": {
        "id": "EJ0Ub0JagE1r"
      }
    },
    {
      "cell_type": "code",
      "execution_count": 25,
      "metadata": {
        "id": "aSfziQtrFt7d",
        "colab": {
          "base_uri": "https://localhost:8080/"
        },
        "outputId": "f982dd3a-4af1-4d47-8ff5-37b92bf6c6f3"
      },
      "outputs": [
        {
          "output_type": "execute_result",
          "data": {
            "text/plain": [
              "(50, 70, 48, 48)"
            ]
          },
          "metadata": {},
          "execution_count": 25
        }
      ],
      "source": [
        "Data_test = []\n",
        "for i in range(25):\n",
        "  aleatoire = np.random.randint(0,Data_normal.shape[0])\n",
        "  Data_test.append(Data_normal[aleatoire][:])\n",
        "for i in range(25):\n",
        "  aleatoire = np.random.randint(0,Data_malade.shape[0])\n",
        "  Data_test.append(Data_malade[aleatoire][:])\n",
        "Data_test = np.array(Data_test)\n",
        "Data_test.shape"
      ]
    },
    {
      "cell_type": "code",
      "source": [
        "Y_test_normal= np.zeros(25)\n",
        "Y_test_malade = np.ones(25)\n",
        "Y_test = np.concatenate((Y_test_normal,Y_test_malade))"
      ],
      "metadata": {
        "id": "uMUV_HeLlinS"
      },
      "execution_count": 27,
      "outputs": []
    },
    {
      "cell_type": "code",
      "source": [
        "model.evaluate(Data_test,Y_test)"
      ],
      "metadata": {
        "colab": {
          "base_uri": "https://localhost:8080/"
        },
        "id": "aoMCI71Il4L6",
        "outputId": "5358b77e-7f21-4495-e887-1bf34d73730c"
      },
      "execution_count": 28,
      "outputs": [
        {
          "output_type": "stream",
          "name": "stdout",
          "text": [
            "2/2 [==============================] - 6s 2s/step - loss: 0.3699 - acc: 0.9400\n"
          ]
        },
        {
          "output_type": "execute_result",
          "data": {
            "text/plain": [
              "[0.3698709011077881, 0.9399999976158142]"
            ]
          },
          "metadata": {},
          "execution_count": 28
        }
      ]
    },
    {
      "cell_type": "code",
      "source": [
        "preds = np.round(model.predict(Data_test),0)\n",
        "cm = confusion_matrix(Y_test, preds)\n",
        "print(cm)\n"
      ],
      "metadata": {
        "colab": {
          "base_uri": "https://localhost:8080/"
        },
        "id": "E7NMS58Aml7g",
        "outputId": "cee5d8ef-84d3-4fbf-bd33-4e395cd2d738"
      },
      "execution_count": 29,
      "outputs": [
        {
          "output_type": "stream",
          "name": "stdout",
          "text": [
            "[[25  0]\n",
            " [ 3 22]]\n"
          ]
        }
      ]
    },
    {
      "cell_type": "markdown",
      "source": [
        "Le modèle est plus efficace que les modèles 2D, il prédit avec une accuracy de 93% sur un jeu de donnée aléatoire en test."
      ],
      "metadata": {
        "id": "tertfpbASGAJ"
      }
    }
  ]
}