{
  "nbformat": 4,
  "nbformat_minor": 0,
  "metadata": {
    "colab": {
      "name": "Infection_pulmonaire.ipynb",
      "provenance": [],
      "collapsed_sections": [
        "aztuEg56Ei65",
        "vuoM54vQSQE0",
        "ckOJCvGZ_xqc",
        "-3itKUcYj0uJ",
        "5l1FEAc-ldMo"
      ],
      "include_colab_link": true
    },
    "kernelspec": {
      "name": "python3",
      "display_name": "Python 3"
    },
    "language_info": {
      "name": "python"
    },
    "accelerator": "GPU"
  },
  "cells": [
    {
      "cell_type": "markdown",
      "metadata": {
        "id": "view-in-github",
        "colab_type": "text"
      },
      "source": [
        "<a href=\"https://colab.research.google.com/github/quent1fvr/Infection_pulmonaire/blob/main/Infection_pulmonaire.ipynb\" target=\"_parent\"><img src=\"https://colab.research.google.com/assets/colab-badge.svg\" alt=\"Open In Colab\"/></a>"
      ]
    },
    {
      "cell_type": "markdown",
      "source": [
        "# I - Importation des données"
      ],
      "metadata": {
        "id": "aztuEg56Ei65"
      }
    },
    {
      "cell_type": "code",
      "execution_count": null,
      "metadata": {
        "colab": {
          "base_uri": "https://localhost:8080/"
        },
        "id": "f625KFIVDHRn",
        "outputId": "3ae87bb5-83ef-475c-8ab2-a7a0b0a8982b"
      },
      "outputs": [
        {
          "output_type": "stream",
          "name": "stdout",
          "text": [
            "Drive already mounted at /content/drive; to attempt to forcibly remount, call drive.mount(\"/content/drive\", force_remount=True).\n"
          ]
        }
      ],
      "source": [
        "from google.colab import drive\n",
        "drive.mount('/content/drive')"
      ]
    },
    {
      "cell_type": "code",
      "source": [
        "import tensorflow as tf\n",
        "import keras\n",
        "import zipfile\n",
        "import os\n",
        "\n",
        "zip_ref = zipfile.ZipFile('/content/drive/MyDrive/UV PROJET P6/COVID_dataset.zip', 'r') #Opens the zip file in read mode\n",
        "zip_ref.extractall('/tmp') #Extracts the files into the /tmp folder\n",
        "zip_ref.close()\n",
        "\n",
        "print(\"Nombre de scans de personnes normales :\", len(os.listdir('/tmp/COVID_crop/normal')))\n",
        "print(\"Nombre de scans de personnes malades :\", len(os.listdir('/tmp/COVID_crop/malade')))"
      ],
      "metadata": {
        "id": "KEis7wo1IkTr",
        "colab": {
          "base_uri": "https://localhost:8080/"
        },
        "outputId": "5d26bdc6-64e2-4385-c0b1-6179754d0213"
      },
      "execution_count": null,
      "outputs": [
        {
          "output_type": "stream",
          "name": "stdout",
          "text": [
            "Nombre de scans de personnes normales : 1078\n",
            "Nombre de scans de personnes malades : 1544\n"
          ]
        }
      ]
    },
    {
      "cell_type": "markdown",
      "source": [
        "# II - Etude de la distribution des données \"brutes\""
      ],
      "metadata": {
        "id": "dhkme7Bmkc2g"
      }
    },
    {
      "cell_type": "code",
      "source": [
        "import numpy as np\n",
        "import matplotlib.pyplot as plt\n",
        "import pandas as pd\n",
        "\n",
        "#--------------------------------- Visualisation des données --------------------------------- \n",
        "\n",
        "def visualisation(infoGen, infoHisto, infoMoy):\n",
        "  \n",
        "    tab_normal = []\n",
        "    tab_malade = []\n",
        "    path_normal = '/tmp/COVID_crop/normal'\n",
        "    path_malade = '/tmp/COVID_crop/malade'\n",
        "\n",
        "    for base in os.walk(path_normal):\n",
        "        #print('folder \"', base[0], '\" containing ', len(base[2]), ' files')\n",
        "        tab_normal.append(len(base[2]))\n",
        "    tab_normal.pop(0)\n",
        "    tab_normal.sort()\n",
        "    #print(tab_normal)\n",
        "    for base in os.walk(path_malade):\n",
        "        #print('folder \"', base[0], '\" containing ', len(base[2]), ' files')\n",
        "        tab_malade.append(len(base[2]))\n",
        "    tab_malade.pop(0)\n",
        "    tab_malade.sort()\n",
        "    #print(tab_malade)\n",
        "\n",
        "    #---------- infos générales ----------\n",
        "    if infoGen == True:\n",
        "      print(\"---------- infos générales ----------\\n\")\n",
        "      print(\"Nombre de scans de personnes normales :\", len(os.listdir('/tmp/COVID_crop/normal')))\n",
        "      print(\"Nombre de scans de personnes malades :\", len(os.listdir('/tmp/COVID_crop/malade')))\n",
        "      x = np.array([len(os.listdir(path_normal)), len(os.listdir(path_malade))])\n",
        "      labels = ['normal', 'malade']\n",
        "      colors = {'normal': 'chartreuse','malade': 'teal' }\n",
        "      plt.pie(x, labels=labels, autopct='%.0f%%', radius=1.5, colors=[colors[key] for key in labels], textprops={'fontsize': 18})\n",
        "      plt.show()\n",
        "\n",
        "    #---------- histogrammes ----------\n",
        "    if infoHisto == True:\n",
        "      print(\"\\n---------- histogrammes ----------\\n\")\n",
        "      plt.figure(figsize=(10, 10))\n",
        "      x0 = tab_normal\n",
        "      x1 = tab_malade\n",
        "      bins = max(len(x0), len(x1))\n",
        "      plt.hist(x0, bins, alpha=0.8, label=\"Distribution du nombre d'images par scan normal\")\n",
        "      plt.hist(x1, bins, alpha=0.8, label=\"Distribution du nombre d'images par scan malade\")\n",
        "      plt.legend(loc='lower right')\n",
        "      plt.xlabel(\"Nombres d'images par scan\")\n",
        "      plt.ylabel(\"Occurences\")\n",
        "      plt.show()\n",
        "\n",
        "    #---------- infos sur les moyennes ----------\n",
        "    if infoMoy == True:\n",
        "      print(\"\\n---------- infos sur les moyennes ----------\\n\")\n",
        "      x0_mean = np.mean(tab_normal)\n",
        "      x1_mean = np.mean(tab_malade)\n",
        "      avg = (59*x0_mean + 41*x1_mean)/100\n",
        "      print(\"x0_mean :\", x0_mean)\n",
        "      print(\"x1_mean :\", x1_mean)\n",
        "      print(\"avg :\", avg)"
      ],
      "metadata": {
        "id": "i5y7ZX5qioJV"
      },
      "execution_count": null,
      "outputs": []
    },
    {
      "cell_type": "code",
      "source": [
        "visualisation(True, True, True)"
      ],
      "metadata": {
        "colab": {
          "base_uri": "https://localhost:8080/",
          "height": 1000
        },
        "id": "CV3ckHAwJCT2",
        "outputId": "59024d6b-3600-4bd5-e7f9-a3ea9e28b931"
      },
      "execution_count": null,
      "outputs": [
        {
          "output_type": "stream",
          "name": "stdout",
          "text": [
            "---------- infos générales ----------\n",
            "\n",
            "Nombre de scans de personnes normales : 1078\n",
            "Nombre de scans de personnes malades : 1544\n"
          ]
        },
        {
          "output_type": "display_data",
          "data": {
            "text/plain": [
              "<Figure size 432x288 with 1 Axes>"
            ],
            "image/png": "[encoded data removed]"
          },
          "metadata": {}
        },
        {
          "output_type": "stream",
          "name": "stdout",
          "text": [
            "\n",
            "---------- histogrammes ----------\n",
            "\n"
          ]
        },
        {
          "output_type": "display_data",
          "data": {
            "text/plain": [
              "<Figure size 720x720 with 1 Axes>"
            ],
            "image/png": "[encoded data removed]"
          },
          "metadata": {
            "needs_background": "light"
          }
        },
        {
          "output_type": "stream",
          "name": "stdout",
          "text": [
            "\n",
            "---------- infos sur les moyennes ----------\n",
            "\n",
            "x0_mean : 90.76530612244898\n",
            "x1_mean : 107.98186528497409\n",
            "avg : 97.82409537908428\n"
          ]
        }
      ]
    },
    {
      "cell_type": "markdown",
      "source": [
        "# III - Padding des données"
      ],
      "metadata": {
        "id": "IfwPgRE9J32q"
      }
    },
    {
      "cell_type": "markdown",
      "source": [
        "### 1. On élimine les scans contenant moins de 40 et plus de 100 images\n"
      ],
      "metadata": {
        "id": "vuoM54vQSQE0"
      }
    },
    {
      "cell_type": "code",
      "source": [
        "import shutil\n",
        "num_skipped = 0\n",
        "for folder_name in (\"normal\", \"malade\"):\n",
        "    folder_path = os.path.join(\"/tmp/COVID_crop\", folder_name)\n",
        "    for fname in os.listdir(folder_path):\n",
        "        fpath = os.path.join(folder_path, fname)\n",
        "        if len(os.listdir(fpath)) > 100 or len(os.listdir(fpath)) < 40:\n",
        "            num_skipped += 1\n",
        "            shutil.rmtree(fpath)\n",
        "\n",
        "print(\"Deleted %d scans\" % num_skipped)"
      ],
      "metadata": {
        "colab": {
          "base_uri": "https://localhost:8080/"
        },
        "id": "JTEvBIHUHlWu",
        "outputId": "08ebadd2-5c3e-4644-fd04-8a7353f552e8"
      },
      "execution_count": null,
      "outputs": [
        {
          "output_type": "stream",
          "name": "stdout",
          "text": [
            "Deleted 1016 scans\n"
          ]
        }
      ]
    },
    {
      "cell_type": "code",
      "source": [
        "visualisation(True, True, True)"
      ],
      "metadata": {
        "colab": {
          "base_uri": "https://localhost:8080/"
        },
        "id": "347tkXIIPzaU",
        "outputId": "944eb2a4-3758-479a-ad83-e4b807a0d095"
      },
      "execution_count": null,
      "outputs": [
        {
          "output_type": "stream",
          "name": "stdout",
          "text": [
            "---------- infos générales ----------\n",
            "\n",
            "Nombre de scans de personnes normales : 814\n",
            "Nombre de scans de personnes malades : 792\n"
          ]
        },
        {
          "output_type": "display_data",
          "data": {
            "text/plain": [
              "<Figure size 432x288 with 1 Axes>"
            ],
            "image/png": "[encoded data removed]"
          },
          "metadata": {}
        },
        {
          "output_type": "stream",
          "name": "stdout",
          "text": [
            "\n",
            "---------- histogrammes ----------\n",
            "\n"
          ]
        },
        {
          "output_type": "display_data",
          "data": {
            "text/plain": [
              "<Figure size 720x720 with 1 Axes>"
            ],
            "image/png": "[encoded data removed]"
          },
          "metadata": {
            "needs_background": "light"
          }
        },
        {
          "output_type": "stream",
          "name": "stdout",
          "text": [
            "\n",
            "---------- infos sur les moyennes ----------\n",
            "\n",
            "x0_mean : 80.83046683046683\n",
            "x1_mean : 70.4659090909091\n",
            "avg : 76.58099815724816\n"
          ]
        }
      ]
    },
    {
      "cell_type": "markdown",
      "source": [
        "### 2. On comble les scans contenant moins de 70 images"
      ],
      "metadata": {
        "id": "BDKe1Ry-qgJJ"
      }
    },
    {
      "cell_type": "markdown",
      "source": [
        "#### 2.1. Comble par ajout d'images noires "
      ],
      "metadata": {
        "id": "C8qNw20TT8mo"
      }
    },
    {
      "cell_type": "code",
      "source": [
        "num_skipped = 0\n",
        "from PIL import Image\n",
        "for folder_name in (\"normal\", \"malade\"):\n",
        "    folder_path = os.path.join(\"/tmp/COVID_crop\", folder_name)\n",
        "    for fname in os.listdir(folder_path):\n",
        "        fpath = os.path.join(folder_path, fname)\n",
        "        if len(os.listdir(fpath)) < 70:\n",
        "          for i in range (70 - len(os.listdir(fpath))) : \n",
        "            new_im = Image.new('RGB', (128, 128), (0, 0, 0))\n",
        "            new_im.save(fpath + \"/Dark_image\" + str(i), \"PNG\")"
      ],
      "metadata": {
        "id": "NmKX_K7zUTN7"
      },
      "execution_count": null,
      "outputs": []
    },
    {
      "cell_type": "code",
      "source": [
        "visualisation(True, False, True)"
      ],
      "metadata": {
        "colab": {
          "base_uri": "https://localhost:8080/",
          "height": 510
        },
        "id": "6CkvCF5ucpyx",
        "outputId": "9a3e458b-af18-4622-9591-10a4c20c7afd"
      },
      "execution_count": null,
      "outputs": [
        {
          "output_type": "stream",
          "name": "stdout",
          "text": [
            "---------- infos générales ----------\n",
            "\n",
            "Nombre de scans de personnes normales : 814\n",
            "Nombre de scans de personnes malades : 792\n"
          ]
        },
        {
          "output_type": "display_data",
          "data": {
            "text/plain": [
              "<Figure size 432x288 with 1 Axes>"
            ],
            "image/png": "[encoded data removed]"
          },
          "metadata": {}
        },
        {
          "output_type": "stream",
          "name": "stdout",
          "text": [
            "\n",
            "---------- infos sur les moyennes ----------\n",
            "\n",
            "x0_mean : 80.83046683046683\n",
            "x1_mean : 70.4659090909091\n",
            "avg : 76.58099815724816\n"
          ]
        }
      ]
    },
    {
      "cell_type": "markdown",
      "source": [
        "#### 2.2. Comble par copie d'images \"intéressantes\"\n"
      ],
      "metadata": {
        "id": "ckOJCvGZ_xqc"
      }
    },
    {
      "cell_type": "code",
      "source": [
        "# a faire"
      ],
      "metadata": {
        "id": "-6PpfT4PAcOc"
      },
      "execution_count": null,
      "outputs": []
    },
    {
      "cell_type": "code",
      "source": [
        "visualisation(True, False, True)"
      ],
      "metadata": {
        "id": "FajX3ehqAcrg"
      },
      "execution_count": null,
      "outputs": []
    },
    {
      "cell_type": "markdown",
      "source": [
        "### 3. On élimine des images dans les scans contenant plus de 70 images"
      ],
      "metadata": {
        "id": "rV226LIarI1z"
      }
    },
    {
      "cell_type": "markdown",
      "source": [
        "#### 3.1. Elimination aléatoire"
      ],
      "metadata": {
        "id": "-3itKUcYj0uJ"
      }
    },
    {
      "cell_type": "code",
      "source": [
        "import shutil\n",
        "for folder_name in (\"normal\", \"malade\"):\n",
        "    folder_path = os.path.join(\"/tmp/COVID_crop\", folder_name)\n",
        "    for fname in os.listdir(folder_path):\n",
        "        fpath = os.path.join(folder_path, fname)\n",
        "        if len(os.listdir(fpath)) > 70:\n",
        "            for i in range(len(os.listdir(fpath)) - 70):\n",
        "                # suppression des images numérotées entre 0010 et 0010 < nb_random < nb_images_dans_scan\n",
        "                delete_path = fpath + \"/00\" + str(np.random.randint(10, len(os.listdir(fpath)))) + \".png\"\n",
        "                while os.path.exists(delete_path):\n",
        "                    os.remove(delete_path)"
      ],
      "metadata": {
        "id": "cAXftNZsdBoT"
      },
      "execution_count": null,
      "outputs": []
    },
    {
      "cell_type": "code",
      "source": [
        "visualisation(True, False, True)"
      ],
      "metadata": {
        "colab": {
          "base_uri": "https://localhost:8080/",
          "height": 510
        },
        "id": "LqStkwJuevuI",
        "outputId": "a2eed4f6-f2b9-4803-963b-f43d6f43a840"
      },
      "execution_count": null,
      "outputs": [
        {
          "output_type": "stream",
          "name": "stdout",
          "text": [
            "---------- infos générales ----------\n",
            "\n",
            "Nombre de scans de personnes normales : 814\n",
            "Nombre de scans de personnes malades : 792\n"
          ]
        },
        {
          "output_type": "display_data",
          "data": {
            "text/plain": [
              "<Figure size 432x288 with 1 Axes>"
            ],
            "image/png": "[encoded data removed]"
          },
          "metadata": {}
        },
        {
          "output_type": "stream",
          "name": "stdout",
          "text": [
            "\n",
            "---------- infos sur les moyennes ----------\n",
            "\n",
            "x0_mean : 70.34398034398035\n",
            "x1_mean : 70.01136363636364\n",
            "avg : 70.20760749385751\n"
          ]
        }
      ]
    },
    {
      "cell_type": "markdown",
      "source": [
        "#### 3.2. Elimination par comparaison MSE & SSIM"
      ],
      "metadata": {
        "id": "7_bhQqXxBl3A"
      }
    },
    {
      "cell_type": "markdown",
      "source": [
        "##### 3.2.1. Test SSIM avec deux images random"
      ],
      "metadata": {
        "id": "5l1FEAc-ldMo"
      }
    },
    {
      "cell_type": "code",
      "source": [
        "from skimage.metrics import structural_similarity as compare_ssim\n",
        "import argparse\n",
        "import imutils\n",
        "import cv2\n",
        "\n",
        "path_image1 = \"/tmp/COVID_crop/normal/1/0019.png\"\n",
        "path_image2 = \"/tmp/COVID_crop/normal/1/0015.png\"\n",
        "\n",
        "# load the two input images\n",
        "imageA = cv2.imread(path_image1)\n",
        "imageB = cv2.imread(path_image2)\n",
        "\n",
        "# compute the Structural Similarity Index (SSIM) between the two\n",
        "# images, ensuring that the difference image is returned\n",
        "(score, diff) = compare_ssim(imageA, imageB, full=True, multichannel=True)\n",
        "diff = (diff * 255).astype(\"uint8\")\n",
        "print(\"SSIM: {}\".format(score))\n",
        "\n",
        "from google.colab.patches import cv2_imshow\n",
        "# show the output images\n",
        "print(\"Score of similarity = \", score, \"/1\")\n",
        "print(\"\\nImage 1 :\\n\")\n",
        "cv2_imshow(imageA)\n",
        "print(\"\\nImage 2 :\\n\")\n",
        "cv2_imshow(imageB)\n",
        "print(\"\\nDifférence :\\n\")\n",
        "cv2_imshow(diff)"
      ],
      "metadata": {
        "id": "4SkUH3MVB939",
        "colab": {
          "base_uri": "https://localhost:8080/",
          "height": 592
        },
        "outputId": "b79744d8-a1aa-40ff-e9d6-2ba3e3fb9d94"
      },
      "execution_count": null,
      "outputs": [
        {
          "output_type": "stream",
          "name": "stdout",
          "text": [
            "SSIM: 0.6980146490843447\n",
            "Score of similarity =  0.6980146490843447 /1\n",
            "\n",
            "Image 1 :\n",
            "\n"
          ]
        },
        {
          "output_type": "display_data",
          "data": {
            "text/plain": [
              "<PIL.Image.Image image mode=RGB size=128x128 at 0x7F96FBAE8A50>"
            ],
            "image/png": "[encoded data removed]"
          },
          "metadata": {}
        },
        {
          "output_type": "stream",
          "name": "stdout",
          "text": [
            "\n",
            "Image 2 :\n",
            "\n"
          ]
        },
        {
          "output_type": "display_data",
          "data": {
            "text/plain": [
              "<PIL.Image.Image image mode=RGB size=128x128 at 0x7F96FA4D3D10>"
            ],
            "image/png": "[encoded data removed]"
          },
          "metadata": {}
        },
        {
          "output_type": "stream",
          "name": "stdout",
          "text": [
            "\n",
            "Différence :\n",
            "\n"
          ]
        },
        {
          "output_type": "display_data",
          "data": {
            "text/plain": [
              "<PIL.Image.Image image mode=RGB size=128x128 at 0x7F96FA4D3AD0>"
            ],
            "image/png": "[encoded data removed]"
          },
          "metadata": {}
        }
      ]
    },
    {
      "cell_type": "markdown",
      "source": [
        "The ***score*** represents the structural similarity index between the two input images. This value can fall into the range [-1, 1] with a value of one being a “perfect match”.\n",
        "\n",
        "The ***diff*** image contains the actual image differences between the two input images that we wish to visualize. The difference image is currently represented as a floating point data type in the range [0, 1] so we first convert the array to 8-bit unsigned integers in the range [0, 255] (Line 26) before we can further process it using OpenCV."
      ],
      "metadata": {
        "id": "9wGGjbr-Fps1"
      }
    },
    {
      "cell_type": "markdown",
      "source": [
        "##### 3.2.2. Test SSIM avec une banque d'images"
      ],
      "metadata": {
        "id": "9GX4YnDyllaO"
      }
    },
    {
      "cell_type": "code",
      "source": [
        "from skimage.metrics import structural_similarity as compare_ssim\n",
        "import argparse\n",
        "import imutils\n",
        "import cv2\n",
        "import shutil\n",
        "\n",
        "def pathImg(nb_random):\n",
        "  if nb_random < 10:\n",
        "    return fpath + \"/000\" + str(nb_random) + \".png\"\n",
        "  else:\n",
        "    return fpath + \"/00\" + str(nb_random) + \".png\"\n",
        "\n",
        "for folder_name in (\"normal\", \"malade\"):\n",
        "    folder_path = os.path.join(\"/tmp/COVID_crop\", folder_name)\n",
        "    for fname in os.listdir(folder_path):\n",
        "        fpath = os.path.join(folder_path, fname)\n",
        "        if len(os.listdir(fpath)) > 70:\n",
        "            compteur_img_suppr = len(os.listdir(fpath)) - 70\n",
        "            while compteur_img_suppr != 0:\n",
        "\n",
        "                # choix des images à comparer, numérotées entre 0001 et 0001 < nb_random < (nb_images_dans_scan - 1)\n",
        "                nb_random = np.random.randint(1, len(os.listdir(fpath)) - 1)\n",
        "                path_image1 = pathImg(nb_random)\n",
        "                if os.path.exists(pathImg(nb_random + 1)):\n",
        "                  path_image2 = pathImg(nb_random + 1)\n",
        "                else:\n",
        "                  path_image2 = pathImg(nb_random - 1)\n",
        "\n",
        "                #------------- comparaison des 2 images successives -------------\n",
        "                # load the two input images\n",
        "                image1 = cv2.imread(path_image1)\n",
        "                image2 = cv2.imread(path_image2)\n",
        "                print(\"\\nImage1\")\n",
        "                print(\"Path : \", path_image1)\n",
        "                print(\"Shape : \", image1.shape)\n",
        "                print(\"Image2\")\n",
        "                print(\"Path : \", path_image2)\n",
        "                print(\"Shape : \", image2.shape)\n",
        "                print(\"\\n\")\n",
        "\n",
        "                # compute the Structural Similarity Index (SSIM) between the two\n",
        "                # images, ensuring that the difference image is returned\n",
        "                (score, diff) = compare_ssim(image1, image2, full=True, multichannel=True)\n",
        "                diff = (diff * 255).astype(\"uint8\")\n",
        "                print(\"SSIM: {}\".format(score))\n",
        "\n",
        "                # suppression de l'image1 si SSIM > 0.80 (très similaires)\n",
        "                if score > 0.80 and compteur_img_suppr != 0 :\n",
        "                    compteur_img_suppr -= 1\n",
        "                    while os.path.exists(path_image1):\n",
        "                        os.remove(path_image1)"
      ],
      "metadata": {
        "colab": {
          "base_uri": "https://localhost:8080/",
          "height": 1000
        },
        "id": "BfnzI-C8l1xV",
        "outputId": "2ba5b786-11e8-4f15-a664-39a870363dbc"
      },
      "execution_count": null,
      "outputs": [
        {
          "output_type": "stream",
          "name": "stdout",
          "text": [
            "\n",
            "Image1\n",
            "Path :  /tmp/COVID_crop/normal/419/0024.png\n",
            "Shape :  (128, 128, 3)\n",
            "Image2\n",
            "Path :  /tmp/COVID_crop/normal/419/0025.png\n",
            "Shape :  (128, 128, 3)\n",
            "\n",
            "\n",
            "SSIM: 0.904409367736207\n",
            "\n",
            "Image1\n",
            "Path :  /tmp/COVID_crop/normal/419/0004.png\n",
            "Shape :  (128, 128, 3)\n",
            "Image2\n",
            "Path :  /tmp/COVID_crop/normal/419/0005.png\n",
            "Shape :  (128, 128, 3)\n",
            "\n",
            "\n",
            "SSIM: 1.0\n",
            "\n",
            "Image1\n",
            "Path :  /tmp/COVID_crop/normal/419/0010.png\n",
            "Shape :  (128, 128, 3)\n",
            "Image2\n",
            "Path :  /tmp/COVID_crop/normal/419/0011.png\n",
            "Shape :  (128, 128, 3)\n",
            "\n",
            "\n",
            "SSIM: 0.9412929841249089\n",
            "\n",
            "Image1\n",
            "Path :  /tmp/COVID_crop/normal/419/0052.png\n",
            "Shape :  (128, 128, 3)\n",
            "Image2\n",
            "Path :  /tmp/COVID_crop/normal/419/0053.png\n",
            "Shape :  (128, 128, 3)\n",
            "\n",
            "\n",
            "SSIM: 0.939661531386789\n",
            "\n",
            "Image1\n",
            "Path :  /tmp/COVID_crop/normal/419/0037.png\n",
            "Shape :  (128, 128, 3)\n",
            "Image2\n",
            "Path :  /tmp/COVID_crop/normal/419/0038.png\n",
            "Shape :  (128, 128, 3)\n",
            "\n",
            "\n",
            "SSIM: 0.8970920000588736\n",
            "\n",
            "Image1\n",
            "Path :  /tmp/COVID_crop/normal/419/0037.png\n"
          ]
        },
        {
          "output_type": "error",
          "ename": "AttributeError",
          "evalue": "ignored",
          "traceback": [
            "\u001b[0;31m---------------------------------------------------------------------------\u001b[0m",
            "\u001b[0;31mAttributeError\u001b[0m                            Traceback (most recent call last)",
            "\u001b[0;32m<ipython-input-149-f843441c7819>\u001b[0m in \u001b[0;36m<module>\u001b[0;34m()\u001b[0m\n\u001b[1;32m     33\u001b[0m                 \u001b[0mprint\u001b[0m\u001b[0;34m(\u001b[0m\u001b[0;34m\"\\nImage1\"\u001b[0m\u001b[0;34m)\u001b[0m\u001b[0;34m\u001b[0m\u001b[0;34m\u001b[0m\u001b[0m\n\u001b[1;32m     34\u001b[0m                 \u001b[0mprint\u001b[0m\u001b[0;34m(\u001b[0m\u001b[0;34m\"Path : \"\u001b[0m\u001b[0;34m,\u001b[0m \u001b[0mpath_image1\u001b[0m\u001b[0;34m)\u001b[0m\u001b[0;34m\u001b[0m\u001b[0;34m\u001b[0m\u001b[0m\n\u001b[0;32m---> 35\u001b[0;31m                 \u001b[0mprint\u001b[0m\u001b[0;34m(\u001b[0m\u001b[0;34m\"Shape : \"\u001b[0m\u001b[0;34m,\u001b[0m \u001b[0mimage1\u001b[0m\u001b[0;34m.\u001b[0m\u001b[0mshape\u001b[0m\u001b[0;34m)\u001b[0m\u001b[0;34m\u001b[0m\u001b[0;34m\u001b[0m\u001b[0m\n\u001b[0m\u001b[1;32m     36\u001b[0m                 \u001b[0mprint\u001b[0m\u001b[0;34m(\u001b[0m\u001b[0;34m\"Image2\"\u001b[0m\u001b[0;34m)\u001b[0m\u001b[0;34m\u001b[0m\u001b[0;34m\u001b[0m\u001b[0m\n\u001b[1;32m     37\u001b[0m                 \u001b[0mprint\u001b[0m\u001b[0;34m(\u001b[0m\u001b[0;34m\"Path : \"\u001b[0m\u001b[0;34m,\u001b[0m \u001b[0mpath_image2\u001b[0m\u001b[0;34m)\u001b[0m\u001b[0;34m\u001b[0m\u001b[0;34m\u001b[0m\u001b[0m\n",
            "\u001b[0;31mAttributeError\u001b[0m: 'NoneType' object has no attribute 'shape'"
          ]
        }
      ]
    },
    {
      "cell_type": "code",
      "source": [
        "visualisation(True, False, True)"
      ],
      "metadata": {
        "id": "sYDkNSjk4-m8"
      },
      "execution_count": null,
      "outputs": []
    },
    {
      "cell_type": "markdown",
      "source": [
        "# IV - Etude de la distribution des données \"normalisées\""
      ],
      "metadata": {
        "id": "mycqzOVMmPiQ"
      }
    },
    {
      "cell_type": "markdown",
      "source": [
        "# V - Phase d'entrainement du modèle\n",
        "\n"
      ],
      "metadata": {
        "id": "daaxyQx4kBxt"
      }
    }
  ]
}