{
  "nbformat": 4,
  "nbformat_minor": 0,
  "metadata": {
    "colab": {
      "name": "Infection_pulmonaire.ipynb",
      "provenance": [],
      "collapsed_sections": [
        "aztuEg56Ei65",
        "9GX4YnDyllaO"
      ],
      "include_colab_link": true
    },
    "kernelspec": {
      "name": "python3",
      "display_name": "Python 3"
    },
    "language_info": {
      "name": "python"
    }
  },
  "cells": [
    {
      "cell_type": "markdown",
      "metadata": {
        "id": "view-in-github",
        "colab_type": "text"
      },
      "source": [
        "<a href=\"https://colab.research.google.com/github/quent1fvr/Infection_pulmonaire/blob/Reda/Infection_pulmonaire.ipynb\" target=\"_parent\"><img src=\"https://colab.research.google.com/assets/colab-badge.svg\" alt=\"Open In Colab\"/></a>"
      ]
    },
    {
      "cell_type": "markdown",
      "source": [
        "# **0 - Importation des données**"
      ],
      "metadata": {
        "id": "aztuEg56Ei65"
      }
    },
    {
      "cell_type": "code",
      "execution_count": 29,
      "metadata": {
        "colab": {
          "base_uri": "https://localhost:8080/"
        },
        "id": "f625KFIVDHRn",
        "outputId": "0188a1be-35b1-450b-b06f-ecfa2f9196f6"
      },
      "outputs": [
        {
          "output_type": "stream",
          "name": "stdout",
          "text": [
            "Drive already mounted at /content/drive; to attempt to forcibly remount, call drive.mount(\"/content/drive\", force_remount=True).\n"
          ]
        }
      ],
      "source": [
        "from google.colab import drive\n",
        "drive.mount('/content/drive')"
      ]
    },
    {
      "cell_type": "code",
      "source": [
        "import tensorflow as tf\n",
        "import keras\n",
        "import zipfile\n",
        "import os\n",
        "\n",
        "zip_ref = zipfile.ZipFile('/content/drive/MyDrive/UV PROJET P6/COVID_dataset.zip', 'r') # Opens the zip file in read mode\n",
        "zip_ref.extractall('/tmp') # Extracts the files into the /tmp folder\n",
        "zip_ref.close()"
      ],
      "metadata": {
        "id": "KEis7wo1IkTr"
      },
      "execution_count": 30,
      "outputs": []
    },
    {
      "cell_type": "markdown",
      "source": [
        "# **I - Etude de la distribution des données \"brutes\"**"
      ],
      "metadata": {
        "id": "dhkme7Bmkc2g"
      }
    },
    {
      "cell_type": "markdown",
      "source": [
        "### I - 1. Code pour la visualisation générale du jeu de données"
      ],
      "metadata": {
        "id": "-BXZ_C3DYfpv"
      }
    },
    {
      "cell_type": "code",
      "source": [
        "import numpy as np\n",
        "import matplotlib.pyplot as plt\n",
        "import pandas as pd\n",
        "\n",
        "def visualisation(infoGen, infoHisto, infoMoy):\n",
        "  \n",
        "  tab_normal = []\n",
        "  tab_malade = []\n",
        "  nb_img_total = 0\n",
        "  nb_img_normal = 0\n",
        "  nb_img_malade = 0\n",
        "  path_normal = '/tmp/COVID_crop/normal'\n",
        "  path_malade = '/tmp/COVID_crop/malade'\n",
        "\n",
        "  for base in os.walk(path_normal):\n",
        "    #print('folder \"', base[0], '\" containing ', len(base[2]), ' files')\n",
        "    tab_normal.append(len(base[2]))\n",
        "    nb_img_total += len(base[2])\n",
        "    nb_img_normal += len(base[2])\n",
        "  tab_normal.pop(0)\n",
        "  tab_normal.sort()\n",
        "  #print(tab_normal)\n",
        "  for base in os.walk(path_malade):\n",
        "    #print('folder \"', base[0], '\" containing ', len(base[2]), ' files')\n",
        "    tab_malade.append(len(base[2]))\n",
        "    nb_img_total += len(base[2])    \n",
        "    nb_img_malade += len(base[2])\n",
        "  tab_malade.pop(0)\n",
        "  tab_malade.sort()\n",
        "  #print(tab_malade)\n",
        "\n",
        "  #---------- infos générales ----------\n",
        "  if infoGen == True:\n",
        "    print(\"\\n---------- infos générales ----------\\n\")\n",
        "    print('Nombre de scans cas \"normale\" :', len(os.listdir('/tmp/COVID_crop/normal')))\n",
        "    print('Nombre de scans cas \"malade\" :', len(os.listdir('/tmp/COVID_crop/malade')))\n",
        "    print('''\\nNombre d'images cas \"normal\" :''', nb_img_normal)\n",
        "    print('''Nombre d'images cas \"malade\" :''', nb_img_malade)\n",
        "    print('''Nombre d'images total :''', nb_img_total)\n",
        "    x = np.array([len(os.listdir(path_normal)), len(os.listdir(path_malade))])\n",
        "    labels = ['normal', 'malade']\n",
        "    colors = {'normal': 'chartreuse','malade': 'teal' }\n",
        "    plt.pie(x, labels=labels, autopct='%.0f%%', radius=0.8, colors=[colors[key] for key in labels], textprops={'fontsize': 18})\n",
        "    plt.show()\n",
        "\n",
        "  #---------- histogramme ----------\n",
        "  if infoHisto == True:\n",
        "    print(\"\\n---------- histogramme ----------\\n\")\n",
        "    plt.figure(figsize=(10, 10))\n",
        "    x0 = tab_normal\n",
        "    x1 = tab_malade\n",
        "    plt.hist(x0, alpha=0.6, align=\"mid\", label=\"Distribution du nombre d'images par scan normal\")\n",
        "    plt.hist(x1, alpha=0.6, align=\"mid\", label=\"Distribution du nombre d'images par scan malade\")\n",
        "    plt.legend(loc='lower right')\n",
        "    plt.xlabel(\"Nombres d'images par scan\")\n",
        "    plt.ylabel(\"Occurences\")\n",
        "    plt.show()\n",
        "\n",
        "  #---------- infos sur les moyennes ----------\n",
        "  if infoMoy == True:\n",
        "    print(\"\\n---------- infos sur les moyennes ----------\\n\")\n",
        "    x0_mean = np.mean(tab_normal)\n",
        "    x1_mean = np.mean(tab_malade)\n",
        "    tot_mean = (nb_img_normal/nb_img_total)*x0_mean + (nb_img_malade/nb_img_total)*x1_mean\n",
        "    print('''Moyenne d'images pour les scans cas \"normal\" :''', x0_mean)\n",
        "    print('''Moyenne d'images pour les scans cas \"malade\" :''', x1_mean)\n",
        "    print('''Moyenne d'images pour tous les scans confondus :''', tot_mean)"
      ],
      "metadata": {
        "id": "i5y7ZX5qioJV"
      },
      "execution_count": 64,
      "outputs": []
    },
    {
      "cell_type": "markdown",
      "source": [
        "### I - 2. Analyse du jeu de données \"brutes\""
      ],
      "metadata": {
        "id": "H0wSAiQpYoQG"
      }
    },
    {
      "cell_type": "code",
      "source": [
        "visualisation(True, True, True)"
      ],
      "metadata": {
        "id": "CV3ckHAwJCT2"
      },
      "execution_count": null,
      "outputs": []
    },
    {
      "cell_type": "markdown",
      "source": [
        "Selon cette première visualisation du jeu de données \"brutes\", nous remarquons plusieurs points sur lequels nous pouvons travailler afin d'obtenir un jeu  plus lisible pour l'algorithme de deep learning que nous implémenterons par la suite. En effet, selon l'histogramme regroupant l'ensemble des scans de personnes malades et normales, nous pouvons observer : \n",
        "\n",
        "1. D'une part, une distribution du nombre d'images par scan assez étalée avec des cas extrêmes inexploitables à ignorer : ~10 ou +600 images par scan\n",
        "2. D'autre part, une moyenne du nombre d'images par scan différente et non précise pour les deux cas :\n",
        "  *   🤒 \"malade\" avec 2 pics d'occurences pour des scans contenant ~60 et ~140 images\n",
        "  *   🙂 \"normal\" avec des pics aux alentours de 90 images par scan"
      ],
      "metadata": {
        "id": "uhX4wM-_AOGv"
      }
    },
    {
      "cell_type": "markdown",
      "source": [
        "Ainsi, nous allons réaliser dans ***II.Padding des données*** un nettoyage et une standardisation du jeu de données pour permettre d'une part un traitement plus aisé, et d'autre part de réduire le poids de stockage. Nous aimerions ainsi obtenir un nombre fixé d'images par scan quelque soit le cas, pour tous les scans du jeu de données."
      ],
      "metadata": {
        "id": "XfpUS8gzK9PQ"
      }
    },
    {
      "cell_type": "markdown",
      "source": [
        "# **II - Padding des données**"
      ],
      "metadata": {
        "id": "IfwPgRE9J32q"
      }
    },
    {
      "cell_type": "markdown",
      "source": [
        "### II - 1. On élimine les scans contenant moins de 40 et plus de 100 images\n"
      ],
      "metadata": {
        "id": "vuoM54vQSQE0"
      }
    },
    {
      "cell_type": "code",
      "source": [
        "import shutil\n",
        "num_skipped = 0\n",
        "for folder_name in (\"normal\", \"malade\"):\n",
        "  folder_path = os.path.join(\"/tmp/COVID_crop\", folder_name)\n",
        "  for fname in os.listdir(folder_path):\n",
        "    fpath = os.path.join(folder_path, fname)\n",
        "    if len(os.listdir(fpath)) >= 100 or len(os.listdir(fpath)) <= 40:\n",
        "      num_skipped += 1\n",
        "      shutil.rmtree(fpath)\n",
        "print(\"Deleted %d scans\" % num_skipped)"
      ],
      "metadata": {
        "id": "JTEvBIHUHlWu"
      },
      "execution_count": null,
      "outputs": []
    },
    {
      "cell_type": "code",
      "source": [
        "visualisation(True, False, True)"
      ],
      "metadata": {
        "id": "mfJ1NZ2IeP23"
      },
      "execution_count": null,
      "outputs": []
    },
    {
      "cell_type": "markdown",
      "source": [
        "### II - 2. On comble les scans contenant moins de 70 images (Choix à faire)"
      ],
      "metadata": {
        "id": "BDKe1Ry-qgJJ"
      }
    },
    {
      "cell_type": "markdown",
      "source": [
        "#### II - 2.1. Méthode 1 : Comble par ajout d'images noires "
      ],
      "metadata": {
        "id": "C8qNw20TT8mo"
      }
    },
    {
      "cell_type": "code",
      "source": [
        "num_skipped = 0\n",
        "from PIL import Image\n",
        "for folder_name in (\"normal\", \"malade\"):\n",
        "  folder_path = os.path.join(\"/tmp/COVID_crop\", folder_name)\n",
        "  for fname in os.listdir(folder_path):\n",
        "    fpath = os.path.join(folder_path, fname)\n",
        "    if len(os.listdir(fpath)) < 70:\n",
        "      for i in range (70 - len(os.listdir(fpath))) : \n",
        "        new_im = Image.new('RGB', (128, 128), (0, 0, 0))\n",
        "        new_im.save(fpath + \"/Dark_image\" + str(i), \"PNG\")"
      ],
      "metadata": {
        "id": "NmKX_K7zUTN7"
      },
      "execution_count": 37,
      "outputs": []
    },
    {
      "cell_type": "code",
      "source": [
        "visualisation(True, False, True)"
      ],
      "metadata": {
        "id": "PkPqBoFDYWjX"
      },
      "execution_count": null,
      "outputs": []
    },
    {
      "cell_type": "markdown",
      "source": [
        "#### II - 2.2. Méthode 2 : Comble par copie d'images en partant du milieu du scan"
      ],
      "metadata": {
        "id": "ckOJCvGZ_xqc"
      }
    },
    {
      "cell_type": "code",
      "source": [
        "from skimage.metrics import structural_similarity as compare_ssim\n",
        "import argparse\n",
        "import imutils\n",
        "import cv2\n",
        "import shutil\n",
        "import os\n",
        "\n",
        "def pathImg(index_img):\n",
        "  if index_img < 10:\n",
        "    return fpath + \"/000\" + str(index_img) + \".png\"\n",
        "  else:\n",
        "    return fpath + \"/00\" + str(index_img) + \".png\"\n",
        "\n",
        "for folder_name in (\"normal\", \"malade\"):\n",
        "  folder_path = os.path.join(\"/tmp/COVID_crop\", folder_name)\n",
        "  for fname in os.listdir(folder_path):\n",
        "    fpath = os.path.join(folder_path, fname)\n",
        "    if len(os.listdir(fpath)) < 70:\n",
        "      \n",
        "      index_img1 = len(os.listdir(fpath))//2\n",
        "      while os.path.exists(pathImg(index_img1)) == False:\n",
        "        index_img1 += 1\n",
        "      else:\n",
        "        path_img1 = pathImg(index_img1)\n",
        "        path_img2 = path_img1[:-6] + str(int(path_img1[len(path_img1)-6: -4]) + 2) + \".png\"\n",
        "        shutil.copy2(path_img1, path_img2)\n",
        "        compteur_img_toAdd = 70 - len(os.listdir(fpath))\n",
        "        #print(path_img2)\n",
        "        #print(os.listdir(fpath))\n",
        "\n",
        "        while compteur_img_toAdd != 0:\n",
        "            \n",
        "          index_img1 += 2\n",
        "          path_img1 = pathImg(index_img1)\n",
        "          path_img2 = path_img1[:-6] + str(int(path_img1[len(path_img1)-6: -4]) + 2) + \".png\"\n",
        "          shutil.copy2(path_img1, path_img2)\n",
        "          compteur_img_toAdd -= 1"
      ],
      "metadata": {
        "id": "-6PpfT4PAcOc"
      },
      "execution_count": 39,
      "outputs": []
    },
    {
      "cell_type": "code",
      "source": [
        "visualisation(True, False, True)"
      ],
      "metadata": {
        "id": "FajX3ehqAcrg"
      },
      "execution_count": null,
      "outputs": []
    },
    {
      "cell_type": "markdown",
      "source": [
        "### II - 3. On élimine des images dans les scans contenant plus de 70 images (Choix à faire)"
      ],
      "metadata": {
        "id": "rV226LIarI1z"
      }
    },
    {
      "cell_type": "markdown",
      "source": [
        "#### II - 3.1. Méthode 1 : Elimination aléatoire"
      ],
      "metadata": {
        "id": "-3itKUcYj0uJ"
      }
    },
    {
      "cell_type": "code",
      "source": [
        "import shutil\n",
        "for folder_name in (\"normal\", \"malade\"):\n",
        "  folder_path = os.path.join(\"/tmp/COVID_crop\", folder_name)\n",
        "  for fname in os.listdir(folder_path):\n",
        "    fpath = os.path.join(folder_path, fname)\n",
        "    if len(os.listdir(fpath)) > 70:\n",
        "      for i in range(len(os.listdir(fpath)) - 70):\n",
        "        # suppression des images numérotées entre 0010 et 0010 < nb_random < nb_images_dans_scan\n",
        "        delete_path = fpath + \"/00\" + str(np.random.randint(10, len(os.listdir(fpath)))) + \".png\"\n",
        "        while os.path.exists(delete_path):\n",
        "          os.remove(delete_path)"
      ],
      "metadata": {
        "id": "cAXftNZsdBoT"
      },
      "execution_count": 41,
      "outputs": []
    },
    {
      "cell_type": "code",
      "source": [
        "visualisation(True, False, True)"
      ],
      "metadata": {
        "id": "LqStkwJuevuI"
      },
      "execution_count": null,
      "outputs": []
    },
    {
      "cell_type": "markdown",
      "source": [
        "#### II - 3.2. Méthode 2 : Elimination par comparaison SSIM"
      ],
      "metadata": {
        "id": "7_bhQqXxBl3A"
      }
    },
    {
      "cell_type": "markdown",
      "source": [
        "##### II - 3.2. Test & explications"
      ],
      "metadata": {
        "id": "5l1FEAc-ldMo"
      }
    },
    {
      "cell_type": "code",
      "source": [
        "from skimage.metrics import structural_similarity as compare_ssim\n",
        "import argparse\n",
        "import imutils\n",
        "import cv2\n",
        "\n",
        "path_image1 = \"/tmp/COVID_crop/normal/1/0022.png\"\n",
        "path_image2 = \"/tmp/COVID_crop/normal/1/0015.png\"\n",
        "\n",
        "# load the two input images\n",
        "imageA = cv2.imread(path_image1)\n",
        "imageB = cv2.imread(path_image2)\n",
        "\n",
        "# compute the Structural Similarity Index (SSIM) between the two\n",
        "# images, ensuring that the difference image is returned\n",
        "(score, diff) = compare_ssim(imageA, imageB, full=True, multichannel=True)\n",
        "diff = (diff * 255).astype(\"uint8\")\n",
        "print(\"SSIM(Score of similarity): {}\".format(score))\n",
        "\n",
        "from google.colab.patches import cv2_imshow\n",
        "# show the output images\n",
        "print(\"\\nImage 1 :\\n\")\n",
        "cv2_imshow(imageA)\n",
        "print(\"\\nImage 2 :\\n\")\n",
        "cv2_imshow(imageB)\n",
        "print(\"\\nDifférence :\\n\")\n",
        "cv2_imshow(diff)"
      ],
      "metadata": {
        "id": "4SkUH3MVB939",
        "colab": {
          "base_uri": "https://localhost:8080/",
          "height": 575
        },
        "outputId": "8262f025-b861-45df-836a-8f949a5263b2"
      },
      "execution_count": 43,
      "outputs": [
        {
          "output_type": "stream",
          "name": "stdout",
          "text": [
            "SSIM(Score of similarity): 0.6683536764047817\n",
            "\n",
            "Image 1 :\n",
            "\n"
          ]
        },
        {
          "output_type": "display_data",
          "data": {
            "text/plain": [
              "<PIL.Image.Image image mode=RGB size=128x128 at 0x7F16B3F79590>"
            ],
            "image/png": "[encoded data removed]"
          },
          "metadata": {}
        },
        {
          "output_type": "stream",
          "name": "stdout",
          "text": [
            "\n",
            "Image 2 :\n",
            "\n"
          ]
        },
        {
          "output_type": "display_data",
          "data": {
            "text/plain": [
              "<PIL.Image.Image image mode=RGB size=128x128 at 0x7F16B3F797D0>"
            ],
            "image/png": "[encoded data removed]"
          },
          "metadata": {}
        },
        {
          "output_type": "stream",
          "name": "stdout",
          "text": [
            "\n",
            "Différence :\n",
            "\n"
          ]
        },
        {
          "output_type": "display_data",
          "data": {
            "text/plain": [
              "<PIL.Image.Image image mode=RGB size=128x128 at 0x7F16B3F79110>"
            ],
            "image/png": "[encoded data removed]"
          },
          "metadata": {}
        }
      ]
    },
    {
      "cell_type": "markdown",
      "source": [
        "The ***score*** represents the structural similarity index between the two input images. This value can fall into the range [-1, 1] with a value of one being a “perfect match”.\n",
        "\n",
        "The ***diff*** image contains the actual image differences between the two input images that we wish to visualize. The difference image is currently represented as a floating point data type in the range [0, 1] so we first convert the array to 8-bit unsigned integers in the range [0, 255] (Line 26) before we can further process it using OpenCV."
      ],
      "metadata": {
        "id": "9wGGjbr-Fps1"
      }
    },
    {
      "cell_type": "markdown",
      "source": [
        ""
      ],
      "metadata": {
        "id": "9GX4YnDyllaO"
      }
    },
    {
      "cell_type": "markdown",
      "source": [
        "##### II - 3.2. Methode"
      ],
      "metadata": {
        "id": "HYpc-spqgQqS"
      }
    },
    {
      "cell_type": "code",
      "source": [
        "from skimage.metrics import structural_similarity as compare_ssim\n",
        "import argparse\n",
        "import imutils\n",
        "import cv2\n",
        "import shutil\n",
        "\n",
        "def pathImg(index_img):\n",
        "  if index_img < 10:\n",
        "    return fpath + \"/000\" + str(index_img) + \".png\"\n",
        "  else:\n",
        "    return fpath + \"/00\" + str(index_img) + \".png\"\n",
        "\n",
        "for folder_name in (\"normal\", \"malade\"):\n",
        "  folder_path = os.path.join(\"/tmp/COVID_crop\", folder_name)\n",
        "  for fname in os.listdir(folder_path):\n",
        "    fpath = os.path.join(folder_path, fname)\n",
        "    if len(os.listdir(fpath)) > 70:\n",
        "      compteur_img_toDel = len(os.listdir(fpath)) - 70\n",
        "      while compteur_img_toDel != 0:\n",
        "\n",
        "        # ---------- choix des images à comparer ----------\n",
        "        \n",
        "        # choix index image1\n",
        "        # sachant que les images sont numérotées entre 0001 et 0***\n",
        "        # méthode : choix random de l'index\n",
        "        \n",
        "        index_img1 = np.random.randint(1, len(os.listdir(fpath)) - 1)\n",
        "        while os.path.exists(pathImg(index_img1)) == False:\n",
        "          index_img1 = np.random.randint(1, len(os.listdir(fpath)) - 1)\n",
        "        else:\n",
        "          path_img1 = pathImg(index_img1)\n",
        "\n",
        "        # choix index image2\n",
        "        # sachant qu'elle doit être la plus proche voisine de l'image1\n",
        "        # méthode : recherche de l'index le plus proche supérieur\n",
        "        \n",
        "        index_img2 = index_img1 + 1                \n",
        "        while os.path.exists(pathImg(index_img2)) == False:\n",
        "          index_img2 += 1\n",
        "        else:\n",
        "          path_img2 = pathImg(index_img2)\n",
        "\n",
        "        # ------------- comparaison des 2 images successives -------------\n",
        "        \n",
        "        image1 = cv2.imread(path_img1)\n",
        "        image2 = cv2.imread(path_img2)\n",
        "        #print(\"\\nImage1\\nPath : \", path_img1, \"\\nShape : \", image1.shape)\n",
        "        #print(\"Image2\\nPath : \", path_img2, \"\\nShape : \", image2.shape, \"\\n\")\n",
        "        (score, diff) = compare_ssim(image1, image2, full=True, multichannel=True)\n",
        "        diff = (diff * 255).astype(\"uint8\")\n",
        "        #print(fpath, compteur_img_toDel, \"SSIM: {}\".format(score))\n",
        "\n",
        "        # ---------- suppression de l'image1 ----------\n",
        "        \n",
        "        # critère : SSIM > 0.80 (images très similaires)\n",
        "        if score > 0.80 and compteur_img_toDel != 0 :\n",
        "          compteur_img_toDel -= 1\n",
        "          while os.path.exists(path_img1):\n",
        "            os.remove(path_img1)"
      ],
      "metadata": {
        "id": "BfnzI-C8l1xV"
      },
      "execution_count": 44,
      "outputs": []
    },
    {
      "cell_type": "code",
      "source": [
        "visualisation(True, False, True)"
      ],
      "metadata": {
        "id": "sYDkNSjk4-m8"
      },
      "execution_count": null,
      "outputs": []
    },
    {
      "cell_type": "markdown",
      "source": [
        "Attention méthode SSIM moyen car des images toutes noires sont plus similaires à d'autres \"moyenne\" que deux \"moyennes\" entre elles..."
      ],
      "metadata": {
        "id": "Jp8tHYKBtYkR"
      }
    },
    {
      "cell_type": "markdown",
      "source": [
        "# **III - Etude de la distribution des données \"normalisées\"**"
      ],
      "metadata": {
        "id": "mycqzOVMmPiQ"
      }
    },
    {
      "cell_type": "code",
      "source": [
        "# faire un truc du type, en créant des fonctions pour chaque type de padding des données dans la partie précédente\n",
        "'''padding(ecremageGrossier, remplissageScansMethode1, epurationScansMethode1)'''"
      ],
      "metadata": {
        "id": "0Jx0i9ygeVAE"
      },
      "execution_count": null,
      "outputs": []
    },
    {
      "cell_type": "code",
      "source": [
        "visualisation(True, True, True)"
      ],
      "metadata": {
        "id": "DoJiEi6FZcNG"
      },
      "execution_count": null,
      "outputs": []
    },
    {
      "cell_type": "markdown",
      "source": [
        "# **IV - Phase d'entrainement du modèle**\n",
        "\n"
      ],
      "metadata": {
        "id": "daaxyQx4kBxt"
      }
    }
  ]
}