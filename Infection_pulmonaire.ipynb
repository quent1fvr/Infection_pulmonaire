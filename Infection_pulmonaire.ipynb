{
  "nbformat": 4,
  "nbformat_minor": 0,
  "metadata": {
    "colab": {
      "name": "Infection_pulmonaire.ipynb",
      "provenance": [],
      "collapsed_sections": [
        "aztuEg56Ei65",
        "dhkme7Bmkc2g",
        "vuoM54vQSQE0",
        "C8qNw20TT8mo",
        "ckOJCvGZ_xqc",
        "-3itKUcYj0uJ",
        "5l1FEAc-ldMo",
        "9GX4YnDyllaO",
        "HYpc-spqgQqS",
        "mycqzOVMmPiQ"
      ],
      "include_colab_link": true
    },
    "kernelspec": {
      "name": "python3",
      "display_name": "Python 3"
    },
    "language_info": {
      "name": "python"
    },
    "accelerator": "GPU"
  },
  "cells": [
    {
      "cell_type": "markdown",
      "metadata": {
        "id": "view-in-github",
        "colab_type": "text"
      },
      "source": [
        "<a href=\"https://colab.research.google.com/github/quent1fvr/Infection_pulmonaire/blob/Reda/Infection_pulmonaire.ipynb\" target=\"_parent\"><img src=\"https://colab.research.google.com/assets/colab-badge.svg\" alt=\"Open In Colab\"/></a>"
      ]
    },
    {
      "cell_type": "markdown",
      "source": [
        "# I - Importation des données"
      ],
      "metadata": {
        "id": "aztuEg56Ei65"
      }
    },
    {
      "cell_type": "code",
      "execution_count": 1,
      "metadata": {
        "colab": {
          "base_uri": "https://localhost:8080/"
        },
        "id": "f625KFIVDHRn",
        "outputId": "6a8a02d2-068d-4167-8a90-13379264b8c7"
      },
      "outputs": [
        {
          "output_type": "stream",
          "name": "stdout",
          "text": [
            "Mounted at /content/drive\n"
          ]
        }
      ],
      "source": [
        "from google.colab import drive\n",
        "drive.mount('/content/drive')"
      ]
    },
    {
      "cell_type": "code",
      "source": [
        "import tensorflow as tf\n",
        "import keras\n",
        "import zipfile\n",
        "import os\n",
        "\n",
        "zip_ref = zipfile.ZipFile('/content/drive/MyDrive/UV PROJET P6/COVID_dataset.zip', 'r') # Opens the zip file in read mode\n",
        "zip_ref.extractall('/tmp') # Extracts the files into the /tmp folder\n",
        "zip_ref.close()"
      ],
      "metadata": {
        "id": "KEis7wo1IkTr"
      },
      "execution_count": null,
      "outputs": []
    },
    {
      "cell_type": "markdown",
      "source": [
        "# II - Etude de la distribution des données \"brutes\""
      ],
      "metadata": {
        "id": "dhkme7Bmkc2g"
      }
    },
    {
      "cell_type": "code",
      "source": [
        "import numpy as np\n",
        "import matplotlib.pyplot as plt\n",
        "import pandas as pd\n",
        "\n",
        "#--------------------------------- Visualisation des données --------------------------------- \n",
        "\n",
        "def visualisation(infoGen, infoHisto, infoMoy):\n",
        "  \n",
        "    tab_normal = []\n",
        "    tab_malade = []\n",
        "    nb_total_img = 0\n",
        "    path_normal = '/tmp/COVID_crop/normal'\n",
        "    path_malade = '/tmp/COVID_crop/malade'\n",
        "\n",
        "    for base in os.walk(path_normal):\n",
        "        #print('folder \"', base[0], '\" containing ', len(base[2]), ' files')\n",
        "        tab_normal.append(len(base[2]))\n",
        "        nb_total_img += len(base[2])\n",
        "    tab_normal.pop(0)\n",
        "    tab_normal.sort()\n",
        "    #print(tab_normal)\n",
        "    for base in os.walk(path_malade):\n",
        "        #print('folder \"', base[0], '\" containing ', len(base[2]), ' files')\n",
        "        tab_malade.append(len(base[2]))\n",
        "        nb_total_img += len(base[2])\n",
        "    tab_malade.pop(0)\n",
        "    tab_malade.sort()\n",
        "    #print(tab_malade)\n",
        "\n",
        "    #---------- infos générales ----------\n",
        "    if infoGen == True:\n",
        "      print(\"---------- infos générales ----------\\n\")\n",
        "      print(\"Nombre de scans de personnes normales :\", len(os.listdir('/tmp/COVID_crop/normal')))\n",
        "      print(\"Nombre de scans de personnes malades :\", len(os.listdir('/tmp/COVID_crop/malade')))\n",
        "      print(\"Nombre d'images :\", nb_total_img)\n",
        "      x = np.array([len(os.listdir(path_normal)), len(os.listdir(path_malade))])\n",
        "      labels = ['normal', 'malade']\n",
        "      colors = {'normal': 'chartreuse','malade': 'teal' }\n",
        "      plt.pie(x, labels=labels, autopct='%.0f%%', radius=1.5, colors=[colors[key] for key in labels], textprops={'fontsize': 18})\n",
        "      plt.show()\n",
        "\n",
        "    #---------- histogrammes ----------\n",
        "    if infoHisto == True:\n",
        "      print(\"\\n---------- histogrammes ----------\\n\")\n",
        "      plt.figure(figsize=(10, 10))\n",
        "      x0 = tab_normal\n",
        "      x1 = tab_malade\n",
        "      bins = max(len(x0), len(x1))\n",
        "      plt.hist(x0, bins, alpha=0.8, label=\"Distribution du nombre d'images par scan normal\")\n",
        "      plt.hist(x1, bins, alpha=0.8, label=\"Distribution du nombre d'images par scan malade\")\n",
        "      plt.legend(loc='lower right')\n",
        "      plt.xlabel(\"Nombres d'images par scan\")\n",
        "      plt.ylabel(\"Occurences\")\n",
        "      plt.show()\n",
        "\n",
        "    #---------- infos sur les moyennes ----------\n",
        "    if infoMoy == True:\n",
        "      print(\"\\n---------- infos sur les moyennes ----------\\n\")\n",
        "      x0_mean = np.mean(tab_normal)\n",
        "      x1_mean = np.mean(tab_malade)\n",
        "      avg = (59*x0_mean + 41*x1_mean)/100\n",
        "      print(\"Moyenne d'images pour les scans de personnes normales :\", x0_mean)\n",
        "      print(\"Moyenne d'images pour les scans de personnes malades :\", x1_mean)\n",
        "      print(\"Moyenne d'images pour tous les scans confondus :\", avg)"
      ],
      "metadata": {
        "id": "i5y7ZX5qioJV"
      },
      "execution_count": 194,
      "outputs": []
    },
    {
      "cell_type": "code",
      "source": [
        "visualisation(True, True, True)"
      ],
      "metadata": {
        "id": "CV3ckHAwJCT2"
      },
      "execution_count": null,
      "outputs": []
    },
    {
      "cell_type": "markdown",
      "source": [
        "# III - Padding des données"
      ],
      "metadata": {
        "id": "IfwPgRE9J32q"
      }
    },
    {
      "cell_type": "markdown",
      "source": [
        "### 1. On élimine les scans contenant moins de 40 et plus de 100 images\n"
      ],
      "metadata": {
        "id": "vuoM54vQSQE0"
      }
    },
    {
      "cell_type": "code",
      "source": [
        "import shutil\n",
        "num_skipped = 0\n",
        "for folder_name in (\"normal\", \"malade\"):\n",
        "    folder_path = os.path.join(\"/tmp/COVID_crop\", folder_name)\n",
        "    for fname in os.listdir(folder_path):\n",
        "        fpath = os.path.join(folder_path, fname)\n",
        "        if len(os.listdir(fpath)) > 100 or len(os.listdir(fpath)) < 40:\n",
        "            num_skipped += 1\n",
        "            shutil.rmtree(fpath)\n",
        "\n",
        "print(\"Deleted %d scans\" % num_skipped)"
      ],
      "metadata": {
        "colab": {
          "base_uri": "https://localhost:8080/"
        },
        "id": "JTEvBIHUHlWu",
        "outputId": "c10ba7c4-861e-4f0d-d3da-8ed74b8b5b54"
      },
      "execution_count": 199,
      "outputs": [
        {
          "output_type": "stream",
          "name": "stdout",
          "text": [
            "Deleted 1016 scans\n"
          ]
        }
      ]
    },
    {
      "cell_type": "code",
      "source": [
        "visualisation(True, True, True)"
      ],
      "metadata": {
        "colab": {
          "base_uri": "https://localhost:8080/",
          "height": 1000
        },
        "id": "347tkXIIPzaU",
        "outputId": "64e528f8-d96a-4483-f930-5db8127fd8ae"
      },
      "execution_count": 200,
      "outputs": [
        {
          "output_type": "stream",
          "name": "stdout",
          "text": [
            "---------- infos générales ----------\n",
            "\n",
            "Nombre de scans de personnes normales : 814\n",
            "Nombre de scans de personnes malades : 792\n",
            "Nombre d'images : 121605\n"
          ]
        },
        {
          "output_type": "display_data",
          "data": {
            "text/plain": [
              "<Figure size 432x288 with 1 Axes>"
            ],
            "image/png": "[encoded data removed]"
          },
          "metadata": {}
        },
        {
          "output_type": "stream",
          "name": "stdout",
          "text": [
            "\n",
            "---------- histogrammes ----------\n",
            "\n"
          ]
        },
        {
          "output_type": "display_data",
          "data": {
            "text/plain": [
              "<Figure size 720x720 with 1 Axes>"
            ],
            "image/png": "[encoded data removed]"
          },
          "metadata": {
            "needs_background": "light"
          }
        },
        {
          "output_type": "stream",
          "name": "stdout",
          "text": [
            "\n",
            "---------- infos sur les moyennes ----------\n",
            "\n",
            "Moyenne d'images pour les scan de personnes normales : 80.83046683046683\n",
            "Moyenne d'images pour les scan de personnes malades : 70.4659090909091\n",
            "Moyenne d'images pour tous les scans confondus : 76.58099815724816\n"
          ]
        }
      ]
    },
    {
      "cell_type": "markdown",
      "source": [
        "### 2. On comble les scans contenant moins de 70 images (Choix à faire)"
      ],
      "metadata": {
        "id": "BDKe1Ry-qgJJ"
      }
    },
    {
      "cell_type": "markdown",
      "source": [
        "#### 2.1. Méthode 1 : Comble par ajout d'images noires "
      ],
      "metadata": {
        "id": "C8qNw20TT8mo"
      }
    },
    {
      "cell_type": "code",
      "source": [
        "num_skipped = 0\n",
        "from PIL import Image\n",
        "for folder_name in (\"normal\", \"malade\"):\n",
        "    folder_path = os.path.join(\"/tmp/COVID_crop\", folder_name)\n",
        "    for fname in os.listdir(folder_path):\n",
        "        fpath = os.path.join(folder_path, fname)\n",
        "        if len(os.listdir(fpath)) < 70:\n",
        "            for i in range (70 - len(os.listdir(fpath))) : \n",
        "                new_im = Image.new('RGB', (128, 128), (0, 0, 0))\n",
        "                new_im.save(fpath + \"/Dark_image\" + str(i), \"PNG\")"
      ],
      "metadata": {
        "id": "NmKX_K7zUTN7"
      },
      "execution_count": 179,
      "outputs": []
    },
    {
      "cell_type": "code",
      "source": [
        "visualisation(True, False, True)"
      ],
      "metadata": {
        "id": "6CkvCF5ucpyx"
      },
      "execution_count": null,
      "outputs": []
    },
    {
      "cell_type": "markdown",
      "source": [
        "#### 2.2. Méthode 2 : Comble par copie d'images \"intéressantes\"\n"
      ],
      "metadata": {
        "id": "ckOJCvGZ_xqc"
      }
    },
    {
      "cell_type": "code",
      "source": [
        "from skimage.metrics import structural_similarity as compare_ssim\n",
        "import argparse\n",
        "import imutils\n",
        "import cv2\n",
        "import shutil\n",
        "\n",
        "def pathImg(index_img):\n",
        "  if index_img < 10:\n",
        "    return fpath + \"/000\" + str(index_img) + \".png\"\n",
        "  else:\n",
        "    return fpath + \"/00\" + str(index_img) + \".png\"\n",
        "\n",
        "for folder_name in (\"normal\", \"malade\"):\n",
        "    folder_path = os.path.join(\"/tmp/COVID_crop\", folder_name)\n",
        "    for fname in os.listdir(folder_path):\n",
        "        fpath = os.path.join(folder_path, fname)\n",
        "        if len(os.listdir(fpath)) < 70:\n",
        "            ''' choix index première image à copier\n",
        "            méthode1 : choix de l'index à la moyenne inférieur du scan\n",
        "            '''\n",
        "            index_img1 = len(os.listdir(fpath))//2\n",
        "            path_img1 = pathImg(index_img1)\n",
        "            path_img2 = path_img1[:-2] + str(int(path_img1[len(path_img1)-2:]) + 2)\n",
        "            shutil.copyfile(path_img1, path_img2)\n",
        "            \n",
        "            compteur_img_toAdd = 70 - len(os.listdir(fpath))\n",
        "\n",
        "            while compteur_img_toAdd != 0:\n",
        "                \n",
        "                index_img1 += 2\n",
        "                path_img1 = pathImg(index_img1)\n",
        "                path_img2 = path_img1[:-2] + str(int(path_img1[len(path_img1)-2:]) + 2)\n",
        "                shutil.copyfile(path_img1, path_img2)\n",
        "                compteur_img_toAdd -= 1\n"
      ],
      "metadata": {
        "id": "-6PpfT4PAcOc"
      },
      "execution_count": 181,
      "outputs": []
    },
    {
      "cell_type": "code",
      "source": [
        "visualisation(True, False, True)"
      ],
      "metadata": {
        "id": "FajX3ehqAcrg"
      },
      "execution_count": null,
      "outputs": []
    },
    {
      "cell_type": "markdown",
      "source": [
        "### 3. On élimine des images dans les scans contenant plus de 70 images (Choix à faire)"
      ],
      "metadata": {
        "id": "rV226LIarI1z"
      }
    },
    {
      "cell_type": "markdown",
      "source": [
        "#### 3.1. Méthode 1 : Elimination aléatoire"
      ],
      "metadata": {
        "id": "-3itKUcYj0uJ"
      }
    },
    {
      "cell_type": "code",
      "source": [
        "import shutil\n",
        "for folder_name in (\"normal\", \"malade\"):\n",
        "    folder_path = os.path.join(\"/tmp/COVID_crop\", folder_name)\n",
        "    for fname in os.listdir(folder_path):\n",
        "        fpath = os.path.join(folder_path, fname)\n",
        "        if len(os.listdir(fpath)) > 70:\n",
        "            for i in range(len(os.listdir(fpath)) - 70):\n",
        "                # suppression des images numérotées entre 0010 et 0010 < nb_random < nb_images_dans_scan\n",
        "                delete_path = fpath + \"/00\" + str(np.random.randint(10, len(os.listdir(fpath)))) + \".png\"\n",
        "                while os.path.exists(delete_path):\n",
        "                    os.remove(delete_path)"
      ],
      "metadata": {
        "id": "cAXftNZsdBoT"
      },
      "execution_count": null,
      "outputs": []
    },
    {
      "cell_type": "code",
      "source": [
        "visualisation(True, False, True)"
      ],
      "metadata": {
        "id": "LqStkwJuevuI"
      },
      "execution_count": null,
      "outputs": []
    },
    {
      "cell_type": "markdown",
      "source": [
        "#### 3.2. Méthode 2 : Elimination par comparaison MSE & SSIM"
      ],
      "metadata": {
        "id": "7_bhQqXxBl3A"
      }
    },
    {
      "cell_type": "markdown",
      "source": [
        "##### Test"
      ],
      "metadata": {
        "id": "5l1FEAc-ldMo"
      }
    },
    {
      "cell_type": "code",
      "source": [
        "from skimage.metrics import structural_similarity as compare_ssim\n",
        "import argparse\n",
        "import imutils\n",
        "import cv2\n",
        "\n",
        "path_image1 = \"/tmp/COVID_crop/normal/1/0022.png\"\n",
        "path_image2 = \"/tmp/COVID_crop/normal/1/0015.png\"\n",
        "\n",
        "# load the two input images\n",
        "imageA = cv2.imread(path_image1)\n",
        "imageB = cv2.imread(path_image2)\n",
        "\n",
        "# compute the Structural Similarity Index (SSIM) between the two\n",
        "# images, ensuring that the difference image is returned\n",
        "(score, diff) = compare_ssim(imageA, imageB, full=True, multichannel=True)\n",
        "diff = (diff * 255).astype(\"uint8\")\n",
        "print(\"SSIM(Score of similarity): {}\".format(score))\n",
        "\n",
        "from google.colab.patches import cv2_imshow\n",
        "# show the output images\n",
        "print(\"\\nImage 1 :\\n\")\n",
        "cv2_imshow(imageA)\n",
        "print(\"\\nImage 2 :\\n\")\n",
        "cv2_imshow(imageB)\n",
        "print(\"\\nDifférence :\\n\")\n",
        "cv2_imshow(diff)"
      ],
      "metadata": {
        "id": "4SkUH3MVB939",
        "colab": {
          "base_uri": "https://localhost:8080/",
          "height": 575
        },
        "outputId": "d61fd429-111f-45e5-9de5-97e11bece4cd"
      },
      "execution_count": 204,
      "outputs": [
        {
          "output_type": "stream",
          "name": "stdout",
          "text": [
            "SSIM(Score of similarity): 0.6683536764047817\n",
            "\n",
            "Image 1 :\n",
            "\n"
          ]
        },
        {
          "output_type": "display_data",
          "data": {
            "text/plain": [
              "<PIL.Image.Image image mode=RGB size=128x128 at 0x7F96F2635E90>"
            ],
            "image/png": "[encoded data removed]"
          },
          "metadata": {}
        },
        {
          "output_type": "stream",
          "name": "stdout",
          "text": [
            "\n",
            "Image 2 :\n",
            "\n"
          ]
        },
        {
          "output_type": "display_data",
          "data": {
            "text/plain": [
              "<PIL.Image.Image image mode=RGB size=128x128 at 0x7F96F2635A90>"
            ],
            "image/png": "[encoded data removed]"
          },
          "metadata": {}
        },
        {
          "output_type": "stream",
          "name": "stdout",
          "text": [
            "\n",
            "Différence :\n",
            "\n"
          ]
        },
        {
          "output_type": "display_data",
          "data": {
            "text/plain": [
              "<PIL.Image.Image image mode=RGB size=128x128 at 0x7F96F2635CD0>"
            ],
            "image/png": "[encoded data removed]"
          },
          "metadata": {}
        }
      ]
    },
    {
      "cell_type": "markdown",
      "source": [
        "The ***score*** represents the structural similarity index between the two input images. This value can fall into the range [-1, 1] with a value of one being a “perfect match”.\n",
        "\n",
        "The ***diff*** image contains the actual image differences between the two input images that we wish to visualize. The difference image is currently represented as a floating point data type in the range [0, 1] so we first convert the array to 8-bit unsigned integers in the range [0, 255] (Line 26) before we can further process it using OpenCV."
      ],
      "metadata": {
        "id": "9wGGjbr-Fps1"
      }
    },
    {
      "cell_type": "markdown",
      "source": [
        ""
      ],
      "metadata": {
        "id": "9GX4YnDyllaO"
      }
    },
    {
      "cell_type": "markdown",
      "source": [
        "#### Methode"
      ],
      "metadata": {
        "id": "HYpc-spqgQqS"
      }
    },
    {
      "cell_type": "code",
      "source": [
        "from skimage.metrics import structural_similarity as compare_ssim\n",
        "import argparse\n",
        "import imutils\n",
        "import cv2\n",
        "import shutil\n",
        "\n",
        "def pathImg(index_img):\n",
        "    if index_img < 10:\n",
        "        return fpath + \"/000\" + str(index_img) + \".png\"\n",
        "    else:\n",
        "        return fpath + \"/00\" + str(index_img) + \".png\"\n",
        "\n",
        "for folder_name in (\"normal\", \"malade\"):\n",
        "    folder_path = os.path.join(\"/tmp/COVID_crop\", folder_name)\n",
        "    for fname in os.listdir(folder_path):\n",
        "        fpath = os.path.join(folder_path, fname)\n",
        "        if len(os.listdir(fpath)) > 70:\n",
        "            compteur_img_toDel = len(os.listdir(fpath)) - 70\n",
        "            while compteur_img_toDel != 0:\n",
        "\n",
        "                # ---------- choix des images à comparer ----------\n",
        "                ''' choix index image1\n",
        "                sachant que les images sont numérotées entre 0001 et 0***\n",
        "                méthode : choix random de l'index\n",
        "                '''\n",
        "                index_img1 = np.random.randint(1, len(os.listdir(fpath)) - 1)\n",
        "                while os.path.exists(pathImg(index_img1)) == False:\n",
        "                  index_img1 = np.random.randint(1, len(os.listdir(fpath)) - 1)\n",
        "                else:\n",
        "                  path_img1 = pathImg(index_img1)\n",
        "                ''' choix index image2\n",
        "                sachant qu'elle doit être la plus proche voisine de l'image1\n",
        "                méthode : recherche de l'index le plus proche supérieur\n",
        "                '''\n",
        "                index_img2 = index_img1 + 1                \n",
        "                while os.path.exists(pathImg(index_img2)) == False:\n",
        "                  index_img2 += 1\n",
        "                else:\n",
        "                  path_img2 = pathImg(index_img2)\n",
        "\n",
        "                # ------------- comparaison des 2 images successives -------------\n",
        "                image1 = cv2.imread(path_img1)\n",
        "                image2 = cv2.imread(path_img2)\n",
        "                #print(\"\\nImage1\\nPath : \", path_img1, \"\\nShape : \", image1.shape)\n",
        "                #print(\"Image2\\nPath : \", path_img2, \"\\nShape : \", image2.shape, \"\\n\")\n",
        "                (score, diff) = compare_ssim(image1, image2, full=True, multichannel=True)\n",
        "                diff = (diff * 255).astype(\"uint8\")\n",
        "                #print(fpath, compteur_img_toDel, \"SSIM: {}\".format(score))\n",
        "\n",
        "                # ---------- suppression de l'image1 ----------\n",
        "                # critère : SSIM > 0.80 (images très similaires)\n",
        "                if score > 0.80 and compteur_img_toDel != 0 :\n",
        "                    compteur_img_toDel -= 1\n",
        "                    while os.path.exists(path_img1):\n",
        "                        os.remove(path_img1)"
      ],
      "metadata": {
        "id": "BfnzI-C8l1xV"
      },
      "execution_count": null,
      "outputs": []
    },
    {
      "cell_type": "code",
      "source": [
        "visualisation(True, False, True)"
      ],
      "metadata": {
        "id": "sYDkNSjk4-m8"
      },
      "execution_count": null,
      "outputs": []
    },
    {
      "cell_type": "markdown",
      "source": [
        "Attention méthode SSIM moyen car des images toutes noires sont plus similaires à d'autres \"moyenne\" que deux \"moyennes\" entre elles..."
      ],
      "metadata": {
        "id": "Jp8tHYKBtYkR"
      }
    },
    {
      "cell_type": "markdown",
      "source": [
        "# IV - Etude de la distribution des données \"normalisées\""
      ],
      "metadata": {
        "id": "mycqzOVMmPiQ"
      }
    },
    {
      "cell_type": "code",
      "source": [
        "# faire un truc du type, en créant des fonctions pour chaque type de padding des données dans la partie précédente\n",
        "'''padding(ecremageGrossier, remplissageScansMethode1, epurationScansMethode1)'''"
      ],
      "metadata": {
        "id": "0Jx0i9ygeVAE"
      },
      "execution_count": null,
      "outputs": []
    },
    {
      "cell_type": "code",
      "source": [
        "visualisation(True, True, True)"
      ],
      "metadata": {
        "id": "DoJiEi6FZcNG"
      },
      "execution_count": null,
      "outputs": []
    },
    {
      "cell_type": "markdown",
      "source": [
        "# V - Phase d'entrainement du modèle\n",
        "\n"
      ],
      "metadata": {
        "id": "daaxyQx4kBxt"
      }
    }
  ]
}