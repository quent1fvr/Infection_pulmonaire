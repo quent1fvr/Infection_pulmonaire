{
  "nbformat": 4,
  "nbformat_minor": 0,
  "metadata": {
    "colab": {
      "name": "pre_processing.ipynb",
      "provenance": [],
      "collapsed_sections": [
        "aztuEg56Ei65",
        "dhkme7Bmkc2g",
        "-BXZ_C3DYfpv",
        "H0wSAiQpYoQG",
        "IfwPgRE9J32q",
        "vuoM54vQSQE0",
        "dZ8CbrghDvAq",
        "spf_6g89AwZk",
        "BDKe1Ry-qgJJ",
        "KqOergtBCzzu",
        "lZ3ypAHUA4WK",
        "flaiGFjgCrmB",
        "LJOVR6vHA80s",
        "WJlMnNtWCmmJ",
        "wd4a5Y6MBEGO",
        "rV226LIarI1z",
        "FiFqV79PCY3S",
        "DJX6yHWNBWss",
        "7_bhQqXxBl3A",
        "wNCPfU1nBxAY",
        "0ScbIaHXBf35",
        "aRC6Kqi8v5Bi",
        "yofW9j6xW1hW",
        "mycqzOVMmPiQ",
        "UdcSE1AMF8p8",
        "Xot13IvKEirp",
        "ciBcOzUohWTc",
        "YT-nDii8hd_A",
        "xVuuEIw1hhas",
        "T0_KKnAGhk73"
      ],
      "machine_shape": "hm",
      "include_colab_link": true
    },
    "kernelspec": {
      "name": "python3",
      "display_name": "Python 3"
    },
    "language_info": {
      "name": "python"
    },
    "accelerator": "GPU"
  },
  "cells": [
    {
      "cell_type": "markdown",
      "metadata": {
        "id": "view-in-github",
        "colab_type": "text"
      },
      "source": [
        "<a href=\"https://colab.research.google.com/github/quent1fvr/Infection_pulmonaire/blob/main/pre_processing.ipynb\" target=\"_parent\"><img src=\"https://colab.research.google.com/assets/colab-badge.svg\" alt=\"Open In Colab\"/></a>"
      ]
    },
    {
      "cell_type": "markdown",
      "source": [
        "# **Introduction**#\n",
        "\n",
        "Le but de ce notebook est de réaliser l'ensemble des pre-processing utiles aux modèles d'apprentissages mis en place dans le notebook \"model.ipynb\". Afin de définir un couple modèle + pre-processing idéal, nous avons réalisé ici un total de 6 méthodes de pre-processing."
      ],
      "metadata": {
        "id": "GNqR4L60pTQL"
      }
    },
    {
      "cell_type": "markdown",
      "source": [
        "# **0 - Importation des données et librairies**\n",
        "\n",
        "---\n",
        "\n"
      ],
      "metadata": {
        "id": "aztuEg56Ei65"
      }
    },
    {
      "cell_type": "code",
      "execution_count": null,
      "metadata": {
        "id": "f625KFIVDHRn",
        "colab": {
          "base_uri": "https://localhost:8080/"
        },
        "outputId": "4e6948c9-fe85-4a5d-e4db-050d5714ceb4"
      },
      "outputs": [
        {
          "output_type": "stream",
          "name": "stdout",
          "text": [
            "Mounted at /content/drive\n"
          ]
        }
      ],
      "source": [
        "from google.colab import drive\n",
        "drive.mount('/content/drive')"
      ]
    },
    {
      "cell_type": "code",
      "source": [
        "import keras\n",
        "import zipfile\n",
        "import os\n",
        "import argparse\n",
        "import imutils\n",
        "import cv2\n",
        "import shutil\n",
        "import h5py\n",
        "import PIL\n",
        "import pandas as pd\n",
        "import numpy as np\n",
        "import tensorflow as tf\n",
        "import matplotlib.pyplot as plt\n",
        "from skimage.metrics import structural_similarity as compare_ssim\n",
        "from keras.preprocessing.image import load_img, img_to_array, array_to_img\n",
        "\n",
        "def importation():\n",
        "  # Suppression du dossier '/tmp/COVID_crop' créé par les anciens pre-processing exécutés\n",
        "  try:\n",
        "      shutil.rmtree('/tmp/COVID_crop')\n",
        "  except OSError as e:\n",
        "      print(\"Error: %s - %s.\" % (e.filename, e.strerror))\n",
        "\n",
        "  # Extraction de l'archive dans le dossier temporaire du serveur (\"/tmp/COVID_crop\")\n",
        "  zip_ref = zipfile.ZipFile('/content/drive/MyDrive/UV PROJET P6/COVID_dataset.zip', 'r') # Opens the zip file in read mode\n",
        "  zip_ref.extractall('/tmp') # Extracts the files into the /tmp folder\n",
        "  A = zip_ref.close()"
      ],
      "metadata": {
        "id": "KEis7wo1IkTr"
      },
      "execution_count": null,
      "outputs": []
    },
    {
      "cell_type": "markdown",
      "source": [
        "# **I - Etude de la distribution des données brutes**\n",
        "\n",
        "---\n",
        "\n"
      ],
      "metadata": {
        "id": "dhkme7Bmkc2g"
      }
    },
    {
      "cell_type": "markdown",
      "source": [
        "### Code pour la visualisation générale du jeu de données"
      ],
      "metadata": {
        "id": "-BXZ_C3DYfpv"
      }
    },
    {
      "cell_type": "code",
      "source": [
        "def visualisation(infoGen, camembert, histogr, infoMoy):\n",
        "  \n",
        "  tab_normal = []\n",
        "  tab_malade = []\n",
        "  nb_img_total = 0\n",
        "  nb_img_normal = 0\n",
        "  nb_img_malade = 0\n",
        "  path_normal = '/tmp/COVID_crop/normal'\n",
        "  path_malade = '/tmp/COVID_crop/malade'\n",
        "\n",
        "  for base in os.walk(path_normal):\n",
        "    #print('folder \"', base[0], '\" containing ', len(base[2]), ' files')\n",
        "    tab_normal.append(len(base[2]))\n",
        "    nb_img_total += len(base[2])\n",
        "    nb_img_normal += len(base[2])\n",
        "  tab_normal.pop(0)\n",
        "  tab_normal.sort()\n",
        "\n",
        "  for base in os.walk(path_malade):\n",
        "    #print('folder \"', base[0], '\" containing ', len(base[2]), ' files')\n",
        "    tab_malade.append(len(base[2]))\n",
        "    nb_img_total += len(base[2])    \n",
        "    nb_img_malade += len(base[2])\n",
        "  tab_malade.pop(0)\n",
        "  tab_malade.sort()\n",
        "\n",
        "  if infoGen == True:\n",
        "    print(\"\\n---------- Infos générales ----------\\n\")\n",
        "    print('Nombre de scans cas \"normale\" :', len(os.listdir('/tmp/COVID_crop/normal')))\n",
        "    print('Nombre de scans cas \"malade\" :', len(os.listdir('/tmp/COVID_crop/malade')))\n",
        "    print('''\\nNombre d'images cas \"normal\" :''', nb_img_normal)\n",
        "    print('''Nombre d'images cas \"malade\" :''', nb_img_malade)\n",
        "    print('''Nombre d'images total :''', nb_img_total)\n",
        "\n",
        "  if camembert == True:\n",
        "    print(\"\\n---------- Camembert ----------\\n\")\n",
        "    x = np.array([len(os.listdir(path_normal)), len(os.listdir(path_malade))])\n",
        "    labels = ['normal', 'malade']\n",
        "    colors = {'normal': 'chartreuse','malade': 'teal' }\n",
        "    plt.pie(x, labels=labels, autopct='%.0f%%', radius=0.8, colors=[colors[key] for key in labels], textprops={'fontsize': 18})\n",
        "    plt.show()\n",
        "\n",
        "  if histogr == True:\n",
        "    print(\"\\n---------- Histogramme ----------\\n\")\n",
        "    plt.figure(figsize=(10, 10))\n",
        "    x0 = tab_normal\n",
        "    x1 = tab_malade\n",
        "    plt.hist(x0, alpha=0.5, label=\"Distribution du nombre d'images par scan normal\")\n",
        "    plt.hist(x1, alpha=0.5, label=\"Distribution du nombre d'images par scan malade\")\n",
        "    plt.legend(loc='lower right')\n",
        "    plt.xlabel(\"Nombres d'images par scan\")\n",
        "    plt.ylabel(\"Occurences\")\n",
        "    plt.show()\n",
        "\n",
        "  if infoMoy == True:\n",
        "    print(\"\\n---------- Infos sur les moyennes ----------\\n\")\n",
        "    x0_mean = np.mean(tab_normal)\n",
        "    x1_mean = np.mean(tab_malade)\n",
        "    tot_mean = (nb_img_normal/nb_img_total)*x0_mean + (nb_img_malade/nb_img_total)*x1_mean\n",
        "    print('''Moyenne d'images pour les scans cas \"normal\" :''', x0_mean)\n",
        "    print('''Moyenne d'images pour les scans cas \"malade\" :''', x1_mean)\n",
        "    print('''Moyenne d'images pour tous les scans confondus :''', tot_mean)"
      ],
      "metadata": {
        "id": "i5y7ZX5qioJV"
      },
      "execution_count": null,
      "outputs": []
    },
    {
      "cell_type": "markdown",
      "source": [
        "### Analyse du jeu de données \"brutes\""
      ],
      "metadata": {
        "id": "H0wSAiQpYoQG"
      }
    },
    {
      "cell_type": "code",
      "source": [
        "importation()\n",
        "visualisation(True, True, True, True)"
      ],
      "metadata": {
        "id": "CV3ckHAwJCT2",
        "colab": {
          "base_uri": "https://localhost:8080/"
        },
        "outputId": "6c749486-d62e-4a92-fa06-ec1e28a5e710"
      },
      "execution_count": null,
      "outputs": [
        {
          "output_type": "stream",
          "name": "stdout",
          "text": [
            "Error: /tmp/COVID_crop - No such file or directory.\n",
            "\n",
            "---------- Infos générales ----------\n",
            "\n",
            "Nombre de scans cas \"normale\" : 1078\n",
            "Nombre de scans cas \"malade\" : 1544\n",
            "\n",
            "Nombre d'images cas \"normal\" : 95756\n",
            "Nombre d'images cas \"malade\" : 156071\n",
            "Nombre d'images total : 251827\n",
            "\n",
            "---------- Camembert ----------\n",
            "\n"
          ]
        },
        {
          "output_type": "display_data",
          "data": {
            "text/plain": [
              "<Figure size 432x288 with 1 Axes>"
            ],
            "image/png": "[encoded data removed]"
          },
          "metadata": {}
        },
        {
          "output_type": "stream",
          "name": "stdout",
          "text": [
            "\n",
            "---------- Histogramme ----------\n",
            "\n"
          ]
        },
        {
          "output_type": "display_data",
          "data": {
            "text/plain": [
              "<Figure size 720x720 with 1 Axes>"
            ],
            "image/png": "[encoded data removed]"
          },
          "metadata": {
            "needs_background": "light"
          }
        },
        {
          "output_type": "stream",
          "name": "stdout",
          "text": [
            "\n",
            "---------- Infos sur les moyennes ----------\n",
            "\n",
            "Moyenne d'images pour les scans cas \"normal\" : 88.82745825602969\n",
            "Moyenne d'images pour les scans cas \"malade\" : 101.08225388601036\n",
            "Moyenne d'images pour tous les scans confondus : 96.42242705908383\n"
          ]
        }
      ]
    },
    {
      "cell_type": "markdown",
      "source": [
        "Selon cette première visualisation du jeu de données \"brutes\", nous remarquons plusieurs points sur lequels nous pouvons travailler afin d'obtenir un jeu  plus lisible pour l'algorithme de deep learning que nous implémenterons par la suite. En effet, selon l'histogramme regroupant l'ensemble des scans de personnes malades et normales, nous pouvons observer : \n",
        "\n",
        "1. D'une part, une distribution du nombre d'images par scan assez étalée avec des cas extrêmes inexploitables à ignorer : ~10 ou +600 images par scan\n",
        "2. D'autre part, une moyenne du nombre d'images par scan différente et non précise pour les deux cas :\n",
        "  *   🤒 \"malade\" avec 2 pics d'occurences pour des scans contenant ~60 et ~140 images\n",
        "  *   🙂 \"normal\" avec des pics aux alentours de 90 images par scan"
      ],
      "metadata": {
        "id": "uhX4wM-_AOGv"
      }
    },
    {
      "cell_type": "markdown",
      "source": [
        "Ainsi, nous allons réaliser dans ***II.Padding des données*** un nettoyage et une standardisation du jeu de données pour permettre d'une part un traitement plus aisé, et d'autre part de réduire le poids de stockage. Nous aimerions ainsi obtenir un nombre fixé d'images par scan quelque soit le cas, pour tous les scans du jeu de données."
      ],
      "metadata": {
        "id": "XfpUS8gzK9PQ"
      }
    },
    {
      "cell_type": "markdown",
      "source": [
        "# **II - Padding & traitement des données**\n",
        "\n",
        "---\n",
        "\n"
      ],
      "metadata": {
        "id": "IfwPgRE9J32q"
      }
    },
    {
      "cell_type": "markdown",
      "source": [
        "Premièrement nous avons estimé que les scans de moins de 40 et plus de 100 images sont à éliminer. Après un bon avancement dans le projet et réflexion nous ne pouvons pas nous permettre de re-run tous nos pre-processings pour changer ce paramètre que nous avons fixé dès le début."
      ],
      "metadata": {
        "id": "G6Tc2XvIVjBv"
      }
    },
    {
      "cell_type": "markdown",
      "source": [
        "### ▶ 1. On élimine les scans contenant moins de 40 et plus de 100 images\n"
      ],
      "metadata": {
        "id": "vuoM54vQSQE0"
      }
    },
    {
      "cell_type": "markdown",
      "source": [
        "##### Définition de la méthode :"
      ],
      "metadata": {
        "id": "dZ8CbrghDvAq"
      }
    },
    {
      "cell_type": "code",
      "source": [
        "def padding_1():\n",
        "  num_skipped = 0\n",
        "  for folder_name in (\"normal\", \"malade\"):\n",
        "    folder_path = os.path.join(\"/tmp/COVID_crop\", folder_name)\n",
        "    for fname in os.listdir(folder_path):\n",
        "      fpath = os.path.join(folder_path, fname)\n",
        "      if len(os.listdir(fpath)) >= 100 or len(os.listdir(fpath)) <= 40:\n",
        "        num_skipped += 1\n",
        "        shutil.rmtree(fpath)\n",
        "  print(\"Deleted %d scans\" % num_skipped)"
      ],
      "metadata": {
        "id": "JTEvBIHUHlWu"
      },
      "execution_count": null,
      "outputs": []
    },
    {
      "cell_type": "markdown",
      "source": [
        "##### Test de la méthode :"
      ],
      "metadata": {
        "id": "spf_6g89AwZk"
      }
    },
    {
      "cell_type": "code",
      "source": [
        "padding_1()\n",
        "visualisation(True, False, True, True)"
      ],
      "metadata": {
        "id": "mfJ1NZ2IeP23",
        "colab": {
          "base_uri": "https://localhost:8080/",
          "height": 936
        },
        "outputId": "3d58f516-c8a4-4d57-f3b2-c1b011dc37db"
      },
      "execution_count": null,
      "outputs": [
        {
          "output_type": "stream",
          "name": "stdout",
          "text": [
            "Deleted 1046 scans\n",
            "\n",
            "---------- Infos générales ----------\n",
            "\n",
            "Nombre de scans cas \"normale\" : 796\n",
            "Nombre de scans cas \"malade\" : 780\n",
            "\n",
            "Nombre d'images cas \"normal\" : 62207\n",
            "Nombre d'images cas \"malade\" : 44436\n",
            "Nombre d'images total : 106643\n",
            "\n",
            "---------- Histogramme ----------\n",
            "\n"
          ]
        },
        {
          "output_type": "display_data",
          "data": {
            "text/plain": [
              "<Figure size 720x720 with 1 Axes>"
            ],
            "image/png": "[encoded data removed]"
          },
          "metadata": {
            "needs_background": "light"
          }
        },
        {
          "output_type": "stream",
          "name": "stdout",
          "text": [
            "\n",
            "---------- Infos sur les moyennes ----------\n",
            "\n",
            "Moyenne d'images pour les scans cas \"normal\" : 78.14949748743719\n",
            "Moyenne d'images pour les scans cas \"malade\" : 56.96923076923077\n",
            "Moyenne d'images pour tous les scans confondus : 69.32410499200645\n"
          ]
        }
      ]
    },
    {
      "cell_type": "markdown",
      "source": [
        "Suite à cette première opération sur les données nous avons réussi à borner le nombre d'images par scan entre 40 et 100, comme le montre l'histogramme. De plus, la moyenne d'images obtenue par scan (tous cas confondus) se situe aux alentours de 70 images. Ainsi, cela nous donne une ligne directrice pour les prochaines opérations de normalisation du set à réaliser : nous avons décidé de normaliser le nombre d'images par scan à 70. Pour se faire, deux opérations supplémentaires sur le set sont à réaliser : \n",
        "1.   Réduire le nombre d'images dans les scans en contenant plus de 70 \n",
        "2.   Augmenter le nombre d'images pour ceux en contenant moins de 70\n",
        "\n"
      ],
      "metadata": {
        "id": "i2TcMkz_p1fo"
      }
    },
    {
      "cell_type": "markdown",
      "source": [
        "### ▶ 2. On comble les scans contenant moins de 70 images"
      ],
      "metadata": {
        "id": "BDKe1Ry-qgJJ"
      }
    },
    {
      "cell_type": "markdown",
      "source": [
        "#### 2.1. Méthode 1 : Comble par ajouts d'images noires à la fin\n",
        "\n"
      ],
      "metadata": {
        "id": "C8qNw20TT8mo"
      }
    },
    {
      "cell_type": "markdown",
      "source": [
        "Pour cette méthode de comblage, au vu des données (scans tantôt avec beaucoup d'images noires au début, à la fin, au milieu...), l'ajout d'images noires au début ou à la fin ne change pas grand chose, ainsi nous ne ferons qu'une seule méthode pour ces 2 cas (ajout à la fin / au début), en l'occurrence l'ajout d'images noires à la fin."
      ],
      "metadata": {
        "id": "2FUYIZQAyW11"
      }
    },
    {
      "cell_type": "markdown",
      "source": [
        "##### Définition de la méthode :"
      ],
      "metadata": {
        "id": "KqOergtBCzzu"
      }
    },
    {
      "cell_type": "code",
      "source": [
        "def padding_2_1():\n",
        "  num_skipped = 0\n",
        "  from PIL import Image\n",
        "  for folder_name in (\"normal\", \"malade\"):\n",
        "    folder_path = os.path.join(\"/tmp/COVID_crop\", folder_name)\n",
        "    for fname in os.listdir(folder_path):\n",
        "      fpath = os.path.join(folder_path, fname)\n",
        "      if len(os.listdir(fpath)) < 70:\n",
        "        for i in range (70 - len(os.listdir(fpath))): \n",
        "          new_im = Image.new('RGB', (128, 128), (0, 0, 0))\n",
        "          new_im.save(fpath + \"/Dark_image\" + str(i), \"PNG\")"
      ],
      "metadata": {
        "id": "NmKX_K7zUTN7"
      },
      "execution_count": null,
      "outputs": []
    },
    {
      "cell_type": "markdown",
      "source": [
        "##### Test de la méthode :"
      ],
      "metadata": {
        "id": "lZ3ypAHUA4WK"
      }
    },
    {
      "cell_type": "code",
      "source": [
        "padding_2_1()\n",
        "visualisation(True, False, False, True)"
      ],
      "metadata": {
        "id": "PkPqBoFDYWjX",
        "colab": {
          "base_uri": "https://localhost:8080/"
        },
        "outputId": "7bc123ae-e826-4f1e-a795-99916949633a"
      },
      "execution_count": null,
      "outputs": [
        {
          "output_type": "stream",
          "name": "stdout",
          "text": [
            "\n",
            "---------- Infos générales ----------\n",
            "\n",
            "Nombre de scans cas \"normale\" : 796\n",
            "Nombre de scans cas \"malade\" : 780\n",
            "\n",
            "Nombre d'images cas \"normal\" : 64146\n",
            "Nombre d'images cas \"malade\" : 54849\n",
            "Nombre d'images total : 118995\n",
            "\n",
            "---------- Infos sur les moyennes ----------\n",
            "\n",
            "Moyenne d'images pour les scans cas \"normal\" : 80.58542713567839\n",
            "Moyenne d'images pour les scans cas \"malade\" : 70.31923076923077\n",
            "Moyenne d'images pour tous les scans confondus : 75.85337449058166\n"
          ]
        }
      ]
    },
    {
      "cell_type": "markdown",
      "source": [
        "#### 2.2. Méthode 2 : Comble par copie d'images en partant du milieu"
      ],
      "metadata": {
        "id": "ckOJCvGZ_xqc"
      }
    },
    {
      "cell_type": "markdown",
      "source": [
        "##### Définition de la méthode :"
      ],
      "metadata": {
        "id": "flaiGFjgCrmB"
      }
    },
    {
      "cell_type": "code",
      "source": [
        "def padding_2_2():\n",
        "  def pathImg(index_img):\n",
        "    if index_img < 10:\n",
        "      return fpath + \"/000\" + str(index_img) + \".png\"\n",
        "    else:\n",
        "      return fpath + \"/00\" + str(index_img) + \".png\"\n",
        "\n",
        "  for folder_name in (\"normal\", \"malade\"):\n",
        "    folder_path = os.path.join(\"/tmp/COVID_crop\", folder_name)\n",
        "    for fname in os.listdir(folder_path):\n",
        "      fpath = os.path.join(folder_path, fname)\n",
        "      compteur_img_toAdd = 70 - len(os.listdir(fpath))\n",
        "      if len(os.listdir(fpath)) < 70:\n",
        "\n",
        "        # ---------- choix index image1 à copier ----------\n",
        "        # méthode : choix au milieu du scan\n",
        "        index_img1 = len(os.listdir(fpath))//2\n",
        "        while os.path.exists(pathImg(index_img1)) == False:\n",
        "          index_img1 += 1\n",
        "        else:\n",
        "          path_img1 = pathImg(index_img1)\n",
        "          compteur_img_toAdd -= 1\n",
        "          #path_img2 = path_img1[:-6] + str(int(path_img1[len(path_img1)-6: -4]) + 2) + \".png\"\n",
        "          path_img2 = fpath + \"/New_image\" + str(70 - compteur_img_toAdd) + \".png\"\n",
        "          shutil.copy2(path_img1, path_img2)\n",
        "          #print(\"New image added : \", path_img2)\n",
        "\n",
        "          # ---------- choix index imageSuivante à copier ----------\n",
        "          # méthode : choix au index [imagePrecedente + 2] s'il existe\n",
        "          while compteur_img_toAdd != 0:\n",
        "            index_img1 += 2\n",
        "            while (os.path.exists(pathImg(index_img1)) == False) and (index_img1 < 100):\n",
        "              index_img1 += 1\n",
        "            else:\n",
        "              if index_img1 >= 100: # si l'index dépasse 100 on repart à un index de 40\n",
        "                index_img1 = 40\n",
        "                while (os.path.exists(pathImg(index_img1)) == False):\n",
        "                  index_img1 += 1\n",
        "              else:\n",
        "                index_img1\n",
        "              path_img1 = pathImg(index_img1)\n",
        "              compteur_img_toAdd -= 1\n",
        "              #path_img2 = path_img1[:-6] + str(int(path_img1[len(path_img1)-6: -4]) + 2) + \".png\"\n",
        "              path_img2 = fpath + \"/New_image\" + str(70 - compteur_img_toAdd) + \".png\"\n",
        "              shutil.copy2(path_img1, path_img2)\n",
        "              #print(\"New image added : \", path_img2)"
      ],
      "metadata": {
        "id": "-6PpfT4PAcOc"
      },
      "execution_count": null,
      "outputs": []
    },
    {
      "cell_type": "markdown",
      "source": [
        "##### Test de la méthode :"
      ],
      "metadata": {
        "id": "LJOVR6vHA80s"
      }
    },
    {
      "cell_type": "code",
      "source": [
        "padding_2_2()\n",
        "visualisation(True, False, False, True)"
      ],
      "metadata": {
        "id": "FajX3ehqAcrg",
        "colab": {
          "base_uri": "https://localhost:8080/"
        },
        "outputId": "1868a958-7fa9-4c82-9346-a4accc3b634c"
      },
      "execution_count": null,
      "outputs": [
        {
          "output_type": "stream",
          "name": "stdout",
          "text": [
            "\n",
            "---------- Infos générales ----------\n",
            "\n",
            "Nombre de scans cas \"normale\" : 796\n",
            "Nombre de scans cas \"malade\" : 780\n",
            "\n",
            "Nombre d'images cas \"normal\" : 64146\n",
            "Nombre d'images cas \"malade\" : 54849\n",
            "Nombre d'images total : 118995\n",
            "\n",
            "---------- Infos sur les moyennes ----------\n",
            "\n",
            "Moyenne d'images pour les scans cas \"normal\" : 80.58542713567839\n",
            "Moyenne d'images pour les scans cas \"malade\" : 70.31923076923077\n",
            "Moyenne d'images pour tous les scans confondus : 75.85337449058166\n"
          ]
        }
      ]
    },
    {
      "cell_type": "markdown",
      "source": [
        "#### 2.3. Méthode 3 : Comble par ajouts d'images noires en début & fin"
      ],
      "metadata": {
        "id": "tsl-9I3_T8Y8"
      }
    },
    {
      "cell_type": "markdown",
      "source": [
        "##### Définition de la méthode :"
      ],
      "metadata": {
        "id": "WJlMnNtWCmmJ"
      }
    },
    {
      "cell_type": "code",
      "source": [
        "def padding_2_3():\n",
        "  num_skipped = 0\n",
        "  from PIL import Image\n",
        "  for folder_name in (\"normal\", \"malade\"):\n",
        "    folder_path = os.path.join(\"/tmp/COVID_crop\", folder_name)\n",
        "    for fname in os.listdir(folder_path):\n",
        "      fpath = os.path.join(folder_path, fname)\n",
        "      if len(os.listdir(fpath)) < 70:\n",
        "        compteur_img_toAdd = 70 - len(os.listdir(fpath))\n",
        "        \n",
        "        if (compteur_img_toAdd % 2 != 0): # cas impair\n",
        "          # ajout d'images noires en début de scan\n",
        "          for i in range (compteur_img_toAdd // 2): \n",
        "            new_im = Image.new('RGB', (128, 128), (0, 0, 0))\n",
        "            new_im.save(fpath + \"/*Dark_image\" + str(i), \"PNG\")\n",
        "          # ajout d'images noires en fin de scan\n",
        "          for i in range ((compteur_img_toAdd // 2) + 1):\n",
        "            new_im = Image.new('RGB', (128, 128), (0, 0, 0))\n",
        "            new_im.save(fpath + \"/Dark_image\" + str(i), \"PNG\")\n",
        "        \n",
        "        else: # cas pair\n",
        "          # ajout d'images noires en début de scan\n",
        "          for i in range (compteur_img_toAdd // 2): \n",
        "            new_im = Image.new('RGB', (128, 128), (0, 0, 0))\n",
        "            new_im.save(fpath + \"/*Dark_image\" + str(i), \"PNG\")\n",
        "          # ajout d'images noires en fin de scan\n",
        "          for i in range (compteur_img_toAdd // 2): \n",
        "            new_im = Image.new('RGB', (128, 128), (0, 0, 0))\n",
        "            new_im.save(fpath + \"/Dark_image\" + str(i), \"PNG\")      "
      ],
      "metadata": {
        "id": "LuUAtxU3Ukxc"
      },
      "execution_count": null,
      "outputs": []
    },
    {
      "cell_type": "markdown",
      "source": [
        "##### Test de la méthode :"
      ],
      "metadata": {
        "id": "wd4a5Y6MBEGO"
      }
    },
    {
      "cell_type": "code",
      "source": [
        "padding_2_3()\n",
        "visualisation(True, False, False, True)"
      ],
      "metadata": {
        "id": "BdKSMsKGs5qJ",
        "colab": {
          "base_uri": "https://localhost:8080/"
        },
        "outputId": "dc83b4ca-152f-43c7-ea74-ec8e98540b41"
      },
      "execution_count": null,
      "outputs": [
        {
          "output_type": "stream",
          "name": "stdout",
          "text": [
            "\n",
            "---------- Infos générales ----------\n",
            "\n",
            "Nombre de scans cas \"normale\" : 796\n",
            "Nombre de scans cas \"malade\" : 780\n",
            "\n",
            "Nombre d'images cas \"normal\" : 64146\n",
            "Nombre d'images cas \"malade\" : 54849\n",
            "Nombre d'images total : 118995\n",
            "\n",
            "---------- Infos sur les moyennes ----------\n",
            "\n",
            "Moyenne d'images pour les scans cas \"normal\" : 80.58542713567839\n",
            "Moyenne d'images pour les scans cas \"malade\" : 70.31923076923077\n",
            "Moyenne d'images pour tous les scans confondus : 75.85337449058166\n"
          ]
        }
      ]
    },
    {
      "cell_type": "markdown",
      "source": [
        "### ▶ 3. On élimine des images dans les scans contenant plus de 70 image\n",
        "\n"
      ],
      "metadata": {
        "id": "rV226LIarI1z"
      }
    },
    {
      "cell_type": "markdown",
      "source": [
        "#### 3.1. Méthode 1 : Elimination aléatoire"
      ],
      "metadata": {
        "id": "-3itKUcYj0uJ"
      }
    },
    {
      "cell_type": "markdown",
      "source": [
        "##### Définition de la méthode :"
      ],
      "metadata": {
        "id": "FiFqV79PCY3S"
      }
    },
    {
      "cell_type": "code",
      "source": [
        "def padding_3_1():\n",
        "  for folder_name in (\"normal\", \"malade\"):\n",
        "      folder_path = os.path.join(\"/tmp/COVID_crop\", folder_name)\n",
        "      for fname in os.listdir(folder_path):\n",
        "          fpath = os.path.join(folder_path, fname)\n",
        "          if len(os.listdir(fpath)) > 70:\n",
        "              while len(os.listdir(fpath)) !=70 :\n",
        "                  delete_path = fpath + \"/00\" + str(np.random.randint(10,len(os.listdir(fpath)))) + \".png\"\n",
        "                  while os.path.exists(delete_path):  \n",
        "                      os.remove(delete_path)"
      ],
      "metadata": {
        "id": "cAXftNZsdBoT"
      },
      "execution_count": null,
      "outputs": []
    },
    {
      "cell_type": "markdown",
      "source": [
        "##### Test de la méthode :"
      ],
      "metadata": {
        "id": "DJX6yHWNBWss"
      }
    },
    {
      "cell_type": "code",
      "source": [
        "padding_3_1()\n",
        "visualisation(True, False, False, True)"
      ],
      "metadata": {
        "colab": {
          "base_uri": "https://localhost:8080/"
        },
        "id": "ifYTrvu4BYv8",
        "outputId": "d6a7cc80-5798-4470-870e-a7874afecaa1"
      },
      "execution_count": null,
      "outputs": [
        {
          "output_type": "stream",
          "name": "stdout",
          "text": [
            "\n",
            "---------- Infos générales ----------\n",
            "\n",
            "Nombre de scans cas \"normale\" : 796\n",
            "Nombre de scans cas \"malade\" : 780\n",
            "\n",
            "Nombre d'images cas \"normal\" : 55720\n",
            "Nombre d'images cas \"malade\" : 54600\n",
            "Nombre d'images total : 110320\n",
            "\n",
            "---------- Infos sur les moyennes ----------\n",
            "\n",
            "Moyenne d'images pour les scans cas \"normal\" : 70.0\n",
            "Moyenne d'images pour les scans cas \"malade\" : 70.0\n",
            "Moyenne d'images pour tous les scans confondus : 70.0\n"
          ]
        }
      ]
    },
    {
      "cell_type": "markdown",
      "source": [
        "#### 3.2. Méthode 2 : Elimination par comparaison SSIM"
      ],
      "metadata": {
        "id": "7_bhQqXxBl3A"
      }
    },
    {
      "cell_type": "markdown",
      "source": [
        "##### Définition de la méthode :"
      ],
      "metadata": {
        "id": "wNCPfU1nBxAY"
      }
    },
    {
      "cell_type": "code",
      "source": [
        "def padding_3_2():\n",
        "  def pathImg(index_img):\n",
        "    if index_img < 10:\n",
        "      return fpath + \"/000\" + str(index_img) + \".png\"\n",
        "    else:\n",
        "      return fpath + \"/00\" + str(index_img) + \".png\"\n",
        "\n",
        "  for folder_name in (\"normal\", \"malade\"):\n",
        "    folder_path = os.path.join(\"/tmp/COVID_crop\", folder_name)\n",
        "    for fname in os.listdir(folder_path):\n",
        "      fpath = os.path.join(folder_path, fname)\n",
        "      if len(os.listdir(fpath)) > 70:\n",
        "        compteur_img_toDel = len(os.listdir(fpath)) - 70\n",
        "        while compteur_img_toDel != 0:\n",
        "\n",
        "          # ---------- choix des images à comparer ----------\n",
        "          \n",
        "          # choix index image1\n",
        "          # sachant que les images sont numérotées entre 0001 et 0***\n",
        "          # méthode : choix random de l'index\n",
        "          \n",
        "          index_img1 = np.random.randint(1, len(os.listdir(fpath)) - 1)\n",
        "          while os.path.exists(pathImg(index_img1)) == False:\n",
        "            index_img1 = np.random.randint(1, len(os.listdir(fpath)) - 1)\n",
        "          else:\n",
        "            path_img1 = pathImg(index_img1)\n",
        "\n",
        "          # choix index image2\n",
        "          # sachant qu'elle doit être la plus proche voisine de l'image1\n",
        "          # méthode : recherche de l'index le plus proche supérieur\n",
        "          \n",
        "          index_img2 = index_img1 + 1                \n",
        "          while os.path.exists(pathImg(index_img2)) == False:\n",
        "            index_img2 += 1\n",
        "          else:\n",
        "            path_img2 = pathImg(index_img2)\n",
        "\n",
        "          # ------------- comparaison des 2 images successives -------------\n",
        "          \n",
        "          image1 = cv2.imread(path_img1)\n",
        "          image2 = cv2.imread(path_img2)\n",
        "          #print(\"\\nImage1\\nPath : \", path_img1, \"\\nShape : \", image1.shape)\n",
        "          #print(\"Image2\\nPath : \", path_img2, \"\\nShape : \", image2.shape, \"\\n\")\n",
        "          (score, diff) = compare_ssim(image1, image2, full=True, multichannel=True)\n",
        "          diff = (diff * 255).astype(\"uint8\")\n",
        "          #print(fpath, compteur_img_toDel, \"SSIM: {}\".format(score))\n",
        "\n",
        "          # ---------- suppression de l'image1 ----------\n",
        "          \n",
        "          # critère : SSIM > 0.80 (images très similaires)\n",
        "          if score > 0.80 and compteur_img_toDel != 0 :\n",
        "            compteur_img_toDel -= 1\n",
        "            while os.path.exists(path_img1):\n",
        "              os.remove(path_img1)"
      ],
      "metadata": {
        "id": "BfnzI-C8l1xV"
      },
      "execution_count": null,
      "outputs": []
    },
    {
      "cell_type": "markdown",
      "source": [
        "##### Test de la méthode :"
      ],
      "metadata": {
        "id": "0ScbIaHXBf35"
      }
    },
    {
      "cell_type": "code",
      "source": [
        "padding_3_2()\n",
        "visualisation(True, False, False, True)"
      ],
      "metadata": {
        "colab": {
          "base_uri": "https://localhost:8080/"
        },
        "id": "ahK2l4i8Bh1A",
        "outputId": "e62e6a8d-e7db-4f8e-aaf0-5d94ca910084"
      },
      "execution_count": null,
      "outputs": [
        {
          "output_type": "stream",
          "name": "stdout",
          "text": [
            "\n",
            "---------- Infos générales ----------\n",
            "\n",
            "Nombre de scans cas \"normale\" : 796\n",
            "Nombre de scans cas \"malade\" : 780\n",
            "\n",
            "Nombre d'images cas \"normal\" : 55720\n",
            "Nombre d'images cas \"malade\" : 54600\n",
            "Nombre d'images total : 110320\n",
            "\n",
            "---------- Infos sur les moyennes ----------\n",
            "\n",
            "Moyenne d'images pour les scans cas \"normal\" : 70.0\n",
            "Moyenne d'images pour les scans cas \"malade\" : 70.0\n",
            "Moyenne d'images pour tous les scans confondus : 70.0\n"
          ]
        }
      ]
    },
    {
      "cell_type": "markdown",
      "source": [
        "Cette méthode de suppression par comparaison SSIM fonctionne correctement, cependant suite à des essais nous avons remarqué un écueil. Selon ce critère, des images toutes noires obtiennent un score de similarité supérieur, lorsqu'elles sont comparées avec des images de poumon \"moyennes\", à deux images \"moyennes\" comparées entre elles."
      ],
      "metadata": {
        "id": "Jp8tHYKBtYkR"
      }
    },
    {
      "cell_type": "markdown",
      "source": [
        "##### Détails et explications de la comparaison SSIM :"
      ],
      "metadata": {
        "id": "aRC6Kqi8v5Bi"
      }
    },
    {
      "cell_type": "markdown",
      "source": [
        "Le score SSIM représente l'indice de similarité structurelle entre les deux images d'entrée. \n",
        "Cette valeur peut être comprise dans l'intervalle [-1, 1], une valeur de un correspondant à une \"correspondance parfaite\".\n",
        "\n",
        "L'image de différence contient les différences réelles entre les deux images d'entrée que nous souhaitons visualiser. L'image de différence est actuellement représentée comme un type de données à virgule flottante dans la plage [0, 1].\n",
        "Nous convertissons donc d'abord le tableau en entiers non signés de 8 bits dans la plage [0, 255] (Ligne 26) avant de pouvoir le traiter avec OpenCV."
      ],
      "metadata": {
        "id": "lO2Y-XSNvS3C"
      }
    },
    {
      "cell_type": "code",
      "source": [
        "from skimage.metrics import structural_similarity as compare_ssim\n",
        "import argparse\n",
        "import imutils\n",
        "import cv2\n",
        "from keras.preprocessing.image import load_img, img_to_array, array_to_img\n",
        "from PIL import Image\n",
        "from google.colab.patches import cv2_imshow\n",
        "\n",
        "path_image1 = \"/tmp/COVID_crop/normal/1/0002.png\"\n",
        "path_image2 = \"/tmp/COVID_crop/normal/1/0015.png\"\n",
        "path_image3 = \"/tmp/COVID_crop/normal/1/0017.png\"\n",
        "path_image4 = \"/tmp/COVID_crop/normal/1/0018.png\"\n",
        "\n",
        "# chargement des images\n",
        "image1 = cv2.imread(path_image1)\n",
        "image2 = cv2.imread(path_image2)\n",
        "image3 = cv2.imread(path_image3)\n",
        "image4 = cv2.imread(path_image4)\n",
        "\n",
        "print('''------------- comparaison images \"noire/poumon\" -------------''')\n",
        "\n",
        "# calcul du \"Structural Similarity Index (SSIM)\" entre 2 images et retour de la différence en pixels\n",
        "(score, diff) = compare_ssim(image1, image2, full=True, multichannel=True)\n",
        "diff = (diff * 255).astype(\"uint8\")\n",
        "print(\"\\nSSIM (Score of similarity): {}\".format(score))\n",
        "\n",
        "# affichage des images\n",
        "print('''\\nImage \"noire\" :\\n''')\n",
        "#img = load_img(path_image1, target_size=(48,48))   \n",
        "#load_img.show()\n",
        "cv2_imshow(image1)\n",
        "print('''\\nImage \"poumon\" :\\n''')\n",
        "cv2_imshow(image2)\n",
        "print(\"\\nDifférence :\\n\")\n",
        "cv2_imshow(diff)\n",
        "\n",
        "print('''------------- comparaison images \"poumon/poumon\" 1 -------------''')\n",
        "\n",
        "# calcul du \"Structural Similarity Index (SSIM)\" entre 2 images et retour de la différence en pixels\n",
        "(score1, diff1) = compare_ssim(image2, image3, full=True, multichannel=True)\n",
        "diff1 = (diff1 * 255).astype(\"uint8\")\n",
        "print(\"\\nSSIM (Score of similarity): {}\".format(score1))\n",
        "\n",
        "# affichage des images\n",
        "print('''\\nImage \"poumon 1\" :\\n''')\n",
        "cv2_imshow(image2)\n",
        "print('''\\nImage \"poumon 2\" :\\n''')\n",
        "cv2_imshow(image3)\n",
        "print(\"\\nDifférence :\\n\")\n",
        "cv2_imshow(diff1)\n",
        "\n",
        "print('''------------- comparaison images \"poumon/poumon\" 2 -------------''')\n",
        "\n",
        "# calcul du \"Structural Similarity Index (SSIM)\" entre 2 images et retour de la différence en pixels\n",
        "(score2, diff2) = compare_ssim(image2, image4, full=True, multichannel=True)\n",
        "diff2 = (diff2 * 255).astype(\"uint8\")\n",
        "print(\"\\nSSIM (Score of similarity): {}\".format(score2))\n",
        "\n",
        "# affichage des images\n",
        "print('''\\nImage \"poumon 1\" :\\n''')\n",
        "cv2_imshow(image2)\n",
        "print('''\\nImage \"poumon 3\" :\\n''')\n",
        "cv2_imshow(image4)\n",
        "print(\"\\nDifférence :\\n\")\n",
        "cv2_imshow(diff2)"
      ],
      "metadata": {
        "colab": {
          "base_uri": "https://localhost:8080/"
        },
        "id": "aWQgtjaju_gf",
        "outputId": "61db6821-b702-4208-ecde-58804a503696"
      },
      "execution_count": null,
      "outputs": [
        {
          "output_type": "stream",
          "name": "stdout",
          "text": [
            "------------- comparaison images \"noire/poumon\" -------------\n",
            "\n",
            "SSIM (Score of similarity): 0.7323755563374182\n",
            "\n",
            "Image \"noire\" :\n",
            "\n"
          ]
        },
        {
          "output_type": "display_data",
          "data": {
            "text/plain": [
              "<PIL.Image.Image image mode=RGB size=128x128 at 0x7FBF6141F2D0>"
            ],
            "image/png": "[encoded data removed]"
          },
          "metadata": {}
        },
        {
          "output_type": "stream",
          "name": "stdout",
          "text": [
            "\n",
            "Image \"poumon\" :\n",
            "\n"
          ]
        },
        {
          "output_type": "display_data",
          "data": {
            "text/plain": [
              "<PIL.Image.Image image mode=RGB size=128x128 at 0x7FBF6141F290>"
            ],
            "image/png": "[encoded data removed]"
          },
          "metadata": {}
        },
        {
          "output_type": "stream",
          "name": "stdout",
          "text": [
            "\n",
            "Différence :\n",
            "\n"
          ]
        },
        {
          "output_type": "display_data",
          "data": {
            "text/plain": [
              "<PIL.Image.Image image mode=RGB size=128x128 at 0x7FBF6141F390>"
            ],
            "image/png": "[encoded data removed]"
          },
          "metadata": {}
        },
        {
          "output_type": "stream",
          "name": "stdout",
          "text": [
            "------------- comparaison images \"poumon/poumon\" 1 -------------\n",
            "\n",
            "SSIM (Score of similarity): 0.7566269570883225\n",
            "\n",
            "Image \"poumon 1\" :\n",
            "\n"
          ]
        },
        {
          "output_type": "display_data",
          "data": {
            "text/plain": [
              "<PIL.Image.Image image mode=RGB size=128x128 at 0x7FBF6141F2D0>"
            ],
            "image/png": "[encoded data removed]"
          },
          "metadata": {}
        },
        {
          "output_type": "stream",
          "name": "stdout",
          "text": [
            "\n",
            "Image \"poumon 2\" :\n",
            "\n"
          ]
        },
        {
          "output_type": "display_data",
          "data": {
            "text/plain": [
              "<PIL.Image.Image image mode=RGB size=128x128 at 0x7FBF6141F950>"
            ],
            "image/png": "[encoded data removed]"
          },
          "metadata": {}
        },
        {
          "output_type": "stream",
          "name": "stdout",
          "text": [
            "\n",
            "Différence :\n",
            "\n"
          ]
        },
        {
          "output_type": "display_data",
          "data": {
            "text/plain": [
              "<PIL.Image.Image image mode=RGB size=128x128 at 0x7FBF6141F390>"
            ],
            "image/png": "[encoded data removed]"
          },
          "metadata": {}
        },
        {
          "output_type": "stream",
          "name": "stdout",
          "text": [
            "------------- comparaison images \"poumon/poumon\" 2 -------------\n",
            "\n",
            "SSIM (Score of similarity): 0.7211043004327471\n",
            "\n",
            "Image \"poumon 1\" :\n",
            "\n"
          ]
        },
        {
          "output_type": "display_data",
          "data": {
            "text/plain": [
              "<PIL.Image.Image image mode=RGB size=128x128 at 0x7FBF5E694610>"
            ],
            "image/png": "[encoded data removed]"
          },
          "metadata": {}
        },
        {
          "output_type": "stream",
          "name": "stdout",
          "text": [
            "\n",
            "Image \"poumon 3\" :\n",
            "\n"
          ]
        },
        {
          "output_type": "display_data",
          "data": {
            "text/plain": [
              "<PIL.Image.Image image mode=RGB size=128x128 at 0x7FBF5E6948D0>"
            ],
            "image/png": "[encoded data removed]"
          },
          "metadata": {}
        },
        {
          "output_type": "stream",
          "name": "stdout",
          "text": [
            "\n",
            "Différence :\n",
            "\n"
          ]
        },
        {
          "output_type": "display_data",
          "data": {
            "text/plain": [
              "<PIL.Image.Image image mode=RGB size=128x128 at 0x7FBF5E694550>"
            ],
            "image/png": "[encoded data removed]"
          },
          "metadata": {}
        }
      ]
    },
    {
      "cell_type": "markdown",
      "source": [
        "### ▶ 4. Conversion des images en niveau de gris"
      ],
      "metadata": {
        "id": "yofW9j6xW1hW"
      }
    },
    {
      "cell_type": "markdown",
      "source": [
        "Une fois le padding des données réalisé, on transforme les images en niveaux de gris, à la fois pour que l'architecture de notre modèle de deep learning soit plus simple et aussi pour limiter la taille des fichiers."
      ],
      "metadata": {
        "id": "YcxgJWpfalyX"
      }
    },
    {
      "cell_type": "code",
      "source": [
        "def conv_gris():\n",
        "  for folder_name in (\"normal\", \"malade\"):\n",
        "    folder_path = os.path.join(\"/tmp/COVID_crop\", folder_name)\n",
        "    for fname in os.listdir(folder_path):\n",
        "      fpath = os.path.join(folder_path, fname)\n",
        "      for fimg in os.listdir(fpath): \n",
        "        img_path = os.path.join(fpath,fimg)\n",
        "        img = Image.open(img_path)\n",
        "        imgGray = img.convert('L')\n",
        "        imgGray.save(img_path, \"PNG\")"
      ],
      "metadata": {
        "id": "3fYMQgYaXAv6"
      },
      "execution_count": null,
      "outputs": []
    },
    {
      "cell_type": "markdown",
      "source": [
        "### ▶ 5. Conversion des images en array binaires (bug encapsulage)\n",
        "\n"
      ],
      "metadata": {
        "id": "mycqzOVMmPiQ"
      }
    },
    {
      "cell_type": "code",
      "source": [
        "def conv_bin():\n",
        "  # conversion des images 128*128 en array numpy binaire d'images en 48*48\n",
        "  arrlist_normal = []\n",
        "  folder_path = os.path.join(\"/tmp/COVID_crop\", \"normal\")\n",
        "  for fname in os.listdir(folder_path):\n",
        "      fpath = os.path.join(folder_path, fname)\n",
        "      for imgs in os.listdir(fpath):\n",
        "        array = np.array(Image.open(fpath + \"/\" + imgs).resize((48, 48))) / 255\n",
        "        arrlist_normal.append(array)          \n",
        "\n",
        "  arrlist_malade = []\n",
        "  folder_path = os.path.join(\"/tmp/COVID_crop\", \"malade\")\n",
        "  for fname in os.listdir(folder_path):\n",
        "      fpath = os.path.join(folder_path, fname)\n",
        "      for imgs in os.listdir(fpath):\n",
        "        array = np.array(Image.open(fpath + \"/\" + imgs).resize((48, 48))) / 255\n",
        "        arrlist_malade.append(array)\n",
        "  \n",
        "  return [arrlist_normal, arrlist_malade]"
      ],
      "metadata": {
        "id": "6y-oWrGyMiC3"
      },
      "execution_count": null,
      "outputs": []
    },
    {
      "cell_type": "markdown",
      "source": [
        "### ▶ 6. Conversion des données normalisées en hdf5 (bug encapsulage)"
      ],
      "metadata": {
        "id": "UdcSE1AMF8p8"
      }
    },
    {
      "cell_type": "markdown",
      "source": [
        "On sauvegarde à présent notre jeu de données pré-traité au format hdf5 pour l'exploiter ensuite par notre modèle deep. Il faut faire attention ici de bien noter dans le nom des fichiers à créer les méthodes de pre-processing choisies, pour éviter d'écraser des fichiers hdf5 déjà créés."
      ],
      "metadata": {
        "id": "-bzgc4pfvFEG"
      }
    },
    {
      "cell_type": "code",
      "source": [
        "def conv_hdf5(name_hdf5_normal, name_hdf5_malade, arrlist_normal, arrlist_malade): \n",
        "  # écriture du dataset \"normal\" en un fichier \".hdf5\" à partir de l'array correspondante créée précédemment\n",
        "  h5f = h5py.File('/content/drive/MyDrive/UV PROJET P6/' +  name_hdf5_normal, 'w')\n",
        "  h5f.create_dataset('dataset_1', data=arrlist_normal)\n",
        "  h5f.close()\n",
        "  # écriture du dataset \"malade\" en un fichier \".hdf5\" à partir de l'array correspondante créée précédemment\n",
        "  h5f1 = h5py.File('/content/drive/MyDrive/UV PROJET P6/' + name_hdf5_malade, 'w')\n",
        "  h5f1.create_dataset('dataset_2', data=arrlist_malade)\n",
        "  h5f1.close()"
      ],
      "metadata": {
        "id": "VG73yVnKO2Fn"
      },
      "execution_count": null,
      "outputs": []
    },
    {
      "cell_type": "markdown",
      "source": [
        "# **III - Exécution des différents pre-processings**\n",
        "\n",
        "---\n",
        "\n"
      ],
      "metadata": {
        "id": "Xot13IvKEirp"
      }
    },
    {
      "cell_type": "markdown",
      "source": [
        "### ▶ Méthodes 21 31"
      ],
      "metadata": {
        "id": "ciBcOzUohWTc"
      }
    },
    {
      "cell_type": "code",
      "source": [
        "importation()\n",
        "padding_1()\n",
        "padding_2_1()\n",
        "padding_3_1()\n",
        "conv_gris()\n",
        "\n",
        "# conversion des images 128*128 en array numpy binaire d'images en 48*48\n",
        "arrlist_normal = []\n",
        "folder_path = os.path.join(\"/tmp/COVID_crop\", \"normal\")\n",
        "for fname in os.listdir(folder_path):\n",
        "    fpath = os.path.join(folder_path, fname)\n",
        "    for imgs in os.listdir(fpath):\n",
        "      array = np.array(Image.open(fpath + \"/\" + imgs).resize((48, 48))) / 255\n",
        "      arrlist_normal.append(array)          \n",
        "\n",
        "arrlist_malade = []\n",
        "folder_path = os.path.join(\"/tmp/COVID_crop\", \"malade\")\n",
        "for fname in os.listdir(folder_path):\n",
        "    fpath = os.path.join(folder_path, fname)\n",
        "    for imgs in os.listdir(fpath):\n",
        "      array = np.array(Image.open(fpath + \"/\" + imgs).resize((48, 48))) / 255\n",
        "      arrlist_malade.append(array)\n",
        "\n",
        "name_hdf5_normal, name_hdf5_malade = 'dataset_normal_methode_2.1_3.1.hdf5', 'dataset_malade_methode_2.1_3.1.hdf5'\n",
        "# écriture du dataset \"normal\" en un fichier \".hdf5\" à partir de l'array correspondante créée précédemment\n",
        "h5f = h5py.File('/content/drive/MyDrive/UV PROJET P6/' +  name_hdf5_normal, 'w')\n",
        "h5f.create_dataset('dataset_1', data=arrlist_normal)\n",
        "h5f.close()\n",
        "# écriture du dataset \"malade\" en un fichier \".hdf5\" à partir de l'array correspondante créée précédemment\n",
        "h5f1 = h5py.File('/content/drive/MyDrive/UV PROJET P6/' + name_hdf5_malade, 'w')\n",
        "h5f1.create_dataset('dataset_2', data=arrlist_malade)\n",
        "h5f1.close()"
      ],
      "metadata": {
        "colab": {
          "base_uri": "https://localhost:8080/"
        },
        "id": "t6JJ8hU1Glry",
        "outputId": "64f11bd4-81af-46b8-b680-e0589dd26001"
      },
      "execution_count": null,
      "outputs": [
        {
          "output_type": "stream",
          "name": "stdout",
          "text": [
            "Error: /tmp/COVID_crop - No such file or directory.\n",
            "Deleted 1046 scans\n"
          ]
        }
      ]
    },
    {
      "cell_type": "markdown",
      "source": [
        "### ▶ Méthodes 21 32"
      ],
      "metadata": {
        "id": "51E9LdG2omGO"
      }
    },
    {
      "cell_type": "code",
      "source": [
        "importation()\n",
        "padding_1()\n",
        "padding_2_1()\n",
        "padding_3_2()\n",
        "conv_gris()\n",
        "\n",
        "# conversion des images 128*128 en array numpy binaire d'images en 48*48\n",
        "arrlist_normal = []\n",
        "folder_path = os.path.join(\"/tmp/COVID_crop\", \"normal\")\n",
        "for fname in os.listdir(folder_path):\n",
        "    fpath = os.path.join(folder_path, fname)\n",
        "    for imgs in os.listdir(fpath):\n",
        "      array = np.array(Image.open(fpath + \"/\" + imgs).resize((48, 48))) / 255\n",
        "      arrlist_normal.append(array)          \n",
        "\n",
        "arrlist_malade = []\n",
        "folder_path = os.path.join(\"/tmp/COVID_crop\", \"malade\")\n",
        "for fname in os.listdir(folder_path):\n",
        "    fpath = os.path.join(folder_path, fname)\n",
        "    for imgs in os.listdir(fpath):\n",
        "      array = np.array(Image.open(fpath + \"/\" + imgs).resize((48, 48))) / 255\n",
        "      arrlist_malade.append(array)\n",
        "\n",
        "name_hdf5_normal, name_hdf5_malade = 'dataset_normal_methode_2.1_3.2.hdf5', 'dataset_malade_methode_2.1_3.2.hdf5'\n",
        "# écriture du dataset \"normal\" en un fichier \".hdf5\" à partir de l'array correspondante créée précédemment\n",
        "h5f = h5py.File('/content/drive/MyDrive/UV PROJET P6/' +  name_hdf5_normal, 'w')\n",
        "h5f.create_dataset('dataset_1', data=arrlist_normal)\n",
        "h5f.close()\n",
        "# écriture du dataset \"malade\" en un fichier \".hdf5\" à partir de l'array correspondante créée précédemment\n",
        "h5f1 = h5py.File('/content/drive/MyDrive/UV PROJET P6/' + name_hdf5_malade, 'w')\n",
        "h5f1.create_dataset('dataset_2', data=arrlist_malade)\n",
        "h5f1.close()"
      ],
      "metadata": {
        "id": "Mjm4gM2lokqC"
      },
      "execution_count": null,
      "outputs": []
    },
    {
      "cell_type": "markdown",
      "source": [
        "### ▶ Méthodes 22 31"
      ],
      "metadata": {
        "id": "YT-nDii8hd_A"
      }
    },
    {
      "cell_type": "code",
      "source": [
        "importation()\n",
        "padding_1()\n",
        "padding_2_2()\n",
        "padding_3_1()\n",
        "conv_gris()\n",
        "\n",
        "# conversion des images 128*128 en array numpy binaire d'images en 48*48\n",
        "arrlist_normal = []\n",
        "folder_path = os.path.join(\"/tmp/COVID_crop\", \"normal\")\n",
        "for fname in os.listdir(folder_path):\n",
        "    fpath = os.path.join(folder_path, fname)\n",
        "    for imgs in os.listdir(fpath):\n",
        "      array = np.array(Image.open(fpath + \"/\" + imgs).resize((48, 48))) / 255\n",
        "      arrlist_normal.append(array)          \n",
        "\n",
        "arrlist_malade = []\n",
        "folder_path = os.path.join(\"/tmp/COVID_crop\", \"malade\")\n",
        "for fname in os.listdir(folder_path):\n",
        "    fpath = os.path.join(folder_path, fname)\n",
        "    for imgs in os.listdir(fpath):\n",
        "      array = np.array(Image.open(fpath + \"/\" + imgs).resize((48, 48))) / 255\n",
        "      arrlist_malade.append(array)\n",
        "\n",
        "name_hdf5_normal, name_hdf5_malade = 'dataset_normal_methode_2.2_3.1.hdf5', 'dataset_malade_methode_2.2_3.1.hdf5'\n",
        "# écriture du dataset \"normal\" en un fichier \".hdf5\" à partir de l'array correspondante créée précédemment\n",
        "h5f = h5py.File('/content/drive/MyDrive/UV PROJET P6/' +  name_hdf5_normal, 'w')\n",
        "h5f.create_dataset('dataset_1', data=arrlist_normal)\n",
        "h5f.close()\n",
        "# écriture du dataset \"malade\" en un fichier \".hdf5\" à partir de l'array correspondante créée précédemment\n",
        "h5f1 = h5py.File('/content/drive/MyDrive/UV PROJET P6/' + name_hdf5_malade, 'w')\n",
        "h5f1.create_dataset('dataset_2', data=arrlist_malade)\n",
        "h5f1.close()"
      ],
      "metadata": {
        "id": "hTSqcs2jSYjW"
      },
      "execution_count": null,
      "outputs": []
    },
    {
      "cell_type": "markdown",
      "source": [
        "### ▶ Méthodes 22 32"
      ],
      "metadata": {
        "id": "cTqgr5Kzo9cM"
      }
    },
    {
      "cell_type": "code",
      "source": [
        "importation()\n",
        "padding_1()\n",
        "padding_2_2()\n",
        "padding_3_2()\n",
        "conv_gris()\n",
        "\n",
        "# conversion des images 128*128 en array numpy binaire d'images en 48*48\n",
        "arrlist_normal = []\n",
        "folder_path = os.path.join(\"/tmp/COVID_crop\", \"normal\")\n",
        "for fname in os.listdir(folder_path):\n",
        "    fpath = os.path.join(folder_path, fname)\n",
        "    for imgs in os.listdir(fpath):\n",
        "      array = np.array(Image.open(fpath + \"/\" + imgs).resize((48, 48))) / 255\n",
        "      arrlist_normal.append(array)          \n",
        "\n",
        "arrlist_malade = []\n",
        "folder_path = os.path.join(\"/tmp/COVID_crop\", \"malade\")\n",
        "for fname in os.listdir(folder_path):\n",
        "    fpath = os.path.join(folder_path, fname)\n",
        "    for imgs in os.listdir(fpath):\n",
        "      array = np.array(Image.open(fpath + \"/\" + imgs).resize((48, 48))) / 255\n",
        "      arrlist_malade.append(array)\n",
        "\n",
        "name_hdf5_normal, name_hdf5_malade = 'dataset_normal_methode_2.2_3.2.hdf5', 'dataset_malade_methode_2.2_3.2.hdf5'\n",
        "# écriture du dataset \"normal\" en un fichier \".hdf5\" à partir de l'array correspondante créée précédemment\n",
        "h5f = h5py.File('/content/drive/MyDrive/UV PROJET P6/' +  name_hdf5_normal, 'w')\n",
        "h5f.create_dataset('dataset_1', data=arrlist_normal)\n",
        "h5f.close()\n",
        "# écriture du dataset \"malade\" en un fichier \".hdf5\" à partir de l'array correspondante créée précédemment\n",
        "h5f1 = h5py.File('/content/drive/MyDrive/UV PROJET P6/' + name_hdf5_malade, 'w')\n",
        "h5f1.create_dataset('dataset_2', data=arrlist_malade)\n",
        "h5f1.close()"
      ],
      "metadata": {
        "id": "RqOXPyuipFzl"
      },
      "execution_count": null,
      "outputs": []
    },
    {
      "cell_type": "markdown",
      "source": [
        "### ▶ Méthodes 23 31"
      ],
      "metadata": {
        "id": "xVuuEIw1hhas"
      }
    },
    {
      "cell_type": "code",
      "source": [
        "importation()\n",
        "padding_1()\n",
        "padding_2_3()\n",
        "padding_3_1()\n",
        "conv_gris()\n",
        "\n",
        "# conversion des images 128*128 en array numpy binaire d'images en 48*48\n",
        "arrlist_normal = []\n",
        "folder_path = os.path.join(\"/tmp/COVID_crop\", \"normal\")\n",
        "for fname in os.listdir(folder_path):\n",
        "    fpath = os.path.join(folder_path, fname)\n",
        "    for imgs in os.listdir(fpath):\n",
        "      array = np.array(Image.open(fpath + \"/\" + imgs).resize((48, 48))) / 255\n",
        "      arrlist_normal.append(array)          \n",
        "\n",
        "arrlist_malade = []\n",
        "folder_path = os.path.join(\"/tmp/COVID_crop\", \"malade\")\n",
        "for fname in os.listdir(folder_path):\n",
        "    fpath = os.path.join(folder_path, fname)\n",
        "    for imgs in os.listdir(fpath):\n",
        "      array = np.array(Image.open(fpath + \"/\" + imgs).resize((48, 48))) / 255\n",
        "      arrlist_malade.append(array)\n",
        "\n",
        "name_hdf5_normal, name_hdf5_malade = 'dataset_normal_methode_2.3_3.1.hdf5', 'dataset_malade_methode_2.3_3.1.hdf5'\n",
        "# écriture du dataset \"normal\" en un fichier \".hdf5\" à partir de l'array correspondante créée précédemment\n",
        "h5f = h5py.File('/content/drive/MyDrive/UV PROJET P6/' +  name_hdf5_normal, 'w')\n",
        "h5f.create_dataset('dataset_1', data=arrlist_normal)\n",
        "h5f.close()\n",
        "# écriture du dataset \"malade\" en un fichier \".hdf5\" à partir de l'array correspondante créée précédemment\n",
        "h5f1 = h5py.File('/content/drive/MyDrive/UV PROJET P6/' + name_hdf5_malade, 'w')\n",
        "h5f1.create_dataset('dataset_2', data=arrlist_malade)\n",
        "h5f1.close()"
      ],
      "metadata": {
        "colab": {
          "base_uri": "https://localhost:8080/"
        },
        "id": "wsN5xQ-mSuGN",
        "outputId": "aef586a9-5559-4b0d-c8d1-f1b59aa2f86b"
      },
      "execution_count": null,
      "outputs": [
        {
          "output_type": "stream",
          "name": "stdout",
          "text": [
            "Deleted 1046 scans\n"
          ]
        }
      ]
    },
    {
      "cell_type": "markdown",
      "source": [
        "### ▶ Méthodes 23 32"
      ],
      "metadata": {
        "id": "T0_KKnAGhk73"
      }
    },
    {
      "cell_type": "code",
      "source": [
        "importation()\n",
        "padding_1()\n",
        "padding_2_3()\n",
        "padding_3_2()\n",
        "conv_gris()\n",
        "\n",
        "# conversion des images 128*128 en array numpy binaire d'images en 48*48\n",
        "arrlist_normal = []\n",
        "folder_path = os.path.join(\"/tmp/COVID_crop\", \"normal\")\n",
        "for fname in os.listdir(folder_path):\n",
        "    fpath = os.path.join(folder_path, fname)\n",
        "    for imgs in os.listdir(fpath):\n",
        "      array = np.array(Image.open(fpath + \"/\" + imgs).resize((48, 48))) / 255\n",
        "      arrlist_normal.append(array)          \n",
        "\n",
        "arrlist_malade = []\n",
        "folder_path = os.path.join(\"/tmp/COVID_crop\", \"malade\")\n",
        "for fname in os.listdir(folder_path):\n",
        "    fpath = os.path.join(folder_path, fname)\n",
        "    for imgs in os.listdir(fpath):\n",
        "      array = np.array(Image.open(fpath + \"/\" + imgs).resize((48, 48))) / 255\n",
        "      arrlist_malade.append(array)\n",
        "\n",
        "name_hdf5_normal, name_hdf5_malade = 'dataset_normal_methode_2.3_3.2.hdf5', 'dataset_malade_methode_2.3_3.2.hdf5'\n",
        "# écriture du dataset \"normal\" en un fichier \".hdf5\" à partir de l'array correspondante créée précédemment\n",
        "h5f = h5py.File('/content/drive/MyDrive/UV PROJET P6/' +  name_hdf5_normal, 'w')\n",
        "h5f.create_dataset('dataset_1', data=arrlist_normal)\n",
        "h5f.close()\n",
        "# écriture du dataset \"malade\" en un fichier \".hdf5\" à partir de l'array correspondante créée précédemment\n",
        "h5f1 = h5py.File('/content/drive/MyDrive/UV PROJET P6/' + name_hdf5_malade, 'w')\n",
        "h5f1.create_dataset('dataset_2', data=arrlist_malade)\n",
        "h5f1.close()"
      ],
      "metadata": {
        "colab": {
          "base_uri": "https://localhost:8080/"
        },
        "id": "rxFPcaYDT_w6",
        "outputId": "ae058b93-df28-4f2f-9c7e-78800fdb5efc"
      },
      "execution_count": null,
      "outputs": [
        {
          "output_type": "stream",
          "name": "stdout",
          "text": [
            "Deleted 1046 scans\n"
          ]
        }
      ]
    }
  ]
}