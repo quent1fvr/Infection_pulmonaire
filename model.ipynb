{
  "nbformat": 4,
  "nbformat_minor": 0,
  "metadata": {
    "colab": {
      "name": "model.ipynb",
      "provenance": [],
      "collapsed_sections": [
        "W3Z-_Zwxe-mU",
        "cj_oqkaDqyPo",
        "Z9CXuqkVz0mc",
        "06EDLL3az90D",
        "nKA6GL1PGk0S",
        "5lqlF5RLBIzR",
        "8zAKMv88BPBd"
      ],
      "include_colab_link": true
    },
    "kernelspec": {
      "name": "python3",
      "display_name": "Python 3"
    },
    "language_info": {
      "name": "python"
    },
    "accelerator": "GPU"
  },
  "cells": [
    {
      "cell_type": "markdown",
      "metadata": {
        "id": "view-in-github",
        "colab_type": "text"
      },
      "source": [
        "<a href=\"https://colab.research.google.com/github/quent1fvr/Infection_pulmonaire/blob/main/model.ipynb\" target=\"_parent\"><img src=\"https://colab.research.google.com/assets/colab-badge.svg\" alt=\"Open In Colab\"/></a>"
      ]
    },
    {
      "cell_type": "markdown",
      "source": [
        "# **0 - Importation des données et librairies**\n",
        "\n"
      ],
      "metadata": {
        "id": "R0SKEyPHdLaR"
      }
    },
    {
      "cell_type": "code",
      "execution_count": 29,
      "metadata": {
        "colab": {
          "base_uri": "https://localhost:8080/"
        },
        "id": "F10e-oz4Zha_",
        "outputId": "8c896770-869b-420f-ebd4-d612906d7818"
      },
      "outputs": [
        {
          "output_type": "stream",
          "name": "stdout",
          "text": [
            "Drive already mounted at /content/drive; to attempt to forcibly remount, call drive.mount(\"/content/drive\", force_remount=True).\n"
          ]
        }
      ],
      "source": [
        "from google.colab import drive\n",
        "drive.mount('/content/drive')"
      ]
    },
    {
      "cell_type": "code",
      "execution_count": 34,
      "metadata": {
        "id": "Pn70CEYAbrPv"
      },
      "outputs": [],
      "source": [
        "import numpy as np\n",
        "import matplotlib.pyplot as plt\n",
        "import h5py\n",
        "import tensorflow\n",
        "import keras\n",
        "from tensorflow.keras import models\n",
        "from tensorflow.keras.models import Sequential, Model\n",
        "from tensorflow.keras.layers import Dense, Flatten\n",
        "from tensorflow.keras.layers import TimeDistributed\n",
        "from keras.layers import Conv3D, Conv2D,BatchNormalization,MaxPooling2D , MaxPooling3D, GlobalMaxPool2D,GlobalMaxPool3D\n",
        "from keras.layers import TimeDistributed, GRU, Dense, Dropout\n",
        "from sklearn.metrics import classification_report, confusion_matrix"
      ]
    },
    {
      "cell_type": "markdown",
      "source": [
        "Pour l'import des datasets on crée une fonction dont les paramètres sont les chemins des fichiers hdf5 que l'on souhaite utiliser pour l'apprentissage.\n",
        "\n",
        "Les fichiers hdf5 sont générés par le notebook \"pre_processing.ipynb\". \n",
        "Pour faire notre choix de pré-processing, il suffit de choisir les fichiers hdf5 dont les méthodes du notebook sont indiquées dans le nom du fichier : \n",
        "\"dataset_..._methode_num1_num2\""
      ],
      "metadata": {
        "id": "dm-fUdAmYTI2"
      }
    },
    {
      "cell_type": "code",
      "source": [
        "def importation(path_normal, path_malade):\n",
        "  hf_normal = h5py.File(path_normal, \"r\")\n",
        "  hf_malade = h5py.File(path_malade, \"r\")\n",
        "\n",
        "  # conversion des données en tableaux numpy\n",
        "  Data_normal = np.array(hf_normal[\"dataset_1\"][:])\n",
        "  Data_malade = np.array(hf_malade[\"dataset_2\"][:])\n",
        "\n",
        "  return [Data_normal, Data_malade]"
      ],
      "metadata": {
        "id": "50dxvFRJZy-3"
      },
      "execution_count": 31,
      "outputs": []
    },
    {
      "cell_type": "markdown",
      "source": [
        "# **1 - Etude des données et création des labels**\n",
        "\n"
      ],
      "metadata": {
        "id": "v3imvT8OdXzP"
      }
    },
    {
      "cell_type": "code",
      "source": [
        "Dataset = importation(\"/content/drive/MyDrive/UV PROJET P6/Dataset_normal.hdf5\", \n",
        "                      \"/content/drive/MyDrive/UV PROJET P6/Dataset_malade.hdf5\")"
      ],
      "metadata": {
        "id": "7f4LhS0F2eE0"
      },
      "execution_count": 24,
      "outputs": []
    },
    {
      "cell_type": "code",
      "execution_count": 25,
      "metadata": {
        "colab": {
          "base_uri": "https://localhost:8080/"
        },
        "id": "6iURefCa8cbi",
        "outputId": "9e7f8e78-5c12-46d7-cf17-b247f20d57ba"
      },
      "outputs": [
        {
          "output_type": "execute_result",
          "data": {
            "text/plain": [
              "((55720, 48, 48), (54600, 48, 48))"
            ]
          },
          "metadata": {},
          "execution_count": 25
        }
      ],
      "source": [
        "Data_normal = Dataset[0]\n",
        "Data_malade = Dataset[1]\n",
        "Data_normal.shape, Data_malade.shape"
      ]
    },
    {
      "cell_type": "markdown",
      "source": [
        "Afin de pouvoir utiliser des séquences dans les modèles suivant, nous modifions la shape des tableaux en créant des séquences de taille 70. "
      ],
      "metadata": {
        "id": "hgGGpodXcHeY"
      }
    },
    {
      "cell_type": "code",
      "source": [
        "Data_normal = Data_normal.reshape(Data_normal.shape[0]//70, 70, 48, 48)\n",
        "Data_malade = Data_malade.reshape(Data_malade.shape[0]//70, 70, 48, 48)\n",
        "Data = np.concatenate((Data_normal, Data_malade))\n",
        "Data.shape"
      ],
      "metadata": {
        "colab": {
          "base_uri": "https://localhost:8080/"
        },
        "id": "k79efgCdlAeU",
        "outputId": "a67bc60b-71b2-4974-af7f-f7b53571b8be"
      },
      "execution_count": 26,
      "outputs": [
        {
          "output_type": "execute_result",
          "data": {
            "text/plain": [
              "(1576, 70, 48, 48)"
            ]
          },
          "metadata": {},
          "execution_count": 26
        }
      ]
    },
    {
      "cell_type": "markdown",
      "source": [
        "Le jeu de données est composé de séquences de 70 images par scan, c'est pourquoi on attribue un label pour chaque séquence :\n",
        "- 0 : La personne est négative au COVID\n",
        "- 1 : La personne est positive au COVID"
      ],
      "metadata": {
        "id": "B9aqSe55doPl"
      }
    },
    {
      "cell_type": "code",
      "execution_count": 27,
      "metadata": {
        "id": "2wqEZaJ98vEL",
        "colab": {
          "base_uri": "https://localhost:8080/"
        },
        "outputId": "a62acad6-3681-4d13-b041-56087cf0a55c"
      },
      "outputs": [
        {
          "output_type": "execute_result",
          "data": {
            "text/plain": [
              "(1576,)"
            ]
          },
          "metadata": {},
          "execution_count": 27
        }
      ],
      "source": [
        "Y_normal = np.zeros(Data_normal.shape[0], dtype=np.int8)\n",
        "Y_malade = np.ones(Data_malade.shape[0], dtype=np.int8)\n",
        "Y = np.concatenate((Y_normal, Y_malade))\n",
        "Y.shape"
      ]
    },
    {
      "cell_type": "markdown",
      "source": [
        "Afin de faciliter le traitement pour la suite on encapsule la création des labels dans une fonction :"
      ],
      "metadata": {
        "id": "domC3skI1qC4"
      }
    },
    {
      "cell_type": "code",
      "source": [
        "def labelling(Dataset):\n",
        "  Data_normal = Dataset[0]\n",
        "  Data_malade = Dataset[1]\n",
        "  Data_normal = Data_normal.reshape(Data_normal.shape[0]//70, 70, 48, 48)\n",
        "  Data_malade = Data_malade.reshape(Data_malade.shape[0]//70, 70, 48, 48)\n",
        "  Data = np.concatenate((Data_normal, Data_malade))\n",
        "  Y_normal = np.zeros(Data_normal.shape[0], dtype=np.int8)\n",
        "  Y_malade = np.ones(Data_malade.shape[0], dtype=np.int8)\n",
        "  Y = np.concatenate((Y_normal, Y_malade))\n",
        "  return [Data, Y]"
      ],
      "metadata": {
        "id": "FNW7UhvO15nZ"
      },
      "execution_count": 28,
      "outputs": []
    },
    {
      "cell_type": "markdown",
      "source": [
        "# **2 - Création des modèles d'apprentissage**\n",
        "\n",
        "\n"
      ],
      "metadata": {
        "id": "vcO2BEhHeztz"
      }
    },
    {
      "cell_type": "markdown",
      "source": [
        "## Définition des fonctions globales"
      ],
      "metadata": {
        "id": "cj_oqkaDqyPo"
      }
    },
    {
      "cell_type": "markdown",
      "source": [
        "#### Fonction de visualisation"
      ],
      "metadata": {
        "id": "Z9CXuqkVz0mc"
      }
    },
    {
      "cell_type": "code",
      "source": [
        "def visualisation(model):\n",
        "  acc = model.history.history['acc']\n",
        "  val_acc = model.history.history['val_acc']\n",
        "  loss = model.history.history['loss']\n",
        "  val_loss = model.history.history['val_loss']\n",
        "\n",
        "  print(acc)\n",
        "  print(val_acc)\n",
        "\n",
        "  print(loss)\n",
        "  print(val_loss)\n",
        "\n",
        "  epochs = range(len(acc))\n",
        "\n",
        "  plt.plot(epochs, acc, 'bo', label='Training acc')\n",
        "  plt.plot(epochs, val_acc, 'b', label='Validation acc')\n",
        "  plt.title('Training and validation accuracy')\n",
        "  plt.legend()\n",
        "\n",
        "  plt.figure()\n",
        "\n",
        "  plt.plot(epochs, loss, 'bo', label='Training loss')\n",
        "  plt.plot(epochs, val_loss, 'b', label='Validation loss')\n",
        "  plt.title('Training and validation loss')\n",
        "  plt.legend()\n",
        "\n",
        "  plt.show()"
      ],
      "metadata": {
        "id": "-jmePbAcq3Fr"
      },
      "execution_count": 38,
      "outputs": []
    },
    {
      "cell_type": "markdown",
      "source": [
        "#### Fonction d'évaluation du modèle sur un jeu de données aléatoire"
      ],
      "metadata": {
        "id": "06EDLL3az90D"
      }
    },
    {
      "cell_type": "code",
      "source": [
        "def evaluation(dataLength, iterations,model):\n",
        "  \n",
        "  for i in range(iterations):\n",
        "    Data_test = []\n",
        "    for i in range(dataLength):\n",
        "      aleatoire = np.random.randint(0, Data_normal.shape[0])\n",
        "      Data_test.append(Data_normal[aleatoire][:])\n",
        "    for i in range(dataLength):\n",
        "      aleatoire = np.random.randint(0, Data_malade.shape[0])\n",
        "      Data_test.append(Data_malade[aleatoire][:])\n",
        "\n",
        "    Data_test = np.array(Data_test)\n",
        "    #Data_test.shape\n",
        "\n",
        "    Y_test_normal = np.zeros(dataLength)\n",
        "    Y_test_malade = np.ones(dataLength)\n",
        "    Y_test = np.concatenate((Y_test_normal, Y_test_malade))\n",
        "    model.evaluate(Data_test, Y_test)\n",
        "    preds = np.round(model.predict(Data_test),0)\n",
        "    cm = confusion_matrix(Y_test, preds)\n",
        "    print(cm)\n",
        "\n"
      ],
      "metadata": {
        "id": "FE3j5TCgrcG2"
      },
      "execution_count": 52,
      "outputs": []
    },
    {
      "cell_type": "markdown",
      "source": [
        "### Modèle 3 ...\n",
        "\n"
      ],
      "metadata": {
        "id": "idtO9hzpiXui"
      }
    },
    {
      "cell_type": "markdown",
      "source": [
        "## Définition des paramètres globaux"
      ],
      "metadata": {
        "id": "Zie1LkbXiDoE"
      }
    },
    {
      "cell_type": "code",
      "execution_count": 35,
      "metadata": {
        "id": "AhXYRexwcyC9"
      },
      "outputs": [],
      "source": [
        "SIZE = (48, 48)\n",
        "NBFRAME = 70\n",
        "EPOCH = 40\n",
        "BS = 8\n",
        "CHANNEL = 1\n",
        "INSHAPE = (70, 48, 48, 1)\n"
      ]
    },
    {
      "cell_type": "markdown",
      "source": [
        "On fixe la graine aléatoire afin que l'on puisse avoir des résultats similaires en relançant l'apprentissage : "
      ],
      "metadata": {
        "id": "lQqlZXljfFJg"
      }
    },
    {
      "cell_type": "code",
      "execution_count": 36,
      "metadata": {
        "id": "gxRDqnX5Iw67"
      },
      "outputs": [],
      "source": [
        "def fix_seed(seed):\n",
        "    tensorflow.random.set_seed(seed)\n",
        "\n",
        "SEED = 42\n",
        "fix_seed(SEED)"
      ]
    },
    {
      "cell_type": "markdown",
      "source": [
        "## Définition des modèles ▶ Choix à faire"
      ],
      "metadata": {
        "id": "hs79V2SVig94"
      }
    },
    {
      "cell_type": "markdown",
      "source": [
        "\n",
        "\n",
        "### Modèle 1 : 2DCNN + GRU"
      ],
      "metadata": {
        "id": "OZ0mzZT_HxvC"
      }
    },
    {
      "cell_type": "code",
      "execution_count": 58,
      "metadata": {
        "id": "vSYZFlKERU3g"
      },
      "outputs": [],
      "source": [
        "def build_convnet2D(shape=(48, 48)):\n",
        "    momentum = .9\n",
        "    model = keras.Sequential()\n",
        "    model.add(Conv2D(64, (3,3), input_shape=shape,\n",
        "        padding='same', activation='relu'))\n",
        "    model.add(Conv2D(64, (3,3), padding='same', activation='relu'))\n",
        "    model.add(BatchNormalization(momentum=momentum))\n",
        "    \n",
        "    model.add(MaxPooling2D())\n",
        "    \n",
        "    model.add(Conv2D(128, (3,3), padding='same', activation='relu'))\n",
        "    model.add(Conv2D(128, (3,3), padding='same', activation='relu'))\n",
        "    model.add(BatchNormalization(momentum=momentum))\n",
        "    \n",
        "    # flatten...\n",
        "    model.add(GlobalMaxPool2D())\n",
        "    return model"
      ]
    },
    {
      "cell_type": "code",
      "execution_count": 57,
      "metadata": {
        "id": "1HHIhoAbRiFZ"
      },
      "outputs": [],
      "source": [
        "def action_model2D(shape=(70,48, 48), nbout=1):\n",
        "    # Create our convnet with (112, 112, 3) input shape\n",
        "    convnet = build_convnet2D(shape[1:])\n",
        "    \n",
        "    # then create our final model\n",
        "    model = keras.Sequential()\n",
        "    # add the convnet with (70,48,48,3) shape\n",
        "    model.add(TimeDistributed(convnet, input_shape=(70,48, 48,1)))\n",
        "    # add the GRU cell\n",
        "    model.add(GRU(64))\n",
        "    # and finally, we make a decision network\n",
        "    model.add(Dense(1024, activation='relu'))\n",
        "    model.add(Dropout(.2))\n",
        "    model.add(Dense(512, activation='relu'))\n",
        "    model.add(Dropout(.2))\n",
        "    model.add(Dense(128, activation='relu'))\n",
        "    model.add(Dropout(.2))\n",
        "    model.add(Dense(64, activation='relu'))\n",
        "    model.add(Dense(nbout, activation='sigmoid'))\n",
        "    return model"
      ]
    },
    {
      "cell_type": "markdown",
      "source": [
        "### Modèle 2 : 3DCNN\n",
        "\n",
        "\n"
      ],
      "metadata": {
        "id": "W3Z-_Zwxe-mU"
      }
    },
    {
      "cell_type": "code",
      "execution_count": 70,
      "metadata": {
        "id": "76Mz9v0RbzAE"
      },
      "outputs": [],
      "source": [
        "# création du modèle d'apprentissage\n",
        "\n",
        "def build_convnet3D(shape=(70, 48, 48)):\n",
        "    momentum = .9\n",
        "    model = keras.Sequential()\n",
        "    model.add(Conv3D(64, (3, 3, 3), input_shape=shape, padding='same', activation='relu'))\n",
        "    model.add(Conv3D(64, (3, 3, 3), padding='same', activation='relu'))\n",
        "    model.add(BatchNormalization(momentum=momentum))\n",
        "    \n",
        "    model.add(MaxPooling3D())\n",
        "    \n",
        "    model.add(Conv3D(128, (3, 3, 3), padding='same', activation='relu'))\n",
        "    model.add(Conv3D(128, (3, 3, 3), padding='same', activation='relu'))\n",
        "    model.add(BatchNormalization(momentum=momentum))\n",
        "    \n",
        "    model.add(GlobalMaxPool3D())\n",
        "    return model"
      ]
    },
    {
      "cell_type": "code",
      "execution_count": 71,
      "metadata": {
        "id": "4sLlW2a2b_pO"
      },
      "outputs": [],
      "source": [
        "# création du réseau de décision\n",
        "\n",
        "def action_model3D(shape=(70, 48, 48, 1), nbout=1):\n",
        "    convnet = build_convnet3D(shape)\n",
        "    \n",
        "    model = keras.Sequential()\n",
        "    model.add(convnet)\n",
        "    # and finally, we make a decision network\n",
        "    model.add(Dense(1024, activation='relu'))\n",
        "    model.add(Dropout(.5))\n",
        "    model.add(Dense(512, activation='relu'))\n",
        "    model.add(Dropout(.5))\n",
        "    model.add(Dense(128, activation='relu'))\n",
        "    model.add(Dropout(.5))\n",
        "    model.add(Dense(64, activation='relu'))\n",
        "    model.add(Dense(nbout, activation='sigmoid'))\n",
        "    return model"
      ]
    },
    {
      "cell_type": "markdown",
      "source": [
        "# **3 - Apprentissage  des modèles**\n"
      ],
      "metadata": {
        "id": "ShGymUpmS4aI"
      }
    },
    {
      "cell_type": "markdown",
      "source": [
        "## Modèle 1 : Conv2D"
      ],
      "metadata": {
        "id": "nKA6GL1PGk0S"
      }
    },
    {
      "cell_type": "markdown",
      "source": [
        "▶ run modèle conv2D"
      ],
      "metadata": {
        "id": "jtOc9ZlCGqqn"
      }
    },
    {
      "cell_type": "code",
      "source": [
        "my_callbacks = [\n",
        "    tensorflow.keras.callbacks.EarlyStopping(\n",
        "        monitor = 'val_acc',\n",
        "        min_delta = 0,\n",
        "        patience = 15,\n",
        "        verbose = 1,\n",
        "        restore_best_weights = True),\n",
        "    tensorflow.keras.callbacks.ModelCheckpoint(filepath='/tmp/myModel2D.h5')\n",
        "]"
      ],
      "metadata": {
        "id": "IGbvZBfdIIcl"
      },
      "execution_count": 59,
      "outputs": []
    },
    {
      "cell_type": "code",
      "source": [
        "model2D = action_model2D(INSHAPE, nbout=1)\n",
        "optimizer = tensorflow.keras.optimizers.Adam(0.001)\n",
        "model2D.compile(\n",
        "    optimizer,\n",
        "    'binary_crossentropy',\n",
        "    metrics=['acc']\n",
        ")"
      ],
      "metadata": {
        "id": "gL9KWAgZdwO7"
      },
      "execution_count": 60,
      "outputs": []
    },
    {
      "cell_type": "code",
      "source": [
        "model2D.fit(Data, Y, epochs=EPOCH, validation_split=0.2, batch_size=BS, callbacks=my_callbacks)"
      ],
      "metadata": {
        "id": "z2MveOudG0fw",
        "outputId": "a043a455-697f-42fc-84e9-a272863820a9",
        "colab": {
          "base_uri": "https://localhost:8080/"
        }
      },
      "execution_count": 61,
      "outputs": [
        {
          "output_type": "stream",
          "name": "stdout",
          "text": [
            "Epoch 1/40\n",
            "158/158 [==============================] - 47s 282ms/step - loss: 0.5229 - acc: 0.7825 - val_loss: 0.7642 - val_acc: 0.6646\n",
            "Epoch 2/40\n",
            "158/158 [==============================] - 43s 272ms/step - loss: 0.4505 - acc: 0.7849 - val_loss: 0.8853 - val_acc: 0.6709\n",
            "Epoch 3/40\n",
            "158/158 [==============================] - 43s 274ms/step - loss: 0.3861 - acc: 0.8413 - val_loss: 0.3718 - val_acc: 0.8513\n",
            "Epoch 4/40\n",
            "158/158 [==============================] - 43s 272ms/step - loss: 0.3228 - acc: 0.8683 - val_loss: 0.3865 - val_acc: 0.8544\n",
            "Epoch 5/40\n",
            "158/158 [==============================] - 43s 273ms/step - loss: 0.3763 - acc: 0.8381 - val_loss: 0.5273 - val_acc: 0.6203\n",
            "Epoch 6/40\n",
            "158/158 [==============================] - 43s 272ms/step - loss: 0.3643 - acc: 0.8429 - val_loss: 0.3913 - val_acc: 0.7405\n",
            "Epoch 7/40\n",
            "158/158 [==============================] - 43s 272ms/step - loss: 0.3252 - acc: 0.8706 - val_loss: 0.5409 - val_acc: 0.7120\n",
            "Epoch 8/40\n",
            "158/158 [==============================] - 43s 273ms/step - loss: 0.3302 - acc: 0.8556 - val_loss: 0.3324 - val_acc: 0.8861\n",
            "Epoch 9/40\n",
            "158/158 [==============================] - 43s 273ms/step - loss: 0.3123 - acc: 0.8810 - val_loss: 0.6707 - val_acc: 0.7310\n",
            "Epoch 10/40\n",
            "158/158 [==============================] - 43s 272ms/step - loss: 0.2541 - acc: 0.9000 - val_loss: 0.7555 - val_acc: 0.7342\n",
            "Epoch 11/40\n",
            "158/158 [==============================] - 43s 273ms/step - loss: 0.2172 - acc: 0.9127 - val_loss: 0.7104 - val_acc: 0.7057\n",
            "Epoch 12/40\n",
            "158/158 [==============================] - 43s 273ms/step - loss: 0.2425 - acc: 0.9135 - val_loss: 0.3987 - val_acc: 0.8608\n",
            "Epoch 13/40\n",
            "158/158 [==============================] - 43s 272ms/step - loss: 0.2123 - acc: 0.9222 - val_loss: 0.2563 - val_acc: 0.8354\n",
            "Epoch 14/40\n",
            "158/158 [==============================] - 43s 272ms/step - loss: 0.2301 - acc: 0.9151 - val_loss: 0.2552 - val_acc: 0.8671\n",
            "Epoch 15/40\n",
            "158/158 [==============================] - 43s 272ms/step - loss: 0.2097 - acc: 0.9183 - val_loss: 0.2372 - val_acc: 0.9019\n",
            "Epoch 16/40\n",
            "158/158 [==============================] - 43s 273ms/step - loss: 0.1836 - acc: 0.9246 - val_loss: 1.2262 - val_acc: 0.5665\n",
            "Epoch 17/40\n",
            "158/158 [==============================] - 43s 273ms/step - loss: 0.2003 - acc: 0.9341 - val_loss: 0.2698 - val_acc: 0.8797\n",
            "Epoch 18/40\n",
            "158/158 [==============================] - 43s 272ms/step - loss: 0.1569 - acc: 0.9405 - val_loss: 0.2811 - val_acc: 0.8861\n",
            "Epoch 19/40\n",
            "158/158 [==============================] - 43s 272ms/step - loss: 0.1915 - acc: 0.9349 - val_loss: 0.3844 - val_acc: 0.8101\n",
            "Epoch 20/40\n",
            "158/158 [==============================] - 43s 272ms/step - loss: 0.1779 - acc: 0.9349 - val_loss: 0.2587 - val_acc: 0.8639\n",
            "Epoch 21/40\n",
            "158/158 [==============================] - 43s 272ms/step - loss: 0.1659 - acc: 0.9405 - val_loss: 0.1636 - val_acc: 0.9209\n",
            "Epoch 22/40\n",
            "158/158 [==============================] - 43s 272ms/step - loss: 0.1339 - acc: 0.9500 - val_loss: 0.2383 - val_acc: 0.8829\n",
            "Epoch 23/40\n",
            "158/158 [==============================] - 43s 272ms/step - loss: 0.1349 - acc: 0.9524 - val_loss: 0.2920 - val_acc: 0.8639\n",
            "Epoch 24/40\n",
            "158/158 [==============================] - 43s 274ms/step - loss: 0.1296 - acc: 0.9452 - val_loss: 0.1319 - val_acc: 0.9367\n",
            "Epoch 25/40\n",
            "158/158 [==============================] - 43s 272ms/step - loss: 0.1340 - acc: 0.9508 - val_loss: 0.3992 - val_acc: 0.8259\n",
            "Epoch 26/40\n",
            "158/158 [==============================] - 43s 272ms/step - loss: 0.1532 - acc: 0.9421 - val_loss: 0.4364 - val_acc: 0.8259\n",
            "Epoch 27/40\n",
            "158/158 [==============================] - 43s 272ms/step - loss: 0.1307 - acc: 0.9452 - val_loss: 0.3200 - val_acc: 0.8703\n",
            "Epoch 28/40\n",
            "158/158 [==============================] - 43s 272ms/step - loss: 0.1134 - acc: 0.9603 - val_loss: 0.2152 - val_acc: 0.8861\n",
            "Epoch 29/40\n",
            "158/158 [==============================] - 43s 272ms/step - loss: 0.1143 - acc: 0.9587 - val_loss: 0.1772 - val_acc: 0.9146\n",
            "Epoch 30/40\n",
            "158/158 [==============================] - 43s 272ms/step - loss: 0.1459 - acc: 0.9413 - val_loss: 0.3508 - val_acc: 0.8386\n",
            "Epoch 31/40\n",
            "158/158 [==============================] - 43s 272ms/step - loss: 0.1191 - acc: 0.9516 - val_loss: 0.1348 - val_acc: 0.9589\n",
            "Epoch 32/40\n",
            "158/158 [==============================] - 43s 272ms/step - loss: 0.1279 - acc: 0.9579 - val_loss: 0.2096 - val_acc: 0.8861\n",
            "Epoch 33/40\n",
            "158/158 [==============================] - 43s 272ms/step - loss: 0.1585 - acc: 0.9437 - val_loss: 0.1147 - val_acc: 0.9367\n",
            "Epoch 34/40\n",
            "158/158 [==============================] - 43s 271ms/step - loss: 0.1146 - acc: 0.9587 - val_loss: 0.1134 - val_acc: 0.9367\n",
            "Epoch 35/40\n",
            "158/158 [==============================] - 43s 271ms/step - loss: 0.1181 - acc: 0.9516 - val_loss: 0.1809 - val_acc: 0.9241\n",
            "Epoch 36/40\n",
            "158/158 [==============================] - 43s 272ms/step - loss: 0.0966 - acc: 0.9635 - val_loss: 0.3302 - val_acc: 0.8861\n",
            "Epoch 37/40\n",
            "158/158 [==============================] - 43s 272ms/step - loss: 0.1097 - acc: 0.9579 - val_loss: 0.1134 - val_acc: 0.9715\n",
            "Epoch 38/40\n",
            "158/158 [==============================] - 43s 272ms/step - loss: 0.1007 - acc: 0.9643 - val_loss: 0.1619 - val_acc: 0.9399\n",
            "Epoch 39/40\n",
            "158/158 [==============================] - 43s 271ms/step - loss: 0.0840 - acc: 0.9635 - val_loss: 0.2516 - val_acc: 0.9019\n",
            "Epoch 40/40\n",
            "158/158 [==============================] - 43s 272ms/step - loss: 0.2142 - acc: 0.9056 - val_loss: 0.3353 - val_acc: 0.8513\n"
          ]
        },
        {
          "output_type": "execute_result",
          "data": {
            "text/plain": [
              "<keras.callbacks.History at 0x7f7403d7b810>"
            ]
          },
          "metadata": {},
          "execution_count": 61
        }
      ]
    },
    {
      "cell_type": "markdown",
      "source": [
        "On récupère le modèle avec les meilleurs poids epoch 37 : "
      ],
      "metadata": {
        "id": "lt2d2Lw3GzVo"
      }
    },
    {
      "cell_type": "code",
      "source": [
        "model2D_saved = model2D.load_weights(\"/tmp/myModel2D.h5\")"
      ],
      "metadata": {
        "id": "MPLyiuJ1G460"
      },
      "execution_count": 45,
      "outputs": []
    },
    {
      "cell_type": "code",
      "source": [
        "visualisation(model2D)"
      ],
      "metadata": {
        "id": "_6iiAW9gHBDJ",
        "outputId": "a3e1b0ae-9358-4f04-e4d5-1d4521be4dce",
        "colab": {
          "base_uri": "https://localhost:8080/",
          "height": 634
        }
      },
      "execution_count": 62,
      "outputs": [
        {
          "output_type": "stream",
          "name": "stdout",
          "text": [
            "[0.7825396656990051, 0.7849206328392029, 0.841269850730896, 0.8682539463043213, 0.8380952477455139, 0.8428571224212646, 0.870634913444519, 0.855555534362793, 0.8809523582458496, 0.8999999761581421, 0.9126983880996704, 0.9134920835494995, 0.9222221970558167, 0.9150793552398682, 0.9182539582252502, 0.9246031641960144, 0.9341269731521606, 0.9404761791229248, 0.934920608997345, 0.934920608997345, 0.9404761791229248, 0.949999988079071, 0.9523809552192688, 0.9452381134033203, 0.9507936239242554, 0.9420635104179382, 0.9452381134033203, 0.9603174328804016, 0.958730161190033, 0.9412698149681091, 0.9515873193740845, 0.9579365253448486, 0.9436507821083069, 0.958730161190033, 0.9515873193740845, 0.9634920358657837, 0.9579365253448486, 0.9642857313156128, 0.9634920358657837, 0.9055555462837219]\n",
            "[0.6645569801330566, 0.6708860993385315, 0.8512658476829529, 0.8544303774833679, 0.6202531456947327, 0.7405063509941101, 0.7120253443717957, 0.8860759735107422, 0.7310126423835754, 0.7341772317886353, 0.7056962251663208, 0.8607594966888428, 0.8354430198669434, 0.8670886158943176, 0.9018987417221069, 0.5664557218551636, 0.8797468543052673, 0.8860759735107422, 0.8101266026496887, 0.8639240264892578, 0.9208860993385315, 0.8829113841056824, 0.8639240264892578, 0.9367088675498962, 0.8259493708610535, 0.8259493708610535, 0.8702531456947327, 0.8860759735107422, 0.9145569801330566, 0.8386076092720032, 0.9588607549667358, 0.8860759735107422, 0.9367088675498962, 0.9367088675498962, 0.9240506291389465, 0.8860759735107422, 0.9715189933776855, 0.9398733973503113, 0.9018987417221069, 0.8512658476829529]\n",
            "[0.5229143500328064, 0.45050203800201416, 0.38614094257354736, 0.3227734863758087, 0.376334547996521, 0.3643450438976288, 0.32521602511405945, 0.33021295070648193, 0.3122686743736267, 0.2541482746601105, 0.21721336245536804, 0.24246497452259064, 0.21232756972312927, 0.23010315001010895, 0.20966923236846924, 0.18360279500484467, 0.20026692748069763, 0.15692871809005737, 0.19152401387691498, 0.17787449061870575, 0.16594479978084564, 0.13393454253673553, 0.13493263721466064, 0.12961609661579132, 0.13400517404079437, 0.15315918624401093, 0.13070343434810638, 0.11339903622865677, 0.11432122439146042, 0.1459299772977829, 0.11907286942005157, 0.12791846692562103, 0.15851949155330658, 0.11462969332933426, 0.11813263595104218, 0.09664734452962875, 0.10966697335243225, 0.10074225068092346, 0.08403470367193222, 0.21421024203300476]\n",
            "[0.7641528248786926, 0.8853365778923035, 0.37181395292282104, 0.3865390121936798, 0.527279794216156, 0.391343891620636, 0.540938138961792, 0.3323673903942108, 0.6707046627998352, 0.7554899454116821, 0.7104155421257019, 0.3987017869949341, 0.2562524378299713, 0.2552237808704376, 0.23721924424171448, 1.226196527481079, 0.26980629563331604, 0.2810748517513275, 0.38437607884407043, 0.25873950123786926, 0.16358861327171326, 0.23831428587436676, 0.29197701811790466, 0.1319190263748169, 0.39917922019958496, 0.4363684356212616, 0.3199799656867981, 0.21524634957313538, 0.1771717369556427, 0.3507886230945587, 0.13484495878219604, 0.20962609350681305, 0.11473998427391052, 0.11338747292757034, 0.18092574179172516, 0.33015236258506775, 0.11342542618513107, 0.16186194121837616, 0.25157052278518677, 0.3353349566459656]\n"
          ]
        },
        {
          "output_type": "display_data",
          "data": {
            "text/plain": [
              "<Figure size 432x288 with 1 Axes>"
            ],
            "image/png": "[encoded data removed]"
          },
          "metadata": {
            "needs_background": "light"
          }
        },
        {
          "output_type": "display_data",
          "data": {
            "text/plain": [
              "<Figure size 432x288 with 1 Axes>"
            ],
            "image/png": "[encoded data removed]"
          },
          "metadata": {
            "needs_background": "light"
          }
        }
      ]
    },
    {
      "cell_type": "code",
      "source": [
        "evaluation(150,2,model2D)"
      ],
      "metadata": {
        "id": "6WM7z3LoHChL",
        "outputId": "5e52d91b-e4d2-4467-845a-c04e29f32603",
        "colab": {
          "base_uri": "https://localhost:8080/"
        }
      },
      "execution_count": 65,
      "outputs": [
        {
          "output_type": "stream",
          "name": "stdout",
          "text": [
            "10/10 [==============================] - 2s 194ms/step - loss: 0.2271 - acc: 0.9200\n",
            "[[146   4]\n",
            " [ 20 130]]\n",
            "10/10 [==============================] - 2s 195ms/step - loss: 0.1756 - acc: 0.9233\n",
            "[[145   5]\n",
            " [ 18 132]]\n"
          ]
        }
      ]
    },
    {
      "cell_type": "markdown",
      "source": [
        "## Modèle 2 : 3DCNN"
      ],
      "metadata": {
        "id": "5lqlF5RLBIzR"
      }
    },
    {
      "cell_type": "markdown",
      "source": [
        "▶ run du modèle 3DCNN"
      ],
      "metadata": {
        "id": "DAY1wdhjGOa0"
      }
    },
    {
      "cell_type": "code",
      "source": [
        "my_callbacks = [\n",
        "    tensorflow.keras.callbacks.EarlyStopping(\n",
        "        monitor = 'val_acc',\n",
        "        min_delta = 0,\n",
        "        patience = 25,\n",
        "        verbose = 1,\n",
        "        restore_best_weights = True),\n",
        "    tensorflow.keras.callbacks.ModelCheckpoint(filepath='/tmp/myModel3D.h5')\n",
        "]"
      ],
      "metadata": {
        "id": "1mljhoROILfE"
      },
      "execution_count": 68,
      "outputs": []
    },
    {
      "cell_type": "code",
      "source": [
        "model3DCNN = action_model3D(INSHAPE, nbout=1)\n",
        "optimizer = tensorflow.keras.optimizers.Adam(0.001)\n",
        "model3DCNN.compile(\n",
        "    optimizer,\n",
        "    'binary_crossentropy',\n",
        "    metrics=['acc']\n",
        ")"
      ],
      "metadata": {
        "id": "4r-Omm8ff1uY"
      },
      "execution_count": 80,
      "outputs": []
    },
    {
      "cell_type": "code",
      "execution_count": 81,
      "metadata": {
        "id": "cpLr9k_UFMte",
        "outputId": "da6a0104-49ce-44ef-defe-cd107512f62b",
        "colab": {
          "base_uri": "https://localhost:8080/"
        }
      },
      "outputs": [
        {
          "output_type": "stream",
          "name": "stdout",
          "text": [
            "Epoch 1/40\n",
            "158/158 [==============================] - 90s 563ms/step - loss: 0.9944 - acc: 0.5357 - val_loss: 0.8424 - val_acc: 0.0095\n",
            "Epoch 2/40\n",
            "158/158 [==============================] - 88s 556ms/step - loss: 0.7133 - acc: 0.5952 - val_loss: 0.9151 - val_acc: 0.0095\n",
            "Epoch 3/40\n",
            "158/158 [==============================] - 87s 549ms/step - loss: 0.5820 - acc: 0.7016 - val_loss: 1.1727 - val_acc: 0.0095\n",
            "Epoch 4/40\n",
            "158/158 [==============================] - 86s 543ms/step - loss: 0.6547 - acc: 0.6365 - val_loss: 1.0608 - val_acc: 0.0032\n",
            "Epoch 5/40\n",
            "158/158 [==============================] - 86s 545ms/step - loss: 0.6130 - acc: 0.7016 - val_loss: 0.9399 - val_acc: 0.0000e+00\n",
            "Epoch 6/40\n",
            "158/158 [==============================] - 86s 544ms/step - loss: 0.6252 - acc: 0.6738 - val_loss: 1.1877 - val_acc: 0.2722\n",
            "Epoch 7/40\n",
            "158/158 [==============================] - 86s 542ms/step - loss: 0.4474 - acc: 0.8183 - val_loss: 0.4670 - val_acc: 0.8133\n",
            "Epoch 8/40\n",
            "158/158 [==============================] - 86s 543ms/step - loss: 0.3629 - acc: 0.8627 - val_loss: 0.3332 - val_acc: 0.8259\n",
            "Epoch 9/40\n",
            "158/158 [==============================] - 86s 542ms/step - loss: 0.3696 - acc: 0.8690 - val_loss: 0.6380 - val_acc: 0.6709\n",
            "Epoch 10/40\n",
            "158/158 [==============================] - 86s 542ms/step - loss: 0.3052 - acc: 0.8849 - val_loss: 1.0207 - val_acc: 0.5285\n",
            "Epoch 11/40\n",
            "158/158 [==============================] - 86s 542ms/step - loss: 0.2817 - acc: 0.8738 - val_loss: 0.5751 - val_acc: 0.8133\n",
            "Epoch 12/40\n",
            "158/158 [==============================] - 86s 542ms/step - loss: 0.2778 - acc: 0.8889 - val_loss: 0.2422 - val_acc: 0.8861\n",
            "Epoch 13/40\n",
            "158/158 [==============================] - 86s 542ms/step - loss: 0.2834 - acc: 0.9024 - val_loss: 0.4233 - val_acc: 0.7816\n",
            "Epoch 14/40\n",
            "158/158 [==============================] - 85s 541ms/step - loss: 0.2452 - acc: 0.9063 - val_loss: 0.3285 - val_acc: 0.8513\n",
            "Epoch 15/40\n",
            "158/158 [==============================] - 86s 542ms/step - loss: 0.2588 - acc: 0.9040 - val_loss: 0.2955 - val_acc: 0.8513\n",
            "Epoch 16/40\n",
            "158/158 [==============================] - 86s 542ms/step - loss: 0.2161 - acc: 0.9190 - val_loss: 0.9905 - val_acc: 0.6804\n",
            "Epoch 17/40\n",
            "158/158 [==============================] - 85s 541ms/step - loss: 0.2244 - acc: 0.9135 - val_loss: 0.4131 - val_acc: 0.8386\n",
            "Epoch 18/40\n",
            "158/158 [==============================] - 85s 541ms/step - loss: 0.1971 - acc: 0.9190 - val_loss: 0.2354 - val_acc: 0.8892\n",
            "Epoch 19/40\n",
            "158/158 [==============================] - 86s 542ms/step - loss: 0.1790 - acc: 0.9278 - val_loss: 0.4230 - val_acc: 0.8481\n",
            "Epoch 20/40\n",
            "158/158 [==============================] - 85s 541ms/step - loss: 0.2108 - acc: 0.9222 - val_loss: 0.4964 - val_acc: 0.7911\n",
            "Epoch 21/40\n",
            "158/158 [==============================] - 86s 542ms/step - loss: 0.1792 - acc: 0.9325 - val_loss: 0.1634 - val_acc: 0.9209\n",
            "Epoch 22/40\n",
            "158/158 [==============================] - 85s 541ms/step - loss: 0.1475 - acc: 0.9421 - val_loss: 0.4562 - val_acc: 0.8418\n",
            "Epoch 23/40\n",
            "158/158 [==============================] - 85s 541ms/step - loss: 0.1737 - acc: 0.9302 - val_loss: 0.1739 - val_acc: 0.9177\n",
            "Epoch 24/40\n",
            "158/158 [==============================] - 85s 541ms/step - loss: 0.1935 - acc: 0.9294 - val_loss: 0.2535 - val_acc: 0.8861\n",
            "Epoch 25/40\n",
            "158/158 [==============================] - 85s 540ms/step - loss: 0.1725 - acc: 0.9325 - val_loss: 0.6651 - val_acc: 0.8006\n",
            "Epoch 26/40\n",
            "158/158 [==============================] - 85s 541ms/step - loss: 0.1796 - acc: 0.9389 - val_loss: 0.4659 - val_acc: 0.8608\n",
            "Epoch 27/40\n",
            "158/158 [==============================] - 85s 541ms/step - loss: 0.1364 - acc: 0.9500 - val_loss: 0.4368 - val_acc: 0.8070\n",
            "Epoch 28/40\n",
            "158/158 [==============================] - 85s 541ms/step - loss: 0.1443 - acc: 0.9444 - val_loss: 0.2734 - val_acc: 0.8797\n",
            "Epoch 29/40\n",
            "158/158 [==============================] - 85s 541ms/step - loss: 0.1607 - acc: 0.9397 - val_loss: 0.3055 - val_acc: 0.8703\n",
            "Epoch 30/40\n",
            "158/158 [==============================] - 86s 542ms/step - loss: 0.1302 - acc: 0.9500 - val_loss: 0.4340 - val_acc: 0.8354\n",
            "Epoch 31/40\n",
            "158/158 [==============================] - 85s 541ms/step - loss: 0.1246 - acc: 0.9476 - val_loss: 0.1941 - val_acc: 0.9335\n",
            "Epoch 32/40\n",
            "158/158 [==============================] - 85s 541ms/step - loss: 0.1164 - acc: 0.9556 - val_loss: 0.3293 - val_acc: 0.8924\n",
            "Epoch 33/40\n",
            "158/158 [==============================] - 85s 541ms/step - loss: 0.1590 - acc: 0.9548 - val_loss: 0.3356 - val_acc: 0.7943\n",
            "Epoch 34/40\n",
            "158/158 [==============================] - 85s 541ms/step - loss: 0.2386 - acc: 0.9056 - val_loss: 0.2191 - val_acc: 0.9019\n",
            "Epoch 35/40\n",
            "158/158 [==============================] - 85s 541ms/step - loss: 0.1861 - acc: 0.9310 - val_loss: 0.3477 - val_acc: 0.8797\n",
            "Epoch 36/40\n",
            "158/158 [==============================] - 85s 541ms/step - loss: 0.1181 - acc: 0.9595 - val_loss: 0.3882 - val_acc: 0.9177\n",
            "Epoch 37/40\n",
            "158/158 [==============================] - 85s 541ms/step - loss: 0.1188 - acc: 0.9556 - val_loss: 0.2046 - val_acc: 0.9082\n",
            "Epoch 38/40\n",
            "158/158 [==============================] - 85s 540ms/step - loss: 0.1013 - acc: 0.9643 - val_loss: 0.2018 - val_acc: 0.9082\n",
            "Epoch 39/40\n",
            "158/158 [==============================] - 86s 542ms/step - loss: 0.1296 - acc: 0.9444 - val_loss: 0.0594 - val_acc: 0.9810\n",
            "Epoch 40/40\n",
            "158/158 [==============================] - 85s 540ms/step - loss: 0.1424 - acc: 0.9452 - val_loss: 0.2908 - val_acc: 0.8861\n"
          ]
        },
        {
          "output_type": "execute_result",
          "data": {
            "text/plain": [
              "<keras.callbacks.History at 0x7f73f452ef10>"
            ]
          },
          "metadata": {},
          "execution_count": 81
        }
      ],
      "source": [
        "model3DCNN.fit(Data, Y, epochs=EPOCH, validation_split=0.2, batch_size=BS, callbacks=my_callbacks)"
      ]
    },
    {
      "cell_type": "markdown",
      "source": [
        "On sauvegarde le modèle avec les meilleurs poids : "
      ],
      "metadata": {
        "id": "cPSWFvU6E-ZJ"
      }
    },
    {
      "cell_type": "code",
      "source": [
        "model3D_saved = model3DCNN.load_weights(\"/tmp/myModel3D.h5\")"
      ],
      "metadata": {
        "id": "VfcZ94IdFDat"
      },
      "execution_count": 82,
      "outputs": []
    },
    {
      "cell_type": "code",
      "source": [
        "visualisation(model3DCNN)"
      ],
      "metadata": {
        "id": "2E4YsGTrFFHt",
        "outputId": "cc56850c-6e68-470b-d88f-7e10aeab92df",
        "colab": {
          "base_uri": "https://localhost:8080/",
          "height": 634
        }
      },
      "execution_count": 83,
      "outputs": [
        {
          "output_type": "stream",
          "name": "stdout",
          "text": [
            "[0.5357142686843872, 0.5952380895614624, 0.7015873193740845, 0.6365079283714294, 0.7015873193740845, 0.6738095283508301, 0.8182539939880371, 0.8626984357833862, 0.8690476417541504, 0.8849206566810608, 0.8738095164299011, 0.8888888955116272, 0.9023809432983398, 0.9063491821289062, 0.9039682745933533, 0.9190475940704346, 0.9134920835494995, 0.9190475940704346, 0.9277777671813965, 0.9222221970558167, 0.932539701461792, 0.9420635104179382, 0.9301587343215942, 0.9293650984764099, 0.932539701461792, 0.9388889074325562, 0.949999988079071, 0.9444444179534912, 0.9396825432777405, 0.949999988079071, 0.9476190209388733, 0.9555555582046509, 0.9547619223594666, 0.9055555462837219, 0.9309523701667786, 0.9595237970352173, 0.9555555582046509, 0.9642857313156128, 0.9444444179534912, 0.9452381134033203]\n",
            "[0.009493670426309109, 0.009493670426309109, 0.009493670426309109, 0.0031645570416003466, 0.0, 0.2721518874168396, 0.8132911324501038, 0.8259493708610535, 0.6708860993385315, 0.5284810066223145, 0.8132911324501038, 0.8860759735107422, 0.7816455960273743, 0.8512658476829529, 0.8512658476829529, 0.6803797483444214, 0.8386076092720032, 0.8892405033111572, 0.8481012582778931, 0.7911392450332642, 0.9208860993385315, 0.8417721390724182, 0.9177215099334717, 0.8860759735107422, 0.800632894039154, 0.8607594966888428, 0.8069620132446289, 0.8797468543052673, 0.8702531456947327, 0.8354430198669434, 0.9335442781448364, 0.892405092716217, 0.7943037748336792, 0.9018987417221069, 0.8797468543052673, 0.9177215099334717, 0.9082278609275818, 0.9082278609275818, 0.9810126423835754, 0.8860759735107422]\n",
            "[0.9943511486053467, 0.7132564783096313, 0.5819573998451233, 0.6546642184257507, 0.612962007522583, 0.6251930594444275, 0.4473898708820343, 0.36290696263313293, 0.36962997913360596, 0.30520397424697876, 0.2817043364048004, 0.27784889936447144, 0.28343620896339417, 0.24522368609905243, 0.2588252127170563, 0.2161290943622589, 0.2243519425392151, 0.19714920222759247, 0.17899362742900848, 0.21083000302314758, 0.17922769486904144, 0.14749675989151, 0.17372047901153564, 0.19353610277175903, 0.17254801094532013, 0.17958952486515045, 0.13638949394226074, 0.14431333541870117, 0.16068394482135773, 0.13017748296260834, 0.12463819980621338, 0.11643257737159729, 0.15902215242385864, 0.23859502375125885, 0.18607588112354279, 0.11810856312513351, 0.11880344152450562, 0.10134575515985489, 0.12960907816886902, 0.14240798354148865]\n",
            "[0.8424180150032043, 0.9151178598403931, 1.1727126836776733, 1.0608375072479248, 0.9399188756942749, 1.1877262592315674, 0.46696215867996216, 0.3332483172416687, 0.6379767060279846, 1.0206550359725952, 0.5750575661659241, 0.2421627938747406, 0.4233400821685791, 0.3285128176212311, 0.29547831416130066, 0.9904778599739075, 0.4131382405757904, 0.23538866639137268, 0.42301374673843384, 0.49644947052001953, 0.16338953375816345, 0.45623326301574707, 0.17385858297348022, 0.253541499376297, 0.6650770902633667, 0.4658980965614319, 0.43677225708961487, 0.27340853214263916, 0.3054909110069275, 0.43397536873817444, 0.19411711394786835, 0.3292807936668396, 0.33562996983528137, 0.21914030611515045, 0.3477252721786499, 0.3882346749305725, 0.20462946593761444, 0.2017672210931778, 0.059360209852457047, 0.2907719612121582]\n"
          ]
        },
        {
          "output_type": "display_data",
          "data": {
            "text/plain": [
              "<Figure size 432x288 with 1 Axes>"
            ],
            "image/png": "[encoded data removed]"
          },
          "metadata": {
            "needs_background": "light"
          }
        },
        {
          "output_type": "display_data",
          "data": {
            "text/plain": [
              "<Figure size 432x288 with 1 Axes>"
            ],
            "image/png": "[encoded data removed]"
          },
          "metadata": {
            "needs_background": "light"
          }
        }
      ]
    },
    {
      "cell_type": "code",
      "source": [
        "evaluation(100, 2,model3DCNN)"
      ],
      "metadata": {
        "id": "7rUQO7rGzg3F",
        "outputId": "41f64ce8-a075-4632-eb8e-c397b78049e1",
        "colab": {
          "base_uri": "https://localhost:8080/"
        }
      },
      "execution_count": 85,
      "outputs": [
        {
          "output_type": "stream",
          "name": "stdout",
          "text": [
            "7/7 [==============================] - 3s 411ms/step - loss: 0.1534 - acc: 0.9400\n",
            "[[99  1]\n",
            " [11 89]]\n",
            "7/7 [==============================] - 3s 413ms/step - loss: 0.1689 - acc: 0.9350\n",
            "[[99  1]\n",
            " [12 88]]\n"
          ]
        }
      ]
    },
    {
      "cell_type": "markdown",
      "source": [
        "Le modèle est plus efficace que les modèles 2D, il prédit avec une accuracy de 93,5% sur un jeu de séqurnces aléatoire en test."
      ],
      "metadata": {
        "id": "tertfpbASGAJ"
      }
    }
  ]
}