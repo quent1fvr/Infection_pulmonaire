{
  "nbformat": 4,
  "nbformat_minor": 0,
  "metadata": {
    "colab": {
      "name": "model.ipynb",
      "provenance": [],
      "collapsed_sections": [
        "R0SKEyPHdLaR",
        "cj_oqkaDqyPo",
        "Z9CXuqkVz0mc",
        "06EDLL3az90D",
        "hs79V2SVig94",
        "OZ0mzZT_HxvC",
        "W3Z-_Zwxe-mU"
      ],
      "include_colab_link": true
    },
    "kernelspec": {
      "name": "python3",
      "display_name": "Python 3"
    },
    "language_info": {
      "name": "python"
    },
    "accelerator": "GPU"
  },
  "cells": [
    {
      "cell_type": "markdown",
      "metadata": {
        "id": "view-in-github",
        "colab_type": "text"
      },
      "source": [
        "<a href=\"https://colab.research.google.com/github/quent1fvr/Infection_pulmonaire/blob/main/model.ipynb\" target=\"_parent\"><img src=\"https://colab.research.google.com/assets/colab-badge.svg\" alt=\"Open In Colab\"/></a>"
      ]
    },
    {
      "cell_type": "markdown",
      "source": [
        "# **0 - Importation des données et librairies**\n",
        "\n"
      ],
      "metadata": {
        "id": "R0SKEyPHdLaR"
      }
    },
    {
      "cell_type": "code",
      "execution_count": 8,
      "metadata": {
        "colab": {
          "base_uri": "https://localhost:8080/"
        },
        "id": "F10e-oz4Zha_",
        "outputId": "6cbe086b-f327-433e-aade-e1b7b83d33f8"
      },
      "outputs": [
        {
          "output_type": "stream",
          "name": "stdout",
          "text": [
            "Drive already mounted at /content/drive; to attempt to forcibly remount, call drive.mount(\"/content/drive\", force_remount=True).\n"
          ]
        }
      ],
      "source": [
        "from google.colab import drive\n",
        "drive.mount('/content/drive')"
      ]
    },
    {
      "cell_type": "code",
      "execution_count": 9,
      "metadata": {
        "id": "Pn70CEYAbrPv"
      },
      "outputs": [],
      "source": [
        "import numpy as np\n",
        "import matplotlib.pyplot as plt\n",
        "import h5py\n",
        "import tensorflow\n",
        "import keras\n",
        "from tensorflow.keras import models\n",
        "from tensorflow.keras.models import Sequential, Model\n",
        "from tensorflow.keras.layers import Dense, Flatten\n",
        "from tensorflow.keras.layers import TimeDistributed\n",
        "from keras.layers import Conv3D, Conv2D,BatchNormalization,MaxPooling2D , MaxPooling3D, GlobalMaxPool2D,GlobalMaxPool3D\n",
        "from keras.layers import TimeDistributed, GRU, Dense, Dropout\n",
        "from sklearn.metrics import classification_report, confusion_matrix"
      ]
    },
    {
      "cell_type": "markdown",
      "source": [
        "Pour l'import des datasets on crée une fonction dont les paramètres sont les chemins des fichiers hdf5 que l'on souhaite utiliser pour l'apprentissage.\n",
        "\n",
        "Les fichiers hdf5 sont générés par le notebook \"pre_processing.ipynb\". \n",
        "Pour faire notre choix de pré-processing, il suffit de choisir les fichiers hdf5 dont les méthodes du notebook sont indiquées dans le nom du fichier : \n",
        "\"dataset_..._methode_num1_num2\""
      ],
      "metadata": {
        "id": "dm-fUdAmYTI2"
      }
    },
    {
      "cell_type": "code",
      "source": [
        "def importation(path_normal, path_malade):\n",
        "  hf_normal = h5py.File(path_normal, \"r\")\n",
        "  hf_malade = h5py.File(path_malade, \"r\")\n",
        "\n",
        "  # conversion des données en tableaux numpy\n",
        "  Data_normal = np.array(hf_normal[\"dataset_1\"][:])\n",
        "  Data_malade = np.array(hf_malade[\"dataset_2\"][:])\n",
        "\n",
        "  return [Data_normal, Data_malade]"
      ],
      "metadata": {
        "id": "50dxvFRJZy-3"
      },
      "execution_count": 10,
      "outputs": []
    },
    {
      "cell_type": "markdown",
      "source": [
        "# **1 - Etude des données et création des labels**\n",
        "\n"
      ],
      "metadata": {
        "id": "v3imvT8OdXzP"
      }
    },
    {
      "cell_type": "code",
      "source": [
        "Dataset = importation(\"/content/drive/MyDrive/UV PROJET P6/dataset_normal_methode_2.1_3.1.hdf5\", \n",
        "                      \"/content/drive/MyDrive/UV PROJET P6/dataset_malade_methode_2.1_3.1.hdf5\")"
      ],
      "metadata": {
        "id": "7f4LhS0F2eE0"
      },
      "execution_count": 22,
      "outputs": []
    },
    {
      "cell_type": "code",
      "execution_count": 23,
      "metadata": {
        "colab": {
          "base_uri": "https://localhost:8080/"
        },
        "id": "6iURefCa8cbi",
        "outputId": "6e0fec7d-6cd7-475e-a1bf-3eb788c3a3ac"
      },
      "outputs": [
        {
          "output_type": "execute_result",
          "data": {
            "text/plain": [
              "((55720, 48, 48), (54600, 48, 48))"
            ]
          },
          "metadata": {},
          "execution_count": 23
        }
      ],
      "source": [
        "Data_normal = Dataset[0]\n",
        "Data_malade = Dataset[1]\n",
        "Data_normal.shape, Data_malade.shape"
      ]
    },
    {
      "cell_type": "markdown",
      "source": [
        "Afin de pouvoir utiliser des séquences dans les modèles suivant, nous modifions la shape des tableaux en créant des séquences de taille 70. "
      ],
      "metadata": {
        "id": "hgGGpodXcHeY"
      }
    },
    {
      "cell_type": "code",
      "source": [
        "Data_normal = Data_normal.reshape(Data_normal.shape[0]//70, 70, 48, 48)\n",
        "Data_malade = Data_malade.reshape(Data_malade.shape[0]//70, 70, 48, 48)\n",
        "Data = np.concatenate((Data_normal, Data_malade))\n",
        "Data.shape"
      ],
      "metadata": {
        "colab": {
          "base_uri": "https://localhost:8080/"
        },
        "id": "k79efgCdlAeU",
        "outputId": "bb834e11-bc45-478e-9e9d-eafbcdc2c677"
      },
      "execution_count": 24,
      "outputs": [
        {
          "output_type": "execute_result",
          "data": {
            "text/plain": [
              "(1576, 70, 48, 48)"
            ]
          },
          "metadata": {},
          "execution_count": 24
        }
      ]
    },
    {
      "cell_type": "markdown",
      "source": [
        "Le jeu de données est composé de séquences de 70 images par scan, c'est pourquoi on attribue un label pour chaque séquence :\n",
        "- 0 : La personne est négative au COVID\n",
        "- 1 : La personne est positive au COVID"
      ],
      "metadata": {
        "id": "B9aqSe55doPl"
      }
    },
    {
      "cell_type": "code",
      "execution_count": 25,
      "metadata": {
        "id": "2wqEZaJ98vEL",
        "colab": {
          "base_uri": "https://localhost:8080/"
        },
        "outputId": "457fe64c-d3e2-479b-95e1-f0b1a7e0102f"
      },
      "outputs": [
        {
          "output_type": "execute_result",
          "data": {
            "text/plain": [
              "(1576,)"
            ]
          },
          "metadata": {},
          "execution_count": 25
        }
      ],
      "source": [
        "Y_normal = np.zeros(Data_normal.shape[0], dtype=np.int8)\n",
        "Y_malade = np.ones(Data_malade.shape[0], dtype=np.int8)\n",
        "Y = np.concatenate((Y_normal, Y_malade))\n",
        "Y.shape"
      ]
    },
    {
      "cell_type": "markdown",
      "source": [
        "Afin de faciliter le traitement pour la suite on encapsule la création des labels dans une fonction :"
      ],
      "metadata": {
        "id": "domC3skI1qC4"
      }
    },
    {
      "cell_type": "code",
      "source": [
        "def labelling(Dataset):\n",
        "  Data_normal = Dataset[0]\n",
        "  Data_malade = Dataset[1]\n",
        "  Data_normal = Data_normal.reshape(Data_normal.shape[0]//70, 70, 48, 48)\n",
        "  Data_malade = Data_malade.reshape(Data_malade.shape[0]//70, 70, 48, 48)\n",
        "  Data = np.concatenate((Data_normal, Data_malade))\n",
        "  Y_normal = np.zeros(Data_normal.shape[0], dtype=np.int8)\n",
        "  Y_malade = np.ones(Data_malade.shape[0], dtype=np.int8)\n",
        "  Y = np.concatenate((Y_normal, Y_malade))\n",
        "  return [Data, Y]"
      ],
      "metadata": {
        "id": "FNW7UhvO15nZ"
      },
      "execution_count": 26,
      "outputs": []
    },
    {
      "cell_type": "markdown",
      "source": [
        "# **2 - Création des modèles d'apprentissage**\n",
        "\n",
        "\n"
      ],
      "metadata": {
        "id": "vcO2BEhHeztz"
      }
    },
    {
      "cell_type": "markdown",
      "source": [
        "## Définition des fonctions globales"
      ],
      "metadata": {
        "id": "cj_oqkaDqyPo"
      }
    },
    {
      "cell_type": "markdown",
      "source": [
        "#### Fonction de visualisation"
      ],
      "metadata": {
        "id": "Z9CXuqkVz0mc"
      }
    },
    {
      "cell_type": "code",
      "source": [
        "def visualisation(model):\n",
        "  acc = model.history.history['acc']\n",
        "  val_acc = model.history.history['val_acc']\n",
        "  loss = model.history.history['loss']\n",
        "  val_loss = model.history.history['val_loss']\n",
        "\n",
        "  print(acc)\n",
        "  print(val_acc)\n",
        "\n",
        "  print(loss)\n",
        "  print(val_loss)\n",
        "\n",
        "  epochs = range(len(acc))\n",
        "\n",
        "  plt.plot(epochs, acc, 'bo', label='Training acc')\n",
        "  plt.plot(epochs, val_acc, 'b', label='Validation acc')\n",
        "  plt.title('Training and validation accuracy')\n",
        "  plt.legend()\n",
        "\n",
        "  plt.figure()\n",
        "\n",
        "  plt.plot(epochs, loss, 'bo', label='Training loss')\n",
        "  plt.plot(epochs, val_loss, 'b', label='Validation loss')\n",
        "  plt.title('Training and validation loss')\n",
        "  plt.legend()\n",
        "\n",
        "  plt.show()"
      ],
      "metadata": {
        "id": "-jmePbAcq3Fr"
      },
      "execution_count": 20,
      "outputs": []
    },
    {
      "cell_type": "markdown",
      "source": [
        "#### Fonction d'évaluation du modèle sur un jeu de données aléatoire"
      ],
      "metadata": {
        "id": "06EDLL3az90D"
      }
    },
    {
      "cell_type": "code",
      "source": [
        "def evaluation(dataLength, iterations, model):\n",
        "  \n",
        "  for i in range(iterations):\n",
        "    Data_test = []\n",
        "    for i in range(dataLength):\n",
        "      aleatoire = np.random.randint(0, Data_normal.shape[0])\n",
        "      Data_test.append(Data_normal[aleatoire][:])\n",
        "    for i in range(dataLength):\n",
        "      aleatoire = np.random.randint(0, Data_malade.shape[0])\n",
        "      Data_test.append(Data_malade[aleatoire][:])\n",
        "\n",
        "    Data_test = np.array(Data_test)\n",
        "    #Data_test.shape\n",
        "\n",
        "    Y_test_normal = np.zeros(dataLength)\n",
        "    Y_test_malade = np.ones(dataLength)\n",
        "    Y_test = np.concatenate((Y_test_normal, Y_test_malade))\n",
        "    model.evaluate(Data_test, Y_test)\n",
        "    preds = np.round(model.predict(Data_test),0)\n",
        "    cm = confusion_matrix(Y_test, preds)\n",
        "    print(cm)"
      ],
      "metadata": {
        "id": "FE3j5TCgrcG2"
      },
      "execution_count": 21,
      "outputs": []
    },
    {
      "cell_type": "markdown",
      "source": [
        "## Définition des paramètres globaux"
      ],
      "metadata": {
        "id": "Zie1LkbXiDoE"
      }
    },
    {
      "cell_type": "code",
      "execution_count": 4,
      "metadata": {
        "id": "AhXYRexwcyC9"
      },
      "outputs": [],
      "source": [
        "SIZE = (48, 48)\n",
        "NBFRAME = 70\n",
        "EPOCH = 40\n",
        "BS = 8\n",
        "CHANNEL = 1\n",
        "INSHAPE = (70, 48, 48, 1)"
      ]
    },
    {
      "cell_type": "markdown",
      "source": [
        "On fixe la graine aléatoire afin que l'on puisse avoir des résultats similaires en relançant l'apprentissage : "
      ],
      "metadata": {
        "id": "lQqlZXljfFJg"
      }
    },
    {
      "cell_type": "code",
      "execution_count": 11,
      "metadata": {
        "id": "gxRDqnX5Iw67"
      },
      "outputs": [],
      "source": [
        "def fix_seed(seed):\n",
        "    tensorflow.random.set_seed(seed)\n",
        "\n",
        "SEED = 42\n",
        "fix_seed(SEED)"
      ]
    },
    {
      "cell_type": "markdown",
      "source": [
        "## Définition des modèles"
      ],
      "metadata": {
        "id": "hs79V2SVig94"
      }
    },
    {
      "cell_type": "markdown",
      "source": [
        "\n",
        "\n",
        "### Modèle 1 : 2DCNN + GRU"
      ],
      "metadata": {
        "id": "OZ0mzZT_HxvC"
      }
    },
    {
      "cell_type": "code",
      "execution_count": 14,
      "metadata": {
        "id": "vSYZFlKERU3g"
      },
      "outputs": [],
      "source": [
        "# création du modèle d'apprentissage\n",
        "\n",
        "def build_convnet2D(shape=(48, 48)):\n",
        "    momentum = .9\n",
        "    model = keras.Sequential()\n",
        "    model.add(Conv2D(64, (3, 3), input_shape=shape,\n",
        "        padding='same', activation='relu'))\n",
        "    model.add(Conv2D(64, (3, 3), padding='same', activation='relu'))\n",
        "    model.add(BatchNormalization(momentum=momentum))\n",
        "    \n",
        "    model.add(MaxPooling2D())\n",
        "    \n",
        "    model.add(Conv2D(128, (3, 3), padding='same', activation='relu'))\n",
        "    model.add(Conv2D(128, (3, 3), padding='same', activation='relu'))\n",
        "    model.add(BatchNormalization(momentum=momentum))\n",
        "    \n",
        "    # flatten...\n",
        "    model.add(GlobalMaxPool2D())\n",
        "    return model"
      ]
    },
    {
      "cell_type": "code",
      "execution_count": 15,
      "metadata": {
        "id": "1HHIhoAbRiFZ"
      },
      "outputs": [],
      "source": [
        "# création du réseau de décision\n",
        "\n",
        "def action_model_2DCNNGRU(shape=(70, 48, 48), nbout=1):\n",
        "    # Create our convnet with (112, 112, 3) input shape\n",
        "    convnet = build_convnet2D(shape[1:])\n",
        "    \n",
        "    # then create our final model\n",
        "    model = keras.Sequential()\n",
        "    # add the convnet with (70, 48, 48, 3) shape\n",
        "    model.add(TimeDistributed(convnet, input_shape=(70, 48, 48,1)))\n",
        "    # add the GRU cell\n",
        "    model.add(GRU(64))\n",
        "    # and finally, we make a decision network\n",
        "    model.add(Dense(1024, activation='relu'))\n",
        "    model.add(Dropout(.2))\n",
        "    model.add(Dense(512, activation='relu'))\n",
        "    model.add(Dropout(.2))\n",
        "    model.add(Dense(128, activation='relu'))\n",
        "    model.add(Dropout(.2))\n",
        "    model.add(Dense(64, activation='relu'))\n",
        "    model.add(Dense(nbout, activation='sigmoid'))\n",
        "    return model"
      ]
    },
    {
      "cell_type": "markdown",
      "source": [
        "### Modèle 2 : 3DCNN\n",
        "\n",
        "\n"
      ],
      "metadata": {
        "id": "W3Z-_Zwxe-mU"
      }
    },
    {
      "cell_type": "code",
      "execution_count": 16,
      "metadata": {
        "id": "76Mz9v0RbzAE"
      },
      "outputs": [],
      "source": [
        "# création du modèle d'apprentissage\n",
        "\n",
        "def build_convnet3D(shape=(70, 48, 48)):\n",
        "    momentum = .9\n",
        "    model = keras.Sequential()\n",
        "    model.add(Conv3D(64, (3, 3, 3), input_shape=shape, padding='same', activation='relu'))\n",
        "    model.add(Conv3D(64, (3, 3, 3), padding='same', activation='relu'))\n",
        "    model.add(BatchNormalization(momentum=momentum))\n",
        "    \n",
        "    model.add(MaxPooling3D())\n",
        "    \n",
        "    model.add(Conv3D(128, (3, 3, 3), padding='same', activation='relu'))\n",
        "    model.add(Conv3D(128, (3, 3, 3), padding='same', activation='relu'))\n",
        "    model.add(BatchNormalization(momentum=momentum))\n",
        "    \n",
        "    model.add(GlobalMaxPool3D())\n",
        "    return model"
      ]
    },
    {
      "cell_type": "code",
      "execution_count": 17,
      "metadata": {
        "id": "4sLlW2a2b_pO"
      },
      "outputs": [],
      "source": [
        "# création du réseau de décision\n",
        "\n",
        "def action_model_3DCNN(shape=(70, 48, 48, 1), nbout=1):\n",
        "    convnet = build_convnet3D(shape)\n",
        "    \n",
        "    model = keras.Sequential()\n",
        "    model.add(convnet)\n",
        "    # and finally, we make a decision network\n",
        "    model.add(Dense(1024, activation='relu'))\n",
        "    model.add(Dropout(.5))\n",
        "    model.add(Dense(512, activation='relu'))\n",
        "    model.add(Dropout(.5))\n",
        "    model.add(Dense(128, activation='relu'))\n",
        "    model.add(Dropout(.5))\n",
        "    model.add(Dense(64, activation='relu'))\n",
        "    model.add(Dense(nbout, activation='sigmoid'))\n",
        "    return model"
      ]
    },
    {
      "cell_type": "markdown",
      "source": [
        "# **3 - Apprentissage  des modèles**\n"
      ],
      "metadata": {
        "id": "ShGymUpmS4aI"
      }
    },
    {
      "cell_type": "markdown",
      "source": [
        "## Modèle 1 : 2DCNN + GRU"
      ],
      "metadata": {
        "id": "nKA6GL1PGk0S"
      }
    },
    {
      "cell_type": "code",
      "source": [
        "my_callbacks = [\n",
        "    tensorflow.keras.callbacks.EarlyStopping(\n",
        "        monitor = 'val_acc',\n",
        "        min_delta = 0,\n",
        "        patience = 15,\n",
        "        verbose = 1,\n",
        "        restore_best_weights = True),\n",
        "    tensorflow.keras.callbacks.ModelCheckpoint(filepath='/tmp/model_2DCNNGRU.h5')\n",
        "]"
      ],
      "metadata": {
        "id": "IGbvZBfdIIcl"
      },
      "execution_count": 29,
      "outputs": []
    },
    {
      "cell_type": "code",
      "source": [
        "model_2DCNNGRU = action_model_2DCNNGRU(INSHAPE, nbout=1)\n",
        "optimizer = tensorflow.keras.optimizers.Adam(0.001)\n",
        "model_2DCNNGRU.compile(\n",
        "    optimizer,\n",
        "    'binary_crossentropy',\n",
        "    metrics=['acc']\n",
        ")"
      ],
      "metadata": {
        "id": "gL9KWAgZdwO7"
      },
      "execution_count": 30,
      "outputs": []
    },
    {
      "cell_type": "code",
      "source": [
        "model_2DCNNGRU.fit(Data, Y, epochs=EPOCH, validation_split=0.2, batch_size=BS, callbacks=my_callbacks)"
      ],
      "metadata": {
        "id": "z2MveOudG0fw",
        "outputId": "47b37169-d202-45f9-a5c2-e6adc9d9b532",
        "colab": {
          "base_uri": "https://localhost:8080/"
        }
      },
      "execution_count": 31,
      "outputs": [
        {
          "output_type": "stream",
          "name": "stdout",
          "text": [
            "Epoch 1/40\n",
            "158/158 [==============================] - 52s 297ms/step - loss: 0.5228 - acc: 0.7825 - val_loss: 1.6283 - val_acc: 0.1582\n",
            "Epoch 2/40\n",
            "158/158 [==============================] - 43s 270ms/step - loss: 0.4670 - acc: 0.7937 - val_loss: 1.1445 - val_acc: 0.4335\n",
            "Epoch 3/40\n",
            "158/158 [==============================] - 43s 273ms/step - loss: 0.3262 - acc: 0.8714 - val_loss: 0.3638 - val_acc: 0.8449\n",
            "Epoch 4/40\n",
            "158/158 [==============================] - 44s 276ms/step - loss: 0.2836 - acc: 0.8905 - val_loss: 0.4494 - val_acc: 0.7753\n",
            "Epoch 5/40\n",
            "158/158 [==============================] - 44s 279ms/step - loss: 0.4425 - acc: 0.8341 - val_loss: 0.2518 - val_acc: 0.8924\n",
            "Epoch 6/40\n",
            "158/158 [==============================] - 44s 279ms/step - loss: 0.2776 - acc: 0.8897 - val_loss: 0.3823 - val_acc: 0.8671\n",
            "Epoch 7/40\n",
            "158/158 [==============================] - 44s 279ms/step - loss: 0.2395 - acc: 0.9063 - val_loss: 0.3418 - val_acc: 0.8703\n",
            "Epoch 8/40\n",
            "158/158 [==============================] - 44s 280ms/step - loss: 0.2390 - acc: 0.9159 - val_loss: 0.2730 - val_acc: 0.8924\n",
            "Epoch 9/40\n",
            "158/158 [==============================] - 44s 279ms/step - loss: 0.2110 - acc: 0.9175 - val_loss: 0.4800 - val_acc: 0.8038\n",
            "Epoch 10/40\n",
            "158/158 [==============================] - 44s 279ms/step - loss: 0.2189 - acc: 0.9135 - val_loss: 0.4022 - val_acc: 0.8513\n",
            "Epoch 11/40\n",
            "158/158 [==============================] - 44s 279ms/step - loss: 0.1959 - acc: 0.9222 - val_loss: 0.5674 - val_acc: 0.7911\n",
            "Epoch 12/40\n",
            "158/158 [==============================] - 44s 279ms/step - loss: 0.2389 - acc: 0.9127 - val_loss: 0.3752 - val_acc: 0.8165\n",
            "Epoch 13/40\n",
            "158/158 [==============================] - 44s 279ms/step - loss: 0.1944 - acc: 0.9310 - val_loss: 0.3914 - val_acc: 0.8006\n",
            "Epoch 14/40\n",
            "158/158 [==============================] - 44s 280ms/step - loss: 0.1772 - acc: 0.9333 - val_loss: 0.1832 - val_acc: 0.9272\n",
            "Epoch 15/40\n",
            "158/158 [==============================] - 44s 279ms/step - loss: 0.2409 - acc: 0.9063 - val_loss: 0.4481 - val_acc: 0.7943\n",
            "Epoch 16/40\n",
            "158/158 [==============================] - 44s 279ms/step - loss: 0.1953 - acc: 0.9238 - val_loss: 0.3495 - val_acc: 0.8608\n",
            "Epoch 17/40\n",
            "158/158 [==============================] - 44s 279ms/step - loss: 0.1929 - acc: 0.9214 - val_loss: 0.2857 - val_acc: 0.8797\n",
            "Epoch 18/40\n",
            "158/158 [==============================] - 44s 279ms/step - loss: 0.1927 - acc: 0.9230 - val_loss: 0.3027 - val_acc: 0.8671\n",
            "Epoch 19/40\n",
            "158/158 [==============================] - 44s 279ms/step - loss: 0.1590 - acc: 0.9365 - val_loss: 0.1719 - val_acc: 0.9241\n",
            "Epoch 20/40\n",
            "158/158 [==============================] - 44s 279ms/step - loss: 0.1575 - acc: 0.9429 - val_loss: 0.1886 - val_acc: 0.9082\n",
            "Epoch 21/40\n",
            "158/158 [==============================] - 44s 279ms/step - loss: 0.1425 - acc: 0.9437 - val_loss: 0.1536 - val_acc: 0.9335\n",
            "Epoch 22/40\n",
            "158/158 [==============================] - 44s 279ms/step - loss: 0.1349 - acc: 0.9476 - val_loss: 0.2196 - val_acc: 0.9051\n",
            "Epoch 23/40\n",
            "158/158 [==============================] - 44s 279ms/step - loss: 0.1376 - acc: 0.9413 - val_loss: 0.2085 - val_acc: 0.8766\n",
            "Epoch 24/40\n",
            "158/158 [==============================] - 44s 279ms/step - loss: 0.1745 - acc: 0.9325 - val_loss: 0.1686 - val_acc: 0.9209\n",
            "Epoch 25/40\n",
            "158/158 [==============================] - 44s 280ms/step - loss: 0.1331 - acc: 0.9508 - val_loss: 0.2804 - val_acc: 0.8892\n",
            "Epoch 26/40\n",
            "158/158 [==============================] - 44s 279ms/step - loss: 0.1169 - acc: 0.9563 - val_loss: 0.2881 - val_acc: 0.9177\n",
            "Epoch 27/40\n",
            "158/158 [==============================] - 44s 280ms/step - loss: 0.1116 - acc: 0.9635 - val_loss: 0.2253 - val_acc: 0.8924\n",
            "Epoch 28/40\n",
            "158/158 [==============================] - 44s 279ms/step - loss: 0.0942 - acc: 0.9643 - val_loss: 0.1867 - val_acc: 0.9146\n",
            "Epoch 29/40\n",
            "158/158 [==============================] - 44s 280ms/step - loss: 0.0998 - acc: 0.9579 - val_loss: 0.2108 - val_acc: 0.9335\n",
            "Epoch 30/40\n",
            "158/158 [==============================] - 44s 279ms/step - loss: 0.1148 - acc: 0.9587 - val_loss: 0.2766 - val_acc: 0.9019\n",
            "Epoch 31/40\n",
            "158/158 [==============================] - 44s 279ms/step - loss: 0.1124 - acc: 0.9619 - val_loss: 0.2181 - val_acc: 0.9019\n",
            "Epoch 32/40\n",
            "158/158 [==============================] - 44s 279ms/step - loss: 0.1143 - acc: 0.9667 - val_loss: 0.2647 - val_acc: 0.9114\n",
            "Epoch 33/40\n",
            "158/158 [==============================] - 44s 279ms/step - loss: 0.0991 - acc: 0.9619 - val_loss: 0.1538 - val_acc: 0.9430\n",
            "Epoch 34/40\n",
            "158/158 [==============================] - 44s 280ms/step - loss: 0.1540 - acc: 0.9421 - val_loss: 0.0457 - val_acc: 0.9873\n",
            "Epoch 35/40\n",
            "158/158 [==============================] - 44s 280ms/step - loss: 0.1196 - acc: 0.9571 - val_loss: 0.1766 - val_acc: 0.9430\n",
            "Epoch 36/40\n",
            "158/158 [==============================] - 44s 280ms/step - loss: 0.1207 - acc: 0.9548 - val_loss: 0.2226 - val_acc: 0.9272\n",
            "Epoch 37/40\n",
            "158/158 [==============================] - 44s 279ms/step - loss: 0.1078 - acc: 0.9603 - val_loss: 0.2510 - val_acc: 0.9019\n",
            "Epoch 38/40\n",
            "158/158 [==============================] - 44s 279ms/step - loss: 0.1037 - acc: 0.9556 - val_loss: 0.2552 - val_acc: 0.9019\n",
            "Epoch 39/40\n",
            "158/158 [==============================] - 44s 279ms/step - loss: 0.0927 - acc: 0.9619 - val_loss: 0.1831 - val_acc: 0.9209\n",
            "Epoch 40/40\n",
            "158/158 [==============================] - 44s 279ms/step - loss: 0.0872 - acc: 0.9683 - val_loss: 0.1771 - val_acc: 0.9209\n"
          ]
        },
        {
          "output_type": "execute_result",
          "data": {
            "text/plain": [
              "<keras.callbacks.History at 0x7fa4603e3210>"
            ]
          },
          "metadata": {},
          "execution_count": 31
        }
      ]
    },
    {
      "cell_type": "markdown",
      "source": [
        "On récupère le modèle avec les meilleurs poids : "
      ],
      "metadata": {
        "id": "lt2d2Lw3GzVo"
      }
    },
    {
      "cell_type": "code",
      "source": [
        "model_2DCNNGRU_saved = model_2DCNNGRU.load_weights(\"/tmp/model_2DCNNGRU.h5\")"
      ],
      "metadata": {
        "id": "MPLyiuJ1G460"
      },
      "execution_count": 32,
      "outputs": []
    },
    {
      "cell_type": "code",
      "source": [
        "visualisation(model_2DCNNGRU)"
      ],
      "metadata": {
        "id": "_6iiAW9gHBDJ",
        "outputId": "afeb4341-25c1-4baf-ab3e-4deae1c76082",
        "colab": {
          "base_uri": "https://localhost:8080/",
          "height": 634
        }
      },
      "execution_count": 33,
      "outputs": [
        {
          "output_type": "stream",
          "name": "stdout",
          "text": [
            "[0.7825396656990051, 0.7936508059501648, 0.8714285492897034, 0.8904761672019958, 0.8341270089149475, 0.8896825313568115, 0.9063491821289062, 0.9158729910850525, 0.9174603223800659, 0.9134920835494995, 0.9222221970558167, 0.9126983880996704, 0.9309523701667786, 0.9333333373069763, 0.9063491821289062, 0.9238095283508301, 0.9214285612106323, 0.9230158925056458, 0.9365079402923584, 0.9428571462631226, 0.9436507821083069, 0.9476190209388733, 0.9412698149681091, 0.932539701461792, 0.9507936239242554, 0.9563491940498352, 0.9634920358657837, 0.9642857313156128, 0.9579365253448486, 0.958730161190033, 0.961904764175415, 0.9666666388511658, 0.961904764175415, 0.9420635104179382, 0.9571428298950195, 0.9547619223594666, 0.9603174328804016, 0.9555555582046509, 0.961904764175415, 0.9682539701461792]\n",
            "[0.1582278460264206, 0.4335443079471588, 0.844936728477478, 0.7753164768218994, 0.892405092716217, 0.8670886158943176, 0.8702531456947327, 0.892405092716217, 0.8037974834442139, 0.8512658476829529, 0.7911392450332642, 0.8164557218551636, 0.800632894039154, 0.9272152185440063, 0.7943037748336792, 0.8607594966888428, 0.8797468543052673, 0.8670886158943176, 0.9240506291389465, 0.9082278609275818, 0.9335442781448364, 0.905063271522522, 0.8765822649002075, 0.9208860993385315, 0.8892405033111572, 0.9177215099334717, 0.892405092716217, 0.9145569801330566, 0.9335442781448364, 0.9018987417221069, 0.9018987417221069, 0.9113923907279968, 0.9430379867553711, 0.9873417615890503, 0.9430379867553711, 0.9272152185440063, 0.9018987417221069, 0.9018987417221069, 0.9208860993385315, 0.9208860993385315]\n",
            "[0.5228476524353027, 0.4670451283454895, 0.32619044184684753, 0.28363245725631714, 0.44248273968696594, 0.27757954597473145, 0.2394954413175583, 0.2390405386686325, 0.21097594499588013, 0.21894828975200653, 0.195863276720047, 0.23890797793865204, 0.1944161206483841, 0.17718057334423065, 0.24091193079948425, 0.19533731043338776, 0.19291755557060242, 0.19272959232330322, 0.1590452641248703, 0.15748988091945648, 0.14248253405094147, 0.1348905861377716, 0.13756707310676575, 0.17452456057071686, 0.13309027254581451, 0.11688170582056046, 0.11162462085485458, 0.09416963160037994, 0.0998191386461258, 0.1147603988647461, 0.11243218183517456, 0.1143428385257721, 0.09910617768764496, 0.1540423333644867, 0.11963671445846558, 0.12070867419242859, 0.107807956635952, 0.10368785262107849, 0.09271187335252762, 0.08716561645269394]\n",
            "[1.6283292770385742, 1.144460678100586, 0.36376070976257324, 0.44941961765289307, 0.2517937421798706, 0.38233083486557007, 0.34178006649017334, 0.2729976177215576, 0.4800322949886322, 0.40219762921333313, 0.5674482583999634, 0.37519383430480957, 0.3913572430610657, 0.18322791159152985, 0.44810229539871216, 0.34954482316970825, 0.28566989302635193, 0.3026702105998993, 0.1719037890434265, 0.18856090307235718, 0.15359117090702057, 0.21960437297821045, 0.20851533114910126, 0.168638214468956, 0.28039583563804626, 0.28810977935791016, 0.22531245648860931, 0.18665775656700134, 0.21080219745635986, 0.2766018807888031, 0.2180805504322052, 0.2647148668766022, 0.15378038585186005, 0.04565984010696411, 0.17657670378684998, 0.22261397540569305, 0.2509922683238983, 0.2552199065685272, 0.18305468559265137, 0.1771019846200943]\n"
          ]
        },
        {
          "output_type": "display_data",
          "data": {
            "text/plain": [
              "<Figure size 432x288 with 1 Axes>"
            ],
            "image/png": "[encoded data removed]"
          },
          "metadata": {
            "needs_background": "light"
          }
        },
        {
          "output_type": "display_data",
          "data": {
            "text/plain": [
              "<Figure size 432x288 with 1 Axes>"
            ],
            "image/png": "[encoded data removed]"
          },
          "metadata": {
            "needs_background": "light"
          }
        }
      ]
    },
    {
      "cell_type": "markdown",
      "source": [
        "On évalue le modèle :"
      ],
      "metadata": {
        "id": "zu7MflTD_waT"
      }
    },
    {
      "cell_type": "code",
      "source": [
        "evaluation(150, 2, model_2DCNNGRU)"
      ],
      "metadata": {
        "id": "6WM7z3LoHChL",
        "outputId": "1a3d9ca9-e321-4a86-9353-86fde0a2841e",
        "colab": {
          "base_uri": "https://localhost:8080/"
        }
      },
      "execution_count": 34,
      "outputs": [
        {
          "output_type": "stream",
          "name": "stdout",
          "text": [
            "10/10 [==============================] - 5s 426ms/step - loss: 0.0971 - acc: 0.9467\n",
            "[[149   1]\n",
            " [ 15 135]]\n",
            "10/10 [==============================] - 2s 184ms/step - loss: 0.1030 - acc: 0.9533\n",
            "[[147   3]\n",
            " [ 11 139]]\n"
          ]
        }
      ]
    },
    {
      "cell_type": "markdown",
      "source": [
        "## Modèle 2 : 3DCNN"
      ],
      "metadata": {
        "id": "5lqlF5RLBIzR"
      }
    },
    {
      "cell_type": "code",
      "source": [
        "my_callbacks2 = [\n",
        "    tensorflow.keras.callbacks.EarlyStopping(\n",
        "        monitor = 'val_acc',\n",
        "        min_delta = 0,\n",
        "        patience = 15,\n",
        "        verbose = 1,\n",
        "        restore_best_weights = True),\n",
        "    tensorflow.keras.callbacks.ModelCheckpoint(filepath='/tmp/model_3DCNN.h5')\n",
        "]"
      ],
      "metadata": {
        "id": "1mljhoROILfE"
      },
      "execution_count": 69,
      "outputs": []
    },
    {
      "cell_type": "code",
      "source": [
        "model_3DCNN = action_model_3DCNN(INSHAPE, nbout=1)\n",
        "optimizer = tensorflow.keras.optimizers.Adam(0.001)\n",
        "model_3DCNN.compile(\n",
        "    optimizer,\n",
        "    'binary_crossentropy',\n",
        "    metrics=['acc']\n",
        ")"
      ],
      "metadata": {
        "id": "4r-Omm8ff1uY"
      },
      "execution_count": 70,
      "outputs": []
    },
    {
      "cell_type": "code",
      "execution_count": null,
      "metadata": {
        "id": "cpLr9k_UFMte"
      },
      "outputs": [],
      "source": [
        "model_3DCNN.fit(Data, Y, epochs=EPOCH, validation_split=0.2, batch_size=BS, callbacks=my_callbacks2)"
      ]
    },
    {
      "cell_type": "markdown",
      "source": [
        "On sauvegarde le modèle avec les meilleurs poids : "
      ],
      "metadata": {
        "id": "cPSWFvU6E-ZJ"
      }
    },
    {
      "cell_type": "code",
      "source": [
        "model_3DCNN_saved = model_3DCNN.load_weights(\"/tmp/model_3DCNN.h5\")"
      ],
      "metadata": {
        "id": "VfcZ94IdFDat"
      },
      "execution_count": null,
      "outputs": []
    },
    {
      "cell_type": "code",
      "source": [
        "visualisation(model_3DCNN)"
      ],
      "metadata": {
        "id": "2E4YsGTrFFHt"
      },
      "execution_count": null,
      "outputs": []
    },
    {
      "cell_type": "markdown",
      "source": [
        "On évalue le modèle"
      ],
      "metadata": {
        "id": "XeK5nVyY_r3V"
      }
    },
    {
      "cell_type": "code",
      "source": [
        "evaluation(150, 2, model_3DCNN)"
      ],
      "metadata": {
        "id": "7rUQO7rGzg3F"
      },
      "execution_count": null,
      "outputs": []
    },
    {
      "cell_type": "markdown",
      "source": [
        "Le modèle est plus efficace que les modèles 2D, il prédit avec une accuracy de ...% sur un jeu de séquences aléatoires en test."
      ],
      "metadata": {
        "id": "tertfpbASGAJ"
      }
    },
    {
      "cell_type": "markdown",
      "source": [
        "## Modèle 2 : 3DCNN + autre pre-processing"
      ],
      "metadata": {
        "id": "EJ0Ub0JagE1r"
      }
    },
    {
      "cell_type": "markdown",
      "source": [
        "Afin d'obtenir des résultats encore meilleurs nous  avons amélioré les techniques de pre-processing, nous choisissons donc les fichiers hdf5 correspondant à ces nouvelles méthodes pour l'apprentissage."
      ],
      "metadata": {
        "id": "N5je0dkFdk1o"
      }
    },
    {
      "cell_type": "code",
      "source": [
        "Dataset = importation(\"/content/drive/MyDrive/UV PROJET P6/dataset_normal_methode_2.2_3.2.hdf5\",\n",
        "                      \"/content/drive/MyDrive/UV PROJET P6/dataset_malade_methode_2.2_3.2.hdf5\")\n",
        "labelling(Dataset)"
      ],
      "metadata": {
        "id": "CClpSLwFem22"
      },
      "execution_count": null,
      "outputs": []
    },
    {
      "cell_type": "code",
      "source": [
        "my_callbacks3 = [\n",
        "    tensorflow.keras.callbacks.ModelCheckpoint(filepath='/tmp/model_3DCNN2.h5', monitor=\"val_acc\"),\n",
        "    tensorflow.keras.callbacks.EarlyStopping(monitor = 'val_acc',\n",
        "        min_delta = 0,\n",
        "        patience = 15,\n",
        "        verbose = 1,\n",
        "        restore_best_weights = True)\n",
        "    ]"
      ],
      "metadata": {
        "id": "oeiGc1a5mzc7"
      },
      "execution_count": 17,
      "outputs": []
    },
    {
      "cell_type": "code",
      "source": [
        "model_3DCNN2 = action_model_3DCNN(INSHAPE, nbout=1)\n",
        "optimizer = tensorflow.keras.optimizers.Adam(0.001)\n",
        "model_3DCNN2.compile(\n",
        "    optimizer,\n",
        "    'binary_crossentropy',\n",
        "    metrics=['acc']\n",
        ")"
      ],
      "metadata": {
        "id": "PbEbpDQAhAm3"
      },
      "execution_count": null,
      "outputs": []
    },
    {
      "cell_type": "code",
      "source": [
        "model_3DCNN2.fit(Data, Y, epochs=EPOCH, validation_split=0.2, batch_size=BS, callbacks=my_callbacks3)"
      ],
      "metadata": {
        "id": "-pI7xW0bmtnN"
      },
      "execution_count": null,
      "outputs": []
    },
    {
      "cell_type": "markdown",
      "source": [
        "On sauvegarde le modèle avec les meilleurs poids :"
      ],
      "metadata": {
        "id": "ztxgDJCW_5ua"
      }
    },
    {
      "cell_type": "code",
      "source": [
        "model_3DCNN2_saved = model_3DCNN2.load_weights(\"/tmp/model_3DCNN2.h5\")"
      ],
      "metadata": {
        "id": "NfO-wDZMh1bz"
      },
      "execution_count": null,
      "outputs": []
    },
    {
      "cell_type": "markdown",
      "source": [
        "On évalue le modèle :"
      ],
      "metadata": {
        "id": "gXAqg-pm_7rI"
      }
    },
    {
      "cell_type": "code",
      "source": [
        "evaluation(150, 2, model_3DCNN2)"
      ],
      "metadata": {
        "id": "QzlcmY7UteE2"
      },
      "execution_count": null,
      "outputs": []
    }
  ]
}