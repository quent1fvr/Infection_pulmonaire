{
  "nbformat": 4,
  "nbformat_minor": 0,
  "metadata": {
    "colab": {
      "name": "model.ipynb",
      "provenance": [],
      "collapsed_sections": [
        "R0SKEyPHdLaR",
        "cj_oqkaDqyPo",
        "Z9CXuqkVz0mc",
        "06EDLL3az90D",
        "Zie1LkbXiDoE",
        "hs79V2SVig94",
        "OZ0mzZT_HxvC",
        "W3Z-_Zwxe-mU",
        "5lqlF5RLBIzR",
        "EJ0Ub0JagE1r"
      ],
      "include_colab_link": true
    },
    "kernelspec": {
      "name": "python3",
      "display_name": "Python 3"
    },
    "language_info": {
      "name": "python"
    },
    "accelerator": "GPU"
  },
  "cells": [
    {
      "cell_type": "markdown",
      "metadata": {
        "id": "view-in-github",
        "colab_type": "text"
      },
      "source": [
        "<a href=\"https://colab.research.google.com/github/quent1fvr/Infection_pulmonaire/blob/main/model.ipynb\" target=\"_parent\"><img src=\"https://colab.research.google.com/assets/colab-badge.svg\" alt=\"Open In Colab\"/></a>"
      ]
    },
    {
      "cell_type": "markdown",
      "source": [
        "# **0 - Importation des données et librairies**\n",
        "\n"
      ],
      "metadata": {
        "id": "R0SKEyPHdLaR"
      }
    },
    {
      "cell_type": "code",
      "execution_count": 45,
      "metadata": {
        "colab": {
          "base_uri": "https://localhost:8080/"
        },
        "id": "F10e-oz4Zha_",
        "outputId": "64176e49-a7b2-4d58-f05d-2e80bd661ff3"
      },
      "outputs": [
        {
          "output_type": "stream",
          "name": "stdout",
          "text": [
            "Drive already mounted at /content/drive; to attempt to forcibly remount, call drive.mount(\"/content/drive\", force_remount=True).\n"
          ]
        }
      ],
      "source": [
        "from google.colab import drive\n",
        "drive.mount('/content/drive')"
      ]
    },
    {
      "cell_type": "code",
      "execution_count": 46,
      "metadata": {
        "id": "Pn70CEYAbrPv"
      },
      "outputs": [],
      "source": [
        "import numpy as np\n",
        "import matplotlib.pyplot as plt\n",
        "import h5py\n",
        "import tensorflow\n",
        "import keras\n",
        "from tensorflow.keras import models\n",
        "from tensorflow.keras.models import Sequential, Model\n",
        "from tensorflow.keras.layers import Dense, Flatten\n",
        "from tensorflow.keras.layers import TimeDistributed\n",
        "from keras.layers import Conv3D, Conv2D,BatchNormalization,MaxPooling2D , MaxPooling3D, GlobalMaxPool2D,GlobalMaxPool3D\n",
        "from keras.layers import TimeDistributed, GRU, Dense, Dropout\n",
        "from sklearn.metrics import classification_report, confusion_matrix"
      ]
    },
    {
      "cell_type": "markdown",
      "source": [
        "Pour l'import des datasets on crée une fonction dont les paramètres sont les chemins des fichiers hdf5 que l'on souhaite utiliser pour l'apprentissage.\n",
        "\n",
        "Les fichiers hdf5 sont générés par le notebook \"pre_processing.ipynb\". \n",
        "Pour faire notre choix de pré-processing, il suffit de choisir les fichiers hdf5 dont les méthodes du notebook sont indiquées dans le nom du fichier : \n",
        "\"dataset_..._methode_num1_num2\""
      ],
      "metadata": {
        "id": "dm-fUdAmYTI2"
      }
    },
    {
      "cell_type": "code",
      "source": [
        "def importation(path_normal, path_malade):\n",
        "  hf_normal = h5py.File(path_normal, \"r\")\n",
        "  hf_malade = h5py.File(path_malade, \"r\")\n",
        "\n",
        "  # conversion des données en tableaux numpy\n",
        "  Data_normal = np.array(hf_normal[\"dataset_1\"][:])\n",
        "  Data_malade = np.array(hf_malade[\"dataset_2\"][:])\n",
        "\n",
        "  return [Data_normal, Data_malade]"
      ],
      "metadata": {
        "id": "50dxvFRJZy-3"
      },
      "execution_count": 47,
      "outputs": []
    },
    {
      "cell_type": "markdown",
      "source": [
        "# **1 - Etude des données et création des labels**\n",
        "\n"
      ],
      "metadata": {
        "id": "v3imvT8OdXzP"
      }
    },
    {
      "cell_type": "code",
      "source": [
        "Dataset = importation(\"/content/drive/MyDrive/UV PROJET P6/dataset_normal_methode_2.1_3.1.hdf5\", \n",
        "                      \"/content/drive/MyDrive/UV PROJET P6/dataset_malade_methode_2.1_3.1.hdf5\")"
      ],
      "metadata": {
        "id": "7f4LhS0F2eE0"
      },
      "execution_count": 48,
      "outputs": []
    },
    {
      "cell_type": "code",
      "execution_count": 49,
      "metadata": {
        "colab": {
          "base_uri": "https://localhost:8080/"
        },
        "id": "6iURefCa8cbi",
        "outputId": "1a4b734d-6de3-465b-ba82-49a3a5fc816b"
      },
      "outputs": [
        {
          "output_type": "execute_result",
          "data": {
            "text/plain": [
              "((55720, 48, 48), (54600, 48, 48))"
            ]
          },
          "metadata": {},
          "execution_count": 49
        }
      ],
      "source": [
        "Data_normal = Dataset[0]\n",
        "Data_malade = Dataset[1]\n",
        "Data_normal.shape, Data_malade.shape"
      ]
    },
    {
      "cell_type": "markdown",
      "source": [
        "Afin de pouvoir utiliser des séquences dans les modèles suivant, nous modifions la shape des tableaux en créant des séquences de taille 70. "
      ],
      "metadata": {
        "id": "hgGGpodXcHeY"
      }
    },
    {
      "cell_type": "code",
      "source": [
        "Data_normal = Data_normal.reshape(Data_normal.shape[0]//70, 70, 48, 48)\n",
        "Data_malade = Data_malade.reshape(Data_malade.shape[0]//70, 70, 48, 48)\n",
        "Data = np.concatenate((Data_normal, Data_malade))\n",
        "Data.shape"
      ],
      "metadata": {
        "colab": {
          "base_uri": "https://localhost:8080/"
        },
        "id": "k79efgCdlAeU",
        "outputId": "c3f9fc91-3880-4211-dd2c-555ab810469e"
      },
      "execution_count": 50,
      "outputs": [
        {
          "output_type": "execute_result",
          "data": {
            "text/plain": [
              "(1576, 70, 48, 48)"
            ]
          },
          "metadata": {},
          "execution_count": 50
        }
      ]
    },
    {
      "cell_type": "markdown",
      "source": [
        "Le jeu de données est composé de séquences de 70 images par scan, c'est pourquoi on attribue un label pour chaque séquence :\n",
        "- 0 : La personne est négative au COVID\n",
        "- 1 : La personne est positive au COVID"
      ],
      "metadata": {
        "id": "B9aqSe55doPl"
      }
    },
    {
      "cell_type": "code",
      "execution_count": 51,
      "metadata": {
        "id": "2wqEZaJ98vEL",
        "colab": {
          "base_uri": "https://localhost:8080/"
        },
        "outputId": "db4d0535-25d8-4037-b0c2-e0c52a430475"
      },
      "outputs": [
        {
          "output_type": "execute_result",
          "data": {
            "text/plain": [
              "(1576,)"
            ]
          },
          "metadata": {},
          "execution_count": 51
        }
      ],
      "source": [
        "Y_normal = np.zeros(Data_normal.shape[0], dtype=np.int8)\n",
        "Y_malade = np.ones(Data_malade.shape[0], dtype=np.int8)\n",
        "Y = np.concatenate((Y_normal, Y_malade))\n",
        "Y.shape"
      ]
    },
    {
      "cell_type": "markdown",
      "source": [
        "Afin de faciliter le traitement pour la suite on encapsule la création des labels dans une fonction :"
      ],
      "metadata": {
        "id": "domC3skI1qC4"
      }
    },
    {
      "cell_type": "code",
      "source": [
        "def labelling(Dataset):\n",
        "  Data_normal = Dataset[0]\n",
        "  Data_malade = Dataset[1]\n",
        "  Data_normal = Data_normal.reshape(Data_normal.shape[0]//70, 70, 48, 48)\n",
        "  Data_malade = Data_malade.reshape(Data_malade.shape[0]//70, 70, 48, 48)\n",
        "  Data = np.concatenate((Data_normal, Data_malade))\n",
        "  Y_normal = np.zeros(Data_normal.shape[0], dtype=np.int8)\n",
        "  Y_malade = np.ones(Data_malade.shape[0], dtype=np.int8)\n",
        "  Y = np.concatenate((Y_normal, Y_malade))\n",
        "  return [Data, Y]"
      ],
      "metadata": {
        "id": "FNW7UhvO15nZ"
      },
      "execution_count": 52,
      "outputs": []
    },
    {
      "cell_type": "markdown",
      "source": [
        "# **2 - Création des modèles d'apprentissage**\n",
        "\n",
        "\n"
      ],
      "metadata": {
        "id": "vcO2BEhHeztz"
      }
    },
    {
      "cell_type": "markdown",
      "source": [
        "## Définition des fonctions globales"
      ],
      "metadata": {
        "id": "cj_oqkaDqyPo"
      }
    },
    {
      "cell_type": "markdown",
      "source": [
        "#### Fonction de visualisation"
      ],
      "metadata": {
        "id": "Z9CXuqkVz0mc"
      }
    },
    {
      "cell_type": "code",
      "source": [
        "def visualisation(model):\n",
        "  acc = model.history.history['acc']\n",
        "  val_acc = model.history.history['val_acc']\n",
        "  loss = model.history.history['loss']\n",
        "  val_loss = model.history.history['val_loss']\n",
        "\n",
        "  print(acc)\n",
        "  print(val_acc)\n",
        "\n",
        "  print(loss)\n",
        "  print(val_loss)\n",
        "\n",
        "  epochs = range(len(acc))\n",
        "\n",
        "  plt.plot(epochs, acc, 'bo', label='Training acc')\n",
        "  plt.plot(epochs, val_acc, 'b', label='Validation acc')\n",
        "  plt.title('Training and validation accuracy')\n",
        "  plt.legend()\n",
        "\n",
        "  plt.figure()\n",
        "\n",
        "  plt.plot(epochs, loss, 'bo', label='Training loss')\n",
        "  plt.plot(epochs, val_loss, 'b', label='Validation loss')\n",
        "  plt.title('Training and validation loss')\n",
        "  plt.legend()\n",
        "\n",
        "  plt.show()"
      ],
      "metadata": {
        "id": "-jmePbAcq3Fr"
      },
      "execution_count": 53,
      "outputs": []
    },
    {
      "cell_type": "markdown",
      "source": [
        "#### Fonction d'évaluation du modèle sur un jeu de données aléatoire"
      ],
      "metadata": {
        "id": "06EDLL3az90D"
      }
    },
    {
      "cell_type": "code",
      "source": [
        "def evaluation(dataLength, iterations, model):\n",
        "  \n",
        "  for i in range(iterations):\n",
        "    Data_test = []\n",
        "    for i in range(dataLength):\n",
        "      aleatoire = np.random.randint(0, Data_normal.shape[0])\n",
        "      Data_test.append(Data_normal[aleatoire][:])\n",
        "    for i in range(dataLength):\n",
        "      aleatoire = np.random.randint(0, Data_malade.shape[0])\n",
        "      Data_test.append(Data_malade[aleatoire][:])\n",
        "\n",
        "    Data_test = np.array(Data_test)\n",
        "    #Data_test.shape\n",
        "\n",
        "    Y_test_normal = np.zeros(dataLength)\n",
        "    Y_test_malade = np.ones(dataLength)\n",
        "    Y_test = np.concatenate((Y_test_normal, Y_test_malade))\n",
        "    model.evaluate(Data_test, Y_test)\n",
        "    preds = np.round(model.predict(Data_test),0)\n",
        "    cm = confusion_matrix(Y_test, preds)\n",
        "    print(cm)"
      ],
      "metadata": {
        "id": "FE3j5TCgrcG2"
      },
      "execution_count": 54,
      "outputs": []
    },
    {
      "cell_type": "markdown",
      "source": [
        "## Définition des paramètres globaux"
      ],
      "metadata": {
        "id": "Zie1LkbXiDoE"
      }
    },
    {
      "cell_type": "code",
      "execution_count": 55,
      "metadata": {
        "id": "AhXYRexwcyC9"
      },
      "outputs": [],
      "source": [
        "SIZE = (48, 48)\n",
        "NBFRAME = 70\n",
        "EPOCH = 40\n",
        "BS = 8\n",
        "CHANNEL = 1\n",
        "INSHAPE = (70, 48, 48, 1)"
      ]
    },
    {
      "cell_type": "markdown",
      "source": [
        "On fixe la graine aléatoire afin que l'on puisse avoir des résultats similaires en relançant l'apprentissage : "
      ],
      "metadata": {
        "id": "lQqlZXljfFJg"
      }
    },
    {
      "cell_type": "code",
      "execution_count": 56,
      "metadata": {
        "id": "gxRDqnX5Iw67"
      },
      "outputs": [],
      "source": [
        "def fix_seed(seed):\n",
        "    tensorflow.random.set_seed(seed)\n",
        "\n",
        "SEED = 42\n",
        "fix_seed(SEED)"
      ]
    },
    {
      "cell_type": "markdown",
      "source": [
        "## Définition des modèles"
      ],
      "metadata": {
        "id": "hs79V2SVig94"
      }
    },
    {
      "cell_type": "markdown",
      "source": [
        "\n",
        "\n",
        "### Modèle 1 : 2DCNN + GRU"
      ],
      "metadata": {
        "id": "OZ0mzZT_HxvC"
      }
    },
    {
      "cell_type": "code",
      "execution_count": 57,
      "metadata": {
        "id": "vSYZFlKERU3g"
      },
      "outputs": [],
      "source": [
        "# création du modèle d'apprentissage\n",
        "\n",
        "def build_convnet2D(shape=(48, 48)):\n",
        "    momentum = .9\n",
        "    model = keras.Sequential()\n",
        "    model.add(Conv2D(64, (3, 3), input_shape=shape,\n",
        "        padding='same', activation='relu'))\n",
        "    model.add(Conv2D(64, (3, 3), padding='same', activation='relu'))\n",
        "    model.add(BatchNormalization(momentum=momentum))\n",
        "    \n",
        "    model.add(MaxPooling2D())\n",
        "    \n",
        "    model.add(Conv2D(128, (3, 3), padding='same', activation='relu'))\n",
        "    model.add(Conv2D(128, (3, 3), padding='same', activation='relu'))\n",
        "    model.add(BatchNormalization(momentum=momentum))\n",
        "    \n",
        "    # flatten...\n",
        "    model.add(GlobalMaxPool2D())\n",
        "    return model"
      ]
    },
    {
      "cell_type": "code",
      "execution_count": 58,
      "metadata": {
        "id": "1HHIhoAbRiFZ"
      },
      "outputs": [],
      "source": [
        "# création du réseau de décision\n",
        "\n",
        "def action_model_2DCNNGRU(shape=(70, 48, 48), nbout=1):\n",
        "    # Create our convnet with (112, 112, 3) input shape\n",
        "    convnet = build_convnet2D(shape[1:])\n",
        "    \n",
        "    # then create our final model\n",
        "    model = keras.Sequential()\n",
        "    # add the convnet with (70, 48, 48, 3) shape\n",
        "    model.add(TimeDistributed(convnet, input_shape=(70, 48, 48,1)))\n",
        "    # add the GRU cell\n",
        "    model.add(GRU(64))\n",
        "    # and finally, we make a decision network\n",
        "    model.add(Dense(1024, activation='relu'))\n",
        "    model.add(Dropout(.2))\n",
        "    model.add(Dense(512, activation='relu'))\n",
        "    model.add(Dropout(.2))\n",
        "    model.add(Dense(128, activation='relu'))\n",
        "    model.add(Dropout(.2))\n",
        "    model.add(Dense(64, activation='relu'))\n",
        "    model.add(Dense(nbout, activation='sigmoid'))\n",
        "    return model"
      ]
    },
    {
      "cell_type": "markdown",
      "source": [
        "### Modèle 2 : 3DCNN\n",
        "\n",
        "\n"
      ],
      "metadata": {
        "id": "W3Z-_Zwxe-mU"
      }
    },
    {
      "cell_type": "code",
      "execution_count": 59,
      "metadata": {
        "id": "76Mz9v0RbzAE"
      },
      "outputs": [],
      "source": [
        "# création du modèle d'apprentissage\n",
        "\n",
        "def build_convnet3D(shape=(70, 48, 48)):\n",
        "    momentum = .9\n",
        "    model = keras.Sequential()\n",
        "    model.add(Conv3D(64, (3, 3, 3), input_shape=shape, padding='same', activation='relu'))\n",
        "    model.add(Conv3D(64, (3, 3, 3), padding='same', activation='relu'))\n",
        "    model.add(BatchNormalization(momentum=momentum))\n",
        "    \n",
        "    model.add(MaxPooling3D())\n",
        "    \n",
        "    model.add(Conv3D(128, (3, 3, 3), padding='same', activation='relu'))\n",
        "    model.add(Conv3D(128, (3, 3, 3), padding='same', activation='relu'))\n",
        "    model.add(BatchNormalization(momentum=momentum))\n",
        "    \n",
        "    model.add(GlobalMaxPool3D())\n",
        "    return model"
      ]
    },
    {
      "cell_type": "code",
      "execution_count": 60,
      "metadata": {
        "id": "4sLlW2a2b_pO"
      },
      "outputs": [],
      "source": [
        "# création du réseau de décision\n",
        "\n",
        "def action_model_3DCNN(shape=(70, 48, 48, 1), nbout=1):\n",
        "    convnet = build_convnet3D(shape)\n",
        "    \n",
        "    model = keras.Sequential()\n",
        "    model.add(convnet)\n",
        "    # and finally, we make a decision network\n",
        "    model.add(Dense(1024, activation='relu'))\n",
        "    model.add(Dropout(.5))\n",
        "    model.add(Dense(512, activation='relu'))\n",
        "    model.add(Dropout(.5))\n",
        "    model.add(Dense(128, activation='relu'))\n",
        "    model.add(Dropout(.5))\n",
        "    model.add(Dense(64, activation='relu'))\n",
        "    model.add(Dense(nbout, activation='sigmoid'))\n",
        "    return model"
      ]
    },
    {
      "cell_type": "markdown",
      "source": [
        "# **3 - Apprentissage  des modèles**\n"
      ],
      "metadata": {
        "id": "ShGymUpmS4aI"
      }
    },
    {
      "cell_type": "markdown",
      "source": [
        "## Modèle 1 : 2DCNN + GRU"
      ],
      "metadata": {
        "id": "nKA6GL1PGk0S"
      }
    },
    {
      "cell_type": "code",
      "source": [
        "my_callbacks = [\n",
        "    tensorflow.keras.callbacks.EarlyStopping(\n",
        "        monitor = 'val_acc',\n",
        "        min_delta = 0,\n",
        "        patience = 15,\n",
        "        verbose = 1,\n",
        "        restore_best_weights = True),\n",
        "    tensorflow.keras.callbacks.ModelCheckpoint(filepath='/tmp/model_2DCNNGRU.h5')\n",
        "]"
      ],
      "metadata": {
        "id": "IGbvZBfdIIcl"
      },
      "execution_count": 61,
      "outputs": []
    },
    {
      "cell_type": "code",
      "source": [
        "model_2DCNNGRU = action_model_2DCNNGRU(INSHAPE, nbout=1)\n",
        "optimizer = tensorflow.keras.optimizers.Adam(0.001)\n",
        "model_2DCNNGRU.compile(\n",
        "    optimizer,\n",
        "    'binary_crossentropy',\n",
        "    metrics=['acc']\n",
        ")"
      ],
      "metadata": {
        "id": "gL9KWAgZdwO7"
      },
      "execution_count": 62,
      "outputs": []
    },
    {
      "cell_type": "code",
      "source": [
        "model_2DCNNGRU.fit(Data, Y, epochs=EPOCH, validation_split=0.2, batch_size=BS, callbacks=my_callbacks)"
      ],
      "metadata": {
        "id": "z2MveOudG0fw",
        "outputId": "5df74784-fc63-4f11-80c9-8ebf726e7216",
        "colab": {
          "base_uri": "https://localhost:8080/"
        }
      },
      "execution_count": 63,
      "outputs": [
        {
          "output_type": "stream",
          "name": "stdout",
          "text": [
            "Epoch 1/40\n",
            "158/158 [==============================] - 64s 295ms/step - loss: 0.5295 - acc: 0.7921 - val_loss: 1.1377 - val_acc: 0.6709\n",
            "Epoch 2/40\n",
            "158/158 [==============================] - 42s 267ms/step - loss: 0.4324 - acc: 0.8183 - val_loss: 2.0745 - val_acc: 0.0000e+00\n",
            "Epoch 3/40\n",
            "158/158 [==============================] - 43s 272ms/step - loss: 0.3964 - acc: 0.8302 - val_loss: 1.5469 - val_acc: 0.3449\n",
            "Epoch 4/40\n",
            "158/158 [==============================] - 44s 277ms/step - loss: 0.3080 - acc: 0.8802 - val_loss: 0.9466 - val_acc: 0.5538\n",
            "Epoch 5/40\n",
            "158/158 [==============================] - 44s 278ms/step - loss: 0.2956 - acc: 0.8889 - val_loss: 0.5664 - val_acc: 0.6772\n",
            "Epoch 6/40\n",
            "158/158 [==============================] - 44s 279ms/step - loss: 0.5058 - acc: 0.7825 - val_loss: 0.8148 - val_acc: 0.6677\n",
            "Epoch 7/40\n",
            "158/158 [==============================] - 44s 279ms/step - loss: 0.4645 - acc: 0.8040 - val_loss: 0.5226 - val_acc: 0.6930\n",
            "Epoch 8/40\n",
            "158/158 [==============================] - 44s 279ms/step - loss: 0.4259 - acc: 0.8111 - val_loss: 0.8806 - val_acc: 0.6899\n",
            "Epoch 9/40\n",
            "158/158 [==============================] - 44s 279ms/step - loss: 0.4043 - acc: 0.8214 - val_loss: 0.5384 - val_acc: 0.8101\n",
            "Epoch 10/40\n",
            "158/158 [==============================] - 44s 279ms/step - loss: 0.3200 - acc: 0.8722 - val_loss: 0.6719 - val_acc: 0.6930\n",
            "Epoch 11/40\n",
            "158/158 [==============================] - 44s 279ms/step - loss: 0.2847 - acc: 0.8786 - val_loss: 0.3228 - val_acc: 0.8481\n",
            "Epoch 12/40\n",
            "158/158 [==============================] - 44s 279ms/step - loss: 0.2479 - acc: 0.8976 - val_loss: 0.2357 - val_acc: 0.8418\n",
            "Epoch 13/40\n",
            "158/158 [==============================] - 44s 279ms/step - loss: 0.2337 - acc: 0.9167 - val_loss: 0.4302 - val_acc: 0.7057\n",
            "Epoch 14/40\n",
            "158/158 [==============================] - 44s 279ms/step - loss: 0.2569 - acc: 0.8968 - val_loss: 0.4395 - val_acc: 0.7627\n",
            "Epoch 15/40\n",
            "158/158 [==============================] - 44s 279ms/step - loss: 0.2680 - acc: 0.8952 - val_loss: 0.3090 - val_acc: 0.8386\n",
            "Epoch 16/40\n",
            "158/158 [==============================] - 44s 279ms/step - loss: 0.2468 - acc: 0.9063 - val_loss: 0.7658 - val_acc: 0.5823\n",
            "Epoch 17/40\n",
            "158/158 [==============================] - 44s 279ms/step - loss: 0.2257 - acc: 0.9111 - val_loss: 0.4058 - val_acc: 0.8196\n",
            "Epoch 18/40\n",
            "158/158 [==============================] - 44s 279ms/step - loss: 0.2027 - acc: 0.9262 - val_loss: 0.2063 - val_acc: 0.8892\n",
            "Epoch 19/40\n",
            "158/158 [==============================] - 44s 279ms/step - loss: 0.2090 - acc: 0.9151 - val_loss: 0.3151 - val_acc: 0.8259\n",
            "Epoch 20/40\n",
            "158/158 [==============================] - 44s 279ms/step - loss: 0.2241 - acc: 0.9143 - val_loss: 0.3745 - val_acc: 0.8133\n",
            "Epoch 21/40\n",
            "158/158 [==============================] - 44s 279ms/step - loss: 0.1987 - acc: 0.9238 - val_loss: 0.2741 - val_acc: 0.8766\n",
            "Epoch 22/40\n",
            "158/158 [==============================] - 44s 279ms/step - loss: 0.1952 - acc: 0.9222 - val_loss: 0.2500 - val_acc: 0.8544\n",
            "Epoch 23/40\n",
            "158/158 [==============================] - 44s 279ms/step - loss: 0.1666 - acc: 0.9389 - val_loss: 0.3011 - val_acc: 0.8259\n",
            "Epoch 24/40\n",
            "158/158 [==============================] - 44s 279ms/step - loss: 0.1747 - acc: 0.9389 - val_loss: 0.4279 - val_acc: 0.8513\n",
            "Epoch 25/40\n",
            "158/158 [==============================] - 44s 279ms/step - loss: 0.1946 - acc: 0.9183 - val_loss: 0.4912 - val_acc: 0.7785\n",
            "Epoch 26/40\n",
            "158/158 [==============================] - 44s 279ms/step - loss: 0.1771 - acc: 0.9333 - val_loss: 0.2679 - val_acc: 0.8544\n",
            "Epoch 27/40\n",
            "158/158 [==============================] - 44s 279ms/step - loss: 0.1391 - acc: 0.9452 - val_loss: 0.2839 - val_acc: 0.8797\n",
            "Epoch 28/40\n",
            "158/158 [==============================] - 44s 279ms/step - loss: 0.1533 - acc: 0.9397 - val_loss: 0.2487 - val_acc: 0.9019\n",
            "Epoch 29/40\n",
            "158/158 [==============================] - 44s 279ms/step - loss: 0.1284 - acc: 0.9484 - val_loss: 0.1729 - val_acc: 0.9399\n",
            "Epoch 30/40\n",
            "158/158 [==============================] - 44s 280ms/step - loss: 0.2041 - acc: 0.9262 - val_loss: 0.3312 - val_acc: 0.8956\n",
            "Epoch 31/40\n",
            "158/158 [==============================] - 44s 280ms/step - loss: 0.1315 - acc: 0.9563 - val_loss: 0.1592 - val_acc: 0.9430\n",
            "Epoch 32/40\n",
            "158/158 [==============================] - 44s 280ms/step - loss: 0.1541 - acc: 0.9397 - val_loss: 0.2942 - val_acc: 0.8892\n",
            "Epoch 33/40\n",
            "158/158 [==============================] - 44s 279ms/step - loss: 0.1638 - acc: 0.9357 - val_loss: 0.1669 - val_acc: 0.9525\n",
            "Epoch 34/40\n",
            "158/158 [==============================] - 44s 279ms/step - loss: 0.1390 - acc: 0.9476 - val_loss: 0.2095 - val_acc: 0.8924\n",
            "Epoch 35/40\n",
            "158/158 [==============================] - 44s 279ms/step - loss: 0.1583 - acc: 0.9444 - val_loss: 0.3979 - val_acc: 0.8861\n",
            "Epoch 36/40\n",
            "158/158 [==============================] - 44s 279ms/step - loss: 0.1399 - acc: 0.9444 - val_loss: 0.1819 - val_acc: 0.9209\n",
            "Epoch 37/40\n",
            "158/158 [==============================] - 44s 279ms/step - loss: 0.1489 - acc: 0.9468 - val_loss: 0.2220 - val_acc: 0.9399\n",
            "Epoch 38/40\n",
            "158/158 [==============================] - 44s 279ms/step - loss: 0.1405 - acc: 0.9413 - val_loss: 0.1346 - val_acc: 0.9494\n",
            "Epoch 39/40\n",
            "158/158 [==============================] - 44s 279ms/step - loss: 0.1462 - acc: 0.9516 - val_loss: 0.2056 - val_acc: 0.9272\n",
            "Epoch 40/40\n",
            "158/158 [==============================] - 44s 281ms/step - loss: 0.1262 - acc: 0.9524 - val_loss: 0.1808 - val_acc: 0.9241\n"
          ]
        },
        {
          "output_type": "execute_result",
          "data": {
            "text/plain": [
              "<keras.callbacks.History at 0x7f1fe835e7d0>"
            ]
          },
          "metadata": {},
          "execution_count": 63
        }
      ]
    },
    {
      "cell_type": "markdown",
      "source": [
        "On récupère le modèle avec les meilleurs poids : "
      ],
      "metadata": {
        "id": "lt2d2Lw3GzVo"
      }
    },
    {
      "cell_type": "code",
      "source": [
        "model_2DCNNGRU_saved = model_2DCNNGRU.load_weights(\"/tmp/model_2DCNNGRU.h5\")"
      ],
      "metadata": {
        "id": "MPLyiuJ1G460"
      },
      "execution_count": 64,
      "outputs": []
    },
    {
      "cell_type": "code",
      "source": [
        "visualisation(model_2DCNNGRU)"
      ],
      "metadata": {
        "id": "_6iiAW9gHBDJ",
        "outputId": "be7b0d0e-0982-4efb-8568-a402bdabbbc2",
        "colab": {
          "base_uri": "https://localhost:8080/",
          "height": 634
        }
      },
      "execution_count": 65,
      "outputs": [
        {
          "output_type": "stream",
          "name": "stdout",
          "text": [
            "[0.7920634746551514, 0.8182539939880371, 0.8301587104797363, 0.8801587224006653, 0.8888888955116272, 0.7825396656990051, 0.8039682507514954, 0.8111110925674438, 0.8214285969734192, 0.8722222447395325, 0.8785714507102966, 0.8976190686225891, 0.9166666865348816, 0.89682537317276, 0.8952381014823914, 0.9063491821289062, 0.9111111164093018, 0.9261904954910278, 0.9150793552398682, 0.9142857193946838, 0.9238095283508301, 0.9222221970558167, 0.9388889074325562, 0.9388889074325562, 0.9182539582252502, 0.9333333373069763, 0.9452381134033203, 0.9396825432777405, 0.9484127163887024, 0.9261904954910278, 0.9563491940498352, 0.9396825432777405, 0.9357143044471741, 0.9476190209388733, 0.9444444179534912, 0.9444444179534912, 0.946825385093689, 0.9412698149681091, 0.9515873193740845, 0.9523809552192688]\n",
            "[0.6708860993385315, 0.0, 0.34493669867515564, 0.5537974834442139, 0.6772152185440063, 0.6677215099334717, 0.6930379867553711, 0.6898733973503113, 0.8101266026496887, 0.6930379867553711, 0.8481012582778931, 0.8417721390724182, 0.7056962251663208, 0.7626582384109497, 0.8386076092720032, 0.5822784900665283, 0.8196202516555786, 0.8892405033111572, 0.8259493708610535, 0.8132911324501038, 0.8765822649002075, 0.8544303774833679, 0.8259493708610535, 0.8512658476829529, 0.7784810066223145, 0.8544303774833679, 0.8797468543052673, 0.9018987417221069, 0.9398733973503113, 0.8955696225166321, 0.9430379867553711, 0.8892405033111572, 0.952531635761261, 0.892405092716217, 0.8860759735107422, 0.9208860993385315, 0.9398733973503113, 0.949367105960846, 0.9272152185440063, 0.9240506291389465]\n",
            "[0.5295132994651794, 0.4323594868183136, 0.39636099338531494, 0.3080121576786041, 0.2955528497695923, 0.5058227777481079, 0.4645451009273529, 0.4258601665496826, 0.40434154868125916, 0.3200439512729645, 0.2846926152706146, 0.24791589379310608, 0.2337476760149002, 0.25692030787467957, 0.26798784732818604, 0.2467816025018692, 0.2257073074579239, 0.20273123681545258, 0.2090214043855667, 0.2241494506597519, 0.19870154559612274, 0.19517859816551208, 0.16661663353443146, 0.1746574342250824, 0.19462941586971283, 0.177080899477005, 0.1390519142150879, 0.15329071879386902, 0.12838175892829895, 0.2040671408176422, 0.1315043866634369, 0.1540636122226715, 0.16383147239685059, 0.13899299502372742, 0.1583215892314911, 0.13992750644683838, 0.14889656007289886, 0.14049121737480164, 0.14620235562324524, 0.12616634368896484]\n",
            "[1.1377003192901611, 2.0744707584381104, 1.5469003915786743, 0.9465769529342651, 0.5663922429084778, 0.81478351354599, 0.5225849151611328, 0.8805863857269287, 0.5384344458580017, 0.6719051003456116, 0.32278144359588623, 0.23573926091194153, 0.43018755316734314, 0.43948784470558167, 0.3089865744113922, 0.7657550573348999, 0.4058111608028412, 0.2063319981098175, 0.3151000440120697, 0.37452059984207153, 0.27411583065986633, 0.2500113546848297, 0.301140159368515, 0.4279475510120392, 0.4912468194961548, 0.26785367727279663, 0.28392237424850464, 0.24870771169662476, 0.1728772073984146, 0.33116307854652405, 0.1591951996088028, 0.2942447066307068, 0.1668935865163803, 0.20953159034252167, 0.39792969822883606, 0.18186257779598236, 0.22195571660995483, 0.1345578283071518, 0.20559415221214294, 0.18079960346221924]\n"
          ]
        },
        {
          "output_type": "display_data",
          "data": {
            "text/plain": [
              "<Figure size 432x288 with 1 Axes>"
            ],
            "image/png": "[encoded data removed]"
          },
          "metadata": {
            "needs_background": "light"
          }
        },
        {
          "output_type": "display_data",
          "data": {
            "text/plain": [
              "<Figure size 432x288 with 1 Axes>"
            ],
            "image/png": "[encoded data removed]"
          },
          "metadata": {
            "needs_background": "light"
          }
        }
      ]
    },
    {
      "cell_type": "markdown",
      "source": [
        "On évalue le modèle :"
      ],
      "metadata": {
        "id": "zu7MflTD_waT"
      }
    },
    {
      "cell_type": "code",
      "source": [
        "evaluation(100, 2, model_2DCNNGRU)"
      ],
      "metadata": {
        "id": "6WM7z3LoHChL",
        "outputId": "f4289aee-94df-449c-c7e9-295ded7a9d78",
        "colab": {
          "base_uri": "https://localhost:8080/"
        }
      },
      "execution_count": 68,
      "outputs": [
        {
          "output_type": "stream",
          "name": "stdout",
          "text": [
            "7/7 [==============================] - 1s 184ms/step - loss: 0.1293 - acc: 0.9400\n",
            "[[99  1]\n",
            " [11 89]]\n",
            "7/7 [==============================] - 1s 182ms/step - loss: 0.0901 - acc: 0.9750\n",
            "[[98  2]\n",
            " [ 3 97]]\n"
          ]
        }
      ]
    },
    {
      "cell_type": "markdown",
      "source": [
        "## Modèle 2 : 3DCNN"
      ],
      "metadata": {
        "id": "5lqlF5RLBIzR"
      }
    },
    {
      "cell_type": "code",
      "source": [
        "my_callbacks2 = [\n",
        "    tensorflow.keras.callbacks.EarlyStopping(\n",
        "        monitor = 'val_acc',\n",
        "        min_delta = 0,\n",
        "        patience = 25,\n",
        "        verbose = 1,\n",
        "        restore_best_weights = True),\n",
        "    tensorflow.keras.callbacks.ModelCheckpoint(filepath='/tmp/model_3DCNN.h5')\n",
        "]"
      ],
      "metadata": {
        "id": "1mljhoROILfE"
      },
      "execution_count": 69,
      "outputs": []
    },
    {
      "cell_type": "code",
      "source": [
        "model_3DCNN = action_model_3DCNN(INSHAPE, nbout=1)\n",
        "optimizer = tensorflow.keras.optimizers.Adam(0.001)\n",
        "model_3DCNN.compile(\n",
        "    optimizer,\n",
        "    'binary_crossentropy',\n",
        "    metrics=['acc']\n",
        ")"
      ],
      "metadata": {
        "id": "4r-Omm8ff1uY"
      },
      "execution_count": 70,
      "outputs": []
    },
    {
      "cell_type": "code",
      "execution_count": null,
      "metadata": {
        "id": "cpLr9k_UFMte"
      },
      "outputs": [],
      "source": [
        "model_3DCNN.fit(Data, Y, epochs=EPOCH, validation_split=0.2, batch_size=BS, callbacks=my_callbacks2)"
      ]
    },
    {
      "cell_type": "markdown",
      "source": [
        "On sauvegarde le modèle avec les meilleurs poids : "
      ],
      "metadata": {
        "id": "cPSWFvU6E-ZJ"
      }
    },
    {
      "cell_type": "code",
      "source": [
        "model_3DCNN_saved = model_3DCNN.load_weights(\"/tmp/model_3DCNN.h5\")"
      ],
      "metadata": {
        "id": "VfcZ94IdFDat"
      },
      "execution_count": null,
      "outputs": []
    },
    {
      "cell_type": "code",
      "source": [
        "visualisation(model_3DCNN)"
      ],
      "metadata": {
        "id": "2E4YsGTrFFHt"
      },
      "execution_count": null,
      "outputs": []
    },
    {
      "cell_type": "markdown",
      "source": [
        "On évalue le modèle"
      ],
      "metadata": {
        "id": "XeK5nVyY_r3V"
      }
    },
    {
      "cell_type": "code",
      "source": [
        "evaluation(100, 2, model_3DCNN)"
      ],
      "metadata": {
        "id": "7rUQO7rGzg3F"
      },
      "execution_count": null,
      "outputs": []
    },
    {
      "cell_type": "markdown",
      "source": [
        "a teeeeeeeeeeeeeeeeeeeeeeeeeeeeeeeeeeeeeeeeeeeeeeeeeeeeeester"
      ],
      "metadata": {
        "id": "P4CC-CqpDR9J"
      }
    },
    {
      "cell_type": "markdown",
      "source": [
        "Le modèle est plus efficace que les modèles 2D, il prédit avec une accuracy de 93,5% sur un jeu de séquences aléatoires en test."
      ],
      "metadata": {
        "id": "tertfpbASGAJ"
      }
    },
    {
      "cell_type": "markdown",
      "source": [
        "## Modèle 2 : 3DCNN + autre pre-processing"
      ],
      "metadata": {
        "id": "EJ0Ub0JagE1r"
      }
    },
    {
      "cell_type": "markdown",
      "source": [
        "Afin d'obtenir des résultats encore meilleurs nous  avons amélioré les techniques de pre-processing, nous choisissons donc les fichiers hdf5 correspondant à ces nouvelles méthodes pour l'apprentissage."
      ],
      "metadata": {
        "id": "N5je0dkFdk1o"
      }
    },
    {
      "cell_type": "code",
      "source": [
        "Dataset = importation(\"/content/drive/MyDrive/UV PROJET P6/dataset_normal_methode_2.2_3.2.hdf5\",\n",
        "                      \"/content/drive/MyDrive/UV PROJET P6/dataset_malade_methode_2.2_3.2.hdf5\")\n",
        "labelling(Dataset)"
      ],
      "metadata": {
        "id": "CClpSLwFem22"
      },
      "execution_count": null,
      "outputs": []
    },
    {
      "cell_type": "code",
      "source": [
        "my_callbacks3 = [\n",
        "    tensorflow.keras.callbacks.ModelCheckpoint(filepath='/tmp/model_3DCNN2.h5', monitor=\"val_acc\"),\n",
        "    tensorflow.keras.callbacks.EarlyStopping(monitor = 'val_acc',\n",
        "        min_delta = 0,\n",
        "        patience = 10,\n",
        "        verbose = 1,\n",
        "        restore_best_weights = True)\n",
        "    ]"
      ],
      "metadata": {
        "id": "oeiGc1a5mzc7"
      },
      "execution_count": 17,
      "outputs": []
    },
    {
      "cell_type": "code",
      "source": [
        "model_3DCNN2 = action_model_3DCNN(INSHAPE, nbout=1)\n",
        "optimizer = tensorflow.keras.optimizers.Adam(0.001)\n",
        "model_3DCNN2.compile(\n",
        "    optimizer,\n",
        "    'binary_crossentropy',\n",
        "    metrics=['acc']\n",
        ")"
      ],
      "metadata": {
        "id": "PbEbpDQAhAm3"
      },
      "execution_count": null,
      "outputs": []
    },
    {
      "cell_type": "code",
      "source": [
        "model_3DCNN2.fit(Data, Y, epochs=EPOCH, validation_split=0.2, batch_size=BS, callbacks=my_callbacks3)"
      ],
      "metadata": {
        "id": "-pI7xW0bmtnN"
      },
      "execution_count": null,
      "outputs": []
    },
    {
      "cell_type": "markdown",
      "source": [
        "On sauvegarde le modèle avec les meilleurs poids :"
      ],
      "metadata": {
        "id": "ztxgDJCW_5ua"
      }
    },
    {
      "cell_type": "code",
      "source": [
        "model_3DCNN2_saved = model_3DCNN2.load_weights(\"/tmp/model_3DCNN2.h5\")"
      ],
      "metadata": {
        "id": "NfO-wDZMh1bz"
      },
      "execution_count": null,
      "outputs": []
    },
    {
      "cell_type": "markdown",
      "source": [
        "On évalue le modèle :"
      ],
      "metadata": {
        "id": "gXAqg-pm_7rI"
      }
    },
    {
      "cell_type": "code",
      "source": [
        "evaluation(100, 2, model_3DCNN2)"
      ],
      "metadata": {
        "id": "QzlcmY7UteE2"
      },
      "execution_count": null,
      "outputs": []
    }
  ]
}