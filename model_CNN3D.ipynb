{
  "nbformat": 4,
  "nbformat_minor": 0,
  "metadata": {
    "colab": {
      "name": "model_CNN3D.ipynb",
      "provenance": [],
      "authorship_tag": "ABX9TyMcjxMXiczuXjG19KGpfShU",
      "include_colab_link": true
    },
    "kernelspec": {
      "name": "python3",
      "display_name": "Python 3"
    },
    "language_info": {
      "name": "python"
    },
    "accelerator": "GPU"
  },
  "cells": [
    {
      "cell_type": "markdown",
      "metadata": {
        "id": "view-in-github",
        "colab_type": "text"
      },
      "source": [
        "<a href=\"https://colab.research.google.com/github/quent1fvr/Infection_pulmonaire/blob/main/model_CNN3D.ipynb\" target=\"_parent\"><img src=\"https://colab.research.google.com/assets/colab-badge.svg\" alt=\"Open In Colab\"/></a>"
      ]
    },
    {
      "cell_type": "markdown",
      "source": [
        "# **0 - Importation des données et librairies**\n",
        "\n"
      ],
      "metadata": {
        "id": "R0SKEyPHdLaR"
      }
    },
    {
      "cell_type": "code",
      "execution_count": 1,
      "metadata": {
        "colab": {
          "base_uri": "https://localhost:8080/"
        },
        "id": "F10e-oz4Zha_",
        "outputId": "08d98054-6641-443f-daa1-347f2565f729"
      },
      "outputs": [
        {
          "output_type": "stream",
          "name": "stdout",
          "text": [
            "Mounted at /content/drive\n"
          ]
        }
      ],
      "source": [
        "from google.colab import drive\n",
        "drive.mount('/content/drive')"
      ]
    },
    {
      "cell_type": "code",
      "execution_count": 2,
      "metadata": {
        "id": "Pn70CEYAbrPv"
      },
      "outputs": [],
      "source": [
        "import numpy as np\n",
        "import matplotlib.pyplot as plt\n",
        "import h5py\n",
        "import tensorflow\n",
        "import keras\n",
        "from tensorflow.keras import models\n",
        "from tensorflow.keras.models import Sequential, Model\n",
        "from tensorflow.keras.layers import Dense, Flatten\n",
        "from tensorflow.keras.layers import TimeDistributed\n",
        "from keras.layers import Conv3D, BatchNormalization,MaxPooling3D, GlobalMaxPool3D\n",
        "from keras.layers import TimeDistributed, GRU, Dense, Dropout\n",
        "from sklearn.metrics import classification_report, confusion_matrix\n",
        "\n",
        "\n"
      ]
    },
    {
      "cell_type": "code",
      "execution_count": 3,
      "metadata": {
        "id": "JcGjQZgvaPvB"
      },
      "outputs": [],
      "source": [
        "hf_normal= h5py.File(\"/content/drive/MyDrive/UV PROJET P6/Dataset_normal.hdf5\", \"r\")\n",
        "hf_malade= h5py.File(\"/content/drive/MyDrive/UV PROJET P6/Dataset_malade.hdf5\", \"r\")\n",
        "\n",
        "Data_normal = np.array(hf_normal[\"dataset_1\"][:]) #dataset_name is same as hdf5 object name \n",
        "Data_malade = np.array(hf_malade[\"dataset_2\"][:])"
      ]
    },
    {
      "cell_type": "markdown",
      "source": [
        "# **1 - Etude des données et création des labels**\n",
        "\n"
      ],
      "metadata": {
        "id": "v3imvT8OdXzP"
      }
    },
    {
      "cell_type": "code",
      "execution_count": 4,
      "metadata": {
        "colab": {
          "base_uri": "https://localhost:8080/"
        },
        "id": "6iURefCa8cbi",
        "outputId": "a75e9d5b-3660-4ebb-a769-c0769b5a062b"
      },
      "outputs": [
        {
          "output_type": "execute_result",
          "data": {
            "text/plain": [
              "((55720, 48, 48), (54600, 48, 48))"
            ]
          },
          "metadata": {},
          "execution_count": 4
        }
      ],
      "source": [
        "Data_normal.shape , Data_malade.shape"
      ]
    },
    {
      "cell_type": "code",
      "source": [
        "Data_normal = Data_normal.reshape(Data_normal.shape[0]//70,70,48,48) # work on 1576 samples of 70 scans of size 48*48\n",
        "Data_malade = Data_malade.reshape(Data_malade.shape[0]//70,70,48,48) # work on 1576 samples of 70 scans of size 48*48\n",
        "Data = np.concatenate((Data_normal,Data_malade))\n",
        "Data.shape"
      ],
      "metadata": {
        "colab": {
          "base_uri": "https://localhost:8080/"
        },
        "id": "k79efgCdlAeU",
        "outputId": "4bae0bfb-e520-4a71-8de8-1752858bc8c1"
      },
      "execution_count": 5,
      "outputs": [
        {
          "output_type": "execute_result",
          "data": {
            "text/plain": [
              "(1576, 70, 48, 48)"
            ]
          },
          "metadata": {},
          "execution_count": 5
        }
      ]
    },
    {
      "cell_type": "markdown",
      "source": [
        "Le jeu de données est composé de séquences de 70 images par scan, c'est pourquoi on atteibue un label pour chaque séquence :\n",
        "- 0 : La personne est négative au COVID. \n",
        "- 1 : La personne est positive au COVID"
      ],
      "metadata": {
        "id": "B9aqSe55doPl"
      }
    },
    {
      "cell_type": "code",
      "execution_count": 20,
      "metadata": {
        "id": "2wqEZaJ98vEL",
        "colab": {
          "base_uri": "https://localhost:8080/"
        },
        "outputId": "3ef3c0e9-a0d9-45fe-80c9-e052b85a3251"
      },
      "outputs": [
        {
          "output_type": "execute_result",
          "data": {
            "text/plain": [
              "(1576,)"
            ]
          },
          "metadata": {},
          "execution_count": 20
        }
      ],
      "source": [
        "Y_normal = np.zeros(Data_normal.shape[0]//70,dtype = np.int8) # 70 images per scan\n",
        "Y_malade = np.ones(Data_malade.shape[0]//70,dtype = np.int8)\n",
        "Y = np.concatenate((Y_normal,Y_malade))\n",
        "Y.shape\n"
      ]
    },
    {
      "cell_type": "markdown",
      "source": [
        "# **2 - Création d'un modèle CNN3D**\n",
        "\n",
        "\n"
      ],
      "metadata": {
        "id": "vcO2BEhHeztz"
      }
    },
    {
      "cell_type": "code",
      "execution_count": 33,
      "metadata": {
        "id": "76Mz9v0RbzAE"
      },
      "outputs": [],
      "source": [
        "def build_convnet(shape=(70,48, 48)):\n",
        "    momentum = .9\n",
        "    model = keras.Sequential()\n",
        "    model.add(Conv3D(64, (3,3,3), input_shape=shape,\n",
        "        padding='same', activation='relu'))\n",
        "    model.add(Conv3D(64, (3,3,3), padding='same', activation='relu'))\n",
        "    model.add(BatchNormalization(momentum=momentum))\n",
        "    \n",
        "    model.add(MaxPooling3D())\n",
        "    \n",
        "    model.add(Conv3D(128, (3,3,3), padding='same', activation='relu'))\n",
        "    model.add(Conv3D(128, (3,3,3), padding='same', activation='relu'))\n",
        "    model.add(BatchNormalization(momentum=momentum))\n",
        "    \n",
        "    model.add(GlobalMaxPool3D())\n",
        "    return model"
      ]
    },
    {
      "cell_type": "code",
      "execution_count": 34,
      "metadata": {
        "id": "4sLlW2a2b_pO"
      },
      "outputs": [],
      "source": [
        "def action_model(shape=(70,48, 48,1), nbout=1):\n",
        "    convnet = build_convnet(shape)\n",
        "    \n",
        "    model = keras.Sequential()\n",
        "    model.add(convnet)\n",
        "    # and finally, we make a decision network\n",
        "    model.add(Dense(1024, activation='relu'))\n",
        "    model.add(Dropout(.5))\n",
        "    model.add(Dense(512, activation='relu'))\n",
        "    model.add(Dropout(.5))\n",
        "    model.add(Dense(128, activation='relu'))\n",
        "    model.add(Dropout(.5))\n",
        "    model.add(Dense(64, activation='relu'))\n",
        "    model.add(Dense(nbout, activation='sigmoid'))\n",
        "    return model"
      ]
    },
    {
      "cell_type": "code",
      "execution_count": 18,
      "metadata": {
        "id": "AhXYRexwcyC9"
      },
      "outputs": [],
      "source": [
        "# some global params\n",
        "SIZE = (48, 48)\n",
        "NBFRAME = 70\n",
        "BS = 8\n",
        "CHANNEL = 1"
      ]
    },
    {
      "cell_type": "code",
      "execution_count": 10,
      "metadata": {
        "id": "mwhBQ6m0cqes"
      },
      "outputs": [],
      "source": [
        "INSHAPE=(70,48,48,1)\n",
        "model = action_model(INSHAPE, nbout=1)\n",
        "optimizer = tensorflow.keras.optimizers.Adam(0.001)\n",
        "model.compile(\n",
        "    optimizer,\n",
        "    'binary_crossentropy',\n",
        "    metrics=['acc']\n",
        ")"
      ]
    },
    {
      "cell_type": "markdown",
      "source": [
        "On fixe la graine aléatoire afin que l'on puisse avoir des résultats similaires en relançant l'apprentissage : "
      ],
      "metadata": {
        "id": "lQqlZXljfFJg"
      }
    },
    {
      "cell_type": "code",
      "execution_count": 11,
      "metadata": {
        "id": "gxRDqnX5Iw67"
      },
      "outputs": [],
      "source": [
        "def fix_seed(seed):\n",
        "    tensorflow.random.set_seed(seed)\n",
        "\n",
        "SEED = 42\n",
        "fix_seed(SEED)"
      ]
    },
    {
      "cell_type": "markdown",
      "source": [
        "On utilise les callbacks EarlyStop et ModelCheckpoint pour optimiser nos résultats : "
      ],
      "metadata": {
        "id": "koGjSlMJfRy3"
      }
    },
    {
      "cell_type": "code",
      "execution_count": 12,
      "metadata": {
        "id": "SEvNY_2dJ5aM"
      },
      "outputs": [],
      "source": [
        "my_callbacks = [\n",
        "    tensorflow.keras.callbacks.EarlyStopping(monitor = 'val_acc',\n",
        "                          min_delta = 0,\n",
        "                          patience = 20,\n",
        "                          verbose = 1,\n",
        "                          restore_best_weights = True),\n",
        "    tensorflow.keras.callbacks.ModelCheckpoint(filepath='/tmp/myModel.h5')\n",
        "]\n",
        "\n"
      ]
    },
    {
      "cell_type": "markdown",
      "source": [
        "# **3 - Apprentissage et interprétation des résultats**\n"
      ],
      "metadata": {
        "id": "xhdDB0r4ftLN"
      }
    },
    {
      "cell_type": "code",
      "execution_count": 13,
      "metadata": {
        "colab": {
          "base_uri": "https://localhost:8080/"
        },
        "id": "PP6JlqxidbX6",
        "outputId": "d2035296-445e-41b2-ce8f-e829c3fd14a5"
      },
      "outputs": [
        {
          "output_type": "stream",
          "name": "stdout",
          "text": [
            "Epoch 1/50\n",
            "158/158 [==============================] - 104s 552ms/step - loss: 0.9900 - acc: 0.5365 - val_loss: 1.1575 - val_acc: 0.0095\n",
            "Epoch 2/50\n",
            "158/158 [==============================] - 88s 556ms/step - loss: 0.7015 - acc: 0.5857 - val_loss: 0.7884 - val_acc: 0.0095\n",
            "Epoch 3/50\n",
            "158/158 [==============================] - 89s 566ms/step - loss: 0.6818 - acc: 0.6198 - val_loss: 0.8968 - val_acc: 0.0095\n",
            "Epoch 4/50\n",
            "158/158 [==============================] - 90s 567ms/step - loss: 0.6569 - acc: 0.6310 - val_loss: 1.1736 - val_acc: 0.0095\n",
            "Epoch 5/50\n",
            "158/158 [==============================] - 89s 567ms/step - loss: 0.6896 - acc: 0.6198 - val_loss: 0.7153 - val_acc: 0.0000e+00\n",
            "Epoch 6/50\n",
            "158/158 [==============================] - 90s 567ms/step - loss: 0.6811 - acc: 0.6024 - val_loss: 0.8436 - val_acc: 0.0000e+00\n",
            "Epoch 7/50\n",
            "158/158 [==============================] - 89s 564ms/step - loss: 0.6315 - acc: 0.6556 - val_loss: 0.4586 - val_acc: 0.7437\n",
            "Epoch 8/50\n",
            "158/158 [==============================] - 89s 563ms/step - loss: 0.5200 - acc: 0.7667 - val_loss: 0.4729 - val_acc: 0.6994\n",
            "Epoch 9/50\n",
            "158/158 [==============================] - 88s 560ms/step - loss: 0.3776 - acc: 0.8667 - val_loss: 1.0443 - val_acc: 0.3639\n",
            "Epoch 10/50\n",
            "158/158 [==============================] - 88s 560ms/step - loss: 0.3582 - acc: 0.8683 - val_loss: 0.9726 - val_acc: 0.4937\n",
            "Epoch 11/50\n",
            "158/158 [==============================] - 89s 560ms/step - loss: 0.3616 - acc: 0.8675 - val_loss: 0.6626 - val_acc: 0.5633\n",
            "Epoch 12/50\n",
            "158/158 [==============================] - 89s 561ms/step - loss: 0.3266 - acc: 0.8825 - val_loss: 0.3624 - val_acc: 0.7690\n",
            "Epoch 13/50\n",
            "158/158 [==============================] - 89s 561ms/step - loss: 0.2890 - acc: 0.8921 - val_loss: 0.5807 - val_acc: 0.6582\n",
            "Epoch 14/50\n",
            "158/158 [==============================] - 89s 562ms/step - loss: 0.2732 - acc: 0.8976 - val_loss: 0.2960 - val_acc: 0.8101\n",
            "Epoch 15/50\n",
            "158/158 [==============================] - 88s 559ms/step - loss: 0.2866 - acc: 0.8921 - val_loss: 0.4125 - val_acc: 0.7563\n",
            "Epoch 16/50\n",
            "158/158 [==============================] - 88s 560ms/step - loss: 0.2741 - acc: 0.9040 - val_loss: 0.9228 - val_acc: 0.5601\n",
            "Epoch 17/50\n",
            "158/158 [==============================] - 88s 560ms/step - loss: 0.2575 - acc: 0.9087 - val_loss: 0.3384 - val_acc: 0.8386\n",
            "Epoch 18/50\n",
            "158/158 [==============================] - 88s 559ms/step - loss: 0.2401 - acc: 0.9183 - val_loss: 0.3665 - val_acc: 0.8418\n",
            "Epoch 19/50\n",
            "158/158 [==============================] - 88s 559ms/step - loss: 0.2598 - acc: 0.9095 - val_loss: 0.2385 - val_acc: 0.8703\n",
            "Epoch 20/50\n",
            "158/158 [==============================] - 88s 558ms/step - loss: 0.2589 - acc: 0.9111 - val_loss: 0.2197 - val_acc: 0.8861\n",
            "Epoch 21/50\n",
            "158/158 [==============================] - 88s 558ms/step - loss: 0.2279 - acc: 0.9190 - val_loss: 0.1323 - val_acc: 0.9177\n",
            "Epoch 22/50\n",
            "158/158 [==============================] - 88s 557ms/step - loss: 0.1919 - acc: 0.9262 - val_loss: 0.5401 - val_acc: 0.7722\n",
            "Epoch 23/50\n",
            "158/158 [==============================] - 88s 559ms/step - loss: 0.1966 - acc: 0.9278 - val_loss: 0.2233 - val_acc: 0.8797\n",
            "Epoch 24/50\n",
            "158/158 [==============================] - 88s 559ms/step - loss: 0.1723 - acc: 0.9421 - val_loss: 0.2197 - val_acc: 0.8766\n",
            "Epoch 25/50\n",
            "158/158 [==============================] - 88s 558ms/step - loss: 0.1812 - acc: 0.9294 - val_loss: 0.2205 - val_acc: 0.9051\n",
            "Epoch 26/50\n",
            "158/158 [==============================] - 88s 558ms/step - loss: 0.2061 - acc: 0.9341 - val_loss: 0.3182 - val_acc: 0.8544\n",
            "Epoch 27/50\n",
            "158/158 [==============================] - 88s 559ms/step - loss: 0.1542 - acc: 0.9373 - val_loss: 0.3120 - val_acc: 0.8703\n",
            "Epoch 28/50\n",
            "158/158 [==============================] - 88s 558ms/step - loss: 0.1619 - acc: 0.9468 - val_loss: 0.1746 - val_acc: 0.8987\n",
            "Epoch 29/50\n",
            "158/158 [==============================] - 88s 559ms/step - loss: 0.1345 - acc: 0.9548 - val_loss: 0.0750 - val_acc: 0.9747\n",
            "Epoch 30/50\n",
            "158/158 [==============================] - 88s 559ms/step - loss: 0.1348 - acc: 0.9508 - val_loss: 0.3224 - val_acc: 0.8449\n",
            "Epoch 31/50\n",
            "158/158 [==============================] - 88s 559ms/step - loss: 0.1341 - acc: 0.9516 - val_loss: 0.2867 - val_acc: 0.8734\n",
            "Epoch 32/50\n",
            "158/158 [==============================] - 88s 558ms/step - loss: 0.1373 - acc: 0.9516 - val_loss: 0.1939 - val_acc: 0.8861\n",
            "Epoch 33/50\n",
            "158/158 [==============================] - 88s 558ms/step - loss: 0.1204 - acc: 0.9627 - val_loss: 0.1590 - val_acc: 0.9304\n",
            "Epoch 34/50\n",
            "158/158 [==============================] - 88s 558ms/step - loss: 0.1383 - acc: 0.9571 - val_loss: 0.1385 - val_acc: 0.9209\n",
            "Epoch 35/50\n",
            "158/158 [==============================] - 88s 556ms/step - loss: 0.1236 - acc: 0.9619 - val_loss: 0.3121 - val_acc: 0.8987\n",
            "Epoch 36/50\n",
            "158/158 [==============================] - 88s 556ms/step - loss: 0.1108 - acc: 0.9579 - val_loss: 0.1230 - val_acc: 0.9367\n",
            "Epoch 37/50\n",
            "158/158 [==============================] - 88s 557ms/step - loss: 0.0948 - acc: 0.9643 - val_loss: 0.3493 - val_acc: 0.8861\n",
            "Epoch 38/50\n",
            "158/158 [==============================] - 88s 557ms/step - loss: 0.1100 - acc: 0.9667 - val_loss: 0.2153 - val_acc: 0.9051\n",
            "Epoch 39/50\n",
            "158/158 [==============================] - 88s 555ms/step - loss: 0.1248 - acc: 0.9532 - val_loss: 1.0301 - val_acc: 0.5032\n",
            "Epoch 40/50\n",
            "158/158 [==============================] - 88s 555ms/step - loss: 0.1108 - acc: 0.9603 - val_loss: 0.2153 - val_acc: 0.9082\n",
            "Epoch 41/50\n",
            "158/158 [==============================] - 88s 554ms/step - loss: 0.0905 - acc: 0.9730 - val_loss: 0.0715 - val_acc: 0.9715\n",
            "Epoch 42/50\n",
            "158/158 [==============================] - 88s 556ms/step - loss: 0.0728 - acc: 0.9738 - val_loss: 0.0764 - val_acc: 0.9589\n",
            "Epoch 43/50\n",
            "158/158 [==============================] - 88s 554ms/step - loss: 0.0855 - acc: 0.9690 - val_loss: 0.2136 - val_acc: 0.8924\n",
            "Epoch 44/50\n",
            "158/158 [==============================] - 88s 556ms/step - loss: 0.0992 - acc: 0.9619 - val_loss: 0.3124 - val_acc: 0.8291\n",
            "Epoch 45/50\n",
            "158/158 [==============================] - 88s 556ms/step - loss: 0.1175 - acc: 0.9587 - val_loss: 0.1245 - val_acc: 0.9430\n",
            "Epoch 46/50\n",
            "158/158 [==============================] - 88s 555ms/step - loss: 0.0876 - acc: 0.9722 - val_loss: 0.4748 - val_acc: 0.8038\n",
            "Epoch 47/50\n",
            "158/158 [==============================] - 88s 554ms/step - loss: 0.1078 - acc: 0.9659 - val_loss: 0.1803 - val_acc: 0.9051\n",
            "Epoch 48/50\n",
            "158/158 [==============================] - 87s 554ms/step - loss: 0.0929 - acc: 0.9706 - val_loss: 0.2970 - val_acc: 0.8544\n",
            "Epoch 49/50\n",
            "158/158 [==============================] - 87s 554ms/step - loss: 0.0912 - acc: 0.9714 - val_loss: 0.3885 - val_acc: 0.8449\n",
            "Epoch 50/50\n",
            "158/158 [==============================] - 87s 554ms/step - loss: 0.0338 - acc: 0.9857 - val_loss: 0.4769 - val_acc: 0.9082\n"
          ]
        },
        {
          "output_type": "execute_result",
          "data": {
            "text/plain": [
              "<keras.callbacks.History at 0x7f8ea03e6110>"
            ]
          },
          "metadata": {},
          "execution_count": 13
        }
      ],
      "source": [
        "model.fit(Data,Y,epochs=50, validation_split=0.2, batch_size=BS, callbacks=my_callbacks)"
      ]
    },
    {
      "cell_type": "markdown",
      "source": [
        "On récupère le meilleur modèle, c'est à dire celui de l'epoch 29 "
      ],
      "metadata": {
        "id": "kmBwvGneQXdb"
      }
    },
    {
      "cell_type": "code",
      "source": [
        "model.load_weights(\"/tmp/myModel.h5\")\n",
        "\n"
      ],
      "metadata": {
        "id": "s175UYeZQUwL"
      },
      "execution_count": 24,
      "outputs": []
    },
    {
      "cell_type": "code",
      "execution_count": 31,
      "metadata": {
        "colab": {
          "base_uri": "https://localhost:8080/",
          "height": 236
        },
        "id": "-mpw2qmqFMeo",
        "outputId": "3cf3f054-a34e-4512-d071-7dcfa2e712b1"
      },
      "outputs": [
        {
          "output_type": "error",
          "ename": "NameError",
          "evalue": "ignored",
          "traceback": [
            "\u001b[0;31m---------------------------------------------------------------------------\u001b[0m",
            "\u001b[0;31mNameError\u001b[0m                                 Traceback (most recent call last)",
            "\u001b[0;32m<ipython-input-31-5fdb911fbec4>\u001b[0m in \u001b[0;36m<module>\u001b[0;34m()\u001b[0m\n\u001b[0;32m----> 1\u001b[0;31m \u001b[0macc\u001b[0m \u001b[0;34m=\u001b[0m \u001b[0mmodel\u001b[0m\u001b[0;34m.\u001b[0m\u001b[0mhistory\u001b[0m\u001b[0;34m.\u001b[0m\u001b[0mhistory\u001b[0m\u001b[0;34m[\u001b[0m\u001b[0;34m'acc'\u001b[0m\u001b[0;34m]\u001b[0m\u001b[0;34m\u001b[0m\u001b[0;34m\u001b[0m\u001b[0m\n\u001b[0m\u001b[1;32m      2\u001b[0m \u001b[0mval_acc\u001b[0m \u001b[0;34m=\u001b[0m \u001b[0mmodel\u001b[0m\u001b[0;34m.\u001b[0m\u001b[0mhistory\u001b[0m\u001b[0;34m.\u001b[0m\u001b[0mhistory\u001b[0m\u001b[0;34m[\u001b[0m\u001b[0;34m'val_acc'\u001b[0m\u001b[0;34m]\u001b[0m\u001b[0;34m\u001b[0m\u001b[0;34m\u001b[0m\u001b[0m\n\u001b[1;32m      3\u001b[0m \u001b[0mloss\u001b[0m \u001b[0;34m=\u001b[0m \u001b[0mmodel\u001b[0m\u001b[0;34m.\u001b[0m\u001b[0mhistory\u001b[0m\u001b[0;34m.\u001b[0m\u001b[0mhistory\u001b[0m\u001b[0;34m[\u001b[0m\u001b[0;34m'loss'\u001b[0m\u001b[0;34m]\u001b[0m\u001b[0;34m\u001b[0m\u001b[0;34m\u001b[0m\u001b[0m\n\u001b[1;32m      4\u001b[0m \u001b[0mval_loss\u001b[0m \u001b[0;34m=\u001b[0m \u001b[0mmodel\u001b[0m\u001b[0;34m.\u001b[0m\u001b[0mhistory\u001b[0m\u001b[0;34m.\u001b[0m\u001b[0mhistory\u001b[0m\u001b[0;34m[\u001b[0m\u001b[0;34m'val_loss'\u001b[0m\u001b[0;34m]\u001b[0m\u001b[0;34m\u001b[0m\u001b[0;34m\u001b[0m\u001b[0m\n\u001b[1;32m      5\u001b[0m \u001b[0;34m\u001b[0m\u001b[0m\n",
            "\u001b[0;31mNameError\u001b[0m: name 'model' is not defined"
          ]
        }
      ],
      "source": [
        "acc = model.history.history['acc']\n",
        "val_acc = model.history.history['val_acc']\n",
        "loss = model.history.history['loss']\n",
        "val_loss = model.history.history['val_loss']\n",
        "\n",
        "print(acc)\n",
        "print(val_acc)\n",
        "\n",
        "print(loss)\n",
        "print(val_loss)\n",
        "\n",
        "epochs = range(len(acc))\n",
        "\n",
        "plt.plot(epochs, acc, 'bo', label='Training acc')\n",
        "plt.plot(epochs, val_acc, 'b', label='Validation acc')\n",
        "plt.title('Training and validation accuracy')\n",
        "plt.legend()\n",
        "\n",
        "plt.figure()\n",
        "\n",
        "plt.plot(epochs, loss, 'bo', label='Training loss')\n",
        "plt.plot(epochs, val_loss, 'b', label='Validation loss')\n",
        "plt.title('Training and validation loss')\n",
        "plt.legend()\n",
        "\n",
        "plt.show()"
      ]
    },
    {
      "cell_type": "markdown",
      "source": [
        "# **4 - Test sur un jeu de données aléatoire**\n"
      ],
      "metadata": {
        "id": "EJ0Ub0JagE1r"
      }
    },
    {
      "cell_type": "code",
      "execution_count": 25,
      "metadata": {
        "id": "aSfziQtrFt7d",
        "colab": {
          "base_uri": "https://localhost:8080/"
        },
        "outputId": "f982dd3a-4af1-4d47-8ff5-37b92bf6c6f3"
      },
      "outputs": [
        {
          "output_type": "execute_result",
          "data": {
            "text/plain": [
              "(50, 70, 48, 48)"
            ]
          },
          "metadata": {},
          "execution_count": 25
        }
      ],
      "source": [
        "Data_test = []\n",
        "for i in range(25):\n",
        "  aleatoire = np.random.randint(0,Data_normal.shape[0])\n",
        "  Data_test.append(Data_normal[aleatoire][:])\n",
        "for i in range(25):\n",
        "  aleatoire = np.random.randint(0,Data_malade.shape[0])\n",
        "  Data_test.append(Data_malade[aleatoire][:])\n",
        "Data_test = np.array(Data_test)\n",
        "Data_test.shape"
      ]
    },
    {
      "cell_type": "code",
      "source": [
        "Y_test_normal= np.zeros(25)\n",
        "Y_test_malade = np.ones(25)\n",
        "Y_test = np.concatenate((Y_test_normal,Y_test_malade))"
      ],
      "metadata": {
        "id": "uMUV_HeLlinS"
      },
      "execution_count": 27,
      "outputs": []
    },
    {
      "cell_type": "code",
      "source": [
        "model.evaluate(Data_test,Y_test)"
      ],
      "metadata": {
        "colab": {
          "base_uri": "https://localhost:8080/"
        },
        "id": "aoMCI71Il4L6",
        "outputId": "5358b77e-7f21-4495-e887-1bf34d73730c"
      },
      "execution_count": 28,
      "outputs": [
        {
          "output_type": "stream",
          "name": "stdout",
          "text": [
            "2/2 [==============================] - 6s 2s/step - loss: 0.3699 - acc: 0.9400\n"
          ]
        },
        {
          "output_type": "execute_result",
          "data": {
            "text/plain": [
              "[0.3698709011077881, 0.9399999976158142]"
            ]
          },
          "metadata": {},
          "execution_count": 28
        }
      ]
    },
    {
      "cell_type": "code",
      "source": [
        "preds = np.round(model.predict(Data_test),0)\n",
        "cm = confusion_matrix(Y_test, preds)\n",
        "print(cm)\n"
      ],
      "metadata": {
        "colab": {
          "base_uri": "https://localhost:8080/"
        },
        "id": "E7NMS58Aml7g",
        "outputId": "cee5d8ef-84d3-4fbf-bd33-4e395cd2d738"
      },
      "execution_count": 29,
      "outputs": [
        {
          "output_type": "stream",
          "name": "stdout",
          "text": [
            "[[25  0]\n",
            " [ 3 22]]\n"
          ]
        }
      ]
    },
    {
      "cell_type": "markdown",
      "source": [
        "Le modèle est plus efficace que les modèles 2D, il prédit avec une accuracy de 93% sur un jeu de donnée aléatoire en test."
      ],
      "metadata": {
        "id": "tertfpbASGAJ"
      }
    },
    {
      "cell_type": "code",
      "source": [
        "hf_normal= h5py.File(\"/content/drive/MyDrive/UV PROJET P6/dataset_normal_methode_2.2_3.2.hdf5\", \"r\")\n",
        "hf_malade= h5py.File(\"/content/drive/MyDrive/UV PROJET P6/dataset_malade_methode_2.2_3.2.hdf5\", \"r\")\n",
        "\n",
        "Data_normal2 = np.array(hf_normal[\"dataset_1\"][:]) #dataset_name is same as hdf5 object name \n",
        "Data_malade2 = np.array(hf_malade[\"dataset_2\"][:])"
      ],
      "metadata": {
        "id": "OpXcah1ylMpz"
      },
      "execution_count": 4,
      "outputs": []
    },
    {
      "cell_type": "code",
      "source": [
        "Data_normal2.shape, Data_malade2.shape"
      ],
      "metadata": {
        "id": "_sztZ-4YmO_z",
        "outputId": "bb28c1b9-960e-4630-fe17-dd41176a05fd",
        "colab": {
          "base_uri": "https://localhost:8080/"
        }
      },
      "execution_count": 5,
      "outputs": [
        {
          "output_type": "execute_result",
          "data": {
            "text/plain": [
              "((55720, 48, 48), (54600, 48, 48))"
            ]
          },
          "metadata": {},
          "execution_count": 5
        }
      ]
    },
    {
      "cell_type": "code",
      "source": [
        "Data_normal2 = Data_normal.reshape(Data_normal.shape[0]//70,70,48,48) # work on 1576 samples of 70 scans of size 48*48\n",
        "Data_malade2 = Data_malade.reshape(Data_malade.shape[0]//70,70,48,48) # work on 1576 samples of 70 scans of size 48*48\n",
        "Data2 = np.concatenate((Data_normal2,Data_malade2))\n",
        "Data2.shape"
      ],
      "metadata": {
        "id": "UFxYL6zKmdsW",
        "outputId": "44f3bc07-57e0-431e-a2e4-cb82c9f7979e",
        "colab": {
          "base_uri": "https://localhost:8080/"
        }
      },
      "execution_count": 7,
      "outputs": [
        {
          "output_type": "execute_result",
          "data": {
            "text/plain": [
              "(1576, 70, 48, 48)"
            ]
          },
          "metadata": {},
          "execution_count": 7
        }
      ]
    },
    {
      "cell_type": "code",
      "source": [
        "my_callbacks2 = [\n",
        "    tensorflow.keras.callbacks.ModelCheckpoint(filepath='/tmp/myModel2.1.h5',    monitor=\"val_acc\"),\n",
        "    tensorflow.keras.callbacks.EarlyStopping(monitor = 'val_acc',\n",
        "                          min_delta = 0,\n",
        "                          patience = 10,\n",
        "                          verbose = 1,\n",
        "                          restore_best_weights = True)\n",
        "    ]\n"
      ],
      "metadata": {
        "id": "oeiGc1a5mzc7"
      },
      "execution_count": 24,
      "outputs": []
    },
    {
      "cell_type": "code",
      "source": [
        "INSHAPE=(70,48,48,1)\n",
        "model2 = action_model(INSHAPE, nbout=1)\n",
        "optimizer = tensorflow.keras.optimizers.Adam(0.001)\n",
        "model2.compile(\n",
        "    optimizer,\n",
        "    'binary_crossentropy',\n",
        "    metrics=['acc']\n",
        ")"
      ],
      "metadata": {
        "id": "SdJP7-E1mq8O"
      },
      "execution_count": 12,
      "outputs": []
    },
    {
      "cell_type": "code",
      "source": [
        "model2.fit(Data2,Y,epochs=30, validation_split=0.2, batch_size=BS, callbacks=my_callbacks2)"
      ],
      "metadata": {
        "id": "-pI7xW0bmtnN",
        "outputId": "12e38de4-e409-473f-ba9f-99db59e9b85e",
        "colab": {
          "base_uri": "https://localhost:8080/"
        }
      },
      "execution_count": 25,
      "outputs": [
        {
          "output_type": "stream",
          "name": "stdout",
          "text": [
            "Epoch 1/50\n",
            "158/158 [==============================] - 84s 531ms/step - loss: 0.6340 - acc: 0.6778 - val_loss: 0.8686 - val_acc: 0.0000e+00\n",
            "Epoch 2/50\n",
            "158/158 [==============================] - 88s 555ms/step - loss: 0.6692 - acc: 0.6310 - val_loss: 0.9049 - val_acc: 0.0000e+00\n",
            "Epoch 3/50\n",
            "158/158 [==============================] - 90s 570ms/step - loss: 0.6638 - acc: 0.6302 - val_loss: 0.9288 - val_acc: 0.0000e+00\n",
            "Epoch 4/50\n",
            "158/158 [==============================] - 90s 570ms/step - loss: 0.6665 - acc: 0.6214 - val_loss: 1.1203 - val_acc: 0.0000e+00\n",
            "Epoch 5/50\n",
            "158/158 [==============================] - 90s 570ms/step - loss: 0.6724 - acc: 0.6270 - val_loss: 0.8726 - val_acc: 0.0000e+00\n",
            "Epoch 6/50\n",
            "158/158 [==============================] - 90s 571ms/step - loss: 0.6617 - acc: 0.6310 - val_loss: 0.9608 - val_acc: 0.0000e+00\n",
            "Epoch 7/50\n",
            "158/158 [==============================] - 90s 570ms/step - loss: 0.6525 - acc: 0.6317 - val_loss: 1.0130 - val_acc: 0.0000e+00\n",
            "Epoch 8/50\n",
            "158/158 [==============================] - 90s 570ms/step - loss: 0.6065 - acc: 0.6484 - val_loss: 0.5875 - val_acc: 0.8797\n",
            "Epoch 9/50\n",
            "158/158 [==============================] - 90s 570ms/step - loss: 0.5491 - acc: 0.7325 - val_loss: 0.3393 - val_acc: 0.8449\n",
            "Epoch 10/50\n",
            "158/158 [==============================] - 90s 570ms/step - loss: 0.5199 - acc: 0.7754 - val_loss: 0.3142 - val_acc: 1.0000\n",
            "Epoch 11/50\n",
            "158/158 [==============================] - 90s 570ms/step - loss: 0.4611 - acc: 0.8167 - val_loss: 0.0276 - val_acc: 0.9842\n",
            "Epoch 12/50\n",
            "158/158 [==============================] - 90s 570ms/step - loss: 0.3906 - acc: 0.8532 - val_loss: 0.5081 - val_acc: 0.6741\n",
            "Epoch 13/50\n",
            "158/158 [==============================] - 90s 570ms/step - loss: 0.3469 - acc: 0.8706 - val_loss: 0.6899 - val_acc: 0.6013\n",
            "Epoch 14/50\n",
            "158/158 [==============================] - 90s 570ms/step - loss: 0.3329 - acc: 0.8667 - val_loss: 0.2825 - val_acc: 0.8291\n",
            "Epoch 15/50\n",
            "158/158 [==============================] - 90s 570ms/step - loss: 0.3176 - acc: 0.8897 - val_loss: 0.2017 - val_acc: 0.8861\n",
            "Epoch 16/50\n",
            "158/158 [==============================] - 90s 570ms/step - loss: 0.3069 - acc: 0.8873 - val_loss: 0.2655 - val_acc: 0.8608\n",
            "Epoch 17/50\n",
            "158/158 [==============================] - 90s 570ms/step - loss: 0.3005 - acc: 0.8865 - val_loss: 0.2425 - val_acc: 0.8323\n",
            "Epoch 18/50\n",
            "158/158 [==============================] - 90s 570ms/step - loss: 0.2397 - acc: 0.9008 - val_loss: 0.2287 - val_acc: 0.8449\n",
            "Epoch 19/50\n",
            "158/158 [==============================] - 90s 569ms/step - loss: 0.2593 - acc: 0.9095 - val_loss: 0.4093 - val_acc: 0.7468\n",
            "Epoch 20/50\n",
            "158/158 [==============================] - 90s 570ms/step - loss: 0.2878 - acc: 0.9000 - val_loss: 0.3110 - val_acc: 0.8006\n",
            "Epoch 21/50\n",
            "158/158 [==============================] - 90s 570ms/step - loss: 0.2395 - acc: 0.9079 - val_loss: 0.4951 - val_acc: 0.7753\n",
            "Epoch 22/50\n",
            "158/158 [==============================] - 90s 570ms/step - loss: 0.2611 - acc: 0.9103 - val_loss: 0.3130 - val_acc: 0.8070\n",
            "Epoch 23/50\n",
            "158/158 [==============================] - 90s 569ms/step - loss: 0.2273 - acc: 0.9183 - val_loss: 0.5207 - val_acc: 0.7373\n",
            "Epoch 24/50\n",
            "158/158 [==============================] - 90s 570ms/step - loss: 0.2138 - acc: 0.9246 - val_loss: 0.0767 - val_acc: 0.9557\n",
            "Epoch 25/50\n",
            "158/158 [==============================] - 90s 569ms/step - loss: 0.2328 - acc: 0.9214 - val_loss: 0.3612 - val_acc: 0.8038\n",
            "Epoch 26/50\n",
            "158/158 [==============================] - 90s 569ms/step - loss: 0.2129 - acc: 0.9230 - val_loss: 0.2566 - val_acc: 0.8386\n",
            "Epoch 27/50\n",
            "158/158 [==============================] - 90s 570ms/step - loss: 0.1932 - acc: 0.9262 - val_loss: 0.1246 - val_acc: 0.9430\n",
            "Epoch 28/50\n",
            "158/158 [==============================] - 90s 570ms/step - loss: 0.1887 - acc: 0.9262 - val_loss: 0.2255 - val_acc: 0.8766\n",
            "Epoch 29/50\n",
            "158/158 [==============================] - 90s 569ms/step - loss: 0.1638 - acc: 0.9381 - val_loss: 0.2955 - val_acc: 0.8544\n",
            "Epoch 30/50\n",
            "158/158 [==============================] - 90s 570ms/step - loss: 0.1482 - acc: 0.9516 - val_loss: 0.2821 - val_acc: 0.8513\n",
            "Epoch 31/50\n",
            "158/158 [==============================] - 90s 570ms/step - loss: 0.1372 - acc: 0.9500 - val_loss: 0.1854 - val_acc: 0.8797\n",
            "Epoch 32/50\n",
            "158/158 [==============================] - 90s 569ms/step - loss: 0.1958 - acc: 0.9357 - val_loss: 0.2086 - val_acc: 0.9082\n",
            "Epoch 33/50\n",
            "158/158 [==============================] - 90s 568ms/step - loss: 0.1407 - acc: 0.9516 - val_loss: 0.2275 - val_acc: 0.8829\n",
            "Epoch 34/50\n",
            "158/158 [==============================] - 90s 568ms/step - loss: 0.1476 - acc: 0.9484 - val_loss: 0.3390 - val_acc: 0.8418\n",
            "Epoch 35/50\n",
            "158/158 [==============================] - 90s 567ms/step - loss: 0.1252 - acc: 0.9571 - val_loss: 0.2464 - val_acc: 0.8956\n",
            "Epoch 36/50\n",
            "158/158 [==============================] - 90s 569ms/step - loss: 0.1071 - acc: 0.9595 - val_loss: 0.2292 - val_acc: 0.8987\n",
            "Epoch 37/50\n",
            "158/158 [==============================] - 90s 569ms/step - loss: 0.1180 - acc: 0.9667 - val_loss: 0.1431 - val_acc: 0.9177\n",
            "Epoch 38/50\n",
            "158/158 [==============================] - 90s 568ms/step - loss: 0.1513 - acc: 0.9484 - val_loss: 0.2426 - val_acc: 0.8703\n",
            "Epoch 39/50\n",
            "158/158 [==============================] - 90s 569ms/step - loss: 0.1163 - acc: 0.9595 - val_loss: 0.2121 - val_acc: 0.9019\n",
            "Epoch 40/50\n",
            "158/158 [==============================] - 90s 570ms/step - loss: 0.1101 - acc: 0.9627 - val_loss: 0.2568 - val_acc: 0.8892\n",
            "Epoch 41/50\n",
            "158/158 [==============================] - 90s 570ms/step - loss: 0.0815 - acc: 0.9627 - val_loss: 0.2600 - val_acc: 0.9146\n",
            "Epoch 42/50\n",
            "158/158 [==============================] - 90s 567ms/step - loss: 0.1596 - acc: 0.9468 - val_loss: 0.2448 - val_acc: 0.9051\n",
            "Epoch 43/50\n",
            "158/158 [==============================] - 90s 570ms/step - loss: 0.1421 - acc: 0.9421 - val_loss: 0.3924 - val_acc: 0.7658\n",
            "Epoch 44/50\n",
            "158/158 [==============================] - 90s 568ms/step - loss: 0.1241 - acc: 0.9619 - val_loss: 0.1907 - val_acc: 0.8987\n",
            "Epoch 45/50\n",
            "158/158 [==============================] - 90s 567ms/step - loss: 0.0725 - acc: 0.9778 - val_loss: 0.2092 - val_acc: 0.9146\n",
            "Epoch 46/50\n",
            "158/158 [==============================] - 89s 566ms/step - loss: 0.0732 - acc: 0.9762 - val_loss: 0.3176 - val_acc: 0.9082\n",
            "Epoch 47/50\n",
            "158/158 [==============================] - 90s 569ms/step - loss: 0.0336 - acc: 0.9873 - val_loss: 0.4944 - val_acc: 0.9051\n",
            "Epoch 48/50\n",
            "158/158 [==============================] - 89s 566ms/step - loss: 0.0819 - acc: 0.9730 - val_loss: 0.3809 - val_acc: 0.8924\n",
            "Epoch 49/50\n",
            "158/158 [==============================] - 89s 567ms/step - loss: 0.0529 - acc: 0.9778 - val_loss: 0.3862 - val_acc: 0.9019\n",
            "Epoch 50/50\n",
            "158/158 [==============================] - 89s 562ms/step - loss: 0.0701 - acc: 0.9770 - val_loss: 0.3965 - val_acc: 0.8766\n"
          ]
        },
        {
          "output_type": "execute_result",
          "data": {
            "text/plain": [
              "<keras.callbacks.History at 0x7f29f43fbe50>"
            ]
          },
          "metadata": {},
          "execution_count": 25
        }
      ]
    },
    {
      "cell_type": "code",
      "source": [
        ""
      ],
      "metadata": {
        "id": "2Im3JY4dFQ7e",
        "outputId": "3af2b485-4925-44fb-d481-fa322fa84fe5",
        "colab": {
          "base_uri": "https://localhost:8080/",
          "height": 236
        }
      },
      "execution_count": 29,
      "outputs": [
        {
          "output_type": "error",
          "ename": "KeyError",
          "evalue": "ignored",
          "traceback": [
            "\u001b[0;31m---------------------------------------------------------------------------\u001b[0m",
            "\u001b[0;31mKeyError\u001b[0m                                  Traceback (most recent call last)",
            "\u001b[0;32m<ipython-input-29-71b7ab207d09>\u001b[0m in \u001b[0;36m<module>\u001b[0;34m()\u001b[0m\n\u001b[0;32m----> 1\u001b[0;31m \u001b[0macc\u001b[0m \u001b[0;34m=\u001b[0m \u001b[0mmodel2\u001b[0m\u001b[0;34m.\u001b[0m\u001b[0mhistory\u001b[0m\u001b[0;34m.\u001b[0m\u001b[0mhistory\u001b[0m\u001b[0;34m[\u001b[0m\u001b[0;34m'acc'\u001b[0m\u001b[0;34m]\u001b[0m\u001b[0;34m\u001b[0m\u001b[0;34m\u001b[0m\u001b[0m\n\u001b[0m\u001b[1;32m      2\u001b[0m \u001b[0mval_acc\u001b[0m \u001b[0;34m=\u001b[0m \u001b[0mmodel2\u001b[0m\u001b[0;34m.\u001b[0m\u001b[0mhistory\u001b[0m\u001b[0;34m.\u001b[0m\u001b[0mhistory\u001b[0m\u001b[0;34m[\u001b[0m\u001b[0;34m'val_acc'\u001b[0m\u001b[0;34m]\u001b[0m\u001b[0;34m\u001b[0m\u001b[0;34m\u001b[0m\u001b[0m\n\u001b[1;32m      3\u001b[0m \u001b[0mloss\u001b[0m \u001b[0;34m=\u001b[0m \u001b[0mmodel2\u001b[0m\u001b[0;34m.\u001b[0m\u001b[0mhistory\u001b[0m\u001b[0;34m.\u001b[0m\u001b[0mhistory\u001b[0m\u001b[0;34m[\u001b[0m\u001b[0;34m'loss'\u001b[0m\u001b[0;34m]\u001b[0m\u001b[0;34m\u001b[0m\u001b[0;34m\u001b[0m\u001b[0m\n\u001b[1;32m      4\u001b[0m \u001b[0mval_loss\u001b[0m \u001b[0;34m=\u001b[0m \u001b[0mmodel2\u001b[0m\u001b[0;34m.\u001b[0m\u001b[0mhistory\u001b[0m\u001b[0;34m.\u001b[0m\u001b[0mhistory\u001b[0m\u001b[0;34m[\u001b[0m\u001b[0;34m'val_loss'\u001b[0m\u001b[0;34m]\u001b[0m\u001b[0;34m\u001b[0m\u001b[0;34m\u001b[0m\u001b[0m\n\u001b[1;32m      5\u001b[0m \u001b[0;34m\u001b[0m\u001b[0m\n",
            "\u001b[0;31mKeyError\u001b[0m: 'acc'"
          ]
        }
      ]
    },
    {
      "cell_type": "code",
      "source": [
        "model2.load_weights(\"/tmp/myModel2.1.h5\")\n",
        "\n",
        "Data_test = []\n",
        "for i in range(25):\n",
        "  aleatoire = np.random.randint(0,Data_normal2.shape[0])\n",
        "  Data_test.append(Data_normal2[aleatoire][:])\n",
        "for i in range(25):\n",
        "  aleatoire = np.random.randint(0,Data_malade2.shape[0])\n",
        "  Data_test.append(Data_malade2[aleatoire][:])\n",
        "Data_test = np.array(Data_test)\n",
        "Data_test.shape\n",
        "Y_test_normal= np.zeros(25)\n",
        "Y_test_malade = np.ones(25)\n",
        "Y_test = np.concatenate((Y_test_normal,Y_test_malade))\n",
        "model2.evaluate(Data_test,Y_test)"
      ],
      "metadata": {
        "id": "QzlcmY7UteE2",
        "outputId": "6a3ba6aa-ecef-4dc2-ff3a-fb63f5f26b98",
        "colab": {
          "base_uri": "https://localhost:8080/"
        }
      },
      "execution_count": 26,
      "outputs": [
        {
          "output_type": "stream",
          "name": "stdout",
          "text": [
            "2/2 [==============================] - 1s 288ms/step - loss: 0.2252 - acc: 0.9600\n"
          ]
        },
        {
          "output_type": "execute_result",
          "data": {
            "text/plain": [
              "[0.22523929178714752, 0.9599999785423279]"
            ]
          },
          "metadata": {},
          "execution_count": 26
        }
      ]
    },
    {
      "cell_type": "code",
      "source": [
        "acc = model2.history.history['acc']\n",
        "val_acc = model2.history.history['val_acc']\n",
        "loss = model2.history.history['loss']\n",
        "val_loss = model2.history.history['val_loss']\n",
        "\n",
        "print(acc)\n",
        "print(val_acc)\n",
        "\n",
        "print(loss)\n",
        "print(val_loss)\n",
        "\n",
        "epochs = range(len(acc))\n",
        "\n",
        "plt.plot(epochs, acc, 'bo', label='Training acc')\n",
        "plt.plot(epochs, val_acc, 'b', label='Validation acc')\n",
        "plt.title('Training and validation accuracy')\n",
        "plt.legend()\n",
        "\n",
        "plt.figure()\n",
        "\n",
        "plt.plot(epochs, loss, 'bo', label='Training loss')\n",
        "plt.plot(epochs, val_loss, 'b', label='Validation loss')\n",
        "plt.title('Training and validation loss')\n",
        "plt.legend()\n",
        "\n",
        "plt.show()"
      ],
      "metadata": {
        "id": "VN8cOaGYFg6y",
        "outputId": "4ceb0729-164c-481e-8479-6c23b3c6b114",
        "colab": {
          "base_uri": "https://localhost:8080/",
          "height": 236
        }
      },
      "execution_count": 32,
      "outputs": [
        {
          "output_type": "error",
          "ename": "KeyError",
          "evalue": "ignored",
          "traceback": [
            "\u001b[0;31m---------------------------------------------------------------------------\u001b[0m",
            "\u001b[0;31mKeyError\u001b[0m                                  Traceback (most recent call last)",
            "\u001b[0;32m<ipython-input-32-71b7ab207d09>\u001b[0m in \u001b[0;36m<module>\u001b[0;34m()\u001b[0m\n\u001b[0;32m----> 1\u001b[0;31m \u001b[0macc\u001b[0m \u001b[0;34m=\u001b[0m \u001b[0mmodel2\u001b[0m\u001b[0;34m.\u001b[0m\u001b[0mhistory\u001b[0m\u001b[0;34m.\u001b[0m\u001b[0mhistory\u001b[0m\u001b[0;34m[\u001b[0m\u001b[0;34m'acc'\u001b[0m\u001b[0;34m]\u001b[0m\u001b[0;34m\u001b[0m\u001b[0;34m\u001b[0m\u001b[0m\n\u001b[0m\u001b[1;32m      2\u001b[0m \u001b[0mval_acc\u001b[0m \u001b[0;34m=\u001b[0m \u001b[0mmodel2\u001b[0m\u001b[0;34m.\u001b[0m\u001b[0mhistory\u001b[0m\u001b[0;34m.\u001b[0m\u001b[0mhistory\u001b[0m\u001b[0;34m[\u001b[0m\u001b[0;34m'val_acc'\u001b[0m\u001b[0;34m]\u001b[0m\u001b[0;34m\u001b[0m\u001b[0;34m\u001b[0m\u001b[0m\n\u001b[1;32m      3\u001b[0m \u001b[0mloss\u001b[0m \u001b[0;34m=\u001b[0m \u001b[0mmodel2\u001b[0m\u001b[0;34m.\u001b[0m\u001b[0mhistory\u001b[0m\u001b[0;34m.\u001b[0m\u001b[0mhistory\u001b[0m\u001b[0;34m[\u001b[0m\u001b[0;34m'loss'\u001b[0m\u001b[0;34m]\u001b[0m\u001b[0;34m\u001b[0m\u001b[0;34m\u001b[0m\u001b[0m\n\u001b[1;32m      4\u001b[0m \u001b[0mval_loss\u001b[0m \u001b[0;34m=\u001b[0m \u001b[0mmodel2\u001b[0m\u001b[0;34m.\u001b[0m\u001b[0mhistory\u001b[0m\u001b[0;34m.\u001b[0m\u001b[0mhistory\u001b[0m\u001b[0;34m[\u001b[0m\u001b[0;34m'val_loss'\u001b[0m\u001b[0;34m]\u001b[0m\u001b[0;34m\u001b[0m\u001b[0;34m\u001b[0m\u001b[0m\n\u001b[1;32m      5\u001b[0m \u001b[0;34m\u001b[0m\u001b[0m\n",
            "\u001b[0;31mKeyError\u001b[0m: 'acc'"
          ]
        }
      ]
    },
    {
      "cell_type": "code",
      "source": [
        "preds = np.round(model.predict(Data_test),0)\n",
        "cm = confusion_matrix(Y_test, preds)\n",
        "print(cm)\n"
      ],
      "metadata": {
        "id": "5TK9YIzytor_"
      },
      "execution_count": null,
      "outputs": []
    },
    {
      "cell_type": "code",
      "source": [
        ""
      ],
      "metadata": {
        "id": "fy-CGHWYHE7u"
      },
      "execution_count": null,
      "outputs": []
    }
  ]
}