{
  "nbformat": 4,
  "nbformat_minor": 0,
  "metadata": {
    "colab": {
      "name": "Copy of Copie de Infection_pulmonaire.ipynb",
      "provenance": [],
      "collapsed_sections": [],
      "machine_shape": "hm",
      "include_colab_link": true
    },
    "kernelspec": {
      "name": "python3",
      "display_name": "Python 3"
    },
    "language_info": {
      "name": "python"
    },
    "accelerator": "GPU"
  },
  "cells": [
    {
      "cell_type": "markdown",
      "metadata": {
        "id": "view-in-github",
        "colab_type": "text"
      },
      "source": [
        "<a href=\"https://colab.research.google.com/github/quent1fvr/Infection_pulmonaire/blob/main/Infection_pulmonaire_v2.ipynb\" target=\"_parent\"><img src=\"https://colab.research.google.com/assets/colab-badge.svg\" alt=\"Open In Colab\"/></a>"
      ]
    },
    {
      "cell_type": "markdown",
      "source": [
        "# **0 - Importation des données**"
      ],
      "metadata": {
        "id": "aztuEg56Ei65"
      }
    },
    {
      "cell_type": "code",
      "execution_count": null,
      "metadata": {
        "colab": {
          "base_uri": "https://localhost:8080/"
        },
        "id": "f625KFIVDHRn",
        "outputId": "1f9a250c-32af-436a-c753-9a783afb4a33"
      },
      "outputs": [
        {
          "output_type": "stream",
          "name": "stdout",
          "text": [
            "Mounted at /content/drive\n"
          ]
        }
      ],
      "source": [
        "from google.colab import drive\n",
        "drive.mount('/content/drive')"
      ]
    },
    {
      "cell_type": "code",
      "source": [
        "import tensorflow as tf\n",
        "import keras\n",
        "import zipfile\n",
        "import os\n",
        "\n",
        "zip_ref = zipfile.ZipFile('/content/drive/MyDrive/UV PROJET P6/COVID_dataset.zip', 'r') # Opens the zip file in read mode\n",
        "zip_ref.extractall('/tmp') # Extracts the files into the /tmp folder\n",
        "A = zip_ref.close()"
      ],
      "metadata": {
        "id": "KEis7wo1IkTr"
      },
      "execution_count": null,
      "outputs": []
    },
    {
      "cell_type": "markdown",
      "source": [
        "# **I - Etude de la distribution des données \"brutes\"**"
      ],
      "metadata": {
        "id": "dhkme7Bmkc2g"
      }
    },
    {
      "cell_type": "markdown",
      "source": [
        "### I - 1. Code pour la visualisation générale du jeu de données"
      ],
      "metadata": {
        "id": "-BXZ_C3DYfpv"
      }
    },
    {
      "cell_type": "code",
      "source": [
        "import numpy as np\n",
        "import matplotlib.pyplot as plt\n",
        "import pandas as pd\n",
        "\n",
        "def visualisation(infoGen, camembert, histogr, infoMoy):\n",
        "  \n",
        "  tab_normal = []\n",
        "  tab_malade = []\n",
        "  nb_img_total = 0\n",
        "  nb_img_normal = 0\n",
        "  nb_img_malade = 0\n",
        "  path_normal = '/tmp/COVID_crop/normal'\n",
        "  path_malade = '/tmp/COVID_crop/malade'\n",
        "\n",
        "  for base in os.walk(path_normal):\n",
        "    #print('folder \"', base[0], '\" containing ', len(base[2]), ' files')\n",
        "    tab_normal.append(len(base[2]))\n",
        "    nb_img_total += len(base[2])\n",
        "    nb_img_normal += len(base[2])\n",
        "  tab_normal.pop(0)\n",
        "  tab_normal.sort()\n",
        "  #print(tab_normal)\n",
        "  for base in os.walk(path_malade):\n",
        "    #print('folder \"', base[0], '\" containing ', len(base[2]), ' files')\n",
        "    tab_malade.append(len(base[2]))\n",
        "    nb_img_total += len(base[2])    \n",
        "    nb_img_malade += len(base[2])\n",
        "  tab_malade.pop(0)\n",
        "  tab_malade.sort()\n",
        "  #print(tab_malade)\n",
        "\n",
        "  #---------- infos générales ----------\n",
        "  if infoGen == True:\n",
        "    print(\"\\n---------- infos générales ----------\\n\")\n",
        "    print('Nombre de scans cas \"normale\" :', len(os.listdir('/tmp/COVID_crop/normal')))\n",
        "    print('Nombre de scans cas \"malade\" :', len(os.listdir('/tmp/COVID_crop/malade')))\n",
        "    print('''\\nNombre d'images cas \"normal\" :''', nb_img_normal)\n",
        "    print('''Nombre d'images cas \"malade\" :''', nb_img_malade)\n",
        "    print('''Nombre d'images total :''', nb_img_total)\n",
        "\n",
        "  #---------- camembert ----------\n",
        "  if camembert == True:\n",
        "    x = np.array([len(os.listdir(path_normal)), len(os.listdir(path_malade))])\n",
        "    labels = ['normal', 'malade']\n",
        "    colors = {'normal': 'chartreuse','malade': 'teal' }\n",
        "    plt.pie(x, labels=labels, autopct='%.0f%%', radius=0.8, colors=[colors[key] for key in labels], textprops={'fontsize': 18})\n",
        "    plt.show()\n",
        "\n",
        "  #---------- histogramme ----------\n",
        "  if histogr == True:\n",
        "    print(\"\\n---------- histogramme ----------\\n\")\n",
        "    plt.figure(figsize=(10, 10))\n",
        "    x0 = tab_normal\n",
        "    x1 = tab_malade\n",
        "    plt.hist(x0, alpha=0.6, align=\"mid\", label=\"Distribution du nombre d'images par scan normal\")\n",
        "    plt.hist(x1, alpha=0.6, align=\"mid\", label=\"Distribution du nombre d'images par scan malade\")\n",
        "    plt.legend(loc='lower right')\n",
        "    plt.xlabel(\"Nombres d'images par scan\")\n",
        "    plt.ylabel(\"Occurences\")\n",
        "    plt.show()\n",
        "\n",
        "  #---------- infos sur les moyennes ----------\n",
        "  if infoMoy == True:\n",
        "    print(\"\\n---------- infos sur les moyennes ----------\\n\")\n",
        "    x0_mean = np.mean(tab_normal)\n",
        "    x1_mean = np.mean(tab_malade)\n",
        "    tot_mean = (nb_img_normal/nb_img_total)*x0_mean + (nb_img_malade/nb_img_total)*x1_mean\n",
        "    print('''Moyenne d'images pour les scans cas \"normal\" :''', x0_mean)\n",
        "    print('''Moyenne d'images pour les scans cas \"malade\" :''', x1_mean)\n",
        "    print('''Moyenne d'images pour tous les scans confondus :''', tot_mean)"
      ],
      "metadata": {
        "id": "i5y7ZX5qioJV"
      },
      "execution_count": null,
      "outputs": []
    },
    {
      "cell_type": "markdown",
      "source": [
        "### I - 2. Analyse du jeu de données \"brutes\""
      ],
      "metadata": {
        "id": "H0wSAiQpYoQG"
      }
    },
    {
      "cell_type": "code",
      "source": [
        "visualisation(True, True, True, True)"
      ],
      "metadata": {
        "id": "CV3ckHAwJCT2"
      },
      "execution_count": null,
      "outputs": []
    },
    {
      "cell_type": "markdown",
      "source": [
        "Selon cette première visualisation du jeu de données \"brutes\", nous remarquons plusieurs points sur lequels nous pouvons travailler afin d'obtenir un jeu  plus lisible pour l'algorithme de deep learning que nous implémenterons par la suite. En effet, selon l'histogramme regroupant l'ensemble des scans de personnes malades et normales, nous pouvons observer : \n",
        "\n",
        "1. D'une part, une distribution du nombre d'images par scan assez étalée avec des cas extrêmes inexploitables à ignorer : ~10 ou +600 images par scan\n",
        "2. D'autre part, une moyenne du nombre d'images par scan différente et non précise pour les deux cas :\n",
        "  *   🤒 \"malade\" avec 2 pics d'occurences pour des scans contenant ~60 et ~140 images\n",
        "  *   🙂 \"normal\" avec des pics aux alentours de 90 images par scan"
      ],
      "metadata": {
        "id": "uhX4wM-_AOGv"
      }
    },
    {
      "cell_type": "markdown",
      "source": [
        "Ainsi, nous allons réaliser dans ***II.Padding des données*** un nettoyage et une standardisation du jeu de données pour permettre d'une part un traitement plus aisé, et d'autre part de réduire le poids de stockage. Nous aimerions ainsi obtenir un nombre fixé d'images par scan quelque soit le cas, pour tous les scans du jeu de données."
      ],
      "metadata": {
        "id": "XfpUS8gzK9PQ"
      }
    },
    {
      "cell_type": "markdown",
      "source": [
        "# **II - Padding des données**"
      ],
      "metadata": {
        "id": "IfwPgRE9J32q"
      }
    },
    {
      "cell_type": "markdown",
      "source": [
        "### II - 1. On élimine les scans contenant moins de 40 et plus de 100 images\n"
      ],
      "metadata": {
        "id": "vuoM54vQSQE0"
      }
    },
    {
      "cell_type": "code",
      "source": [
        "import shutil\n",
        "num_skipped = 0\n",
        "for folder_name in (\"normal\", \"malade\"):\n",
        "  folder_path = os.path.join(\"/tmp/COVID_crop\", folder_name)\n",
        "  for fname in os.listdir(folder_path):\n",
        "    fpath = os.path.join(folder_path, fname)\n",
        "    if len(os.listdir(fpath)) >= 100 or len(os.listdir(fpath)) <= 40:\n",
        "      num_skipped += 1\n",
        "      shutil.rmtree(fpath)\n",
        "print(\"Deleted %d scans\" % num_skipped)"
      ],
      "metadata": {
        "id": "JTEvBIHUHlWu"
      },
      "execution_count": null,
      "outputs": []
    },
    {
      "cell_type": "code",
      "source": [
        "visualisation(True, False, True, True)"
      ],
      "metadata": {
        "id": "mfJ1NZ2IeP23",
        "colab": {
          "base_uri": "https://localhost:8080/",
          "height": 1000
        },
        "outputId": "03aa134f-1aa6-41c1-fce6-6c04b23cd833"
      },
      "execution_count": null,
      "outputs": [
        {
          "output_type": "stream",
          "name": "stdout",
          "text": [
            "\n",
            "---------- infos générales ----------\n",
            "\n",
            "Nombre de scans cas \"normale\" : 796\n",
            "Nombre de scans cas \"malade\" : 780\n",
            "\n",
            "Nombre d'images cas \"normal\" : 62674\n",
            "Nombre d'images cas \"malade\" : 47485\n",
            "Nombre d'images total : 110159\n"
          ]
        },
        {
          "output_type": "display_data",
          "data": {
            "text/plain": [
              "<Figure size 432x288 with 1 Axes>"
            ],
            "image/png": "[encoded data removed]"
          },
          "metadata": {}
        },
        {
          "output_type": "stream",
          "name": "stdout",
          "text": [
            "\n",
            "---------- histogramme ----------\n",
            "\n"
          ]
        },
        {
          "output_type": "display_data",
          "data": {
            "text/plain": [
              "<Figure size 720x720 with 1 Axes>"
            ],
            "image/png": "[encoded data removed]"
          },
          "metadata": {
            "needs_background": "light"
          }
        },
        {
          "output_type": "stream",
          "name": "stdout",
          "text": [
            "\n",
            "---------- infos sur les moyennes ----------\n",
            "\n",
            "Moyenne d'images pour les scans cas \"normal\" : 78.73618090452261\n",
            "Moyenne d'images pour les scans cas \"malade\" : 60.87820512820513\n",
            "Moyenne d'images pour tous les scans confondus : 71.03834432522872\n"
          ]
        }
      ]
    },
    {
      "cell_type": "markdown",
      "source": [
        "### II - 2. On comble les scans contenant moins de 70 images (Choix à faire)"
      ],
      "metadata": {
        "id": "BDKe1Ry-qgJJ"
      }
    },
    {
      "cell_type": "markdown",
      "source": [
        "#### II - 2.1. Méthode 1 : Comble par ajout d'images noires "
      ],
      "metadata": {
        "id": "C8qNw20TT8mo"
      }
    },
    {
      "cell_type": "code",
      "source": [
        "num_skipped = 0\n",
        "from PIL import Image\n",
        "for folder_name in (\"normal\", \"malade\"):\n",
        "  folder_path = os.path.join(\"/tmp/COVID_crop\", folder_name)\n",
        "  for fname in os.listdir(folder_path):\n",
        "    fpath = os.path.join(folder_path, fname)\n",
        "    if len(os.listdir(fpath)) < 70:\n",
        "      for i in range (70 - len(os.listdir(fpath))) : \n",
        "        new_im = Image.new('RGB', (128, 128), (0, 0, 0))\n",
        "        new_im.save(fpath + \"/Dark_image\" + str(i), \"PNG\")"
      ],
      "metadata": {
        "id": "NmKX_K7zUTN7"
      },
      "execution_count": null,
      "outputs": []
    },
    {
      "cell_type": "code",
      "source": [
        "visualisation(True, False, False, True)"
      ],
      "metadata": {
        "id": "PkPqBoFDYWjX",
        "outputId": "e5b9ff78-6230-4178-9dcd-51eb90f06327",
        "colab": {
          "base_uri": "https://localhost:8080/",
          "height": 508
        }
      },
      "execution_count": null,
      "outputs": [
        {
          "output_type": "stream",
          "name": "stdout",
          "text": [
            "\n",
            "---------- infos générales ----------\n",
            "\n",
            "Nombre de scans cas \"normale\" : 796\n",
            "Nombre de scans cas \"malade\" : 780\n",
            "\n",
            "Nombre d'images cas \"normal\" : 64146\n",
            "Nombre d'images cas \"malade\" : 54849\n",
            "Nombre d'images total : 118995\n"
          ]
        },
        {
          "output_type": "display_data",
          "data": {
            "text/plain": [
              "<Figure size 432x288 with 1 Axes>"
            ],
            "image/png": "[encoded data removed]"
          },
          "metadata": {}
        },
        {
          "output_type": "stream",
          "name": "stdout",
          "text": [
            "\n",
            "---------- infos sur les moyennes ----------\n",
            "\n",
            "Moyenne d'images pour les scans cas \"normal\" : 80.58542713567839\n",
            "Moyenne d'images pour les scans cas \"malade\" : 70.31923076923077\n",
            "Moyenne d'images pour tous les scans confondus : 75.85337449058166\n"
          ]
        }
      ]
    },
    {
      "cell_type": "markdown",
      "source": [
        "#### II - 2.2. Méthode 2 : Comble par copie d'images en partant du milieu du scan"
      ],
      "metadata": {
        "id": "ckOJCvGZ_xqc"
      }
    },
    {
      "cell_type": "code",
      "source": [
        "from skimage.metrics import structural_similarity as compare_ssim\n",
        "import argparse\n",
        "import imutils\n",
        "import cv2\n",
        "import shutil\n",
        "import os\n",
        "\n",
        "def pathImg(index_img):\n",
        "  if index_img < 10:\n",
        "    return fpath + \"/000\" + str(index_img) + \".png\"\n",
        "  else:\n",
        "    return fpath + \"/00\" + str(index_img) + \".png\"\n",
        "\n",
        "for folder_name in (\"normal\", \"malade\"):\n",
        "  folder_path = os.path.join(\"/tmp/COVID_crop\", folder_name)\n",
        "  for fname in os.listdir(folder_path):\n",
        "    fpath = os.path.join(folder_path, fname)\n",
        "    if len(os.listdir(fpath)) < 70:\n",
        "      \n",
        "      index_img1 = len(os.listdir(fpath))//2\n",
        "      while os.path.exists(pathImg(index_img1)) == False:\n",
        "        index_img1 += 1\n",
        "      else:\n",
        "        path_img1 = pathImg(index_img1)\n",
        "        path_img2 = path_img1[:-6] + str(int(path_img1[len(path_img1)-6: -4]) + 2) + \".png\"\n",
        "        shutil.copy2(path_img1, path_img2)\n",
        "        compteur_img_toAdd = 70 - len(os.listdir(fpath))\n",
        "        #print(path_img2)\n",
        "        #print(os.listdir(fpath))\n",
        "\n",
        "        while compteur_img_toAdd != 0:\n",
        "            \n",
        "          index_img1 += 2\n",
        "          path_img1 = pathImg(index_img1)\n",
        "          path_img2 = path_img1[:-6] + str(int(path_img1[len(path_img1)-6: -4]) + 2) + \".png\"\n",
        "          shutil.copy2(path_img1, path_img2)\n",
        "          compteur_img_toAdd -= 1"
      ],
      "metadata": {
        "id": "-6PpfT4PAcOc"
      },
      "execution_count": null,
      "outputs": []
    },
    {
      "cell_type": "code",
      "source": [
        "visualisation(True, False, False, True)"
      ],
      "metadata": {
        "id": "FajX3ehqAcrg"
      },
      "execution_count": null,
      "outputs": []
    },
    {
      "cell_type": "markdown",
      "source": [
        "### II - 3. On élimine des images dans les scans contenant plus de 70 images (Choix à faire)"
      ],
      "metadata": {
        "id": "rV226LIarI1z"
      }
    },
    {
      "cell_type": "markdown",
      "source": [
        "#### II - 3.1. Méthode 1 : Elimination aléatoire"
      ],
      "metadata": {
        "id": "-3itKUcYj0uJ"
      }
    },
    {
      "cell_type": "code",
      "source": [
        "import shutil\n",
        "import numpy as np\n",
        "\n",
        "for folder_name in (\"normal\", \"malade\"):\n",
        "    folder_path = os.path.join(\"/tmp/COVID_crop\", folder_name)\n",
        "    for fname in os.listdir(folder_path):\n",
        "        fpath = os.path.join(folder_path, fname)\n",
        "        if len(os.listdir(fpath)) > 70:\n",
        "            while len(os.listdir(fpath)) !=70 :\n",
        "                delete_path = fpath + \"/00\" + str(np.random.randint(10,len(os.listdir(fpath)))) + \".png\"\n",
        "                while os.path.exists(delete_path):  \n",
        "                    os.remove(delete_path)"
      ],
      "metadata": {
        "id": "cAXftNZsdBoT"
      },
      "execution_count": null,
      "outputs": []
    },
    {
      "cell_type": "code",
      "source": [
        "visualisation(True, False, False, True)"
      ],
      "metadata": {
        "id": "LqStkwJuevuI"
      },
      "execution_count": null,
      "outputs": []
    },
    {
      "cell_type": "markdown",
      "source": [
        "#### II - 3.2. Méthode 2 : Elimination par comparaison SSIM"
      ],
      "metadata": {
        "id": "7_bhQqXxBl3A"
      }
    },
    {
      "cell_type": "markdown",
      "source": [
        "##### II - 3.2. Test & explications"
      ],
      "metadata": {
        "id": "5l1FEAc-ldMo"
      }
    },
    {
      "cell_type": "code",
      "source": [
        "from skimage.metrics import structural_similarity as compare_ssim\n",
        "import argparse\n",
        "import imutils\n",
        "import cv2\n",
        "from keras.preprocessing.image import load_img, img_to_array, array_to_img\n",
        "from PIL import Image\n",
        "\n",
        "path_image1 = \"/tmp/COVID_crop/normal/1/0022.png\"\n",
        "path_image2 = \"/tmp/COVID_crop/normal/1/0015.png\"\n",
        "\n",
        "# load the two input images\n",
        "imageA = cv2.imread(path_image1)\n",
        "imageB = cv2.imread(path_image2)\n",
        "\n",
        "# compute the Structural Similarity Index (SSIM) between the two\n",
        "# images, ensuring that the difference image is returned\n",
        "(score, diff) = compare_ssim(imageA, imageB, full=True, multichannel=True)\n",
        "diff = (diff * 255).astype(\"uint8\")\n",
        "print(\"SSIM(Score of similarity): {}\".format(score))\n",
        "\n",
        "from google.colab.patches import cv2_imshow\n",
        "# show the output images\n",
        "print(\"\\nImage 1 :\\n\")\n",
        "#img = load_img(path_image1, target_size=(48,48))   \n",
        "#load_img.show()\n",
        "cv2_imshow(imageA)\n",
        "print(\"\\nImage 2 :\\n\")\n",
        "cv2_imshow(imageB)\n",
        "print(\"\\nDifférence :\\n\")\n",
        "cv2_imshow(diff)"
      ],
      "metadata": {
        "id": "4SkUH3MVB939",
        "colab": {
          "base_uri": "https://localhost:8080/",
          "height": 575
        },
        "outputId": "9f7baf80-3d78-4d5f-b19e-353547705e86"
      },
      "execution_count": null,
      "outputs": [
        {
          "output_type": "stream",
          "name": "stdout",
          "text": [
            "SSIM(Score of similarity): 0.6683536764047817\n",
            "\n",
            "Image 1 :\n",
            "\n"
          ]
        },
        {
          "output_type": "display_data",
          "data": {
            "text/plain": [
              "<PIL.Image.Image image mode=RGB size=128x128 at 0x7F8DEB05DDD0>"
            ],
            "image/png": "[encoded data removed]"
          },
          "metadata": {}
        },
        {
          "output_type": "stream",
          "name": "stdout",
          "text": [
            "\n",
            "Image 2 :\n",
            "\n"
          ]
        },
        {
          "output_type": "display_data",
          "data": {
            "text/plain": [
              "<PIL.Image.Image image mode=RGB size=128x128 at 0x7F8DEB05EB10>"
            ],
            "image/png": "[encoded data removed]"
          },
          "metadata": {}
        },
        {
          "output_type": "stream",
          "name": "stdout",
          "text": [
            "\n",
            "Différence :\n",
            "\n"
          ]
        },
        {
          "output_type": "display_data",
          "data": {
            "text/plain": [
              "<PIL.Image.Image image mode=RGB size=128x128 at 0x7F8DEB05EF50>"
            ],
            "image/png": "[encoded data removed]"
          },
          "metadata": {}
        }
      ]
    },
    {
      "cell_type": "markdown",
      "source": [
        "The ***score*** represents the structural similarity index between the two input images. This value can fall into the range [-1, 1] with a value of one being a “perfect match”.\n",
        "\n",
        "The ***diff*** image contains the actual image differences between the two input images that we wish to visualize. The difference image is currently represented as a floating point data type in the range [0, 1] so we first convert the array to 8-bit unsigned integers in the range [0, 255] (Line 26) before we can further process it using OpenCV."
      ],
      "metadata": {
        "id": "9wGGjbr-Fps1"
      }
    },
    {
      "cell_type": "markdown",
      "source": [
        ""
      ],
      "metadata": {
        "id": "9GX4YnDyllaO"
      }
    },
    {
      "cell_type": "markdown",
      "source": [
        "##### II - 3.2. Methode (bug)"
      ],
      "metadata": {
        "id": "HYpc-spqgQqS"
      }
    },
    {
      "cell_type": "code",
      "source": [
        "from skimage.metrics import structural_similarity as compare_ssim\n",
        "import argparse\n",
        "import imutils\n",
        "import cv2\n",
        "import shutil\n",
        "import numpy as np\n",
        "\n",
        "def pathImg(index_img):\n",
        "  if index_img < 10:\n",
        "    return fpath + \"/000\" + str(index_img) + \".png\"\n",
        "  else:\n",
        "    return fpath + \"/00\" + str(index_img) + \".png\"\n",
        "\n",
        "for folder_name in (\"normal\", \"malade\"):\n",
        "  folder_path = os.path.join(\"/tmp/COVID_crop\", folder_name)\n",
        "  for fname in os.listdir(folder_path):\n",
        "    fpath = os.path.join(folder_path, fname)\n",
        "    if len(os.listdir(fpath)) > 70:\n",
        "      compteur_img_toDel = len(os.listdir(fpath)) - 70\n",
        "      while compteur_img_toDel != 0:\n",
        "\n",
        "        # ---------- choix des images à comparer ----------\n",
        "        \n",
        "        # choix index image1\n",
        "        # sachant que les images sont numérotées entre 0001 et 0***\n",
        "        # méthode : choix random de l'index\n",
        "        \n",
        "        index_img1 = np.random.randint(1, len(os.listdir(fpath)) - 1)\n",
        "        while os.path.exists(pathImg(index_img1)) == False:\n",
        "          index_img1 = np.random.randint(1, len(os.listdir(fpath)) - 1)\n",
        "        else:\n",
        "          path_img1 = pathImg(index_img1)\n",
        "\n",
        "        # choix index image2\n",
        "        # sachant qu'elle doit être la plus proche voisine de l'image1\n",
        "        # méthode : recherche de l'index le plus proche supérieur\n",
        "        \n",
        "        index_img2 = index_img1 + 1                \n",
        "        while os.path.exists(pathImg(index_img2)) == False:\n",
        "          index_img2 += 1\n",
        "        else:\n",
        "          path_img2 = pathImg(index_img2)\n",
        "\n",
        "        # ------------- comparaison des 2 images successives -------------\n",
        "        \n",
        "        image1 = cv2.imread(path_img1)\n",
        "        image2 = cv2.imread(path_img2)\n",
        "        #print(\"\\nImage1\\nPath : \", path_img1, \"\\nShape : \", image1.shape)\n",
        "        #print(\"Image2\\nPath : \", path_img2, \"\\nShape : \", image2.shape, \"\\n\")\n",
        "        (score, diff) = compare_ssim(image1, image2, full=True, multichannel=True)\n",
        "        diff = (diff * 255).astype(\"uint8\")\n",
        "        #print(fpath, compteur_img_toDel, \"SSIM: {}\".format(score))\n",
        "\n",
        "        # ---------- suppression de l'image1 ----------\n",
        "        \n",
        "        # critère : SSIM > 0.80 (images très similaires)\n",
        "        if score > 0.80 and compteur_img_toDel != 0 :\n",
        "          compteur_img_toDel -= 1\n",
        "          while os.path.exists(path_img1):\n",
        "            os.remove(path_img1)"
      ],
      "metadata": {
        "id": "BfnzI-C8l1xV"
      },
      "execution_count": null,
      "outputs": []
    },
    {
      "cell_type": "code",
      "source": [
        "visualisation(True, False, False, True)"
      ],
      "metadata": {
        "id": "sYDkNSjk4-m8",
        "colab": {
          "base_uri": "https://localhost:8080/",
          "height": 508
        },
        "outputId": "32e34b20-62e6-442d-9535-decf4bbcc736"
      },
      "execution_count": null,
      "outputs": [
        {
          "output_type": "stream",
          "name": "stdout",
          "text": [
            "\n",
            "---------- infos générales ----------\n",
            "\n",
            "Nombre de scans cas \"normale\" : 796\n",
            "Nombre de scans cas \"malade\" : 780\n",
            "\n",
            "Nombre d'images cas \"normal\" : 54248\n",
            "Nombre d'images cas \"malade\" : 47236\n",
            "Nombre d'images total : 101484\n"
          ]
        },
        {
          "output_type": "display_data",
          "data": {
            "text/plain": [
              "<Figure size 432x288 with 1 Axes>"
            ],
            "image/png": "[encoded data removed]"
          },
          "metadata": {}
        },
        {
          "output_type": "stream",
          "name": "stdout",
          "text": [
            "\n",
            "---------- infos sur les moyennes ----------\n",
            "\n",
            "Moyenne d'images pour les scans cas \"normal\" : 68.15075376884423\n",
            "Moyenne d'images pour les scans cas \"malade\" : 60.55897435897436\n",
            "Moyenne d'images pour tous les scans confondus : 64.61713967987835\n"
          ]
        }
      ]
    },
    {
      "cell_type": "markdown",
      "source": [
        "Attention méthode SSIM moyen car des images toutes noires sont plus similaires à d'autres \"moyenne\" que deux \"moyennes\" entre elles..."
      ],
      "metadata": {
        "id": "Jp8tHYKBtYkR"
      }
    },
    {
      "cell_type": "markdown",
      "source": [
        "# **III - Conversion hdf5**\n",
        "\n"
      ],
      "metadata": {
        "id": "mycqzOVMmPiQ"
      }
    },
    {
      "cell_type": "code",
      "source": [
        "import os\n",
        "import h5py\n",
        "from keras.preprocessing.image import load_img, img_to_array, array_to_img\n",
        "import PIL\n",
        "\n",
        "arrlist_normal = []\n",
        "folder_path = os.path.join(\"/tmp/COVID_crop\", \"normal\")\n",
        "for fname in os.listdir(folder_path):\n",
        "    fpath = os.path.join(folder_path, fname)\n",
        "    for imgs in os.listdir(fpath):\n",
        "      array = np.array(Image.open(fpath + \"/\" + imgs).resize((48, 48))) / 255\n",
        "      arrlist_normal.append(array)          \n",
        "\n",
        "arrlist_malade = []\n",
        "folder_path = os.path.join(\"/tmp/COVID_crop\", \"malade\")\n",
        "for fname in os.listdir(folder_path):\n",
        "    fpath = os.path.join(folder_path, fname)\n",
        "    for imgs in os.listdir(fpath):\n",
        "      array = np.array(Image.open(fpath + \"/\" + imgs).resize((48, 48))) / 255\n",
        "      arrlist_malade.append(array)  "
      ],
      "metadata": {
        "id": "6y-oWrGyMiC3"
      },
      "execution_count": null,
      "outputs": []
    },
    {
      "cell_type": "code",
      "source": [
        "h5f = h5py.File('/content/drive/MyDrive/UV PROJET P6/Dataset_normal.hdf5', 'w')\n",
        "h5f.create_dataset('dataset_1', data=arrlist_normal)\n",
        "h5f.close()"
      ],
      "metadata": {
        "id": "VG73yVnKO2Fn"
      },
      "execution_count": null,
      "outputs": []
    },
    {
      "cell_type": "code",
      "source": [
        "h5f1 = h5py.File('/content/drive/MyDrive/UV PROJET P6/Dataset_malade.hdf5', 'w')\n",
        "h5f1.create_dataset('dataset_2', data=arrlist_malade)\n",
        "h5f1.close()"
      ],
      "metadata": {
        "id": "_jA_YkxpTqD1"
      },
      "execution_count": null,
      "outputs": []
    },
    {
      "cell_type": "markdown",
      "source": [
        "# **IV - Phase d'entrainement du modèle**\n",
        "\n"
      ],
      "metadata": {
        "id": "daaxyQx4kBxt"
      }
    },
    {
      "cell_type": "code",
      "source": [
        "import tensorflow\n",
        "from tensorflow.keras.preprocessing import image\n",
        "from tensorflow.python.keras import backend as K\n",
        "import numpy as np\n",
        "import os\n",
        "import math\n",
        "import multiprocessing.pool\n",
        "\n",
        "\n",
        "class VideoDirIterator(image.Iterator):\n",
        "    def __init__(self,\n",
        "                 directory,\n",
        "                 video_data_generator,\n",
        "                 target_size=(112,112),\n",
        "                 batch_size=32,\n",
        "                 clip_size=16,\n",
        "                 shuffle=True,\n",
        "                 allow_lt_clip_size=True,\n",
        "                 seed=None,\n",
        "                 data_format=\"channels_last\",\n",
        "                 save_to_dir=None,\n",
        "                 save_prefix='',\n",
        "                 save_format='png'):\n",
        "        # TODO: parammeter explaination\n",
        "        \"\"\"\n",
        "        directory:\n",
        "        video_data_generator:\n",
        "        target_size:\n",
        "        batch_size:\n",
        "        clip_size:\n",
        "        shuffle:\n",
        "        allow_lt_clip_size: whether allow the number of frames less than clip size\n",
        "        seed:\n",
        "        data_format: \"channel_last\": \"NDHWC\", \"channel_first\": \"NCDHW\".\n",
        "        save_to_dir:\n",
        "        save_prefix:\n",
        "        save_format:\n",
        "        \"\"\"\n",
        "        if data_format is None:\n",
        "            data_format = K.image_data_format\n",
        "        self.directory = directory\n",
        "        self.video_data_generator = video_data_generator\n",
        "        self.target_size = tuple(target_size)\n",
        "        self.batch_size = batch_size\n",
        "        self.clip_size = clip_size\n",
        "        self.allow_lt_clip_size = allow_lt_clip_size\n",
        "        self.data_format = data_format\n",
        "        # set video shape\n",
        "        if self.data_format == 'channels_last':\n",
        "            self.video_shape = (self.clip_size,) + self.target_size + (3,)\n",
        "        else:\n",
        "            self.video_shape = (3,) + (self.clip_size,) + self.target_size\n",
        "        self.save_to_dir = save_to_dir\n",
        "        self.save_prefix = save_prefix\n",
        "        self.save_format = save_format\n",
        "\n",
        "        self.class_name = self._get_class_name()\n",
        "        self.num_classes = len(self.class_name)\n",
        "        self.class_indices = dict(zip(self.class_name, range(self.num_classes)))\n",
        "\n",
        "        self.filenames, self.classes = self._get_filenames_and_classes()\n",
        "        self.samples = len(self.filenames)\n",
        "\n",
        "        print('Found %d videos belonging to %d classes.' % (self.samples, self.num_classes))\n",
        "\n",
        "        super(VideoDirIterator, self).__init__(self.samples, batch_size, shuffle, seed)\n",
        "\n",
        "    def _get_batches_of_transformed_samples(self, index_array):\n",
        "        # \"NDHWC\": channel last\n",
        "        # \"NCDHW\": channel first\n",
        "        batch_shape = (len(index_array),) + self.video_shape\n",
        "        batch_x = np.zeros(batch_shape, dtype=K.floatx())\n",
        "        batch_y = np.zeros((len(batch_x), self.num_classes), dtype=K.floatx())\n",
        "\n",
        "        for i, j in enumerate(index_array):\n",
        "            # get filename, regard the filenames as video dir full path\n",
        "            vfname = self.filenames[j]\n",
        "            frame_list = os.listdir(vfname)\n",
        "            # get list of frames, and choose clip_size of frames\n",
        "            if self.allow_lt_clip_size and len(frame_list)<=self.clip_size:\n",
        "                # repeat the frame list, if the length of list is less than clip size\n",
        "                num = math.ceil(self.clip_size/len(frame_list))\n",
        "                batch_list = num * frame_list\n",
        "                batch_list = batch_list[0 : self.clip_size]\n",
        "            else:\n",
        "                index = np.random.randint(0, len(frame_list)-self.clip_size)\n",
        "                batch_list = frame_list[index : index+self.clip_size]\n",
        "            # transform\n",
        "            # TODO: apply the same transformation to a clip or different transformation to each frame?\n",
        "            # currently, I determin to apply the same transformation to a clip\n",
        "            clip = []\n",
        "            for frame in batch_list:\n",
        "                img_path = os.path.join(vfname, frame)\n",
        "                img = image.load_img(img_path, target_size=self.target_size)\n",
        "                # convert image to array, set \"channels_last\" as the default data format\n",
        "                # in the end convert the data format to users' configuraton\n",
        "                x = image.img_to_array(img, data_format=\"channels_last\")\n",
        "                x = self.video_data_generator.random_transform(x)\n",
        "                x = self.video_data_generator.standardize(x)\n",
        "                clip.append(x)\n",
        "\n",
        "            # generate batch_x\n",
        "            clip = np.array(clip)\n",
        "            if self.data_format == 'channels_first':\n",
        "                clip = clip.transpose((3, 0, 1, 2))\n",
        "            batch_x[i] = clip\n",
        "            # generate batch_y\n",
        "            labels = np.array(self.classes)\n",
        "            for i, label in enumerate(labels[index_array]):\n",
        "                batch_y[i, label] = 1\n",
        "\n",
        "            # TODO: additional function\n",
        "\n",
        "        return batch_x, batch_y\n",
        "\n",
        "    def next(self):\n",
        "        \"\"\"For python 2.x.\n",
        "        Returns:\n",
        "            The next batch.\n",
        "        \"\"\"\n",
        "        with self.lock:\n",
        "            index_array = next(self.index_generator)\n",
        "        # The transformation of images is not under thread lock\n",
        "        # so it can be done in parallel\n",
        "        return self._get_batches_of_transformed_samples(index_array)\n",
        "\n",
        "    def _get_class_name(self):\n",
        "        # traverse root dir\n",
        "        class_name = []\n",
        "        for subdir in sorted(os.listdir(self.directory)):\n",
        "            if os.path.isdir(os.path.join(self.directory, subdir)):\n",
        "                class_name.append(subdir)\n",
        "        return class_name\n",
        "\n",
        "    def _get_filenames_and_classes(self):\n",
        "        filenames = []\n",
        "        results = []\n",
        "        # classes = np.zeros((self.samples,), dtype='int32')\n",
        "        classes = []\n",
        "        i = 0\n",
        "        pool = multiprocessing.pool.ThreadPool()\n",
        "\n",
        "        for dirpath in (os.path.join(self.directory, subdir)\n",
        "                        for subdir in self.class_name):\n",
        "            results.append(\n",
        "                pool.apply_async(self._list_video_samples, (dirpath,))\n",
        "            )\n",
        "\n",
        "        for res in results:\n",
        "            filename, cls = res.get()\n",
        "            # classes[i:i+len(cls)] = cls\n",
        "            classes = classes + cls\n",
        "            filenames += filename\n",
        "            i += len(cls)\n",
        "\n",
        "        pool.close()\n",
        "        pool.join()\n",
        "        return filenames, classes\n",
        "\n",
        "    def _list_video_samples(self, base_path):\n",
        "        filenames = []\n",
        "        classes = []\n",
        "        dir_name = os.path.basename(base_path)\n",
        "\n",
        "        for subdir in sorted(os.listdir(base_path)):\n",
        "            filename = os.path.join(base_path, subdir)\n",
        "            if not os.path.isdir(filename):\n",
        "                continue\n",
        "            if self.allow_lt_clip_size:\n",
        "                filenames.append(filename)\n",
        "                classes.append(self.class_indices[dir_name])\n",
        "            else:\n",
        "                if self._list_frame(filename):\n",
        "                    filenames.append(filename)\n",
        "                    classes.append(self.class_indices[dir_name])\n",
        "\n",
        "        return filenames, classes\n",
        "\n",
        "    def _list_frame(self, base_path):\n",
        "        if len(os.listdir(base_path)) < self.clip_size:\n",
        "            return False\n",
        "        else:\n",
        "            return True\n",
        "\n",
        "\n",
        "class VideoDataGenerator(image.ImageDataGenerator):\n",
        "    def __init__(self,\n",
        "                 featurewise_center=False,\n",
        "                 samplewise_center=False,\n",
        "                 featurewise_std_normalization=False,\n",
        "                 samplewise_std_normalization=False,\n",
        "                 zca_whitening=False,\n",
        "                 zca_epsilon=1e-6,\n",
        "                 rotation_range=0.,\n",
        "                 width_shift_range=0.,\n",
        "                 height_shift_range=0.,\n",
        "                 brightness_range=None,\n",
        "                 shear_range=0.,\n",
        "                 zoom_range=0.,\n",
        "                 channel_shift_range=0.,\n",
        "                 fill_mode='nearest',\n",
        "                 cval=0.,\n",
        "                 horizontal_flip=False,\n",
        "                 vertical_flip=False,\n",
        "                 rescale=None,\n",
        "                 preprocessing_function=None,\n",
        "                 data_format=\"channels_last\",\n",
        "                 validation_split=0.0):\n",
        "        super(VideoDataGenerator, self).__init__(\n",
        "                 featurewise_center=featurewise_center,\n",
        "                 samplewise_center=samplewise_center,\n",
        "                 featurewise_std_normalization=featurewise_std_normalization,\n",
        "                 samplewise_std_normalization=samplewise_std_normalization,\n",
        "                 zca_whitening=zca_whitening,\n",
        "                 zca_epsilon=zca_epsilon,\n",
        "                 rotation_range=rotation_range,\n",
        "                 width_shift_range=width_shift_range,\n",
        "                 height_shift_range=height_shift_range,\n",
        "                 brightness_range=brightness_range,\n",
        "                 shear_range=shear_range,\n",
        "                 zoom_range=zoom_range,\n",
        "                 channel_shift_range=channel_shift_range,\n",
        "                 fill_mode=fill_mode,\n",
        "                 cval=cval,\n",
        "                 horizontal_flip=horizontal_flip,\n",
        "                 vertical_flip=vertical_flip,\n",
        "                 rescale=rescale,\n",
        "                 preprocessing_function=preprocessing_function,\n",
        "                 data_format=data_format,\n",
        "                 validation_split=validation_split)\n",
        "\n",
        "    def flow_from_directory(self,\n",
        "                            directory,\n",
        "                            target_size=(112, 112),\n",
        "                            batch_size=32,\n",
        "                            clip_size=16,\n",
        "                            allow_lt_clip_size=True,\n",
        "                            shuffle=True,\n",
        "                            seed=None,\n",
        "                            save_to_dir=None,\n",
        "                            save_prefix='',\n",
        "                            save_format='png',\n",
        "                            ):\n",
        "        return VideoDirIterator(\n",
        "            directory,\n",
        "            self,\n",
        "            target_size=target_size,\n",
        "            batch_size=batch_size,\n",
        "            clip_size=clip_size,\n",
        "            allow_lt_clip_size=allow_lt_clip_size,\n",
        "            shuffle=shuffle,\n",
        "            seed=None,\n",
        "            data_format=self.data_format,\n",
        "            save_to_dir=None,\n",
        "            save_prefix='',\n",
        "            save_format='png')"
      ],
      "metadata": {
        "id": "nwwPWWGgCy1g"
      },
      "execution_count": null,
      "outputs": []
    },
    {
      "cell_type": "code",
      "source": [
        "\n",
        "import shutil\n",
        "import numpy as np\n",
        "\n",
        "\n",
        "source1 = \"/tmp/COVID_crop/malade\"\n",
        "dest11 = \"/tmp/datasett/test/malade\"\n",
        "files = os.listdir(\"/tmp/COVID_crop/malade\")\n",
        "\n",
        "for f in files:\n",
        "    if np.random.rand(1) < 0.2:\n",
        "        shutil.move(source1 + '/'+ f, dest11 + '/'+ f)\n",
        "\n",
        "source1 = \"/tmp/COVID_crop/malade\"\n",
        "dest11 = \"/tmp/datasett/train/malade\"\n",
        "files = os.listdir(\"/tmp/COVID_crop/malade\")\n",
        "\n",
        "for f in files:\n",
        "    if np.random.rand(1) < 0.8:\n",
        "        shutil.move(source1 + '/'+ f, dest11 + '/'+ f)\n",
        "source1 = \"/tmp/COVID_crop/malade\"\n",
        "dest11 = \"/tmp/datasett/validation/malade\"\n",
        "files = os.listdir(\"/tmp/COVID_crop/malade\")\n",
        "\n",
        "for f in files:\n",
        "   shutil.move(source1 + '/'+ f, dest11 + '/'+ f)\n",
        "source1 = \"/tmp/COVID_crop/normal\"\n",
        "dest11 = \"/tmp/datasett/test/normal\"\n",
        "files = os.listdir(\"/tmp/COVID_crop/normal\")\n",
        "\n",
        "for f in files:\n",
        "    if np.random.rand(1) < 0.2:\n",
        "        shutil.move(source1 + '/'+ f, dest11 + '/'+ f)\n",
        "\n",
        "\n",
        "\n",
        "source1 = \"/tmp/COVID_crop/normal\"\n",
        "dest11 = \"/tmp/datasett/train/normal\"\n",
        "files = os.listdir(\"/tmp/COVID_crop/normal\")\n",
        "\n",
        "for f in files:\n",
        "    if np.random.rand(1) < 0.8:\n",
        "        shutil.move(source1 + '/'+ f, dest11 + '/'+ f)\n",
        "\n",
        "\n",
        "\n",
        "\n",
        "source1 = \"/tmp/COVID_crop/normal\"\n",
        "dest11 = \"/tmp/datasett/validation/normal\"\n",
        "files = os.listdir(\"/tmp/COVID_crop/normal\")\n",
        "\n",
        "for f in files:\n",
        "    shutil.move(source1 + '/'+ f, dest11 + '/'+ f)\n",
        "\n",
        "\n",
        "\n",
        "\n",
        "\n",
        "\n",
        "\n",
        "gen = VideoDataGenerator(rescale = 1./255)\n",
        "training_set = gen.flow_from_directory(\n",
        "        directory=\"/tmp/datasett/train\",\n",
        "        target_size=(128,128),\n",
        "        shuffle=True\n",
        "    )\n",
        "test_set = gen.flow_from_directory(\n",
        "        directory=\"/tmp/datasett/test\",\n",
        "        target_size=(128,128),\n",
        "        shuffle=True\n",
        "    )\n",
        "validation_set = gen.flow_from_directory(\n",
        "        directory=\"/tmp/datasett/validation\",\n",
        "        target_size=(128,128),\n",
        "        shuffle=True\n",
        "    )"
      ],
      "metadata": {
        "colab": {
          "base_uri": "https://localhost:8080/"
        },
        "id": "qDOWxqzqDMx5",
        "outputId": "a231679e-0fda-4c7b-f7aa-25d1c7e92196"
      },
      "execution_count": null,
      "outputs": [
        {
          "output_type": "stream",
          "name": "stdout",
          "text": [
            "Found 1001 videos belonging to 2 classes.\n",
            "Found 345 videos belonging to 2 classes.\n",
            "Found 230 videos belonging to 2 classes.\n"
          ]
        }
      ]
    },
    {
      "cell_type": "code",
      "source": [
        "len(os.listdir(\"/tmp/datasett/test/normal/178\"))"
      ],
      "metadata": {
        "colab": {
          "base_uri": "https://localhost:8080/"
        },
        "id": "H9jyMdehMAYs",
        "outputId": "a884a834-7288-4254-cc47-1f5f5c2138df"
      },
      "execution_count": null,
      "outputs": [
        {
          "output_type": "execute_result",
          "data": {
            "text/plain": [
              "70"
            ]
          },
          "metadata": {},
          "execution_count": 73
        }
      ]
    },
    {
      "cell_type": "code",
      "source": [
        "training_set.class_name\n",
        "training_set.video_shape\n",
        "\n"
      ],
      "metadata": {
        "colab": {
          "base_uri": "https://localhost:8080/"
        },
        "id": "WHreRIaCGMA6",
        "outputId": "1ac45b55-051e-48c1-dfe0-87f91c029ad0"
      },
      "execution_count": null,
      "outputs": [
        {
          "output_type": "execute_result",
          "data": {
            "text/plain": [
              "(16, 128, 128, 3)"
            ]
          },
          "metadata": {},
          "execution_count": 77
        }
      ]
    },
    {
      "cell_type": "code",
      "source": [
        "from keras.models import Sequential\n",
        "from keras.layers import LSTM, Dense, SimpleRNN\n",
        "\n",
        "model = Sequential()\n",
        "model.add(LSTM((16), activation='relu', input_shape=(16,128,128,3)))\n",
        "model.add(Dense(1))\n",
        "\n",
        "model.compile(optimizer='adam', loss='mse')\n"
      ],
      "metadata": {
        "colab": {
          "base_uri": "https://localhost:8080/",
          "height": 418
        },
        "id": "GZg-Dj1jGxut",
        "outputId": "ffbe317a-83e0-403c-d353-b1494512aa63"
      },
      "execution_count": null,
      "outputs": [
        {
          "output_type": "stream",
          "name": "stdout",
          "text": [
            "WARNING:tensorflow:Layer lstm_3 will not use cuDNN kernels since it doesn't meet the criteria. It will use a generic GPU kernel as fallback when running on GPU.\n"
          ]
        },
        {
          "output_type": "error",
          "ename": "ValueError",
          "evalue": "ignored",
          "traceback": [
            "\u001b[0;31m---------------------------------------------------------------------------\u001b[0m",
            "\u001b[0;31mValueError\u001b[0m                                Traceback (most recent call last)",
            "\u001b[0;32m<ipython-input-74-a6f8126b2498>\u001b[0m in \u001b[0;36m<module>\u001b[0;34m()\u001b[0m\n\u001b[1;32m      3\u001b[0m \u001b[0;34m\u001b[0m\u001b[0m\n\u001b[1;32m      4\u001b[0m \u001b[0mmodel\u001b[0m \u001b[0;34m=\u001b[0m \u001b[0mSequential\u001b[0m\u001b[0;34m(\u001b[0m\u001b[0;34m)\u001b[0m\u001b[0;34m\u001b[0m\u001b[0;34m\u001b[0m\u001b[0m\n\u001b[0;32m----> 5\u001b[0;31m \u001b[0mmodel\u001b[0m\u001b[0;34m.\u001b[0m\u001b[0madd\u001b[0m\u001b[0;34m(\u001b[0m\u001b[0mLSTM\u001b[0m\u001b[0;34m(\u001b[0m\u001b[0;34m(\u001b[0m\u001b[0;36m16\u001b[0m\u001b[0;34m)\u001b[0m\u001b[0;34m,\u001b[0m \u001b[0mactivation\u001b[0m\u001b[0;34m=\u001b[0m\u001b[0;34m'relu'\u001b[0m\u001b[0;34m,\u001b[0m \u001b[0minput_shape\u001b[0m\u001b[0;34m=\u001b[0m\u001b[0;34m(\u001b[0m\u001b[0;36m16\u001b[0m\u001b[0;34m,\u001b[0m\u001b[0;36m128\u001b[0m\u001b[0;34m,\u001b[0m\u001b[0;36m128\u001b[0m\u001b[0;34m,\u001b[0m\u001b[0;36m3\u001b[0m\u001b[0;34m)\u001b[0m\u001b[0;34m)\u001b[0m\u001b[0;34m)\u001b[0m\u001b[0;34m\u001b[0m\u001b[0;34m\u001b[0m\u001b[0m\n\u001b[0m\u001b[1;32m      6\u001b[0m \u001b[0mmodel\u001b[0m\u001b[0;34m.\u001b[0m\u001b[0madd\u001b[0m\u001b[0;34m(\u001b[0m\u001b[0mDense\u001b[0m\u001b[0;34m(\u001b[0m\u001b[0;36m1\u001b[0m\u001b[0;34m)\u001b[0m\u001b[0;34m)\u001b[0m\u001b[0;34m\u001b[0m\u001b[0;34m\u001b[0m\u001b[0m\n\u001b[1;32m      7\u001b[0m \u001b[0;34m\u001b[0m\u001b[0m\n",
            "\u001b[0;32m/usr/local/lib/python3.7/dist-packages/tensorflow/python/training/tracking/base.py\u001b[0m in \u001b[0;36m_method_wrapper\u001b[0;34m(self, *args, **kwargs)\u001b[0m\n\u001b[1;32m    627\u001b[0m     \u001b[0mself\u001b[0m\u001b[0;34m.\u001b[0m\u001b[0m_self_setattr_tracking\u001b[0m \u001b[0;34m=\u001b[0m \u001b[0;32mFalse\u001b[0m  \u001b[0;31m# pylint: disable=protected-access\u001b[0m\u001b[0;34m\u001b[0m\u001b[0;34m\u001b[0m\u001b[0m\n\u001b[1;32m    628\u001b[0m     \u001b[0;32mtry\u001b[0m\u001b[0;34m:\u001b[0m\u001b[0;34m\u001b[0m\u001b[0;34m\u001b[0m\u001b[0m\n\u001b[0;32m--> 629\u001b[0;31m       \u001b[0mresult\u001b[0m \u001b[0;34m=\u001b[0m \u001b[0mmethod\u001b[0m\u001b[0;34m(\u001b[0m\u001b[0mself\u001b[0m\u001b[0;34m,\u001b[0m \u001b[0;34m*\u001b[0m\u001b[0margs\u001b[0m\u001b[0;34m,\u001b[0m \u001b[0;34m**\u001b[0m\u001b[0mkwargs\u001b[0m\u001b[0;34m)\u001b[0m\u001b[0;34m\u001b[0m\u001b[0;34m\u001b[0m\u001b[0m\n\u001b[0m\u001b[1;32m    630\u001b[0m     \u001b[0;32mfinally\u001b[0m\u001b[0;34m:\u001b[0m\u001b[0;34m\u001b[0m\u001b[0;34m\u001b[0m\u001b[0m\n\u001b[1;32m    631\u001b[0m       \u001b[0mself\u001b[0m\u001b[0;34m.\u001b[0m\u001b[0m_self_setattr_tracking\u001b[0m \u001b[0;34m=\u001b[0m \u001b[0mprevious_value\u001b[0m  \u001b[0;31m# pylint: disable=protected-access\u001b[0m\u001b[0;34m\u001b[0m\u001b[0;34m\u001b[0m\u001b[0m\n",
            "\u001b[0;32m/usr/local/lib/python3.7/dist-packages/keras/utils/traceback_utils.py\u001b[0m in \u001b[0;36merror_handler\u001b[0;34m(*args, **kwargs)\u001b[0m\n\u001b[1;32m     65\u001b[0m     \u001b[0;32mexcept\u001b[0m \u001b[0mException\u001b[0m \u001b[0;32mas\u001b[0m \u001b[0me\u001b[0m\u001b[0;34m:\u001b[0m  \u001b[0;31m# pylint: disable=broad-except\u001b[0m\u001b[0;34m\u001b[0m\u001b[0;34m\u001b[0m\u001b[0m\n\u001b[1;32m     66\u001b[0m       \u001b[0mfiltered_tb\u001b[0m \u001b[0;34m=\u001b[0m \u001b[0m_process_traceback_frames\u001b[0m\u001b[0;34m(\u001b[0m\u001b[0me\u001b[0m\u001b[0;34m.\u001b[0m\u001b[0m__traceback__\u001b[0m\u001b[0;34m)\u001b[0m\u001b[0;34m\u001b[0m\u001b[0;34m\u001b[0m\u001b[0m\n\u001b[0;32m---> 67\u001b[0;31m       \u001b[0;32mraise\u001b[0m \u001b[0me\u001b[0m\u001b[0;34m.\u001b[0m\u001b[0mwith_traceback\u001b[0m\u001b[0;34m(\u001b[0m\u001b[0mfiltered_tb\u001b[0m\u001b[0;34m)\u001b[0m \u001b[0;32mfrom\u001b[0m \u001b[0;32mNone\u001b[0m\u001b[0;34m\u001b[0m\u001b[0;34m\u001b[0m\u001b[0m\n\u001b[0m\u001b[1;32m     68\u001b[0m     \u001b[0;32mfinally\u001b[0m\u001b[0;34m:\u001b[0m\u001b[0;34m\u001b[0m\u001b[0;34m\u001b[0m\u001b[0m\n\u001b[1;32m     69\u001b[0m       \u001b[0;32mdel\u001b[0m \u001b[0mfiltered_tb\u001b[0m\u001b[0;34m\u001b[0m\u001b[0;34m\u001b[0m\u001b[0m\n",
            "\u001b[0;32m/usr/local/lib/python3.7/dist-packages/keras/engine/input_spec.py\u001b[0m in \u001b[0;36massert_input_compatibility\u001b[0;34m(input_spec, inputs, layer_name)\u001b[0m\n\u001b[1;32m    212\u001b[0m       \u001b[0mndim\u001b[0m \u001b[0;34m=\u001b[0m \u001b[0mshape\u001b[0m\u001b[0;34m.\u001b[0m\u001b[0mrank\u001b[0m\u001b[0;34m\u001b[0m\u001b[0;34m\u001b[0m\u001b[0m\n\u001b[1;32m    213\u001b[0m       \u001b[0;32mif\u001b[0m \u001b[0mndim\u001b[0m \u001b[0;34m!=\u001b[0m \u001b[0mspec\u001b[0m\u001b[0;34m.\u001b[0m\u001b[0mndim\u001b[0m\u001b[0;34m:\u001b[0m\u001b[0;34m\u001b[0m\u001b[0;34m\u001b[0m\u001b[0m\n\u001b[0;32m--> 214\u001b[0;31m         raise ValueError(f'Input {input_index} of layer \"{layer_name}\" '\n\u001b[0m\u001b[1;32m    215\u001b[0m                          \u001b[0;34m'is incompatible with the layer: '\u001b[0m\u001b[0;34m\u001b[0m\u001b[0;34m\u001b[0m\u001b[0m\n\u001b[1;32m    216\u001b[0m                          \u001b[0;34mf'expected ndim={spec.ndim}, found ndim={ndim}. '\u001b[0m\u001b[0;34m\u001b[0m\u001b[0;34m\u001b[0m\u001b[0m\n",
            "\u001b[0;31mValueError\u001b[0m: Input 0 of layer \"lstm_3\" is incompatible with the layer: expected ndim=3, found ndim=5. Full shape received: (None, 16, 128, 128, 3)"
          ]
        }
      ]
    },
    {
      "cell_type": "code",
      "source": [
        "history = model.fit(training_set, epochs=10)\n"
      ],
      "metadata": {
        "colab": {
          "base_uri": "https://localhost:8080/",
          "height": 748
        },
        "id": "1OVVjC2lKpnV",
        "outputId": "963186bc-38d6-40d8-844b-3dc5e47a1a5c"
      },
      "execution_count": null,
      "outputs": [
        {
          "output_type": "stream",
          "name": "stdout",
          "text": [
            "Epoch 1/10\n",
            "WARNING:tensorflow:Model was constructed with shape (None, 128, 128) for input KerasTensor(type_spec=TensorSpec(shape=(None, 128, 128), dtype=tf.float32, name='lstm_1_input'), name='lstm_1_input', description=\"created by layer 'lstm_1_input'\"), but it was called on an input with incompatible shape (None, None, None, None, None).\n"
          ]
        },
        {
          "output_type": "error",
          "ename": "ValueError",
          "evalue": "ignored",
          "traceback": [
            "\u001b[0;31m---------------------------------------------------------------------------\u001b[0m",
            "\u001b[0;31mValueError\u001b[0m                                Traceback (most recent call last)",
            "\u001b[0;32m<ipython-input-30-7f0ac18dccfc>\u001b[0m in \u001b[0;36m<module>\u001b[0;34m()\u001b[0m\n\u001b[0;32m----> 1\u001b[0;31m \u001b[0mhistory\u001b[0m \u001b[0;34m=\u001b[0m \u001b[0mmodel\u001b[0m\u001b[0;34m.\u001b[0m\u001b[0mfit\u001b[0m\u001b[0;34m(\u001b[0m\u001b[0mtraining_set\u001b[0m\u001b[0;34m,\u001b[0m \u001b[0mepochs\u001b[0m\u001b[0;34m=\u001b[0m\u001b[0;36m10\u001b[0m\u001b[0;34m)\u001b[0m\u001b[0;34m\u001b[0m\u001b[0;34m\u001b[0m\u001b[0m\n\u001b[0m",
            "\u001b[0;32m/usr/local/lib/python3.7/dist-packages/keras/utils/traceback_utils.py\u001b[0m in \u001b[0;36merror_handler\u001b[0;34m(*args, **kwargs)\u001b[0m\n\u001b[1;32m     65\u001b[0m     \u001b[0;32mexcept\u001b[0m \u001b[0mException\u001b[0m \u001b[0;32mas\u001b[0m \u001b[0me\u001b[0m\u001b[0;34m:\u001b[0m  \u001b[0;31m# pylint: disable=broad-except\u001b[0m\u001b[0;34m\u001b[0m\u001b[0;34m\u001b[0m\u001b[0m\n\u001b[1;32m     66\u001b[0m       \u001b[0mfiltered_tb\u001b[0m \u001b[0;34m=\u001b[0m \u001b[0m_process_traceback_frames\u001b[0m\u001b[0;34m(\u001b[0m\u001b[0me\u001b[0m\u001b[0;34m.\u001b[0m\u001b[0m__traceback__\u001b[0m\u001b[0;34m)\u001b[0m\u001b[0;34m\u001b[0m\u001b[0;34m\u001b[0m\u001b[0m\n\u001b[0;32m---> 67\u001b[0;31m       \u001b[0;32mraise\u001b[0m \u001b[0me\u001b[0m\u001b[0;34m.\u001b[0m\u001b[0mwith_traceback\u001b[0m\u001b[0;34m(\u001b[0m\u001b[0mfiltered_tb\u001b[0m\u001b[0;34m)\u001b[0m \u001b[0;32mfrom\u001b[0m \u001b[0;32mNone\u001b[0m\u001b[0;34m\u001b[0m\u001b[0;34m\u001b[0m\u001b[0m\n\u001b[0m\u001b[1;32m     68\u001b[0m     \u001b[0;32mfinally\u001b[0m\u001b[0;34m:\u001b[0m\u001b[0;34m\u001b[0m\u001b[0;34m\u001b[0m\u001b[0m\n\u001b[1;32m     69\u001b[0m       \u001b[0;32mdel\u001b[0m \u001b[0mfiltered_tb\u001b[0m\u001b[0;34m\u001b[0m\u001b[0;34m\u001b[0m\u001b[0m\n",
            "\u001b[0;32m/usr/local/lib/python3.7/dist-packages/tensorflow/python/framework/func_graph.py\u001b[0m in \u001b[0;36mautograph_handler\u001b[0;34m(*args, **kwargs)\u001b[0m\n\u001b[1;32m   1145\u001b[0m           \u001b[0;32mexcept\u001b[0m \u001b[0mException\u001b[0m \u001b[0;32mas\u001b[0m \u001b[0me\u001b[0m\u001b[0;34m:\u001b[0m  \u001b[0;31m# pylint:disable=broad-except\u001b[0m\u001b[0;34m\u001b[0m\u001b[0;34m\u001b[0m\u001b[0m\n\u001b[1;32m   1146\u001b[0m             \u001b[0;32mif\u001b[0m \u001b[0mhasattr\u001b[0m\u001b[0;34m(\u001b[0m\u001b[0me\u001b[0m\u001b[0;34m,\u001b[0m \u001b[0;34m\"ag_error_metadata\"\u001b[0m\u001b[0;34m)\u001b[0m\u001b[0;34m:\u001b[0m\u001b[0;34m\u001b[0m\u001b[0;34m\u001b[0m\u001b[0m\n\u001b[0;32m-> 1147\u001b[0;31m               \u001b[0;32mraise\u001b[0m \u001b[0me\u001b[0m\u001b[0;34m.\u001b[0m\u001b[0mag_error_metadata\u001b[0m\u001b[0;34m.\u001b[0m\u001b[0mto_exception\u001b[0m\u001b[0;34m(\u001b[0m\u001b[0me\u001b[0m\u001b[0;34m)\u001b[0m\u001b[0;34m\u001b[0m\u001b[0;34m\u001b[0m\u001b[0m\n\u001b[0m\u001b[1;32m   1148\u001b[0m             \u001b[0;32melse\u001b[0m\u001b[0;34m:\u001b[0m\u001b[0;34m\u001b[0m\u001b[0;34m\u001b[0m\u001b[0m\n\u001b[1;32m   1149\u001b[0m               \u001b[0;32mraise\u001b[0m\u001b[0;34m\u001b[0m\u001b[0;34m\u001b[0m\u001b[0m\n",
            "\u001b[0;31mValueError\u001b[0m: in user code:\n\n    File \"/usr/local/lib/python3.7/dist-packages/keras/engine/training.py\", line 1021, in train_function  *\n        return step_function(self, iterator)\n    File \"/usr/local/lib/python3.7/dist-packages/keras/engine/training.py\", line 1010, in step_function  **\n        outputs = model.distribute_strategy.run(run_step, args=(data,))\n    File \"/usr/local/lib/python3.7/dist-packages/keras/engine/training.py\", line 1000, in run_step  **\n        outputs = model.train_step(data)\n    File \"/usr/local/lib/python3.7/dist-packages/keras/engine/training.py\", line 859, in train_step\n        y_pred = self(x, training=True)\n    File \"/usr/local/lib/python3.7/dist-packages/keras/utils/traceback_utils.py\", line 67, in error_handler\n        raise e.with_traceback(filtered_tb) from None\n    File \"/usr/local/lib/python3.7/dist-packages/keras/engine/input_spec.py\", line 214, in assert_input_compatibility\n        raise ValueError(f'Input {input_index} of layer \"{layer_name}\" '\n\n    ValueError: Exception encountered when calling layer \"sequential_2\" (type Sequential).\n    \n    Input 0 of layer \"lstm_1\" is incompatible with the layer: expected ndim=3, found ndim=5. Full shape received: (None, None, None, None, None)\n    \n    Call arguments received:\n      • inputs=tf.Tensor(shape=(None, None, None, None, None), dtype=float32)\n      • training=True\n      • mask=None\n"
          ]
        }
      ]
    }
  ]
}