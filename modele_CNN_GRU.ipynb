{
  "cells": [
    {
      "cell_type": "markdown",
      "metadata": {
        "id": "view-in-github",
        "colab_type": "text"
      },
      "source": [
        "<a href=\"https://colab.research.google.com/github/quent1fvr/Infection_pulmonaire/blob/main/modele_CNN_GRU.ipynb\" target=\"_parent\"><img src=\"https://colab.research.google.com/assets/colab-badge.svg\" alt=\"Open In Colab\"/></a>"
      ]
    },
    {
      "cell_type": "markdown",
      "source": [
        "# **0 - Importation des données et librairies**\n",
        "\n"
      ],
      "metadata": {
        "id": "R0SKEyPHdLaR"
      }
    },
    {
      "cell_type": "code",
      "execution_count": 25,
      "metadata": {
        "colab": {
          "base_uri": "https://localhost:8080/"
        },
        "id": "F10e-oz4Zha_",
        "outputId": "abc3c05f-605c-4ac1-9fb1-a3d4f9181087"
      },
      "outputs": [
        {
          "output_type": "stream",
          "name": "stdout",
          "text": [
            "Drive already mounted at /content/drive; to attempt to forcibly remount, call drive.mount(\"/content/drive\", force_remount=True).\n"
          ]
        }
      ],
      "source": [
        "from google.colab import drive\n",
        "drive.mount('/content/drive')"
      ]
    },
    {
      "cell_type": "code",
      "execution_count": 12,
      "metadata": {
        "id": "Pn70CEYAbrPv"
      },
      "outputs": [],
      "source": [
        "import numpy as np\n",
        "import matplotlib.pyplot as plt\n",
        "import h5py\n",
        "import tensorflow\n",
        "import keras\n",
        "from tensorflow.keras import models\n",
        "from tensorflow.keras.models import Sequential, Model\n",
        "from tensorflow.keras.layers import Dense, Flatten\n",
        "from tensorflow.keras.layers import TimeDistributed\n",
        "from keras.layers import Conv2D, BatchNormalization,MaxPooling2D, GlobalMaxPool2D\n",
        "from keras.layers import TimeDistributed, GRU, Dense, Dropout\n",
        "from sklearn.metrics import classification_report, confusion_matrix\n",
        "\n",
        "\n"
      ]
    },
    {
      "cell_type": "code",
      "execution_count": 20,
      "metadata": {
        "id": "JcGjQZgvaPvB"
      },
      "outputs": [],
      "source": [
        "hf_normal= h5py.File(\"/content/drive/MyDrive/UV PROJET P6/Dataset_normal.hdf5\", \"r\")\n",
        "hf_malade= h5py.File(\"/content/drive/MyDrive/UV PROJET P6/Dataset_malade.hdf5\", \"r\")\n",
        "\n",
        "Data_normal = np.array(hf_normal[\"dataset_1\"][:]) #dataset_name is same as hdf5 object name \n",
        "Data_malade = np.array(hf_malade[\"dataset_2\"][:])"
      ]
    },
    {
      "cell_type": "markdown",
      "source": [
        "# **1 - Etude des données et création des labels**\n",
        "\n"
      ],
      "metadata": {
        "id": "v3imvT8OdXzP"
      }
    },
    {
      "cell_type": "code",
      "execution_count": 21,
      "metadata": {
        "colab": {
          "base_uri": "https://localhost:8080/"
        },
        "id": "6iURefCa8cbi",
        "outputId": "a16b8a33-e9d4-4407-c1b1-ed654ec01dbd"
      },
      "outputs": [
        {
          "output_type": "execute_result",
          "data": {
            "text/plain": [
              "((55720, 48, 48), (54600, 48, 48))"
            ]
          },
          "metadata": {},
          "execution_count": 21
        }
      ],
      "source": [
        "Data_normal.shape , Data_malade.shape"
      ]
    },
    {
      "cell_type": "code",
      "source": [
        "Data_normal = Data_normal.reshape(Data_normal.shape[0]//70,70,48,48) # work on 1576 samples of 70 scans of size 48*48\n",
        "Data_malade = Data_malade.reshape(Data_malade.shape[0]//70,70,48,48) # work on 1576 samples of 70 scans of size 48*48\n",
        "Data = np.concatenate((Data_normal,Data_malade))\n",
        "Data.shape"
      ],
      "metadata": {
        "colab": {
          "base_uri": "https://localhost:8080/"
        },
        "id": "k79efgCdlAeU",
        "outputId": "baf9a0f9-bb5f-45a1-f002-54d7b9a1482b"
      },
      "execution_count": 22,
      "outputs": [
        {
          "output_type": "execute_result",
          "data": {
            "text/plain": [
              "(1576, 70, 48, 48)"
            ]
          },
          "metadata": {},
          "execution_count": 22
        }
      ]
    },
    {
      "cell_type": "markdown",
      "source": [
        "Le jeu de données est composé de séquences de 70 images par scan, c'est pourquoi on atteibue un label pour chaque séquence :\n",
        "- 0 : La personne est négative au COVID. \n",
        "- 1 : La personne est positive au COVID"
      ],
      "metadata": {
        "id": "B9aqSe55doPl"
      }
    },
    {
      "cell_type": "code",
      "execution_count": 23,
      "metadata": {
        "id": "2wqEZaJ98vEL",
        "colab": {
          "base_uri": "https://localhost:8080/"
        },
        "outputId": "7708d5b7-8e35-4463-e1b4-3244a16bb80f"
      },
      "outputs": [
        {
          "output_type": "execute_result",
          "data": {
            "text/plain": [
              "(1576,)"
            ]
          },
          "metadata": {},
          "execution_count": 23
        }
      ],
      "source": [
        "Y_normal = np.zeros(Data_normal.shape[0],dtype = np.int8) # 70 images per scan\n",
        "Y_malade = np.ones(Data_malade.shape[0],dtype = np.int8)\n",
        "Y = np.concatenate((Y_normal,Y_malade))\n",
        "Y.shape\n"
      ]
    },
    {
      "cell_type": "markdown",
      "source": [
        "# **2 - Création d'un modèle CNN + GRU**\n",
        "\n",
        "\n"
      ],
      "metadata": {
        "id": "vcO2BEhHeztz"
      }
    },
    {
      "cell_type": "code",
      "execution_count": 8,
      "metadata": {
        "id": "76Mz9v0RbzAE"
      },
      "outputs": [],
      "source": [
        "def build_convnet(shape=(48, 48)):\n",
        "    momentum = .9\n",
        "    model = keras.Sequential()\n",
        "    model.add(Conv2D(64, (3,3), input_shape=shape,\n",
        "        padding='same', activation='relu'))\n",
        "    model.add(Conv2D(64, (3,3), padding='same', activation='relu'))\n",
        "    model.add(BatchNormalization(momentum=momentum))\n",
        "    \n",
        "    model.add(MaxPooling2D())\n",
        "    \n",
        "    model.add(Conv2D(128, (3,3), padding='same', activation='relu'))\n",
        "    model.add(Conv2D(128, (3,3), padding='same', activation='relu'))\n",
        "    model.add(BatchNormalization(momentum=momentum))\n",
        "    \n",
        "    # flatten...\n",
        "    model.add(GlobalMaxPool2D())\n",
        "    return model"
      ]
    },
    {
      "cell_type": "code",
      "execution_count": 9,
      "metadata": {
        "id": "4sLlW2a2b_pO"
      },
      "outputs": [],
      "source": [
        "def action_model(shape=(70,48, 48), nbout=1):\n",
        "    # Create our convnet with (112, 112, 3) input shape\n",
        "    convnet = build_convnet(shape[1:])\n",
        "    \n",
        "    # then create our final model\n",
        "    model = keras.Sequential()\n",
        "    # add the convnet with (70,48,48,3) shape\n",
        "    model.add(TimeDistributed(convnet, input_shape=(70,48, 48,1)))\n",
        "    # add the GRU cell\n",
        "    model.add(GRU(64))\n",
        "    # and finally, we make a decision network\n",
        "    model.add(Dense(1024, activation='relu'))\n",
        "    model.add(Dropout(.5))\n",
        "    model.add(Dense(512, activation='relu'))\n",
        "    model.add(Dropout(.5))\n",
        "    model.add(Dense(128, activation='relu'))\n",
        "    model.add(Dropout(.5))\n",
        "    model.add(Dense(64, activation='relu'))\n",
        "    model.add(Dense(nbout, activation='sigmoid'))\n",
        "    return model"
      ]
    },
    {
      "cell_type": "code",
      "execution_count": 10,
      "metadata": {
        "id": "AhXYRexwcyC9"
      },
      "outputs": [],
      "source": [
        "# some global params\n",
        "SIZE = (48, 48)\n",
        "NBFRAME = 70\n",
        "BS = 8\n",
        "CHANNEL = 1"
      ]
    },
    {
      "cell_type": "code",
      "execution_count": 13,
      "metadata": {
        "colab": {
          "base_uri": "https://localhost:8080/"
        },
        "id": "mwhBQ6m0cqes",
        "outputId": "4e1326e7-7b7e-401b-e6d8-89b55d5d6d99"
      },
      "outputs": [
        {
          "output_type": "stream",
          "name": "stdout",
          "text": [
            "(70, 48, 48, 1)\n"
          ]
        }
      ],
      "source": [
        "INSHAPE=(70,48,48,1)\n",
        "print(INSHAPE)\n",
        "model = action_model(INSHAPE, nbout=1)\n",
        "optimizer = tensorflow.keras.optimizers.Adam(0.001)\n",
        "model.compile(\n",
        "    optimizer,\n",
        "    'binary_crossentropy',\n",
        "    metrics=['acc']\n",
        ")"
      ]
    },
    {
      "cell_type": "markdown",
      "source": [
        "On fixe la graine aléatoire afin que l'on puisse avoir des résultats similaires en relançant l'apprentissage : "
      ],
      "metadata": {
        "id": "lQqlZXljfFJg"
      }
    },
    {
      "cell_type": "code",
      "execution_count": 14,
      "metadata": {
        "id": "gxRDqnX5Iw67"
      },
      "outputs": [],
      "source": [
        "def fix_seed(seed):\n",
        "    tensorflow.random.set_seed(seed)\n",
        "\n",
        "SEED = 42\n",
        "fix_seed(SEED)"
      ]
    },
    {
      "cell_type": "markdown",
      "source": [
        "On utilise les callbacks EarlyStop et ModelCheckpoint pour optimiser nos résultats : "
      ],
      "metadata": {
        "id": "koGjSlMJfRy3"
      }
    },
    {
      "cell_type": "code",
      "execution_count": 26,
      "metadata": {
        "id": "SEvNY_2dJ5aM"
      },
      "outputs": [],
      "source": [
        "my_callbacks = [\n",
        "    tensorflow.keras.callbacks.EarlyStopping(monitor = 'val_loss',\n",
        "                          min_delta = 0,\n",
        "                          patience = 20,\n",
        "                          verbose = 1,\n",
        "                          restore_best_weights = True),\n",
        "    tensorflow.keras.callbacks.ModelCheckpoint(filepath='/tmp/myModel.h5')\n",
        "]\n",
        "\n"
      ]
    },
    {
      "cell_type": "markdown",
      "source": [
        "# **3 - Apprentissage et interprétation des résultats**\n"
      ],
      "metadata": {
        "id": "xhdDB0r4ftLN"
      }
    },
    {
      "cell_type": "code",
      "execution_count": 27,
      "metadata": {
        "colab": {
          "base_uri": "https://localhost:8080/"
        },
        "id": "PP6JlqxidbX6",
        "outputId": "6741eac6-41eb-40cf-b563-b2927260d3f9"
      },
      "outputs": [
        {
          "output_type": "stream",
          "name": "stdout",
          "text": [
            "Epoch 1/50\n",
            "158/158 [==============================] - 41s 262ms/step - loss: 0.2877 - acc: 0.8873 - val_loss: 0.3709 - val_acc: 0.8133\n",
            "Epoch 2/50\n",
            "158/158 [==============================] - 42s 268ms/step - loss: 0.2958 - acc: 0.8810 - val_loss: 0.3655 - val_acc: 0.8766\n",
            "Epoch 3/50\n",
            "158/158 [==============================] - 42s 267ms/step - loss: 0.2431 - acc: 0.8937 - val_loss: 0.9472 - val_acc: 0.4747\n",
            "Epoch 4/50\n",
            "158/158 [==============================] - 42s 268ms/step - loss: 0.3266 - acc: 0.8698 - val_loss: 0.2003 - val_acc: 0.8481\n",
            "Epoch 5/50\n",
            "158/158 [==============================] - 42s 268ms/step - loss: 0.2511 - acc: 0.9103 - val_loss: 0.1471 - val_acc: 0.9177\n",
            "Epoch 6/50\n",
            "158/158 [==============================] - 42s 268ms/step - loss: 0.2421 - acc: 0.9040 - val_loss: 0.5277 - val_acc: 0.7342\n",
            "Epoch 7/50\n",
            "158/158 [==============================] - 42s 268ms/step - loss: 0.2153 - acc: 0.9167 - val_loss: 0.2628 - val_acc: 0.8766\n",
            "Epoch 8/50\n",
            "158/158 [==============================] - 42s 267ms/step - loss: 0.2131 - acc: 0.9190 - val_loss: 0.3124 - val_acc: 0.8671\n",
            "Epoch 9/50\n",
            "158/158 [==============================] - 42s 268ms/step - loss: 0.1873 - acc: 0.9302 - val_loss: 0.1894 - val_acc: 0.9019\n",
            "Epoch 10/50\n",
            "158/158 [==============================] - 42s 267ms/step - loss: 0.1813 - acc: 0.9373 - val_loss: 0.3726 - val_acc: 0.7848\n",
            "Epoch 11/50\n",
            "158/158 [==============================] - 42s 268ms/step - loss: 0.1841 - acc: 0.9270 - val_loss: 0.2724 - val_acc: 0.8418\n",
            "Epoch 12/50\n",
            "158/158 [==============================] - 42s 268ms/step - loss: 0.1856 - acc: 0.9254 - val_loss: 0.2003 - val_acc: 0.8861\n",
            "Epoch 13/50\n",
            "158/158 [==============================] - 42s 268ms/step - loss: 0.1728 - acc: 0.9365 - val_loss: 0.1636 - val_acc: 0.9335\n",
            "Epoch 14/50\n",
            "158/158 [==============================] - 42s 267ms/step - loss: 0.1946 - acc: 0.9294 - val_loss: 0.4848 - val_acc: 0.7120\n",
            "Epoch 15/50\n",
            "158/158 [==============================] - 42s 267ms/step - loss: 0.1884 - acc: 0.9278 - val_loss: 0.1962 - val_acc: 0.9051\n",
            "Epoch 16/50\n",
            "158/158 [==============================] - 42s 267ms/step - loss: 0.1516 - acc: 0.9421 - val_loss: 0.1830 - val_acc: 0.8987\n",
            "Epoch 17/50\n",
            "158/158 [==============================] - 42s 268ms/step - loss: 0.1955 - acc: 0.9286 - val_loss: 0.3258 - val_acc: 0.8196\n",
            "Epoch 18/50\n",
            "158/158 [==============================] - 42s 267ms/step - loss: 0.1955 - acc: 0.9190 - val_loss: 0.3266 - val_acc: 0.8513\n",
            "Epoch 19/50\n",
            "158/158 [==============================] - 42s 267ms/step - loss: 0.1949 - acc: 0.9270 - val_loss: 0.1770 - val_acc: 0.9051\n",
            "Epoch 20/50\n",
            "158/158 [==============================] - 42s 267ms/step - loss: 0.1862 - acc: 0.9310 - val_loss: 0.2447 - val_acc: 0.8766\n",
            "Epoch 21/50\n",
            "158/158 [==============================] - 42s 267ms/step - loss: 0.1786 - acc: 0.9302 - val_loss: 0.1532 - val_acc: 0.9082\n",
            "Epoch 22/50\n",
            "158/158 [==============================] - 42s 267ms/step - loss: 0.1979 - acc: 0.9254 - val_loss: 0.2355 - val_acc: 0.8734\n",
            "Epoch 23/50\n",
            "158/158 [==============================] - 42s 267ms/step - loss: 0.1953 - acc: 0.9333 - val_loss: 0.2143 - val_acc: 0.9146\n",
            "Epoch 24/50\n",
            "158/158 [==============================] - 42s 267ms/step - loss: 0.1616 - acc: 0.9389 - val_loss: 0.1600 - val_acc: 0.8924\n",
            "Epoch 25/50\n",
            "158/158 [==============================] - ETA: 0s - loss: 0.1647 - acc: 0.9452Restoring model weights from the end of the best epoch: 5.\n",
            "158/158 [==============================] - 42s 267ms/step - loss: 0.1647 - acc: 0.9452 - val_loss: 0.1552 - val_acc: 0.9082\n",
            "Epoch 25: early stopping\n"
          ]
        },
        {
          "output_type": "execute_result",
          "data": {
            "text/plain": [
              "<keras.callbacks.History at 0x7fc0cbfde250>"
            ]
          },
          "metadata": {},
          "execution_count": 27
        }
      ],
      "source": [
        "model.fit(Data,Y,epochs=50, validation_split=0.2, batch_size=BS, callbacks=my_callbacks)"
      ]
    },
    {
      "cell_type": "code",
      "execution_count": 28,
      "metadata": {
        "colab": {
          "base_uri": "https://localhost:8080/",
          "height": 634
        },
        "id": "-mpw2qmqFMeo",
        "outputId": "d55f7a7c-0ec9-44e4-99b5-eab7d617b582"
      },
      "outputs": [
        {
          "output_type": "stream",
          "name": "stdout",
          "text": [
            "[0.8873015642166138, 0.8809523582458496, 0.8936507701873779, 0.8698412775993347, 0.9103174805641174, 0.9039682745933533, 0.9166666865348816, 0.9190475940704346, 0.9301587343215942, 0.9373015761375427, 0.9269841313362122, 0.9253968000411987, 0.9365079402923584, 0.9293650984764099, 0.9277777671813965, 0.9420635104179382, 0.9285714030265808, 0.9190475940704346, 0.9269841313362122, 0.9309523701667786, 0.9301587343215942, 0.9253968000411987, 0.9333333373069763, 0.9388889074325562, 0.9452381134033203]\n",
            "[0.8132911324501038, 0.8765822649002075, 0.474683552980423, 0.8481012582778931, 0.9177215099334717, 0.7341772317886353, 0.8765822649002075, 0.8670886158943176, 0.9018987417221069, 0.7848101258277893, 0.8417721390724182, 0.8860759735107422, 0.9335442781448364, 0.7120253443717957, 0.905063271522522, 0.8987341523170471, 0.8196202516555786, 0.8512658476829529, 0.905063271522522, 0.8765822649002075, 0.9082278609275818, 0.8734177350997925, 0.9145569801330566, 0.892405092716217, 0.9082278609275818]\n",
            "[0.287741094827652, 0.2958059012889862, 0.24307553470134735, 0.3265763819217682, 0.25112903118133545, 0.2420807182788849, 0.21526844799518585, 0.21314360201358795, 0.18730604648590088, 0.18125304579734802, 0.18410111963748932, 0.18561141192913055, 0.17281590402126312, 0.19464464485645294, 0.18838174641132355, 0.15163281559944153, 0.19547201693058014, 0.19547171890735626, 0.19493551552295685, 0.18616241216659546, 0.17862090468406677, 0.19790343940258026, 0.195329487323761, 0.1616116166114807, 0.16469505429267883]\n",
            "[0.3708896040916443, 0.36551934480667114, 0.9471750259399414, 0.200261190533638, 0.14707861840724945, 0.5276902318000793, 0.2628449499607086, 0.3124414384365082, 0.1893669217824936, 0.3725738823413849, 0.27242180705070496, 0.2003365457057953, 0.1635761559009552, 0.48484933376312256, 0.19624783098697662, 0.18304847180843353, 0.32578450441360474, 0.326634019613266, 0.1770039200782776, 0.24471956491470337, 0.15319496393203735, 0.23551644384860992, 0.21430300176143646, 0.16004973649978638, 0.1551845222711563]\n"
          ]
        },
        {
          "output_type": "display_data",
          "data": {
            "text/plain": [
              "<Figure size 432x288 with 1 Axes>"
            ],
            "image/png": "[encoded data removed]"
          },
          "metadata": {
            "needs_background": "light"
          }
        },
        {
          "output_type": "display_data",
          "data": {
            "text/plain": [
              "<Figure size 432x288 with 1 Axes>"
            ],
            "image/png": "[encoded data removed]"
          },
          "metadata": {
            "needs_background": "light"
          }
        }
      ],
      "source": [
        "acc = model.history.history['acc']\n",
        "val_acc = model.history.history['val_acc']\n",
        "loss = model.history.history['loss']\n",
        "val_loss = model.history.history['val_loss']\n",
        "\n",
        "print(acc)\n",
        "print(val_acc)\n",
        "\n",
        "print(loss)\n",
        "print(val_loss)\n",
        "\n",
        "epochs = range(len(acc))\n",
        "\n",
        "plt.plot(epochs, acc, 'bo', label='Training acc')\n",
        "plt.plot(epochs, val_acc, 'b', label='Validation acc')\n",
        "plt.title('Training and validation accuracy')\n",
        "plt.legend()\n",
        "\n",
        "plt.figure()\n",
        "\n",
        "plt.plot(epochs, loss, 'bo', label='Training loss')\n",
        "plt.plot(epochs, val_loss, 'b', label='Validation loss')\n",
        "plt.title('Training and validation loss')\n",
        "plt.legend()\n",
        "\n",
        "plt.show()"
      ]
    },
    {
      "cell_type": "markdown",
      "source": [
        "# **4 - Test sur un jeu de données aléatoire**\n"
      ],
      "metadata": {
        "id": "EJ0Ub0JagE1r"
      }
    },
    {
      "cell_type": "code",
      "execution_count": 29,
      "metadata": {
        "id": "aSfziQtrFt7d",
        "colab": {
          "base_uri": "https://localhost:8080/"
        },
        "outputId": "863d1bf6-8020-4e60-d760-171fe9150ed2"
      },
      "outputs": [
        {
          "output_type": "execute_result",
          "data": {
            "text/plain": [
              "(30, 70, 48, 48)"
            ]
          },
          "metadata": {},
          "execution_count": 29
        }
      ],
      "source": [
        "Data_test = []\n",
        "for i in range(15):\n",
        "  aleatoire = np.random.randint(0,Data_normal.shape[0])\n",
        "  Data_test.append(Data_normal[aleatoire][:])\n",
        "for i in range(15):\n",
        "  aleatoire = np.random.randint(0,Data_malade.shape[0])\n",
        "  Data_test.append(Data_malade[aleatoire][:])\n",
        "Data_test = np.array(Data_test)\n",
        "Data_test.shape"
      ]
    },
    {
      "cell_type": "code",
      "source": [
        "Y_test_normal= np.zeros(15)\n",
        "Y_test_malade = np.ones(15)\n",
        "Y_test = np.concatenate((Y_test_normal,Y_test_malade))"
      ],
      "metadata": {
        "id": "uMUV_HeLlinS"
      },
      "execution_count": 30,
      "outputs": []
    },
    {
      "cell_type": "code",
      "source": [
        "model.evaluate(Data_test,Y_test)"
      ],
      "metadata": {
        "colab": {
          "base_uri": "https://localhost:8080/"
        },
        "id": "aoMCI71Il4L6",
        "outputId": "514613f4-51e0-4348-c5e6-c5faf52c8fb1"
      },
      "execution_count": 31,
      "outputs": [
        {
          "output_type": "stream",
          "name": "stdout",
          "text": [
            "1/1 [==============================] - 4s 4s/step - loss: 0.2347 - acc: 0.8667\n"
          ]
        },
        {
          "output_type": "execute_result",
          "data": {
            "text/plain": [
              "[0.23468488454818726, 0.8666666746139526]"
            ]
          },
          "metadata": {},
          "execution_count": 31
        }
      ]
    },
    {
      "cell_type": "code",
      "source": [
        "preds = np.round(model.predict(Data_test),0)\n",
        "cm = confusion_matrix(Y_test, preds)\n",
        "print(cm)\n"
      ],
      "metadata": {
        "colab": {
          "base_uri": "https://localhost:8080/"
        },
        "id": "E7NMS58Aml7g",
        "outputId": "44400f15-cf2f-49f0-eacc-a4c463367286"
      },
      "execution_count": 32,
      "outputs": [
        {
          "output_type": "stream",
          "name": "stdout",
          "text": [
            "[[13  2]\n",
            " [ 2 13]]\n"
          ]
        }
      ]
    },
    {
      "cell_type": "markdown",
      "source": [
        "Les résultats obtenus avec ce modèle sont assez satisfaisants, on ne fait pas face à un problème d'overfitting à la vue des courbes et de la prédiction sur le jeu de test."
      ],
      "metadata": {
        "id": "iJddNopHvA-v"
      }
    }
  ],
  "metadata": {
    "accelerator": "GPU",
    "colab": {
      "collapsed_sections": [],
      "machine_shape": "hm",
      "name": "modele_CNN_GRU.ipynb",
      "provenance": [],
      "authorship_tag": "ABX9TyNz11qt560v7Ds6tXrY8EWO",
      "include_colab_link": true
    },
    "kernelspec": {
      "display_name": "Python 3",
      "name": "python3"
    },
    "language_info": {
      "name": "python"
    }
  },
  "nbformat": 4,
  "nbformat_minor": 0
}