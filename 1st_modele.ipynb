{
  "nbformat": 4,
  "nbformat_minor": 0,
  "metadata": {
    "colab": {
      "name": "1st_modele.ipynb",
      "provenance": [],
      "collapsed_sections": [],
      "machine_shape": "hm",
      "authorship_tag": "ABX9TyNMfqjxeVzTqoLwCPFV4SKi",
      "include_colab_link": true
    },
    "kernelspec": {
      "name": "python3",
      "display_name": "Python 3"
    },
    "language_info": {
      "name": "python"
    },
    "accelerator": "GPU"
  },
  "cells": [
    {
      "cell_type": "markdown",
      "metadata": {
        "id": "view-in-github",
        "colab_type": "text"
      },
      "source": [
        "<a href=\"https://colab.research.google.com/github/quent1fvr/Infection_pulmonaire/blob/Quentin/1st_modele.ipynb\" target=\"_parent\"><img src=\"https://colab.research.google.com/assets/colab-badge.svg\" alt=\"Open In Colab\"/></a>"
      ]
    },
    {
      "cell_type": "code",
      "execution_count": 1,
      "metadata": {
        "colab": {
          "base_uri": "https://localhost:8080/"
        },
        "id": "F10e-oz4Zha_",
        "outputId": "67530494-ae4c-41c9-e6d0-78381d9a625a"
      },
      "outputs": [
        {
          "output_type": "stream",
          "name": "stdout",
          "text": [
            "Mounted at /content/drive\n"
          ]
        }
      ],
      "source": [
        "from google.colab import drive\n",
        "drive.mount('/content/drive')"
      ]
    },
    {
      "cell_type": "code",
      "source": [
        "import numpy as np\n",
        "import matplotlib.pyplot as plt\n",
        "import h5py\n",
        "import keras\n",
        "import tensorflow\n"
      ],
      "metadata": {
        "id": "VofNtwuEZ_CV"
      },
      "execution_count": 2,
      "outputs": []
    },
    {
      "cell_type": "code",
      "source": [
        "from random import randint\n",
        "from numpy import array\n",
        "from numpy import argmax\n",
        "import keras.backend as K\n",
        "from tensorflow.keras import models\n",
        "from numpy import array_equal\n",
        "import numpy as np\n",
        "from tensorflow.keras.models import Sequential, Model\n",
        "from tensorflow.keras.layers import LSTM, Bidirectional\n",
        "from tensorflow.keras.layers import Dense, Flatten\n",
        "from tensorflow.keras import Input\n",
        "from tensorflow.keras.layers import TimeDistributed\n",
        "from tensorflow.keras.layers import RepeatVector"
      ],
      "metadata": {
        "id": "Pn70CEYAbrPv"
      },
      "execution_count": 3,
      "outputs": []
    },
    {
      "cell_type": "code",
      "source": [
        "Y_normal = np.zeros(54248,dtype = np.int8)\n",
        "Y_normal = np.array(Y_normal)\n",
        "Y_malade = np.ones(47236,dtype = np.int8)\n",
        "Y_malade = np.array(Y_malade)\n",
        "Y = np.concatenate((Y_normal,Y_malade))\n",
        "Y.shape"
      ],
      "metadata": {
        "colab": {
          "base_uri": "https://localhost:8080/"
        },
        "id": "UdDlc1tFZ9tQ",
        "outputId": "a39bfbbe-ae2e-46fe-eb16-a7442fbd237d"
      },
      "execution_count": null,
      "outputs": [
        {
          "output_type": "execute_result",
          "data": {
            "text/plain": [
              "(101484,)"
            ]
          },
          "metadata": {},
          "execution_count": 55
        }
      ]
    },
    {
      "cell_type": "code",
      "source": [
        "hf_normal= h5py.File(\"/content/drive/MyDrive/UV PROJET P6/Dataset_normal.hdf5\", \"r\")\n",
        "hf_malade= h5py.File(\"/content/drive/MyDrive/UV PROJET P6/Dataset_malade.hdf5\", \"r\")\n",
        "\n",
        "Data_normal = np.array(hf_normal[\"dataset_1\"][:]) #dataset_name is same as hdf5 object name \n",
        "Data_malade = np.array(hf_malade[\"dataset_2\"][:])"
      ],
      "metadata": {
        "id": "JcGjQZgvaPvB"
      },
      "execution_count": 4,
      "outputs": []
    },
    {
      "cell_type": "code",
      "source": [
        "Data_normal.shape , Data_malade.shape"
      ],
      "metadata": {
        "colab": {
          "base_uri": "https://localhost:8080/"
        },
        "id": "6iURefCa8cbi",
        "outputId": "abea41cd-55a7-4891-ffa3-b2819dd21776"
      },
      "execution_count": 12,
      "outputs": [
        {
          "output_type": "execute_result",
          "data": {
            "text/plain": [
              "((55720, 48, 48), (54600, 48, 48))"
            ]
          },
          "metadata": {},
          "execution_count": 12
        }
      ]
    },
    {
      "cell_type": "code",
      "source": [
        "# 55720/70 = 796, on crée un tableau une dimension de 796 zéros en label\n",
        "# 54600/70 = 780, on crée un tableau une dimension de 780 un en label\n",
        "# on concatène\n"
      ],
      "metadata": {
        "id": "SkV-w_F98jUF"
      },
      "execution_count": null,
      "outputs": []
    },
    {
      "cell_type": "code",
      "source": [
        "Y_normal = np.zeros(796,dtype = np.int8)\n",
        "Y_malade = np.ones(780,dtype = np.int8)\n",
        "Y = np.concatenate((Y_normal,Y_malade))\n"
      ],
      "metadata": {
        "id": "2wqEZaJ98vEL"
      },
      "execution_count": 13,
      "outputs": []
    },
    {
      "cell_type": "code",
      "source": [
        "Data = np.concatenate((Data_normal,Data_malade))"
      ],
      "metadata": {
        "id": "QC6LbGI7dquf"
      },
      "execution_count": 9,
      "outputs": []
    },
    {
      "cell_type": "code",
      "source": [
        "Data = Data.reshape(1576,70,48,48) \n"
      ],
      "metadata": {
        "id": "LQMQAmXb7tBd"
      },
      "execution_count": 14,
      "outputs": []
    },
    {
      "cell_type": "code",
      "source": [
        "from keras.layers import Conv1D, BatchNormalization,MaxPooling1D, GlobalMaxPool1D\n",
        "def build_convnet(shape=(48, 48)):\n",
        "    momentum = .9\n",
        "    model = keras.Sequential()\n",
        "    model.add(Conv1D(64, 3, input_shape=shape,\n",
        "        padding='same', activation='relu'))\n",
        "    model.add(Conv1D(64, 3, padding='same', activation='relu'))\n",
        "    model.add(BatchNormalization(momentum=momentum))\n",
        "    \n",
        "    model.add(MaxPooling1D())\n",
        "    \n",
        "    model.add(Conv1D(128, 3, padding='same', activation='relu'))\n",
        "    model.add(Conv1D(128, 3, padding='same', activation='relu'))\n",
        "    model.add(BatchNormalization(momentum=momentum))\n",
        "    \n",
        "    model.add(MaxPooling1D())\n",
        "    \n",
        "    model.add(Conv1D(256,3, padding='same', activation='relu'))\n",
        "    model.add(Conv1D(256, 3, padding='same', activation='relu'))\n",
        "    model.add(BatchNormalization(momentum=momentum))\n",
        "    \n",
        "    model.add(MaxPooling1D())\n",
        "    \n",
        "    model.add(Conv1D(512, 3, padding='same', activation='relu'))\n",
        "    model.add(Conv1D(512, 3, padding='same', activation='relu'))\n",
        "    model.add(BatchNormalization(momentum=momentum))\n",
        "    \n",
        "    # flatten...\n",
        "    model.add(GlobalMaxPool1D())\n",
        "    return model"
      ],
      "metadata": {
        "id": "76Mz9v0RbzAE"
      },
      "execution_count": 49,
      "outputs": []
    },
    {
      "cell_type": "code",
      "source": [
        "from keras.layers import TimeDistributed, GRU, Dense, Dropout\n",
        "def action_model(shape=(70,48, 48), nbout=1):\n",
        "    # Create our convnet with (112, 112, 3) input shape\n",
        "    convnet = build_convnet(shape[1:])\n",
        "    \n",
        "    # then create our final model\n",
        "    model = keras.Sequential()\n",
        "    # add the convnet with (70,48,48,3) shape\n",
        "    model.add(TimeDistributed(convnet, input_shape=(70,48, 48)))\n",
        "    # here, you can also use GRU or LSTM\n",
        "    model.add(GRU(64))\n",
        "    # and finally, we make a decision network\n",
        "    model.add(Dense(1024, activation='relu'))\n",
        "    model.add(Dropout(.5))\n",
        "    model.add(Dense(512, activation='relu'))\n",
        "    model.add(Dropout(.5))\n",
        "    model.add(Dense(128, activation='relu'))\n",
        "    model.add(Dropout(.5))\n",
        "    model.add(Dense(64, activation='relu'))\n",
        "    model.add(Dense(nbout, activation='sigmoid'))\n",
        "    return model"
      ],
      "metadata": {
        "id": "4sLlW2a2b_pO"
      },
      "execution_count": 50,
      "outputs": []
    },
    {
      "cell_type": "code",
      "source": [
        "# some global params\n",
        "SIZE = (48, 48)\n",
        "NBFRAME = 70\n",
        "BS = 35"
      ],
      "metadata": {
        "id": "AhXYRexwcyC9"
      },
      "execution_count": 55,
      "outputs": []
    },
    {
      "cell_type": "code",
      "source": [
        "INSHAPE=(NBFRAME,) + SIZE  # (70, 48, 48)\n",
        "print(INSHAPE)\n",
        "model = action_model(INSHAPE, nbout=1)\n",
        "optimizer = tensorflow.keras.optimizers.Adam(0.001)\n",
        "model.compile(\n",
        "    optimizer,\n",
        "    'binary_crossentropy',\n",
        "    metrics=['acc']\n",
        ")"
      ],
      "metadata": {
        "id": "mwhBQ6m0cqes",
        "colab": {
          "base_uri": "https://localhost:8080/"
        },
        "outputId": "6b0bb84a-b185-4603-ec77-52633ea5d89d"
      },
      "execution_count": 52,
      "outputs": [
        {
          "output_type": "stream",
          "name": "stdout",
          "text": [
            "(70, 48, 48)\n"
          ]
        }
      ]
    },
    {
      "cell_type": "code",
      "source": [
        "model.fit(Data,Y,epochs=20, validation_split=0.2, batch_size=BS)"
      ],
      "metadata": {
        "colab": {
          "base_uri": "https://localhost:8080/"
        },
        "id": "PP6JlqxidbX6",
        "outputId": "381ee884-dab4-4d27-c728-289874f66e3c"
      },
      "execution_count": 56,
      "outputs": [
        {
          "output_type": "stream",
          "name": "stdout",
          "text": [
            "Epoch 1/20\n",
            "36/36 [==============================] - 12s 174ms/step - loss: 0.1450 - acc: 0.9437 - val_loss: 0.2375 - val_acc: 0.8892\n",
            "Epoch 2/20\n",
            "36/36 [==============================] - 6s 162ms/step - loss: 0.1761 - acc: 0.9357 - val_loss: 0.2925 - val_acc: 0.8987\n",
            "Epoch 3/20\n",
            "36/36 [==============================] - 6s 163ms/step - loss: 0.2185 - acc: 0.9159 - val_loss: 0.2743 - val_acc: 0.8797\n",
            "Epoch 4/20\n",
            "36/36 [==============================] - 6s 164ms/step - loss: 0.1626 - acc: 0.9405 - val_loss: 0.1214 - val_acc: 0.9494\n",
            "Epoch 5/20\n",
            "36/36 [==============================] - 6s 165ms/step - loss: 0.1438 - acc: 0.9460 - val_loss: 0.2224 - val_acc: 0.9241\n",
            "Epoch 6/20\n",
            "36/36 [==============================] - 6s 164ms/step - loss: 0.1354 - acc: 0.9500 - val_loss: 0.2072 - val_acc: 0.9241\n",
            "Epoch 7/20\n",
            "36/36 [==============================] - 6s 163ms/step - loss: 0.1715 - acc: 0.9365 - val_loss: 0.2300 - val_acc: 0.8987\n",
            "Epoch 8/20\n",
            "36/36 [==============================] - 6s 162ms/step - loss: 0.1567 - acc: 0.9532 - val_loss: 0.4688 - val_acc: 0.7880\n",
            "Epoch 9/20\n",
            "36/36 [==============================] - 6s 162ms/step - loss: 0.1393 - acc: 0.9532 - val_loss: 0.2270 - val_acc: 0.9272\n",
            "Epoch 10/20\n",
            "36/36 [==============================] - 6s 161ms/step - loss: 0.1488 - acc: 0.9444 - val_loss: 0.0905 - val_acc: 0.9620\n",
            "Epoch 11/20\n",
            "36/36 [==============================] - 6s 161ms/step - loss: 0.1176 - acc: 0.9603 - val_loss: 0.1729 - val_acc: 0.9209\n",
            "Epoch 12/20\n",
            "36/36 [==============================] - 6s 160ms/step - loss: 0.1197 - acc: 0.9571 - val_loss: 0.5203 - val_acc: 0.8259\n",
            "Epoch 13/20\n",
            "36/36 [==============================] - 6s 160ms/step - loss: 0.0915 - acc: 0.9698 - val_loss: 1.0099 - val_acc: 0.6582\n",
            "Epoch 14/20\n",
            "36/36 [==============================] - 6s 161ms/step - loss: 0.0908 - acc: 0.9675 - val_loss: 0.3150 - val_acc: 0.8734\n",
            "Epoch 15/20\n",
            "36/36 [==============================] - 6s 161ms/step - loss: 0.0724 - acc: 0.9730 - val_loss: 0.3731 - val_acc: 0.8987\n",
            "Epoch 16/20\n",
            "36/36 [==============================] - 6s 161ms/step - loss: 0.1097 - acc: 0.9603 - val_loss: 0.2900 - val_acc: 0.8766\n",
            "Epoch 17/20\n",
            "36/36 [==============================] - 6s 161ms/step - loss: 0.1379 - acc: 0.9524 - val_loss: 0.1786 - val_acc: 0.9557\n",
            "Epoch 18/20\n",
            "36/36 [==============================] - 6s 162ms/step - loss: 0.1257 - acc: 0.9524 - val_loss: 0.4529 - val_acc: 0.8481\n",
            "Epoch 19/20\n",
            "36/36 [==============================] - 6s 162ms/step - loss: 0.0867 - acc: 0.9635 - val_loss: 0.4352 - val_acc: 0.8734\n",
            "Epoch 20/20\n",
            "36/36 [==============================] - 6s 162ms/step - loss: 0.0797 - acc: 0.9738 - val_loss: 0.2242 - val_acc: 0.9177\n"
          ]
        },
        {
          "output_type": "execute_result",
          "data": {
            "text/plain": [
              "<keras.callbacks.History at 0x7f17aaf80f90>"
            ]
          },
          "metadata": {},
          "execution_count": 56
        }
      ]
    }
  ]
}